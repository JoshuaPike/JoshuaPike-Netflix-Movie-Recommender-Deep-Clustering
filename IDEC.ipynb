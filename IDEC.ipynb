{
  "cells": [
    {
      "cell_type": "code",
      "execution_count": 1,
      "metadata": {
        "colab": {
          "base_uri": "https://localhost:8080/"
        },
        "id": "tblJ2AP6VYvb",
        "outputId": "dbb53ca7-5fcd-4a2b-ea8e-d7787161bc1b"
      },
      "outputs": [],
      "source": [
        "# # Mount Google Drive\n",
        "# from google.colab import drive\n",
        "# drive.mount('/content/drive')"
      ]
    },
    {
      "cell_type": "code",
      "execution_count": 2,
      "metadata": {
        "colab": {
          "base_uri": "https://localhost:8080/"
        },
        "id": "qNHCZxMOUpp2",
        "outputId": "b3a99b4e-125f-49e5-e4d6-9192f5d22a8f"
      },
      "outputs": [],
      "source": [
        "# !pip install scikit-learn==0.22.2 --upgrade"
      ]
    },
    {
      "cell_type": "code",
      "execution_count": 3,
      "metadata": {
        "id": "HwPvvspOBjmz"
      },
      "outputs": [],
      "source": [
        "import os\n",
        "import sys\n",
        "import time\n",
        "import math\n",
        "import numpy as np\n",
        "import random\n",
        "import torch\n",
        "import torch.nn as nn\n",
        "import torch.nn.init as init\n",
        "import torch.utils.data as data\n",
        "import sklearn\n",
        "import scipy\n",
        "import collections\n",
        "from scipy.linalg import norm\n",
        "from PIL import Image\n",
        "\n",
        "\n",
        "def weights_xavier_init(m):\n",
        "    if isinstance(m, nn.Linear):\n",
        "        nn.init.xavier_uniform(m.weight.data)\n",
        "        nn.init.constant(m.bias.data, 0)\n",
        "\n",
        "def acc(y_true, y_pred):\n",
        "    \"\"\"\n",
        "    Calculate clustering accuracy. Require scikit-learn installed\n",
        "    # Arguments\n",
        "        y: true labels, numpy.array with shape `(n_samples,)`\n",
        "        y_pred: predicted labels, numpy.array with shape `(n_samples,)`\n",
        "    # Return\n",
        "        accuracy, in [0,1]\n",
        "    \"\"\"\n",
        "    y_true = y_true.astype(np.int64)\n",
        "    assert y_pred.size == y_true.size\n",
        "    D = max(y_pred.max(), y_true.max()) + 1\n",
        "    w = np.zeros((D, D), dtype=np.int64)\n",
        "    for i in range(y_pred.size):\n",
        "        w[y_pred[i], y_true[i]] += 1\n",
        "    #from scipy.optimize import linear_sum_assignment as linear_assignment\n",
        "    from sklearn.utils.linear_assignment_ import linear_assignment\n",
        "    ind = linear_assignment(w.max() - w)\n",
        "    return sum([w[i, j] for i, j in ind]) * 1.0 / y_pred.size\n",
        "\n",
        "class Dataset(data.Dataset):\n",
        "    def __init__(self, data, labels, transform=None, target_transform=None):\n",
        "        self.transform = transform\n",
        "        self.target_transform = target_transform\n",
        "        self.data = data\n",
        "        self.labels = labels\n",
        "        if torch.cuda.is_available():\n",
        "            self.data = self.data.cuda()\n",
        "            self.labels = self.labels.cuda()\n",
        "\n",
        "    def __getitem__(self, index):\n",
        "        img, target = self.data[index], self.labels[index]\n",
        "        # img = Image.fromarray(img)\n",
        "        if self.transform is not None:\n",
        "            img = self.transform(img)\n",
        "\n",
        "        if self.target_transform is not None:\n",
        "            target = self.target_transform(target)\n",
        "\n",
        "        return img, target\n",
        "\n",
        "    def __len__(self):\n",
        "        return len(self.data)\n",
        "\n",
        "from torch.nn import Parameter\n",
        "import torch.nn.functional as F\n",
        "import torch.optim as optim\n",
        "import torchvision\n",
        "from torchvision import datasets, transforms\n",
        "from torch.autograd import Variable\n",
        "import math\n",
        "from sklearn.metrics.cluster import normalized_mutual_info_score\n",
        "from sklearn.cluster import KMeans\n",
        "\n",
        "\n",
        "def buildNetwork(layers, activation=\"relu\", dropout=0):\n",
        "    net = []\n",
        "    for i in range(1, len(layers)):\n",
        "        net.append(nn.Linear(layers[i-1], layers[i]))\n",
        "        if activation==\"relu\":\n",
        "            net.append(nn.ReLU())\n",
        "        elif activation==\"sigmoid\":\n",
        "            net.append(nn.Sigmoid())\n",
        "        if dropout > 0:\n",
        "            net.append(nn.Dropout(dropout))\n",
        "    return nn.Sequential(*net)\n",
        "\n",
        "\n",
        "\n",
        "class IDEC(nn.Module):\n",
        "    def __init__(self, input_dim=784, z_dim=10, n_clusters=10,\n",
        "        encodeLayer=[400], decodeLayer=[400], activation=\"relu\", dropout=0, alpha=1., gamma=0.1):\n",
        "        super(self.__class__, self).__init__()\n",
        "        self.z_dim = z_dim\n",
        "        self.layers = [input_dim] + encodeLayer + [z_dim]\n",
        "        self.activation = activation\n",
        "        self.dropout = dropout\n",
        "        self.encoder = buildNetwork([input_dim] + encodeLayer, activation=activation, dropout=dropout)\n",
        "        self.decoder = buildNetwork([z_dim] + decodeLayer, activation=activation, dropout=dropout)\n",
        "        self._enc_mu = nn.Linear(encodeLayer[-1], z_dim)\n",
        "        self._dec = nn.Linear(decodeLayer[-1], input_dim)\n",
        "\n",
        "        self.n_clusters = n_clusters\n",
        "        self.alpha = alpha\n",
        "        self.gamma = gamma\n",
        "        self.mu = Parameter(torch.Tensor(n_clusters, z_dim))\n",
        "\n",
        "    def save_model(self, path):\n",
        "        torch.save(self.state_dict(), path)\n",
        "\n",
        "    def load_model(self, path):\n",
        "        pretrained_dict = torch.load(path, map_location=lambda storage, loc: storage)\n",
        "        model_dict = self.state_dict()\n",
        "        pretrained_dict = {k: v for k, v in pretrained_dict.items() if k in model_dict}\n",
        "        model_dict.update(pretrained_dict) \n",
        "        self.load_state_dict(model_dict)\n",
        "\n",
        "    def forward(self, x):\n",
        "        h = self.encoder(x)\n",
        "        z = self._enc_mu(h)\n",
        "        h = self.decoder(z)\n",
        "        xrecon = self._dec(h)\n",
        "        # compute q -> NxK\n",
        "        q = self.soft_assign(z)\n",
        "        return z, q, xrecon\n",
        "\n",
        "    def soft_assign(self, z):\n",
        "        q = 1.0 / (1.0 + torch.sum((z.unsqueeze(1) - self.mu)**2, dim=2) / self.alpha)\n",
        "        q = q**(self.alpha+1.0)/2.0\n",
        "        q = q / torch.sum(q, dim=1, keepdim=True)\n",
        "        return q\n",
        "\n",
        "    def encodeBatch(self, X, batch_size=256):\n",
        "        use_cuda = torch.cuda.is_available()\n",
        "        if use_cuda:\n",
        "            self.cuda()\n",
        "        \n",
        "        encoded = []\n",
        "        self.eval()\n",
        "        num = X.shape[0]\n",
        "        num_batch = int(math.ceil(1.0*X.shape[0]/batch_size))\n",
        "        for batch_idx in range(num_batch):\n",
        "            xbatch = X[batch_idx*batch_size : min((batch_idx+1)*batch_size, num)]\n",
        "            inputs = Variable(xbatch)\n",
        "            z,_, _ = self.forward(inputs)\n",
        "            encoded.append(z.data)\n",
        "\n",
        "        encoded = torch.cat(encoded, dim=0)\n",
        "        return encoded\n",
        "\n",
        "    def cluster_loss(self, p, q):\n",
        "        def kld(target, pred):\n",
        "            return torch.mean(torch.sum(target*torch.log(target/(pred+1e-6)), dim=1))\n",
        "        kldloss = kld(p, q)\n",
        "        return self.gamma*kldloss\n",
        "\n",
        "    def recon_loss(self, x, xrecon):\n",
        "        recon_loss = torch.mean((xrecon-x)**2)\n",
        "        return recon_loss\n",
        "\n",
        "    def pairwise_loss(self, p1, p2, cons_type):\n",
        "        if cons_type == \"ML\":\n",
        "            ml_loss = torch.mean(-torch.log(torch.sum(p1 * p2, dim=1)))\n",
        "            return ml_loss\n",
        "        else:\n",
        "            cl_loss = torch.mean(-torch.log(1.0 - torch.sum(p1 * p2, dim=1)))\n",
        "            return cl_loss\n",
        "\n",
        "    def global_size_loss(self, p, cons_detail):\n",
        "        m_p = torch.mean(p, dim=0)\n",
        "        m_p = m_p / torch.sum(m_p)\n",
        "        return torch.sum((m_p-cons_detail)*(m_p-cons_detail))\n",
        "\n",
        "    def difficulty_loss(self, q, mask):\n",
        "        mask = mask.unsqueeze_(-1)\n",
        "        mask = mask.expand(q.shape[0], q.shape[1])\n",
        "        mask_q = q * mask\n",
        "        diff_loss = -torch.norm(mask_q, 2)\n",
        "        penalty_degree = 0.1\n",
        "        return penalty_degree * diff_loss\n",
        "\n",
        "    def target_distribution(self, q):\n",
        "        p = q**2 / torch.sum(q, dim=0)\n",
        "        p = p / torch.sum(p, dim=1, keepdim=True)\n",
        "        return p\n",
        "\n",
        "    def triplet_loss(self, anchor, positive, negative, margin_constant):\n",
        "        # loss = max(d(anchor, negative) - d(anchor, positve) + margin, 0), margin > 0\n",
        "        # d(x, y) = q(x) * q(y)\n",
        "        negative_dis = torch.sum(anchor * negative, dim=1)\n",
        "        positive_dis = torch.sum(anchor * positive, dim=1)\n",
        "        margin = margin_constant * torch.ones(negative_dis.shape).cuda()\n",
        "        diff_dis = negative_dis - positive_dis\n",
        "        penalty = diff_dis + margin\n",
        "        triplet_loss = 1*torch.max(penalty, torch.zeros(negative_dis.shape).cuda())\n",
        "\n",
        "        return torch.mean(triplet_loss)\n",
        "\n",
        "    def satisfied_constraints(self,ml_ind1,ml_ind2,cl_ind1, cl_ind2,y_pred):\n",
        "        \n",
        "        if ml_ind1.size == 0 or ml_ind2.size == 0 or cl_ind1.size == 0 or cl_ind2.size == 0:\n",
        "            return 1.0\n",
        "\n",
        "        count = 0\n",
        "        satisfied = 0\n",
        "        for (i, j) in zip(ml_ind1, ml_ind2):\n",
        "            count += 1\n",
        "            if y_pred[i] == y_pred[j]:\n",
        "                satisfied += 1\n",
        "        for (i, j) in zip(cl_ind1, cl_ind2):\n",
        "            count += 1\n",
        "            if y_pred[i] != y_pred[j]:\n",
        "                satisfied += 1\n",
        "\n",
        "        return float(satisfied)/count\n",
        "\n",
        "\n",
        "    def predict(self, X, y):\n",
        "        use_cuda = torch.cuda.is_available()\n",
        "        if use_cuda:\n",
        "            self.cuda()\n",
        "        latent = self.encodeBatch(X)\n",
        "        q = self.soft_assign(latent)\n",
        "\n",
        "        # evalute the clustering performance\n",
        "        y_pred = torch.argmax(q, dim=1).data.cpu().numpy()\n",
        "        y = y.data.cpu().numpy()\n",
        "        if y is not None:\n",
        "            print(\"acc: %.5f, nmi: %.5f\" % (acc(y, y_pred), normalized_mutual_info_score(y, y_pred)))\n",
        "            final_acc = acc(y, y_pred)\n",
        "            final_nmi = normalized_mutual_info_score(y, y_pred)\n",
        "        return final_acc, final_nmi, y_pred\n",
        "\n",
        "    def fit(self,anchor, positive, negative, ml_ind1,ml_ind2,cl_ind1, cl_ind2, mask, use_global, ml_p, cl_p, X,y=None, lr=0.001, batch_size=256, num_epochs=10, update_interval=1, tol=1e-3, use_kmeans=True, plotting=\"\",clustering_loss_weight=1):    \n",
        "        \n",
        "        # save intermediate results for plotting\n",
        "        intermediate_results = collections.defaultdict(lambda:{})\n",
        "        \n",
        "        '''X: tensor data'''\n",
        "        use_cuda = torch.cuda.is_available()\n",
        "        if use_cuda:\n",
        "            self.cuda()\n",
        "        print(\"=====Training IDEC=======\")\n",
        "        optimizer = optim.Adam(filter(lambda p: p.requires_grad, self.parameters()), lr=lr)\n",
        "\n",
        "        if use_kmeans:\n",
        "            print(\"Initializing cluster centers with kmeans.\")\n",
        "            kmeans = KMeans(self.n_clusters, n_init=20)\n",
        "            data = self.encodeBatch(X)\n",
        "            y_pred = kmeans.fit_predict(data.data.cpu().numpy())\n",
        "            y_pred_last = y_pred\n",
        "            self.mu.data.copy_(torch.Tensor(kmeans.cluster_centers_))\n",
        "        else:\n",
        "            # use kmeans to randomly initialize cluster ceters\n",
        "            print(\"Randomly initializing cluster centers.\")\n",
        "            kmeans = KMeans(self.n_clusters, n_init=1, max_iter=1)\n",
        "            data = self.encodeBatch(X)\n",
        "            y_pred = kmeans.fit_predict(data.data.cpu().numpy())\n",
        "            y_pred_last = y_pred\n",
        "            self.mu.data.copy_(torch.Tensor(kmeans.cluster_centers_))\n",
        "\n",
        "        if y is not None:\n",
        "            y = y.cpu().numpy()\n",
        "            # print(\"Kmeans acc: %.5f, nmi: %.5f\" % (acc(y, y_pred), normalized_mutual_info_score(y, y_pred)))\n",
        "        self.train()\n",
        "        num = X.shape[0]\n",
        "        num_batch = int(math.ceil(1.0*X.shape[0]/batch_size))\n",
        "        ml_num_batch = int(math.ceil(1.0*ml_ind1.shape[0]/batch_size))\n",
        "        cl_num_batch = int(math.ceil(1.0*cl_ind1.shape[0]/batch_size))\n",
        "        tri_num_batch = int(math.ceil(1.0*anchor.shape[0]/batch_size))\n",
        "        cl_num = cl_ind1.shape[0]\n",
        "        ml_num = ml_ind1.shape[0]\n",
        "        tri_num = anchor.shape[0]\n",
        "\n",
        "        final_acc, final_nmi, final_epoch = 0, 0, 0\n",
        "        update_ml = 1\n",
        "        update_cl = 1\n",
        "        update_triplet = 1\n",
        "        for epoch in range(num_epochs):\n",
        "            if epoch%update_interval == 0:\n",
        "                # update the targe distribution p\n",
        "                latent = self.encodeBatch(X)\n",
        "                q = self.soft_assign(latent)\n",
        "                p = self.target_distribution(q).data\n",
        "\n",
        "                # evalute the clustering performance\n",
        "                y_pred = torch.argmax(q, dim=1).data.cpu().numpy()\n",
        "                if use_global:\n",
        "                    y_dict = collections.defaultdict(list)\n",
        "                    ind1, ind2 = [], []\n",
        "                    for i in range(y_pred.shape[0]):\n",
        "                        y_dict[y_pred[i]].append(i)\n",
        "                    for key in y_dict.keys():\n",
        "                        if y is not None:\n",
        "                            print(\"predicted class: \", key, \" total: \", len(y_dict[key]))\n",
        "                            #, \" mapped index(ground truth): \", np.bincount(y[y_dict[key]]).argmax())\n",
        "\n",
        "                if y is not None:\n",
        "                    print(\"acc: %.5f, nmi: %.5f\" % (acc(y, y_pred), normalized_mutual_info_score(y, y_pred)))\n",
        "                    print(\"satisfied constraints: %.5f\"%self.satisfied_constraints(ml_ind1,ml_ind2,cl_ind1, cl_ind2,y_pred))\n",
        "                    final_acc = acc(y, y_pred)\n",
        "                    final_nmi = normalized_mutual_info_score(y, y_pred)\n",
        "                    final_epoch = epoch\n",
        "\n",
        "                # save model for plotting\n",
        "                if plotting and (epoch in [10,20,30,40] or epoch%50 == 0 or epoch == num_epochs-1):\n",
        "                    \n",
        "                    df = pd.DataFrame(latent.cpu().numpy())\n",
        "                    df[\"y\"] = y\n",
        "                    df.to_pickle(os.path.join(plotting,\"save_model_%d.pkl\"%(epoch)))\n",
        "                    \n",
        "                    intermediate_results[\"acc\"][str(epoch)] = acc(y, y_pred)\n",
        "                    intermediate_results[\"nmi\"][str(epoch)] = normalized_mutual_info_score(y, y_pred)\n",
        "                    with open(os.path.join(plotting,\"intermediate_results.json\"), \"w\") as fp:\n",
        "                        json.dump(intermediate_results, fp)\n",
        "\n",
        "                # check stop criterion\n",
        "                try:\n",
        "                    delta_label = np.sum(y_pred != y_pred_last).astype(np.float32) / num\n",
        "                    y_pred_last = y_pred\n",
        "                    if epoch>0 and delta_label < tol:\n",
        "                        print('delta_label ', delta_label, '< tol ', tol)\n",
        "                        print(\"Reach tolerance threshold. Stopping training.\")\n",
        "\n",
        "                        # save model for plotting\n",
        "                        if plotting:\n",
        "                            \n",
        "                            df = pd.DataFrame(latent.cpu().numpy())\n",
        "                            df[\"y\"] = y\n",
        "                            df.to_pickle(os.path.join(plotting,\"save_model_%d.pkl\"%epoch))\n",
        "                            \n",
        "                            intermediate_results[\"acc\"][str(epoch)] = acc(y, y_pred)\n",
        "                            intermediate_results[\"nmi\"][str(epoch)] = normalized_mutual_info_score(y, y_pred)\n",
        "                            with open(os.path.join(plotting,\"intermediate_results.json\"), \"w\") as fp:\n",
        "                                json.dump(intermediate_results, fp)\n",
        "                        break\n",
        "                except:\n",
        "                    pass\n",
        "\n",
        "            # train 1 epoch for clustering loss\n",
        "            train_loss = 0.0\n",
        "            recon_loss_val = 0.0\n",
        "            cluster_loss_val = 0.0\n",
        "            instance_constraints_loss_val = 0.0\n",
        "            global_loss_val = 0.0\n",
        "            for batch_idx in range(num_batch):\n",
        "                xbatch = X[batch_idx*batch_size : min((batch_idx+1)*batch_size, num)]\n",
        "                pbatch = p[batch_idx*batch_size : min((batch_idx+1)*batch_size, num)]\n",
        "                mask_batch = mask[batch_idx*batch_size : min((batch_idx+1)*batch_size, num)]\n",
        "                optimizer.zero_grad()\n",
        "                inputs = Variable(xbatch)\n",
        "                target = Variable(pbatch)\n",
        "                cons_detail = np.array([0.1, 0.1, 0.1, 0.1, 0.1, 0.1, 0.1, 0.1, 0.1, 0.1])\n",
        "                global_cons = torch.from_numpy(cons_detail).float().to(\"cuda\")\n",
        "\n",
        "                z, qbatch, xrecon = self.forward(inputs)\n",
        "                if use_global == False:\n",
        "                    cluster_loss = self.cluster_loss(target, qbatch)\n",
        "                    recon_loss = self.recon_loss(inputs, xrecon)\n",
        "                    instance_constraints_loss = self.difficulty_loss(qbatch, mask_batch)\n",
        "                    loss = cluster_loss + recon_loss + instance_constraints_loss\n",
        "                    loss.backward()\n",
        "                    optimizer.step()\n",
        "                    cluster_loss_val += cluster_loss.data * len(inputs)\n",
        "                    recon_loss_val += recon_loss.data * len(inputs)\n",
        "                    instance_constraints_loss_val += instance_constraints_loss.data * len(inputs)\n",
        "                    train_loss = clustering_loss_weight*cluster_loss_val + recon_loss_val + instance_constraints_loss_val\n",
        "                else:\n",
        "                    cluster_loss = self.cluster_loss(target, qbatch)\n",
        "                    recon_loss = self.recon_loss(inputs, xrecon)\n",
        "                    global_loss = self.global_size_loss(qbatch, global_cons)\n",
        "                    loss = cluster_loss + recon_loss + global_loss\n",
        "                    loss.backward()\n",
        "                    optimizer.step()\n",
        "                    cluster_loss_val += cluster_loss.data * len(inputs)\n",
        "                    recon_loss_val += recon_loss.data * len(inputs)\n",
        "                    train_loss = clustering_loss_weight*cluster_loss_val + recon_loss_val\n",
        "\n",
        "\n",
        "            if instance_constraints_loss_val != 0.0:\n",
        "                print(\"#Epoch %3d: Total: %.4f Clustering Loss: %.4f Reconstruction Loss: %.4f Instance Difficulty Loss: %.4f\"% (\n",
        "                    epoch + 1, train_loss / num, cluster_loss_val / num, recon_loss_val / num, instance_constraints_loss_val / num))\n",
        "            elif global_loss_val != 0.0 and use_global:\n",
        "                print(\"#Epoch %3d: Total: %.4f Clustering Loss: %.4f Reconstruction Loss: %.4f Global Loss: %.4f\"% (\n",
        "                    epoch + 1, train_loss / num + global_loss_val/num_batch, cluster_loss_val / num, recon_loss_val / num, global_loss_val / num_batch))\n",
        "            else:\n",
        "                print(\"#Epoch %3d: Total: %.4f Clustering Loss: %.4f Reconstruction Loss: %.4f\" % (\n",
        "                    epoch + 1, train_loss / num, cluster_loss_val / num, recon_loss_val / num))\n",
        "            ml_loss = 0.0\n",
        "            if epoch % update_ml == 0:\n",
        "                for ml_batch_idx in range(ml_num_batch):\n",
        "                    px1 = X[ml_ind1[ml_batch_idx*batch_size : min(ml_num, (ml_batch_idx+1)*batch_size)]]\n",
        "                    px2 = X[ml_ind2[ml_batch_idx*batch_size : min(ml_num, (ml_batch_idx+1)*batch_size)]]\n",
        "                    pbatch1 = p[ml_ind1[ml_batch_idx*batch_size : min(ml_num, (ml_batch_idx + 1)*batch_size)]]\n",
        "                    pbatch2 = p[ml_ind2[ml_batch_idx*batch_size : min(ml_num, (ml_batch_idx+1)*batch_size)]]\n",
        "                    optimizer.zero_grad()\n",
        "                    inputs1 = Variable(px1)\n",
        "                    inputs2 = Variable(px2)\n",
        "                    target1 = Variable(pbatch1)\n",
        "                    target2 = Variable(pbatch2)\n",
        "                    z1, q1, xr1 = self.forward(inputs1)\n",
        "                    z2, q2, xr2 = self.forward(inputs2)\n",
        "                    loss = (ml_p*self.pairwise_loss(q1, q2, \"ML\")+self.recon_loss(inputs1, xr1) + self.recon_loss(inputs2, xr2))\n",
        "                    # 0.1 for mnist/reuters, 1 for fashion, the parameters are tuned via grid search on validation set\n",
        "                    ml_loss += loss.data\n",
        "                    loss.backward()\n",
        "                    optimizer.step()\n",
        "\n",
        "            cl_loss = 0.0\n",
        "            if epoch % update_cl == 0:\n",
        "                for cl_batch_idx in range(cl_num_batch):\n",
        "                    px1 = X[cl_ind1[cl_batch_idx*batch_size : min(cl_num, (cl_batch_idx+1)*batch_size)]]\n",
        "                    px2 = X[cl_ind2[cl_batch_idx*batch_size : min(cl_num, (cl_batch_idx+1)*batch_size)]]\n",
        "                    pbatch1 = p[cl_ind1[cl_batch_idx*batch_size : min(cl_num, (cl_batch_idx + 1)*batch_size)]]\n",
        "                    pbatch2 = p[cl_ind2[cl_batch_idx*batch_size : min(cl_num, (cl_batch_idx+1)*batch_size)]]\n",
        "                    optimizer.zero_grad()\n",
        "                    inputs1 = Variable(px1)\n",
        "                    inputs2 = Variable(px2)\n",
        "                    target1 = Variable(pbatch1)\n",
        "                    target2 = Variable(pbatch2)\n",
        "                    z1, q1, xr1 = self.forward(inputs1)\n",
        "                    z2, q2, xr2 = self.forward(inputs2)\n",
        "                    loss = cl_p*self.pairwise_loss(q1, q2, \"CL\")\n",
        "                    cl_loss += loss.data\n",
        "                    loss.backward()\n",
        "                    optimizer.step()\n",
        "\n",
        "            if ml_num_batch >0 and cl_num_batch > 0:\n",
        "                print(\"Pairwise Total:\", round(float(ml_loss.cpu()), 2) + float(cl_loss.cpu()), \"ML loss\", float(ml_loss.cpu()), \"CL loss:\", float(cl_loss.cpu()))\n",
        "            triplet_loss = 0.0\n",
        "            if epoch % update_triplet == 0:\n",
        "                for tri_batch_idx in range(tri_num_batch):\n",
        "                    px1 = X[anchor[tri_batch_idx*batch_size : min(tri_num, (tri_batch_idx+1)*batch_size)]]\n",
        "                    px2 = X[positive[tri_batch_idx*batch_size : min(tri_num, (tri_batch_idx+1)*batch_size)]]\n",
        "                    px3 = X[negative[tri_batch_idx*batch_size : min(tri_num, (tri_batch_idx+1)*batch_size)]]\n",
        "                    pbatch1 = p[anchor[tri_batch_idx*batch_size : min(tri_num, (tri_batch_idx + 1)*batch_size)]]\n",
        "                    pbatch2 = p[positive[tri_batch_idx*batch_size : min(tri_num, (tri_batch_idx+1)*batch_size)]]\n",
        "                    pbatch3 = p[negative[tri_batch_idx*batch_size : min(tri_num, (tri_batch_idx+1)*batch_size)]]\n",
        "                    optimizer.zero_grad()\n",
        "                    inputs1 = Variable(px1)\n",
        "                    inputs2 = Variable(px2)\n",
        "                    inputs3 = Variable(px3)\n",
        "                    target1 = Variable(pbatch1)\n",
        "                    target2 = Variable(pbatch2)\n",
        "                    target3 = Variable(pbatch3)\n",
        "                    z1, q1, xr1 = self.forward(inputs1)\n",
        "                    z2, q2, xr2 = self.forward(inputs2)\n",
        "                    z3, q3, xr3 = self.forward(inputs3)\n",
        "                    loss = self.triplet_loss(q1, q2, q3, 0.1)\n",
        "                    triplet_loss += loss.data\n",
        "                    loss.backward()\n",
        "                    optimizer.step()\n",
        "            if tri_num_batch > 0:\n",
        "                print(\"Triplet Loss:\", triplet_loss)\n",
        "        return final_acc, final_nmi, final_epoch"
      ]
    },
    {
      "cell_type": "code",
      "execution_count": 4,
      "metadata": {
        "id": "NeCj_lCxB_Jm"
      },
      "outputs": [],
      "source": [
        "import os\n",
        "import os.path\n",
        "import errno\n",
        "import numpy as np\n",
        "import gzip\n",
        "import torch\n",
        "import pickle\n",
        "import torch.utils.data as data\n",
        "import codecs\n",
        "import urllib\n",
        "class Netflix(data.Dataset):\n",
        "    def __init__(self, root, train=True, transform=None, target_transform=None, download=False):\n",
        "        self.root = os.path.expanduser(root)\n",
        "        self.transform = transform\n",
        "        self.target_transform = target_transform\n",
        "        self.train = train  # training set or test set\n",
        "        self.use_cuda = torch.cuda.is_available()\n",
        "        self.training_file = \"svd_pu2.npy\" # your data for clustering (e.g., user-predictions matrix, user-embedding learned from SVD ...)\n",
        "        self.label_file = \"svd_pu_labels2.npy\" # clustering labels (not applicable for our assignment, I used the k-means labels for svd_pu file)\n",
        "        if download:\n",
        "            self.download()\n",
        "        train = np.load(self.training_file)\n",
        "        from sklearn.preprocessing import StandardScaler\n",
        "        scaler = StandardScaler()\n",
        "        label = np.load(self.label_file)\n",
        "        train = scaler.fit_transform(train)\n",
        "        if self.train:\n",
        "            self.train_data, self.train_labels = torch.tensor(train, dtype=torch.float32), torch.tensor(label, dtype=torch.int)\n",
        "            if self.use_cuda:\n",
        "                self.train_data = self.train_data.cuda()\n",
        "                self.train_labels = self.train_labels.cuda()\n",
        "        else:\n",
        "            self.test_data, self.test_labels = torch.tensor(train, dtype=torch.float32), torch.tensor(label, dtype=torch.int)\n",
        "            if self.use_cuda:\n",
        "                self.test_data = self.test_data.cuda()\n",
        "                self.test_labels = self.test_labels.cuda()\n",
        "    def __getitem__(self, index):\n",
        "        if self.train:\n",
        "            img, target = self.train_data[index], self.train_labels[index]\n",
        "        else:\n",
        "            img, target = self.test_data[index], self.test_labels[index]\n",
        "\n",
        "        return img, target\n",
        "\n",
        "    def __len__(self):\n",
        "        if self.train:\n",
        "            return len(self.train_data)\n",
        "        else:\n",
        "            return len(self.test_data)"
      ]
    },
    {
      "cell_type": "code",
      "execution_count": 5,
      "metadata": {
        "colab": {
          "base_uri": "https://localhost:8080/"
        },
        "id": "moqkIbrsNOT8",
        "outputId": "2f1d2c68-003b-41c1-f3e7-871ffb56df3c"
      },
      "outputs": [
        {
          "name": "stdout",
          "output_type": "stream",
          "text": [
            "IDEC(\n",
            "  (encoder): Sequential(\n",
            "    (0): Linear(in_features=10, out_features=500, bias=True)\n",
            "    (1): ReLU()\n",
            "    (2): Linear(in_features=500, out_features=500, bias=True)\n",
            "    (3): ReLU()\n",
            "    (4): Linear(in_features=500, out_features=2000, bias=True)\n",
            "    (5): ReLU()\n",
            "  )\n",
            "  (decoder): Sequential(\n",
            "    (0): Linear(in_features=20, out_features=2000, bias=True)\n",
            "    (1): ReLU()\n",
            "    (2): Linear(in_features=2000, out_features=500, bias=True)\n",
            "    (3): ReLU()\n",
            "    (4): Linear(in_features=500, out_features=500, bias=True)\n",
            "    (5): ReLU()\n",
            "  )\n",
            "  (_enc_mu): Linear(in_features=2000, out_features=20, bias=True)\n",
            "  (_dec): Linear(in_features=500, out_features=10, bias=True)\n",
            ")\n",
            "=====Training IDEC=======\n",
            "Initializing cluster centers with kmeans.\n"
          ]
        },
        {
          "name": "stderr",
          "output_type": "stream",
          "text": [
            "c:\\Users\\japik\\anaconda3\\lib\\site-packages\\sklearn\\utils\\linear_assignment_.py:18: FutureWarning: The linear_assignment_ module is deprecated in 0.21 and will be removed from 0.23. Use scipy.optimize.linear_sum_assignment instead.\n",
            "  warnings.warn(\n",
            "c:\\Users\\japik\\anaconda3\\lib\\site-packages\\sklearn\\utils\\linear_assignment_.py:124: FutureWarning: The linear_assignment function is deprecated in 0.21 and will be removed from 0.23. Use scipy.optimize.linear_sum_assignment instead.\n",
            "  warnings.warn(\n",
            "c:\\Users\\japik\\anaconda3\\lib\\site-packages\\sklearn\\utils\\linear_assignment_.py:124: FutureWarning: The linear_assignment function is deprecated in 0.21 and will be removed from 0.23. Use scipy.optimize.linear_sum_assignment instead.\n",
            "  warnings.warn(\n",
            "c:\\Users\\japik\\anaconda3\\lib\\site-packages\\sklearn\\utils\\linear_assignment_.py:124: FutureWarning: The linear_assignment function is deprecated in 0.21 and will be removed from 0.23. Use scipy.optimize.linear_sum_assignment instead.\n",
            "  warnings.warn(\n",
            "c:\\Users\\japik\\anaconda3\\lib\\site-packages\\sklearn\\utils\\linear_assignment_.py:124: FutureWarning: The linear_assignment function is deprecated in 0.21 and will be removed from 0.23. Use scipy.optimize.linear_sum_assignment instead.\n",
            "  warnings.warn(\n"
          ]
        },
        {
          "name": "stdout",
          "output_type": "stream",
          "text": [
            "acc: 0.72159, nmi: 0.76628\n",
            "satisfied constraints: 1.00000\n",
            "#Epoch   1: Total: 0.4092 Clustering Loss: 0.0844 Reconstruction Loss: 0.3248\n",
            "acc: 0.71753, nmi: 0.77137\n",
            "satisfied constraints: 1.00000\n",
            "#Epoch   2: Total: 0.0903 Clustering Loss: 0.0182 Reconstruction Loss: 0.0721\n",
            "acc: 0.66367, nmi: 0.74184\n",
            "satisfied constraints: 1.00000\n",
            "#Epoch   3: Total: 0.0352 Clustering Loss: 0.0088 Reconstruction Loss: 0.0264\n",
            "acc: 0.65368, nmi: 0.72863\n",
            "satisfied constraints: 1.00000\n",
            "#Epoch   4: Total: 0.0280 Clustering Loss: 0.0126 Reconstruction Loss: 0.0155\n"
          ]
        },
        {
          "name": "stderr",
          "output_type": "stream",
          "text": [
            "c:\\Users\\japik\\anaconda3\\lib\\site-packages\\sklearn\\utils\\linear_assignment_.py:124: FutureWarning: The linear_assignment function is deprecated in 0.21 and will be removed from 0.23. Use scipy.optimize.linear_sum_assignment instead.\n",
            "  warnings.warn(\n",
            "c:\\Users\\japik\\anaconda3\\lib\\site-packages\\sklearn\\utils\\linear_assignment_.py:124: FutureWarning: The linear_assignment function is deprecated in 0.21 and will be removed from 0.23. Use scipy.optimize.linear_sum_assignment instead.\n",
            "  warnings.warn(\n",
            "c:\\Users\\japik\\anaconda3\\lib\\site-packages\\sklearn\\utils\\linear_assignment_.py:124: FutureWarning: The linear_assignment function is deprecated in 0.21 and will be removed from 0.23. Use scipy.optimize.linear_sum_assignment instead.\n",
            "  warnings.warn(\n",
            "c:\\Users\\japik\\anaconda3\\lib\\site-packages\\sklearn\\utils\\linear_assignment_.py:124: FutureWarning: The linear_assignment function is deprecated in 0.21 and will be removed from 0.23. Use scipy.optimize.linear_sum_assignment instead.\n",
            "  warnings.warn(\n",
            "c:\\Users\\japik\\anaconda3\\lib\\site-packages\\sklearn\\utils\\linear_assignment_.py:124: FutureWarning: The linear_assignment function is deprecated in 0.21 and will be removed from 0.23. Use scipy.optimize.linear_sum_assignment instead.\n",
            "  warnings.warn(\n"
          ]
        },
        {
          "name": "stdout",
          "output_type": "stream",
          "text": [
            "acc: 0.61541, nmi: 0.71574\n",
            "satisfied constraints: 1.00000\n",
            "#Epoch   5: Total: 0.0275 Clustering Loss: 0.0126 Reconstruction Loss: 0.0150\n",
            "acc: 0.59983, nmi: 0.71614\n",
            "satisfied constraints: 1.00000\n",
            "#Epoch   6: Total: 0.0268 Clustering Loss: 0.0127 Reconstruction Loss: 0.0140\n"
          ]
        },
        {
          "name": "stderr",
          "output_type": "stream",
          "text": [
            "c:\\Users\\japik\\anaconda3\\lib\\site-packages\\sklearn\\utils\\linear_assignment_.py:124: FutureWarning: The linear_assignment function is deprecated in 0.21 and will be removed from 0.23. Use scipy.optimize.linear_sum_assignment instead.\n",
            "  warnings.warn(\n",
            "c:\\Users\\japik\\anaconda3\\lib\\site-packages\\sklearn\\utils\\linear_assignment_.py:124: FutureWarning: The linear_assignment function is deprecated in 0.21 and will be removed from 0.23. Use scipy.optimize.linear_sum_assignment instead.\n",
            "  warnings.warn(\n",
            "c:\\Users\\japik\\anaconda3\\lib\\site-packages\\sklearn\\utils\\linear_assignment_.py:124: FutureWarning: The linear_assignment function is deprecated in 0.21 and will be removed from 0.23. Use scipy.optimize.linear_sum_assignment instead.\n",
            "  warnings.warn(\n",
            "c:\\Users\\japik\\anaconda3\\lib\\site-packages\\sklearn\\utils\\linear_assignment_.py:124: FutureWarning: The linear_assignment function is deprecated in 0.21 and will be removed from 0.23. Use scipy.optimize.linear_sum_assignment instead.\n",
            "  warnings.warn(\n"
          ]
        },
        {
          "name": "stdout",
          "output_type": "stream",
          "text": [
            "acc: 0.57324, nmi: 0.71563\n",
            "satisfied constraints: 1.00000\n",
            "#Epoch   7: Total: 0.0270 Clustering Loss: 0.0128 Reconstruction Loss: 0.0142\n",
            "acc: 0.55665, nmi: 0.71621\n",
            "satisfied constraints: 1.00000\n",
            "#Epoch   8: Total: 0.0269 Clustering Loss: 0.0129 Reconstruction Loss: 0.0139\n",
            "acc: 0.55004, nmi: 0.71486\n",
            "satisfied constraints: 1.00000\n"
          ]
        },
        {
          "name": "stderr",
          "output_type": "stream",
          "text": [
            "c:\\Users\\japik\\anaconda3\\lib\\site-packages\\sklearn\\utils\\linear_assignment_.py:124: FutureWarning: The linear_assignment function is deprecated in 0.21 and will be removed from 0.23. Use scipy.optimize.linear_sum_assignment instead.\n",
            "  warnings.warn(\n",
            "c:\\Users\\japik\\anaconda3\\lib\\site-packages\\sklearn\\utils\\linear_assignment_.py:124: FutureWarning: The linear_assignment function is deprecated in 0.21 and will be removed from 0.23. Use scipy.optimize.linear_sum_assignment instead.\n",
            "  warnings.warn(\n",
            "c:\\Users\\japik\\anaconda3\\lib\\site-packages\\sklearn\\utils\\linear_assignment_.py:124: FutureWarning: The linear_assignment function is deprecated in 0.21 and will be removed from 0.23. Use scipy.optimize.linear_sum_assignment instead.\n",
            "  warnings.warn(\n",
            "c:\\Users\\japik\\anaconda3\\lib\\site-packages\\sklearn\\utils\\linear_assignment_.py:124: FutureWarning: The linear_assignment function is deprecated in 0.21 and will be removed from 0.23. Use scipy.optimize.linear_sum_assignment instead.\n",
            "  warnings.warn(\n",
            "c:\\Users\\japik\\anaconda3\\lib\\site-packages\\sklearn\\utils\\linear_assignment_.py:124: FutureWarning: The linear_assignment function is deprecated in 0.21 and will be removed from 0.23. Use scipy.optimize.linear_sum_assignment instead.\n",
            "  warnings.warn(\n",
            "c:\\Users\\japik\\anaconda3\\lib\\site-packages\\sklearn\\utils\\linear_assignment_.py:124: FutureWarning: The linear_assignment function is deprecated in 0.21 and will be removed from 0.23. Use scipy.optimize.linear_sum_assignment instead.\n",
            "  warnings.warn(\n",
            "c:\\Users\\japik\\anaconda3\\lib\\site-packages\\sklearn\\utils\\linear_assignment_.py:124: FutureWarning: The linear_assignment function is deprecated in 0.21 and will be removed from 0.23. Use scipy.optimize.linear_sum_assignment instead.\n",
            "  warnings.warn(\n",
            "c:\\Users\\japik\\anaconda3\\lib\\site-packages\\sklearn\\utils\\linear_assignment_.py:124: FutureWarning: The linear_assignment function is deprecated in 0.21 and will be removed from 0.23. Use scipy.optimize.linear_sum_assignment instead.\n",
            "  warnings.warn(\n"
          ]
        },
        {
          "name": "stdout",
          "output_type": "stream",
          "text": [
            "#Epoch   9: Total: 0.0270 Clustering Loss: 0.0130 Reconstruction Loss: 0.0140\n",
            "acc: 0.55749, nmi: 0.71435\n",
            "satisfied constraints: 1.00000\n",
            "#Epoch  10: Total: 0.0272 Clustering Loss: 0.0131 Reconstruction Loss: 0.0141\n",
            "acc: 0.56224, nmi: 0.71564\n",
            "satisfied constraints: 1.00000\n",
            "#Epoch  11: Total: 0.0276 Clustering Loss: 0.0131 Reconstruction Loss: 0.0144\n"
          ]
        },
        {
          "name": "stderr",
          "output_type": "stream",
          "text": [
            "c:\\Users\\japik\\anaconda3\\lib\\site-packages\\sklearn\\utils\\linear_assignment_.py:124: FutureWarning: The linear_assignment function is deprecated in 0.21 and will be removed from 0.23. Use scipy.optimize.linear_sum_assignment instead.\n",
            "  warnings.warn(\n",
            "c:\\Users\\japik\\anaconda3\\lib\\site-packages\\sklearn\\utils\\linear_assignment_.py:124: FutureWarning: The linear_assignment function is deprecated in 0.21 and will be removed from 0.23. Use scipy.optimize.linear_sum_assignment instead.\n",
            "  warnings.warn(\n",
            "c:\\Users\\japik\\anaconda3\\lib\\site-packages\\sklearn\\utils\\linear_assignment_.py:124: FutureWarning: The linear_assignment function is deprecated in 0.21 and will be removed from 0.23. Use scipy.optimize.linear_sum_assignment instead.\n",
            "  warnings.warn(\n",
            "c:\\Users\\japik\\anaconda3\\lib\\site-packages\\sklearn\\utils\\linear_assignment_.py:124: FutureWarning: The linear_assignment function is deprecated in 0.21 and will be removed from 0.23. Use scipy.optimize.linear_sum_assignment instead.\n",
            "  warnings.warn(\n"
          ]
        },
        {
          "name": "stdout",
          "output_type": "stream",
          "text": [
            "acc: 0.56833, nmi: 0.71681\n",
            "satisfied constraints: 1.00000\n",
            "#Epoch  12: Total: 0.0287 Clustering Loss: 0.0132 Reconstruction Loss: 0.0155\n",
            "acc: 0.56562, nmi: 0.71461\n",
            "satisfied constraints: 1.00000\n",
            "#Epoch  13: Total: 0.0311 Clustering Loss: 0.0132 Reconstruction Loss: 0.0179\n"
          ]
        },
        {
          "name": "stderr",
          "output_type": "stream",
          "text": [
            "c:\\Users\\japik\\anaconda3\\lib\\site-packages\\sklearn\\utils\\linear_assignment_.py:124: FutureWarning: The linear_assignment function is deprecated in 0.21 and will be removed from 0.23. Use scipy.optimize.linear_sum_assignment instead.\n",
            "  warnings.warn(\n",
            "c:\\Users\\japik\\anaconda3\\lib\\site-packages\\sklearn\\utils\\linear_assignment_.py:124: FutureWarning: The linear_assignment function is deprecated in 0.21 and will be removed from 0.23. Use scipy.optimize.linear_sum_assignment instead.\n",
            "  warnings.warn(\n",
            "c:\\Users\\japik\\anaconda3\\lib\\site-packages\\sklearn\\utils\\linear_assignment_.py:124: FutureWarning: The linear_assignment function is deprecated in 0.21 and will be removed from 0.23. Use scipy.optimize.linear_sum_assignment instead.\n",
            "  warnings.warn(\n",
            "c:\\Users\\japik\\anaconda3\\lib\\site-packages\\sklearn\\utils\\linear_assignment_.py:124: FutureWarning: The linear_assignment function is deprecated in 0.21 and will be removed from 0.23. Use scipy.optimize.linear_sum_assignment instead.\n",
            "  warnings.warn(\n",
            "c:\\Users\\japik\\anaconda3\\lib\\site-packages\\sklearn\\utils\\linear_assignment_.py:124: FutureWarning: The linear_assignment function is deprecated in 0.21 and will be removed from 0.23. Use scipy.optimize.linear_sum_assignment instead.\n",
            "  warnings.warn(\n"
          ]
        },
        {
          "name": "stdout",
          "output_type": "stream",
          "text": [
            "acc: 0.56596, nmi: 0.71501\n",
            "satisfied constraints: 1.00000\n",
            "#Epoch  14: Total: 0.0320 Clustering Loss: 0.0132 Reconstruction Loss: 0.0188\n",
            "acc: 0.56003, nmi: 0.71470\n",
            "satisfied constraints: 1.00000\n",
            "#Epoch  15: Total: 0.0286 Clustering Loss: 0.0132 Reconstruction Loss: 0.0154\n"
          ]
        },
        {
          "name": "stderr",
          "output_type": "stream",
          "text": [
            "c:\\Users\\japik\\anaconda3\\lib\\site-packages\\sklearn\\utils\\linear_assignment_.py:124: FutureWarning: The linear_assignment function is deprecated in 0.21 and will be removed from 0.23. Use scipy.optimize.linear_sum_assignment instead.\n",
            "  warnings.warn(\n",
            "c:\\Users\\japik\\anaconda3\\lib\\site-packages\\sklearn\\utils\\linear_assignment_.py:124: FutureWarning: The linear_assignment function is deprecated in 0.21 and will be removed from 0.23. Use scipy.optimize.linear_sum_assignment instead.\n",
            "  warnings.warn(\n",
            "c:\\Users\\japik\\anaconda3\\lib\\site-packages\\sklearn\\utils\\linear_assignment_.py:124: FutureWarning: The linear_assignment function is deprecated in 0.21 and will be removed from 0.23. Use scipy.optimize.linear_sum_assignment instead.\n",
            "  warnings.warn(\n",
            "c:\\Users\\japik\\anaconda3\\lib\\site-packages\\sklearn\\utils\\linear_assignment_.py:124: FutureWarning: The linear_assignment function is deprecated in 0.21 and will be removed from 0.23. Use scipy.optimize.linear_sum_assignment instead.\n",
            "  warnings.warn(\n"
          ]
        },
        {
          "name": "stdout",
          "output_type": "stream",
          "text": [
            "acc: 0.55580, nmi: 0.71540\n",
            "satisfied constraints: 1.00000\n",
            "#Epoch  16: Total: 0.0275 Clustering Loss: 0.0132 Reconstruction Loss: 0.0143\n",
            "acc: 0.55140, nmi: 0.71611\n",
            "satisfied constraints: 1.00000\n",
            "#Epoch  17: Total: 0.0276 Clustering Loss: 0.0132 Reconstruction Loss: 0.0145\n"
          ]
        },
        {
          "name": "stderr",
          "output_type": "stream",
          "text": [
            "c:\\Users\\japik\\anaconda3\\lib\\site-packages\\sklearn\\utils\\linear_assignment_.py:124: FutureWarning: The linear_assignment function is deprecated in 0.21 and will be removed from 0.23. Use scipy.optimize.linear_sum_assignment instead.\n",
            "  warnings.warn(\n",
            "c:\\Users\\japik\\anaconda3\\lib\\site-packages\\sklearn\\utils\\linear_assignment_.py:124: FutureWarning: The linear_assignment function is deprecated in 0.21 and will be removed from 0.23. Use scipy.optimize.linear_sum_assignment instead.\n",
            "  warnings.warn(\n",
            "c:\\Users\\japik\\anaconda3\\lib\\site-packages\\sklearn\\utils\\linear_assignment_.py:124: FutureWarning: The linear_assignment function is deprecated in 0.21 and will be removed from 0.23. Use scipy.optimize.linear_sum_assignment instead.\n",
            "  warnings.warn(\n",
            "c:\\Users\\japik\\anaconda3\\lib\\site-packages\\sklearn\\utils\\linear_assignment_.py:124: FutureWarning: The linear_assignment function is deprecated in 0.21 and will be removed from 0.23. Use scipy.optimize.linear_sum_assignment instead.\n",
            "  warnings.warn(\n",
            "c:\\Users\\japik\\anaconda3\\lib\\site-packages\\sklearn\\utils\\linear_assignment_.py:124: FutureWarning: The linear_assignment function is deprecated in 0.21 and will be removed from 0.23. Use scipy.optimize.linear_sum_assignment instead.\n",
            "  warnings.warn(\n"
          ]
        },
        {
          "name": "stdout",
          "output_type": "stream",
          "text": [
            "acc: 0.54682, nmi: 0.71581\n",
            "satisfied constraints: 1.00000\n",
            "#Epoch  18: Total: 0.0276 Clustering Loss: 0.0131 Reconstruction Loss: 0.0145\n",
            "acc: 0.54530, nmi: 0.71704\n",
            "satisfied constraints: 1.00000\n",
            "#Epoch  19: Total: 0.0275 Clustering Loss: 0.0132 Reconstruction Loss: 0.0144\n",
            "acc: 0.53870, nmi: 0.71813\n",
            "satisfied constraints: 1.00000\n",
            "#Epoch  20: Total: 0.0274 Clustering Loss: 0.0132 Reconstruction Loss: 0.0141\n",
            "acc: 0.53040, nmi: 0.72400\n",
            "satisfied constraints: 1.00000\n",
            "#Epoch  21: Total: 0.0274 Clustering Loss: 0.0135 Reconstruction Loss: 0.0139\n",
            "acc: 0.52413, nmi: 0.72652\n",
            "satisfied constraints: 1.00000\n"
          ]
        },
        {
          "name": "stderr",
          "output_type": "stream",
          "text": [
            "c:\\Users\\japik\\anaconda3\\lib\\site-packages\\sklearn\\utils\\linear_assignment_.py:124: FutureWarning: The linear_assignment function is deprecated in 0.21 and will be removed from 0.23. Use scipy.optimize.linear_sum_assignment instead.\n",
            "  warnings.warn(\n",
            "c:\\Users\\japik\\anaconda3\\lib\\site-packages\\sklearn\\utils\\linear_assignment_.py:124: FutureWarning: The linear_assignment function is deprecated in 0.21 and will be removed from 0.23. Use scipy.optimize.linear_sum_assignment instead.\n",
            "  warnings.warn(\n",
            "c:\\Users\\japik\\anaconda3\\lib\\site-packages\\sklearn\\utils\\linear_assignment_.py:124: FutureWarning: The linear_assignment function is deprecated in 0.21 and will be removed from 0.23. Use scipy.optimize.linear_sum_assignment instead.\n",
            "  warnings.warn(\n",
            "c:\\Users\\japik\\anaconda3\\lib\\site-packages\\sklearn\\utils\\linear_assignment_.py:124: FutureWarning: The linear_assignment function is deprecated in 0.21 and will be removed from 0.23. Use scipy.optimize.linear_sum_assignment instead.\n",
            "  warnings.warn(\n",
            "c:\\Users\\japik\\anaconda3\\lib\\site-packages\\sklearn\\utils\\linear_assignment_.py:124: FutureWarning: The linear_assignment function is deprecated in 0.21 and will be removed from 0.23. Use scipy.optimize.linear_sum_assignment instead.\n",
            "  warnings.warn(\n",
            "c:\\Users\\japik\\anaconda3\\lib\\site-packages\\sklearn\\utils\\linear_assignment_.py:124: FutureWarning: The linear_assignment function is deprecated in 0.21 and will be removed from 0.23. Use scipy.optimize.linear_sum_assignment instead.\n",
            "  warnings.warn(\n",
            "c:\\Users\\japik\\anaconda3\\lib\\site-packages\\sklearn\\utils\\linear_assignment_.py:124: FutureWarning: The linear_assignment function is deprecated in 0.21 and will be removed from 0.23. Use scipy.optimize.linear_sum_assignment instead.\n",
            "  warnings.warn(\n",
            "c:\\Users\\japik\\anaconda3\\lib\\site-packages\\sklearn\\utils\\linear_assignment_.py:124: FutureWarning: The linear_assignment function is deprecated in 0.21 and will be removed from 0.23. Use scipy.optimize.linear_sum_assignment instead.\n",
            "  warnings.warn(\n",
            "c:\\Users\\japik\\anaconda3\\lib\\site-packages\\sklearn\\utils\\linear_assignment_.py:124: FutureWarning: The linear_assignment function is deprecated in 0.21 and will be removed from 0.23. Use scipy.optimize.linear_sum_assignment instead.\n",
            "  warnings.warn(\n"
          ]
        },
        {
          "name": "stdout",
          "output_type": "stream",
          "text": [
            "#Epoch  22: Total: 0.0278 Clustering Loss: 0.0136 Reconstruction Loss: 0.0142\n",
            "acc: 0.53124, nmi: 0.72522\n",
            "satisfied constraints: 1.00000\n",
            "#Epoch  23: Total: 0.0284 Clustering Loss: 0.0140 Reconstruction Loss: 0.0143\n",
            "acc: 0.54208, nmi: 0.72216\n",
            "satisfied constraints: 1.00000\n",
            "#Epoch  24: Total: 0.0284 Clustering Loss: 0.0142 Reconstruction Loss: 0.0142\n"
          ]
        },
        {
          "name": "stderr",
          "output_type": "stream",
          "text": [
            "c:\\Users\\japik\\anaconda3\\lib\\site-packages\\sklearn\\utils\\linear_assignment_.py:124: FutureWarning: The linear_assignment function is deprecated in 0.21 and will be removed from 0.23. Use scipy.optimize.linear_sum_assignment instead.\n",
            "  warnings.warn(\n",
            "c:\\Users\\japik\\anaconda3\\lib\\site-packages\\sklearn\\utils\\linear_assignment_.py:124: FutureWarning: The linear_assignment function is deprecated in 0.21 and will be removed from 0.23. Use scipy.optimize.linear_sum_assignment instead.\n",
            "  warnings.warn(\n",
            "c:\\Users\\japik\\anaconda3\\lib\\site-packages\\sklearn\\utils\\linear_assignment_.py:124: FutureWarning: The linear_assignment function is deprecated in 0.21 and will be removed from 0.23. Use scipy.optimize.linear_sum_assignment instead.\n",
            "  warnings.warn(\n",
            "c:\\Users\\japik\\anaconda3\\lib\\site-packages\\sklearn\\utils\\linear_assignment_.py:124: FutureWarning: The linear_assignment function is deprecated in 0.21 and will be removed from 0.23. Use scipy.optimize.linear_sum_assignment instead.\n",
            "  warnings.warn(\n"
          ]
        },
        {
          "name": "stdout",
          "output_type": "stream",
          "text": [
            "acc: 0.55157, nmi: 0.71953\n",
            "satisfied constraints: 1.00000\n",
            "#Epoch  25: Total: 0.0273 Clustering Loss: 0.0138 Reconstruction Loss: 0.0135\n",
            "acc: 0.55038, nmi: 0.71895\n",
            "satisfied constraints: 1.00000\n",
            "#Epoch  26: Total: 0.0261 Clustering Loss: 0.0131 Reconstruction Loss: 0.0129\n"
          ]
        },
        {
          "name": "stderr",
          "output_type": "stream",
          "text": [
            "c:\\Users\\japik\\anaconda3\\lib\\site-packages\\sklearn\\utils\\linear_assignment_.py:124: FutureWarning: The linear_assignment function is deprecated in 0.21 and will be removed from 0.23. Use scipy.optimize.linear_sum_assignment instead.\n",
            "  warnings.warn(\n",
            "c:\\Users\\japik\\anaconda3\\lib\\site-packages\\sklearn\\utils\\linear_assignment_.py:124: FutureWarning: The linear_assignment function is deprecated in 0.21 and will be removed from 0.23. Use scipy.optimize.linear_sum_assignment instead.\n",
            "  warnings.warn(\n",
            "c:\\Users\\japik\\anaconda3\\lib\\site-packages\\sklearn\\utils\\linear_assignment_.py:124: FutureWarning: The linear_assignment function is deprecated in 0.21 and will be removed from 0.23. Use scipy.optimize.linear_sum_assignment instead.\n",
            "  warnings.warn(\n",
            "c:\\Users\\japik\\anaconda3\\lib\\site-packages\\sklearn\\utils\\linear_assignment_.py:124: FutureWarning: The linear_assignment function is deprecated in 0.21 and will be removed from 0.23. Use scipy.optimize.linear_sum_assignment instead.\n",
            "  warnings.warn(\n",
            "c:\\Users\\japik\\anaconda3\\lib\\site-packages\\sklearn\\utils\\linear_assignment_.py:124: FutureWarning: The linear_assignment function is deprecated in 0.21 and will be removed from 0.23. Use scipy.optimize.linear_sum_assignment instead.\n",
            "  warnings.warn(\n"
          ]
        },
        {
          "name": "stdout",
          "output_type": "stream",
          "text": [
            "acc: 0.54344, nmi: 0.71706\n",
            "satisfied constraints: 1.00000\n",
            "#Epoch  27: Total: 0.0254 Clustering Loss: 0.0128 Reconstruction Loss: 0.0126\n",
            "acc: 0.52566, nmi: 0.71167\n",
            "satisfied constraints: 1.00000\n",
            "#Epoch  28: Total: 0.0254 Clustering Loss: 0.0127 Reconstruction Loss: 0.0127\n",
            "acc: 0.52193, nmi: 0.70640\n",
            "satisfied constraints: 1.00000\n",
            "#Epoch  29: Total: 0.0258 Clustering Loss: 0.0128 Reconstruction Loss: 0.0131\n",
            "acc: 0.51431, nmi: 0.70096\n",
            "satisfied constraints: 1.00000\n",
            "#Epoch  30: Total: 0.0257 Clustering Loss: 0.0128 Reconstruction Loss: 0.0129\n"
          ]
        },
        {
          "name": "stderr",
          "output_type": "stream",
          "text": [
            "c:\\Users\\japik\\anaconda3\\lib\\site-packages\\sklearn\\utils\\linear_assignment_.py:124: FutureWarning: The linear_assignment function is deprecated in 0.21 and will be removed from 0.23. Use scipy.optimize.linear_sum_assignment instead.\n",
            "  warnings.warn(\n",
            "c:\\Users\\japik\\anaconda3\\lib\\site-packages\\sklearn\\utils\\linear_assignment_.py:124: FutureWarning: The linear_assignment function is deprecated in 0.21 and will be removed from 0.23. Use scipy.optimize.linear_sum_assignment instead.\n",
            "  warnings.warn(\n",
            "c:\\Users\\japik\\anaconda3\\lib\\site-packages\\sklearn\\utils\\linear_assignment_.py:124: FutureWarning: The linear_assignment function is deprecated in 0.21 and will be removed from 0.23. Use scipy.optimize.linear_sum_assignment instead.\n",
            "  warnings.warn(\n",
            "c:\\Users\\japik\\anaconda3\\lib\\site-packages\\sklearn\\utils\\linear_assignment_.py:124: FutureWarning: The linear_assignment function is deprecated in 0.21 and will be removed from 0.23. Use scipy.optimize.linear_sum_assignment instead.\n",
            "  warnings.warn(\n"
          ]
        },
        {
          "name": "stdout",
          "output_type": "stream",
          "text": [
            "acc: 0.51363, nmi: 0.69969\n",
            "satisfied constraints: 1.00000\n",
            "#Epoch  31: Total: 0.0255 Clustering Loss: 0.0128 Reconstruction Loss: 0.0127\n",
            "acc: 0.51177, nmi: 0.70106\n",
            "satisfied constraints: 1.00000\n",
            "#Epoch  32: Total: 0.0258 Clustering Loss: 0.0128 Reconstruction Loss: 0.0130\n",
            "acc: 0.50923, nmi: 0.70153\n",
            "satisfied constraints: 1.00000\n"
          ]
        },
        {
          "name": "stderr",
          "output_type": "stream",
          "text": [
            "c:\\Users\\japik\\anaconda3\\lib\\site-packages\\sklearn\\utils\\linear_assignment_.py:124: FutureWarning: The linear_assignment function is deprecated in 0.21 and will be removed from 0.23. Use scipy.optimize.linear_sum_assignment instead.\n",
            "  warnings.warn(\n",
            "c:\\Users\\japik\\anaconda3\\lib\\site-packages\\sklearn\\utils\\linear_assignment_.py:124: FutureWarning: The linear_assignment function is deprecated in 0.21 and will be removed from 0.23. Use scipy.optimize.linear_sum_assignment instead.\n",
            "  warnings.warn(\n",
            "c:\\Users\\japik\\anaconda3\\lib\\site-packages\\sklearn\\utils\\linear_assignment_.py:124: FutureWarning: The linear_assignment function is deprecated in 0.21 and will be removed from 0.23. Use scipy.optimize.linear_sum_assignment instead.\n",
            "  warnings.warn(\n",
            "c:\\Users\\japik\\anaconda3\\lib\\site-packages\\sklearn\\utils\\linear_assignment_.py:124: FutureWarning: The linear_assignment function is deprecated in 0.21 and will be removed from 0.23. Use scipy.optimize.linear_sum_assignment instead.\n",
            "  warnings.warn(\n",
            "c:\\Users\\japik\\anaconda3\\lib\\site-packages\\sklearn\\utils\\linear_assignment_.py:124: FutureWarning: The linear_assignment function is deprecated in 0.21 and will be removed from 0.23. Use scipy.optimize.linear_sum_assignment instead.\n",
            "  warnings.warn(\n",
            "c:\\Users\\japik\\anaconda3\\lib\\site-packages\\sklearn\\utils\\linear_assignment_.py:124: FutureWarning: The linear_assignment function is deprecated in 0.21 and will be removed from 0.23. Use scipy.optimize.linear_sum_assignment instead.\n",
            "  warnings.warn(\n",
            "c:\\Users\\japik\\anaconda3\\lib\\site-packages\\sklearn\\utils\\linear_assignment_.py:124: FutureWarning: The linear_assignment function is deprecated in 0.21 and will be removed from 0.23. Use scipy.optimize.linear_sum_assignment instead.\n",
            "  warnings.warn(\n",
            "c:\\Users\\japik\\anaconda3\\lib\\site-packages\\sklearn\\utils\\linear_assignment_.py:124: FutureWarning: The linear_assignment function is deprecated in 0.21 and will be removed from 0.23. Use scipy.optimize.linear_sum_assignment instead.\n",
            "  warnings.warn(\n"
          ]
        },
        {
          "name": "stdout",
          "output_type": "stream",
          "text": [
            "#Epoch  33: Total: 0.0257 Clustering Loss: 0.0128 Reconstruction Loss: 0.0129\n",
            "acc: 0.50838, nmi: 0.70397\n",
            "satisfied constraints: 1.00000\n",
            "#Epoch  34: Total: 0.0259 Clustering Loss: 0.0129 Reconstruction Loss: 0.0131\n",
            "acc: 0.50669, nmi: 0.70710\n",
            "satisfied constraints: 1.00000\n",
            "#Epoch  35: Total: 0.0262 Clustering Loss: 0.0129 Reconstruction Loss: 0.0133\n"
          ]
        },
        {
          "name": "stderr",
          "output_type": "stream",
          "text": [
            "c:\\Users\\japik\\anaconda3\\lib\\site-packages\\sklearn\\utils\\linear_assignment_.py:124: FutureWarning: The linear_assignment function is deprecated in 0.21 and will be removed from 0.23. Use scipy.optimize.linear_sum_assignment instead.\n",
            "  warnings.warn(\n",
            "c:\\Users\\japik\\anaconda3\\lib\\site-packages\\sklearn\\utils\\linear_assignment_.py:124: FutureWarning: The linear_assignment function is deprecated in 0.21 and will be removed from 0.23. Use scipy.optimize.linear_sum_assignment instead.\n",
            "  warnings.warn(\n",
            "c:\\Users\\japik\\anaconda3\\lib\\site-packages\\sklearn\\utils\\linear_assignment_.py:124: FutureWarning: The linear_assignment function is deprecated in 0.21 and will be removed from 0.23. Use scipy.optimize.linear_sum_assignment instead.\n",
            "  warnings.warn(\n",
            "c:\\Users\\japik\\anaconda3\\lib\\site-packages\\sklearn\\utils\\linear_assignment_.py:124: FutureWarning: The linear_assignment function is deprecated in 0.21 and will be removed from 0.23. Use scipy.optimize.linear_sum_assignment instead.\n",
            "  warnings.warn(\n",
            "c:\\Users\\japik\\anaconda3\\lib\\site-packages\\sklearn\\utils\\linear_assignment_.py:124: FutureWarning: The linear_assignment function is deprecated in 0.21 and will be removed from 0.23. Use scipy.optimize.linear_sum_assignment instead.\n",
            "  warnings.warn(\n"
          ]
        },
        {
          "name": "stdout",
          "output_type": "stream",
          "text": [
            "acc: 0.50584, nmi: 0.70731\n",
            "satisfied constraints: 1.00000\n",
            "#Epoch  36: Total: 0.0268 Clustering Loss: 0.0129 Reconstruction Loss: 0.0140\n",
            "acc: 0.50500, nmi: 0.70825\n",
            "satisfied constraints: 1.00000\n",
            "#Epoch  37: Total: 0.0266 Clustering Loss: 0.0128 Reconstruction Loss: 0.0138\n",
            "acc: 0.50550, nmi: 0.70851\n",
            "satisfied constraints: 1.00000\n"
          ]
        },
        {
          "name": "stderr",
          "output_type": "stream",
          "text": [
            "c:\\Users\\japik\\anaconda3\\lib\\site-packages\\sklearn\\utils\\linear_assignment_.py:124: FutureWarning: The linear_assignment function is deprecated in 0.21 and will be removed from 0.23. Use scipy.optimize.linear_sum_assignment instead.\n",
            "  warnings.warn(\n",
            "c:\\Users\\japik\\anaconda3\\lib\\site-packages\\sklearn\\utils\\linear_assignment_.py:124: FutureWarning: The linear_assignment function is deprecated in 0.21 and will be removed from 0.23. Use scipy.optimize.linear_sum_assignment instead.\n",
            "  warnings.warn(\n",
            "c:\\Users\\japik\\anaconda3\\lib\\site-packages\\sklearn\\utils\\linear_assignment_.py:124: FutureWarning: The linear_assignment function is deprecated in 0.21 and will be removed from 0.23. Use scipy.optimize.linear_sum_assignment instead.\n",
            "  warnings.warn(\n",
            "c:\\Users\\japik\\anaconda3\\lib\\site-packages\\sklearn\\utils\\linear_assignment_.py:124: FutureWarning: The linear_assignment function is deprecated in 0.21 and will be removed from 0.23. Use scipy.optimize.linear_sum_assignment instead.\n",
            "  warnings.warn(\n"
          ]
        },
        {
          "name": "stdout",
          "output_type": "stream",
          "text": [
            "#Epoch  38: Total: 0.0272 Clustering Loss: 0.0128 Reconstruction Loss: 0.0144\n",
            "acc: 0.50601, nmi: 0.70968\n",
            "satisfied constraints: 1.00000\n",
            "#Epoch  39: Total: 0.0274 Clustering Loss: 0.0128 Reconstruction Loss: 0.0146\n",
            "acc: 0.50754, nmi: 0.71097\n",
            "satisfied constraints: 1.00000\n",
            "#Epoch  40: Total: 0.0276 Clustering Loss: 0.0128 Reconstruction Loss: 0.0148\n"
          ]
        },
        {
          "name": "stderr",
          "output_type": "stream",
          "text": [
            "c:\\Users\\japik\\anaconda3\\lib\\site-packages\\sklearn\\utils\\linear_assignment_.py:124: FutureWarning: The linear_assignment function is deprecated in 0.21 and will be removed from 0.23. Use scipy.optimize.linear_sum_assignment instead.\n",
            "  warnings.warn(\n",
            "c:\\Users\\japik\\anaconda3\\lib\\site-packages\\sklearn\\utils\\linear_assignment_.py:124: FutureWarning: The linear_assignment function is deprecated in 0.21 and will be removed from 0.23. Use scipy.optimize.linear_sum_assignment instead.\n",
            "  warnings.warn(\n",
            "c:\\Users\\japik\\anaconda3\\lib\\site-packages\\sklearn\\utils\\linear_assignment_.py:124: FutureWarning: The linear_assignment function is deprecated in 0.21 and will be removed from 0.23. Use scipy.optimize.linear_sum_assignment instead.\n",
            "  warnings.warn(\n",
            "c:\\Users\\japik\\anaconda3\\lib\\site-packages\\sklearn\\utils\\linear_assignment_.py:124: FutureWarning: The linear_assignment function is deprecated in 0.21 and will be removed from 0.23. Use scipy.optimize.linear_sum_assignment instead.\n",
            "  warnings.warn(\n"
          ]
        },
        {
          "name": "stdout",
          "output_type": "stream",
          "text": [
            "acc: 0.51194, nmi: 0.71299\n",
            "satisfied constraints: 1.00000\n",
            "#Epoch  41: Total: 0.0271 Clustering Loss: 0.0127 Reconstruction Loss: 0.0144\n",
            "acc: 0.51448, nmi: 0.71530\n",
            "satisfied constraints: 1.00000\n",
            "#Epoch  42: Total: 0.0262 Clustering Loss: 0.0125 Reconstruction Loss: 0.0137\n"
          ]
        },
        {
          "name": "stderr",
          "output_type": "stream",
          "text": [
            "c:\\Users\\japik\\anaconda3\\lib\\site-packages\\sklearn\\utils\\linear_assignment_.py:124: FutureWarning: The linear_assignment function is deprecated in 0.21 and will be removed from 0.23. Use scipy.optimize.linear_sum_assignment instead.\n",
            "  warnings.warn(\n",
            "c:\\Users\\japik\\anaconda3\\lib\\site-packages\\sklearn\\utils\\linear_assignment_.py:124: FutureWarning: The linear_assignment function is deprecated in 0.21 and will be removed from 0.23. Use scipy.optimize.linear_sum_assignment instead.\n",
            "  warnings.warn(\n",
            "c:\\Users\\japik\\anaconda3\\lib\\site-packages\\sklearn\\utils\\linear_assignment_.py:124: FutureWarning: The linear_assignment function is deprecated in 0.21 and will be removed from 0.23. Use scipy.optimize.linear_sum_assignment instead.\n",
            "  warnings.warn(\n",
            "c:\\Users\\japik\\anaconda3\\lib\\site-packages\\sklearn\\utils\\linear_assignment_.py:124: FutureWarning: The linear_assignment function is deprecated in 0.21 and will be removed from 0.23. Use scipy.optimize.linear_sum_assignment instead.\n",
            "  warnings.warn(\n"
          ]
        },
        {
          "name": "stdout",
          "output_type": "stream",
          "text": [
            "acc: 0.51533, nmi: 0.71605\n",
            "satisfied constraints: 1.00000\n",
            "#Epoch  43: Total: 0.0255 Clustering Loss: 0.0124 Reconstruction Loss: 0.0131\n",
            "acc: 0.51448, nmi: 0.71553\n",
            "satisfied constraints: 1.00000\n",
            "#Epoch  44: Total: 0.0250 Clustering Loss: 0.0123 Reconstruction Loss: 0.0126\n",
            "acc: 0.51380, nmi: 0.71555\n",
            "satisfied constraints: 1.00000\n"
          ]
        },
        {
          "name": "stderr",
          "output_type": "stream",
          "text": [
            "c:\\Users\\japik\\anaconda3\\lib\\site-packages\\sklearn\\utils\\linear_assignment_.py:124: FutureWarning: The linear_assignment function is deprecated in 0.21 and will be removed from 0.23. Use scipy.optimize.linear_sum_assignment instead.\n",
            "  warnings.warn(\n",
            "c:\\Users\\japik\\anaconda3\\lib\\site-packages\\sklearn\\utils\\linear_assignment_.py:124: FutureWarning: The linear_assignment function is deprecated in 0.21 and will be removed from 0.23. Use scipy.optimize.linear_sum_assignment instead.\n",
            "  warnings.warn(\n",
            "c:\\Users\\japik\\anaconda3\\lib\\site-packages\\sklearn\\utils\\linear_assignment_.py:124: FutureWarning: The linear_assignment function is deprecated in 0.21 and will be removed from 0.23. Use scipy.optimize.linear_sum_assignment instead.\n",
            "  warnings.warn(\n",
            "c:\\Users\\japik\\anaconda3\\lib\\site-packages\\sklearn\\utils\\linear_assignment_.py:124: FutureWarning: The linear_assignment function is deprecated in 0.21 and will be removed from 0.23. Use scipy.optimize.linear_sum_assignment instead.\n",
            "  warnings.warn(\n",
            "c:\\Users\\japik\\anaconda3\\lib\\site-packages\\sklearn\\utils\\linear_assignment_.py:124: FutureWarning: The linear_assignment function is deprecated in 0.21 and will be removed from 0.23. Use scipy.optimize.linear_sum_assignment instead.\n",
            "  warnings.warn(\n",
            "c:\\Users\\japik\\anaconda3\\lib\\site-packages\\sklearn\\utils\\linear_assignment_.py:124: FutureWarning: The linear_assignment function is deprecated in 0.21 and will be removed from 0.23. Use scipy.optimize.linear_sum_assignment instead.\n",
            "  warnings.warn(\n"
          ]
        },
        {
          "name": "stdout",
          "output_type": "stream",
          "text": [
            "#Epoch  45: Total: 0.0251 Clustering Loss: 0.0122 Reconstruction Loss: 0.0129\n",
            "acc: 0.51583, nmi: 0.71561\n",
            "satisfied constraints: 1.00000\n",
            "#Epoch  46: Total: 0.0245 Clustering Loss: 0.0121 Reconstruction Loss: 0.0124\n",
            "acc: 0.51583, nmi: 0.71614\n",
            "satisfied constraints: 1.00000\n",
            "#Epoch  47: Total: 0.0242 Clustering Loss: 0.0121 Reconstruction Loss: 0.0121\n"
          ]
        },
        {
          "name": "stderr",
          "output_type": "stream",
          "text": [
            "c:\\Users\\japik\\anaconda3\\lib\\site-packages\\sklearn\\utils\\linear_assignment_.py:124: FutureWarning: The linear_assignment function is deprecated in 0.21 and will be removed from 0.23. Use scipy.optimize.linear_sum_assignment instead.\n",
            "  warnings.warn(\n",
            "c:\\Users\\japik\\anaconda3\\lib\\site-packages\\sklearn\\utils\\linear_assignment_.py:124: FutureWarning: The linear_assignment function is deprecated in 0.21 and will be removed from 0.23. Use scipy.optimize.linear_sum_assignment instead.\n",
            "  warnings.warn(\n",
            "c:\\Users\\japik\\anaconda3\\lib\\site-packages\\sklearn\\utils\\linear_assignment_.py:124: FutureWarning: The linear_assignment function is deprecated in 0.21 and will be removed from 0.23. Use scipy.optimize.linear_sum_assignment instead.\n",
            "  warnings.warn(\n",
            "c:\\Users\\japik\\anaconda3\\lib\\site-packages\\sklearn\\utils\\linear_assignment_.py:124: FutureWarning: The linear_assignment function is deprecated in 0.21 and will be removed from 0.23. Use scipy.optimize.linear_sum_assignment instead.\n",
            "  warnings.warn(\n",
            "c:\\Users\\japik\\anaconda3\\lib\\site-packages\\sklearn\\utils\\linear_assignment_.py:124: FutureWarning: The linear_assignment function is deprecated in 0.21 and will be removed from 0.23. Use scipy.optimize.linear_sum_assignment instead.\n",
            "  warnings.warn(\n"
          ]
        },
        {
          "name": "stdout",
          "output_type": "stream",
          "text": [
            "acc: 0.51719, nmi: 0.71633\n",
            "satisfied constraints: 1.00000\n",
            "#Epoch  48: Total: 0.0240 Clustering Loss: 0.0120 Reconstruction Loss: 0.0120\n",
            "acc: 0.51770, nmi: 0.71743\n",
            "satisfied constraints: 1.00000\n",
            "#Epoch  49: Total: 0.0239 Clustering Loss: 0.0119 Reconstruction Loss: 0.0120\n"
          ]
        },
        {
          "name": "stderr",
          "output_type": "stream",
          "text": [
            "c:\\Users\\japik\\anaconda3\\lib\\site-packages\\sklearn\\utils\\linear_assignment_.py:124: FutureWarning: The linear_assignment function is deprecated in 0.21 and will be removed from 0.23. Use scipy.optimize.linear_sum_assignment instead.\n",
            "  warnings.warn(\n",
            "c:\\Users\\japik\\anaconda3\\lib\\site-packages\\sklearn\\utils\\linear_assignment_.py:124: FutureWarning: The linear_assignment function is deprecated in 0.21 and will be removed from 0.23. Use scipy.optimize.linear_sum_assignment instead.\n",
            "  warnings.warn(\n",
            "c:\\Users\\japik\\anaconda3\\lib\\site-packages\\sklearn\\utils\\linear_assignment_.py:124: FutureWarning: The linear_assignment function is deprecated in 0.21 and will be removed from 0.23. Use scipy.optimize.linear_sum_assignment instead.\n",
            "  warnings.warn(\n",
            "c:\\Users\\japik\\anaconda3\\lib\\site-packages\\sklearn\\utils\\linear_assignment_.py:124: FutureWarning: The linear_assignment function is deprecated in 0.21 and will be removed from 0.23. Use scipy.optimize.linear_sum_assignment instead.\n",
            "  warnings.warn(\n"
          ]
        },
        {
          "name": "stdout",
          "output_type": "stream",
          "text": [
            "acc: 0.51837, nmi: 0.71885\n",
            "satisfied constraints: 1.00000\n",
            "#Epoch  50: Total: 0.0238 Clustering Loss: 0.0119 Reconstruction Loss: 0.0119\n",
            "acc: 0.51770, nmi: 0.71865\n",
            "satisfied constraints: 1.00000\n",
            "#Epoch  51: Total: 0.0237 Clustering Loss: 0.0119 Reconstruction Loss: 0.0118\n"
          ]
        },
        {
          "name": "stderr",
          "output_type": "stream",
          "text": [
            "c:\\Users\\japik\\anaconda3\\lib\\site-packages\\sklearn\\utils\\linear_assignment_.py:124: FutureWarning: The linear_assignment function is deprecated in 0.21 and will be removed from 0.23. Use scipy.optimize.linear_sum_assignment instead.\n",
            "  warnings.warn(\n",
            "c:\\Users\\japik\\anaconda3\\lib\\site-packages\\sklearn\\utils\\linear_assignment_.py:124: FutureWarning: The linear_assignment function is deprecated in 0.21 and will be removed from 0.23. Use scipy.optimize.linear_sum_assignment instead.\n",
            "  warnings.warn(\n",
            "c:\\Users\\japik\\anaconda3\\lib\\site-packages\\sklearn\\utils\\linear_assignment_.py:124: FutureWarning: The linear_assignment function is deprecated in 0.21 and will be removed from 0.23. Use scipy.optimize.linear_sum_assignment instead.\n",
            "  warnings.warn(\n",
            "c:\\Users\\japik\\anaconda3\\lib\\site-packages\\sklearn\\utils\\linear_assignment_.py:124: FutureWarning: The linear_assignment function is deprecated in 0.21 and will be removed from 0.23. Use scipy.optimize.linear_sum_assignment instead.\n",
            "  warnings.warn(\n"
          ]
        },
        {
          "name": "stdout",
          "output_type": "stream",
          "text": [
            "acc: 0.51770, nmi: 0.71905\n",
            "satisfied constraints: 1.00000\n",
            "#Epoch  52: Total: 0.0237 Clustering Loss: 0.0119 Reconstruction Loss: 0.0118\n",
            "acc: 0.51736, nmi: 0.71973\n",
            "satisfied constraints: 1.00000\n",
            "#Epoch  53: Total: 0.0239 Clustering Loss: 0.0121 Reconstruction Loss: 0.0118\n"
          ]
        },
        {
          "name": "stderr",
          "output_type": "stream",
          "text": [
            "c:\\Users\\japik\\anaconda3\\lib\\site-packages\\sklearn\\utils\\linear_assignment_.py:124: FutureWarning: The linear_assignment function is deprecated in 0.21 and will be removed from 0.23. Use scipy.optimize.linear_sum_assignment instead.\n",
            "  warnings.warn(\n",
            "c:\\Users\\japik\\anaconda3\\lib\\site-packages\\sklearn\\utils\\linear_assignment_.py:124: FutureWarning: The linear_assignment function is deprecated in 0.21 and will be removed from 0.23. Use scipy.optimize.linear_sum_assignment instead.\n",
            "  warnings.warn(\n",
            "c:\\Users\\japik\\anaconda3\\lib\\site-packages\\sklearn\\utils\\linear_assignment_.py:124: FutureWarning: The linear_assignment function is deprecated in 0.21 and will be removed from 0.23. Use scipy.optimize.linear_sum_assignment instead.\n",
            "  warnings.warn(\n",
            "c:\\Users\\japik\\anaconda3\\lib\\site-packages\\sklearn\\utils\\linear_assignment_.py:124: FutureWarning: The linear_assignment function is deprecated in 0.21 and will be removed from 0.23. Use scipy.optimize.linear_sum_assignment instead.\n",
            "  warnings.warn(\n"
          ]
        },
        {
          "name": "stdout",
          "output_type": "stream",
          "text": [
            "acc: 0.51820, nmi: 0.72051\n",
            "satisfied constraints: 1.00000\n",
            "#Epoch  54: Total: 0.0243 Clustering Loss: 0.0121 Reconstruction Loss: 0.0122\n",
            "acc: 0.51787, nmi: 0.72155\n",
            "satisfied constraints: 1.00000\n",
            "#Epoch  55: Total: 0.0240 Clustering Loss: 0.0118 Reconstruction Loss: 0.0122\n"
          ]
        },
        {
          "name": "stderr",
          "output_type": "stream",
          "text": [
            "c:\\Users\\japik\\anaconda3\\lib\\site-packages\\sklearn\\utils\\linear_assignment_.py:124: FutureWarning: The linear_assignment function is deprecated in 0.21 and will be removed from 0.23. Use scipy.optimize.linear_sum_assignment instead.\n",
            "  warnings.warn(\n",
            "c:\\Users\\japik\\anaconda3\\lib\\site-packages\\sklearn\\utils\\linear_assignment_.py:124: FutureWarning: The linear_assignment function is deprecated in 0.21 and will be removed from 0.23. Use scipy.optimize.linear_sum_assignment instead.\n",
            "  warnings.warn(\n",
            "c:\\Users\\japik\\anaconda3\\lib\\site-packages\\sklearn\\utils\\linear_assignment_.py:124: FutureWarning: The linear_assignment function is deprecated in 0.21 and will be removed from 0.23. Use scipy.optimize.linear_sum_assignment instead.\n",
            "  warnings.warn(\n",
            "c:\\Users\\japik\\anaconda3\\lib\\site-packages\\sklearn\\utils\\linear_assignment_.py:124: FutureWarning: The linear_assignment function is deprecated in 0.21 and will be removed from 0.23. Use scipy.optimize.linear_sum_assignment instead.\n",
            "  warnings.warn(\n"
          ]
        },
        {
          "name": "stdout",
          "output_type": "stream",
          "text": [
            "acc: 0.51770, nmi: 0.72075\n",
            "satisfied constraints: 1.00000\n",
            "#Epoch  56: Total: 0.0234 Clustering Loss: 0.0115 Reconstruction Loss: 0.0119\n",
            "acc: 0.51905, nmi: 0.72244\n",
            "satisfied constraints: 1.00000\n",
            "#Epoch  57: Total: 0.0235 Clustering Loss: 0.0116 Reconstruction Loss: 0.0119\n"
          ]
        },
        {
          "name": "stderr",
          "output_type": "stream",
          "text": [
            "c:\\Users\\japik\\anaconda3\\lib\\site-packages\\sklearn\\utils\\linear_assignment_.py:124: FutureWarning: The linear_assignment function is deprecated in 0.21 and will be removed from 0.23. Use scipy.optimize.linear_sum_assignment instead.\n",
            "  warnings.warn(\n",
            "c:\\Users\\japik\\anaconda3\\lib\\site-packages\\sklearn\\utils\\linear_assignment_.py:124: FutureWarning: The linear_assignment function is deprecated in 0.21 and will be removed from 0.23. Use scipy.optimize.linear_sum_assignment instead.\n",
            "  warnings.warn(\n",
            "c:\\Users\\japik\\anaconda3\\lib\\site-packages\\sklearn\\utils\\linear_assignment_.py:124: FutureWarning: The linear_assignment function is deprecated in 0.21 and will be removed from 0.23. Use scipy.optimize.linear_sum_assignment instead.\n",
            "  warnings.warn(\n",
            "c:\\Users\\japik\\anaconda3\\lib\\site-packages\\sklearn\\utils\\linear_assignment_.py:124: FutureWarning: The linear_assignment function is deprecated in 0.21 and will be removed from 0.23. Use scipy.optimize.linear_sum_assignment instead.\n",
            "  warnings.warn(\n"
          ]
        },
        {
          "name": "stdout",
          "output_type": "stream",
          "text": [
            "acc: 0.51956, nmi: 0.72203\n",
            "satisfied constraints: 1.00000\n",
            "#Epoch  58: Total: 0.0236 Clustering Loss: 0.0117 Reconstruction Loss: 0.0119\n",
            "acc: 0.51854, nmi: 0.72230\n",
            "satisfied constraints: 1.00000\n",
            "#Epoch  59: Total: 0.0235 Clustering Loss: 0.0116 Reconstruction Loss: 0.0120\n"
          ]
        },
        {
          "name": "stderr",
          "output_type": "stream",
          "text": [
            "c:\\Users\\japik\\anaconda3\\lib\\site-packages\\sklearn\\utils\\linear_assignment_.py:124: FutureWarning: The linear_assignment function is deprecated in 0.21 and will be removed from 0.23. Use scipy.optimize.linear_sum_assignment instead.\n",
            "  warnings.warn(\n",
            "c:\\Users\\japik\\anaconda3\\lib\\site-packages\\sklearn\\utils\\linear_assignment_.py:124: FutureWarning: The linear_assignment function is deprecated in 0.21 and will be removed from 0.23. Use scipy.optimize.linear_sum_assignment instead.\n",
            "  warnings.warn(\n",
            "c:\\Users\\japik\\anaconda3\\lib\\site-packages\\sklearn\\utils\\linear_assignment_.py:124: FutureWarning: The linear_assignment function is deprecated in 0.21 and will be removed from 0.23. Use scipy.optimize.linear_sum_assignment instead.\n",
            "  warnings.warn(\n",
            "c:\\Users\\japik\\anaconda3\\lib\\site-packages\\sklearn\\utils\\linear_assignment_.py:124: FutureWarning: The linear_assignment function is deprecated in 0.21 and will be removed from 0.23. Use scipy.optimize.linear_sum_assignment instead.\n",
            "  warnings.warn(\n"
          ]
        },
        {
          "name": "stdout",
          "output_type": "stream",
          "text": [
            "acc: 0.51820, nmi: 0.72293\n",
            "satisfied constraints: 1.00000\n",
            "#Epoch  60: Total: 0.0236 Clustering Loss: 0.0116 Reconstruction Loss: 0.0120\n",
            "acc: 0.51719, nmi: 0.72267\n",
            "satisfied constraints: 1.00000\n",
            "#Epoch  61: Total: 0.0236 Clustering Loss: 0.0115 Reconstruction Loss: 0.0121\n"
          ]
        },
        {
          "name": "stderr",
          "output_type": "stream",
          "text": [
            "c:\\Users\\japik\\anaconda3\\lib\\site-packages\\sklearn\\utils\\linear_assignment_.py:124: FutureWarning: The linear_assignment function is deprecated in 0.21 and will be removed from 0.23. Use scipy.optimize.linear_sum_assignment instead.\n",
            "  warnings.warn(\n",
            "c:\\Users\\japik\\anaconda3\\lib\\site-packages\\sklearn\\utils\\linear_assignment_.py:124: FutureWarning: The linear_assignment function is deprecated in 0.21 and will be removed from 0.23. Use scipy.optimize.linear_sum_assignment instead.\n",
            "  warnings.warn(\n",
            "c:\\Users\\japik\\anaconda3\\lib\\site-packages\\sklearn\\utils\\linear_assignment_.py:124: FutureWarning: The linear_assignment function is deprecated in 0.21 and will be removed from 0.23. Use scipy.optimize.linear_sum_assignment instead.\n",
            "  warnings.warn(\n",
            "c:\\Users\\japik\\anaconda3\\lib\\site-packages\\sklearn\\utils\\linear_assignment_.py:124: FutureWarning: The linear_assignment function is deprecated in 0.21 and will be removed from 0.23. Use scipy.optimize.linear_sum_assignment instead.\n",
            "  warnings.warn(\n"
          ]
        },
        {
          "name": "stdout",
          "output_type": "stream",
          "text": [
            "acc: 0.51516, nmi: 0.72234\n",
            "satisfied constraints: 1.00000\n",
            "#Epoch  62: Total: 0.0231 Clustering Loss: 0.0112 Reconstruction Loss: 0.0119\n",
            "acc: 0.51482, nmi: 0.72178\n",
            "satisfied constraints: 1.00000\n",
            "#Epoch  63: Total: 0.0231 Clustering Loss: 0.0111 Reconstruction Loss: 0.0120\n"
          ]
        },
        {
          "name": "stderr",
          "output_type": "stream",
          "text": [
            "c:\\Users\\japik\\anaconda3\\lib\\site-packages\\sklearn\\utils\\linear_assignment_.py:124: FutureWarning: The linear_assignment function is deprecated in 0.21 and will be removed from 0.23. Use scipy.optimize.linear_sum_assignment instead.\n",
            "  warnings.warn(\n",
            "c:\\Users\\japik\\anaconda3\\lib\\site-packages\\sklearn\\utils\\linear_assignment_.py:124: FutureWarning: The linear_assignment function is deprecated in 0.21 and will be removed from 0.23. Use scipy.optimize.linear_sum_assignment instead.\n",
            "  warnings.warn(\n",
            "c:\\Users\\japik\\anaconda3\\lib\\site-packages\\sklearn\\utils\\linear_assignment_.py:124: FutureWarning: The linear_assignment function is deprecated in 0.21 and will be removed from 0.23. Use scipy.optimize.linear_sum_assignment instead.\n",
            "  warnings.warn(\n",
            "c:\\Users\\japik\\anaconda3\\lib\\site-packages\\sklearn\\utils\\linear_assignment_.py:124: FutureWarning: The linear_assignment function is deprecated in 0.21 and will be removed from 0.23. Use scipy.optimize.linear_sum_assignment instead.\n",
            "  warnings.warn(\n"
          ]
        },
        {
          "name": "stdout",
          "output_type": "stream",
          "text": [
            "acc: 0.51516, nmi: 0.72361\n",
            "satisfied constraints: 1.00000\n",
            "#Epoch  64: Total: 0.0232 Clustering Loss: 0.0112 Reconstruction Loss: 0.0120\n",
            "acc: 0.51329, nmi: 0.72411\n",
            "satisfied constraints: 1.00000\n",
            "#Epoch  65: Total: 0.0236 Clustering Loss: 0.0114 Reconstruction Loss: 0.0122\n"
          ]
        },
        {
          "name": "stderr",
          "output_type": "stream",
          "text": [
            "c:\\Users\\japik\\anaconda3\\lib\\site-packages\\sklearn\\utils\\linear_assignment_.py:124: FutureWarning: The linear_assignment function is deprecated in 0.21 and will be removed from 0.23. Use scipy.optimize.linear_sum_assignment instead.\n",
            "  warnings.warn(\n",
            "c:\\Users\\japik\\anaconda3\\lib\\site-packages\\sklearn\\utils\\linear_assignment_.py:124: FutureWarning: The linear_assignment function is deprecated in 0.21 and will be removed from 0.23. Use scipy.optimize.linear_sum_assignment instead.\n",
            "  warnings.warn(\n",
            "c:\\Users\\japik\\anaconda3\\lib\\site-packages\\sklearn\\utils\\linear_assignment_.py:124: FutureWarning: The linear_assignment function is deprecated in 0.21 and will be removed from 0.23. Use scipy.optimize.linear_sum_assignment instead.\n",
            "  warnings.warn(\n",
            "c:\\Users\\japik\\anaconda3\\lib\\site-packages\\sklearn\\utils\\linear_assignment_.py:124: FutureWarning: The linear_assignment function is deprecated in 0.21 and will be removed from 0.23. Use scipy.optimize.linear_sum_assignment instead.\n",
            "  warnings.warn(\n"
          ]
        },
        {
          "name": "stdout",
          "output_type": "stream",
          "text": [
            "acc: 0.50804, nmi: 0.72316\n",
            "satisfied constraints: 1.00000\n",
            "#Epoch  66: Total: 0.0250 Clustering Loss: 0.0120 Reconstruction Loss: 0.0130\n",
            "acc: 0.50771, nmi: 0.72358\n",
            "satisfied constraints: 1.00000\n",
            "#Epoch  67: Total: 0.0238 Clustering Loss: 0.0111 Reconstruction Loss: 0.0127\n"
          ]
        },
        {
          "name": "stderr",
          "output_type": "stream",
          "text": [
            "c:\\Users\\japik\\anaconda3\\lib\\site-packages\\sklearn\\utils\\linear_assignment_.py:124: FutureWarning: The linear_assignment function is deprecated in 0.21 and will be removed from 0.23. Use scipy.optimize.linear_sum_assignment instead.\n",
            "  warnings.warn(\n",
            "c:\\Users\\japik\\anaconda3\\lib\\site-packages\\sklearn\\utils\\linear_assignment_.py:124: FutureWarning: The linear_assignment function is deprecated in 0.21 and will be removed from 0.23. Use scipy.optimize.linear_sum_assignment instead.\n",
            "  warnings.warn(\n",
            "c:\\Users\\japik\\anaconda3\\lib\\site-packages\\sklearn\\utils\\linear_assignment_.py:124: FutureWarning: The linear_assignment function is deprecated in 0.21 and will be removed from 0.23. Use scipy.optimize.linear_sum_assignment instead.\n",
            "  warnings.warn(\n",
            "c:\\Users\\japik\\anaconda3\\lib\\site-packages\\sklearn\\utils\\linear_assignment_.py:124: FutureWarning: The linear_assignment function is deprecated in 0.21 and will be removed from 0.23. Use scipy.optimize.linear_sum_assignment instead.\n",
            "  warnings.warn(\n"
          ]
        },
        {
          "name": "stdout",
          "output_type": "stream",
          "text": [
            "acc: 0.51092, nmi: 0.72078\n",
            "satisfied constraints: 1.00000\n",
            "#Epoch  68: Total: 0.0241 Clustering Loss: 0.0114 Reconstruction Loss: 0.0128\n",
            "acc: 0.50940, nmi: 0.72117\n",
            "satisfied constraints: 1.00000\n",
            "#Epoch  69: Total: 0.0241 Clustering Loss: 0.0113 Reconstruction Loss: 0.0128\n"
          ]
        },
        {
          "name": "stderr",
          "output_type": "stream",
          "text": [
            "c:\\Users\\japik\\anaconda3\\lib\\site-packages\\sklearn\\utils\\linear_assignment_.py:124: FutureWarning: The linear_assignment function is deprecated in 0.21 and will be removed from 0.23. Use scipy.optimize.linear_sum_assignment instead.\n",
            "  warnings.warn(\n",
            "c:\\Users\\japik\\anaconda3\\lib\\site-packages\\sklearn\\utils\\linear_assignment_.py:124: FutureWarning: The linear_assignment function is deprecated in 0.21 and will be removed from 0.23. Use scipy.optimize.linear_sum_assignment instead.\n",
            "  warnings.warn(\n",
            "c:\\Users\\japik\\anaconda3\\lib\\site-packages\\sklearn\\utils\\linear_assignment_.py:124: FutureWarning: The linear_assignment function is deprecated in 0.21 and will be removed from 0.23. Use scipy.optimize.linear_sum_assignment instead.\n",
            "  warnings.warn(\n",
            "c:\\Users\\japik\\anaconda3\\lib\\site-packages\\sklearn\\utils\\linear_assignment_.py:124: FutureWarning: The linear_assignment function is deprecated in 0.21 and will be removed from 0.23. Use scipy.optimize.linear_sum_assignment instead.\n",
            "  warnings.warn(\n"
          ]
        },
        {
          "name": "stdout",
          "output_type": "stream",
          "text": [
            "acc: 0.50720, nmi: 0.72003\n",
            "satisfied constraints: 1.00000\n",
            "#Epoch  70: Total: 0.0232 Clustering Loss: 0.0108 Reconstruction Loss: 0.0123\n",
            "acc: 0.50855, nmi: 0.72079\n",
            "satisfied constraints: 1.00000\n",
            "#Epoch  71: Total: 0.0230 Clustering Loss: 0.0109 Reconstruction Loss: 0.0120\n"
          ]
        },
        {
          "name": "stderr",
          "output_type": "stream",
          "text": [
            "c:\\Users\\japik\\anaconda3\\lib\\site-packages\\sklearn\\utils\\linear_assignment_.py:124: FutureWarning: The linear_assignment function is deprecated in 0.21 and will be removed from 0.23. Use scipy.optimize.linear_sum_assignment instead.\n",
            "  warnings.warn(\n",
            "c:\\Users\\japik\\anaconda3\\lib\\site-packages\\sklearn\\utils\\linear_assignment_.py:124: FutureWarning: The linear_assignment function is deprecated in 0.21 and will be removed from 0.23. Use scipy.optimize.linear_sum_assignment instead.\n",
            "  warnings.warn(\n",
            "c:\\Users\\japik\\anaconda3\\lib\\site-packages\\sklearn\\utils\\linear_assignment_.py:124: FutureWarning: The linear_assignment function is deprecated in 0.21 and will be removed from 0.23. Use scipy.optimize.linear_sum_assignment instead.\n",
            "  warnings.warn(\n",
            "c:\\Users\\japik\\anaconda3\\lib\\site-packages\\sklearn\\utils\\linear_assignment_.py:124: FutureWarning: The linear_assignment function is deprecated in 0.21 and will be removed from 0.23. Use scipy.optimize.linear_sum_assignment instead.\n",
            "  warnings.warn(\n"
          ]
        },
        {
          "name": "stdout",
          "output_type": "stream",
          "text": [
            "acc: 0.50906, nmi: 0.72284\n",
            "satisfied constraints: 1.00000\n",
            "#Epoch  72: Total: 0.0225 Clustering Loss: 0.0107 Reconstruction Loss: 0.0118\n",
            "acc: 0.50804, nmi: 0.72217\n",
            "satisfied constraints: 1.00000\n",
            "#Epoch  73: Total: 0.0223 Clustering Loss: 0.0106 Reconstruction Loss: 0.0117\n",
            "acc: 0.50787, nmi: 0.72244\n",
            "satisfied constraints: 1.00000\n"
          ]
        },
        {
          "name": "stderr",
          "output_type": "stream",
          "text": [
            "c:\\Users\\japik\\anaconda3\\lib\\site-packages\\sklearn\\utils\\linear_assignment_.py:124: FutureWarning: The linear_assignment function is deprecated in 0.21 and will be removed from 0.23. Use scipy.optimize.linear_sum_assignment instead.\n",
            "  warnings.warn(\n",
            "c:\\Users\\japik\\anaconda3\\lib\\site-packages\\sklearn\\utils\\linear_assignment_.py:124: FutureWarning: The linear_assignment function is deprecated in 0.21 and will be removed from 0.23. Use scipy.optimize.linear_sum_assignment instead.\n",
            "  warnings.warn(\n",
            "c:\\Users\\japik\\anaconda3\\lib\\site-packages\\sklearn\\utils\\linear_assignment_.py:124: FutureWarning: The linear_assignment function is deprecated in 0.21 and will be removed from 0.23. Use scipy.optimize.linear_sum_assignment instead.\n",
            "  warnings.warn(\n",
            "c:\\Users\\japik\\anaconda3\\lib\\site-packages\\sklearn\\utils\\linear_assignment_.py:124: FutureWarning: The linear_assignment function is deprecated in 0.21 and will be removed from 0.23. Use scipy.optimize.linear_sum_assignment instead.\n",
            "  warnings.warn(\n"
          ]
        },
        {
          "name": "stdout",
          "output_type": "stream",
          "text": [
            "#Epoch  74: Total: 0.0222 Clustering Loss: 0.0106 Reconstruction Loss: 0.0116\n",
            "acc: 0.50771, nmi: 0.72216\n",
            "satisfied constraints: 1.00000\n",
            "#Epoch  75: Total: 0.0227 Clustering Loss: 0.0108 Reconstruction Loss: 0.0119\n",
            "acc: 0.50669, nmi: 0.72265\n",
            "satisfied constraints: 1.00000\n",
            "#Epoch  76: Total: 0.0234 Clustering Loss: 0.0112 Reconstruction Loss: 0.0122\n"
          ]
        },
        {
          "name": "stderr",
          "output_type": "stream",
          "text": [
            "c:\\Users\\japik\\anaconda3\\lib\\site-packages\\sklearn\\utils\\linear_assignment_.py:124: FutureWarning: The linear_assignment function is deprecated in 0.21 and will be removed from 0.23. Use scipy.optimize.linear_sum_assignment instead.\n",
            "  warnings.warn(\n",
            "c:\\Users\\japik\\anaconda3\\lib\\site-packages\\sklearn\\utils\\linear_assignment_.py:124: FutureWarning: The linear_assignment function is deprecated in 0.21 and will be removed from 0.23. Use scipy.optimize.linear_sum_assignment instead.\n",
            "  warnings.warn(\n",
            "c:\\Users\\japik\\anaconda3\\lib\\site-packages\\sklearn\\utils\\linear_assignment_.py:124: FutureWarning: The linear_assignment function is deprecated in 0.21 and will be removed from 0.23. Use scipy.optimize.linear_sum_assignment instead.\n",
            "  warnings.warn(\n",
            "c:\\Users\\japik\\anaconda3\\lib\\site-packages\\sklearn\\utils\\linear_assignment_.py:124: FutureWarning: The linear_assignment function is deprecated in 0.21 and will be removed from 0.23. Use scipy.optimize.linear_sum_assignment instead.\n",
            "  warnings.warn(\n"
          ]
        },
        {
          "name": "stdout",
          "output_type": "stream",
          "text": [
            "acc: 0.50787, nmi: 0.72204\n",
            "satisfied constraints: 1.00000\n",
            "#Epoch  77: Total: 0.0231 Clustering Loss: 0.0108 Reconstruction Loss: 0.0123\n",
            "acc: 0.50550, nmi: 0.72221\n",
            "satisfied constraints: 1.00000\n",
            "#Epoch  78: Total: 0.0233 Clustering Loss: 0.0107 Reconstruction Loss: 0.0126\n"
          ]
        },
        {
          "name": "stderr",
          "output_type": "stream",
          "text": [
            "c:\\Users\\japik\\anaconda3\\lib\\site-packages\\sklearn\\utils\\linear_assignment_.py:124: FutureWarning: The linear_assignment function is deprecated in 0.21 and will be removed from 0.23. Use scipy.optimize.linear_sum_assignment instead.\n",
            "  warnings.warn(\n",
            "c:\\Users\\japik\\anaconda3\\lib\\site-packages\\sklearn\\utils\\linear_assignment_.py:124: FutureWarning: The linear_assignment function is deprecated in 0.21 and will be removed from 0.23. Use scipy.optimize.linear_sum_assignment instead.\n",
            "  warnings.warn(\n",
            "c:\\Users\\japik\\anaconda3\\lib\\site-packages\\sklearn\\utils\\linear_assignment_.py:124: FutureWarning: The linear_assignment function is deprecated in 0.21 and will be removed from 0.23. Use scipy.optimize.linear_sum_assignment instead.\n",
            "  warnings.warn(\n",
            "c:\\Users\\japik\\anaconda3\\lib\\site-packages\\sklearn\\utils\\linear_assignment_.py:124: FutureWarning: The linear_assignment function is deprecated in 0.21 and will be removed from 0.23. Use scipy.optimize.linear_sum_assignment instead.\n",
            "  warnings.warn(\n"
          ]
        },
        {
          "name": "stdout",
          "output_type": "stream",
          "text": [
            "acc: 0.50601, nmi: 0.72168\n",
            "satisfied constraints: 1.00000\n",
            "#Epoch  79: Total: 0.0236 Clustering Loss: 0.0109 Reconstruction Loss: 0.0128\n",
            "acc: 0.50567, nmi: 0.72374\n",
            "satisfied constraints: 1.00000\n",
            "#Epoch  80: Total: 0.0232 Clustering Loss: 0.0107 Reconstruction Loss: 0.0126\n",
            "acc: 0.50618, nmi: 0.72325\n",
            "satisfied constraints: 1.00000\n"
          ]
        },
        {
          "name": "stderr",
          "output_type": "stream",
          "text": [
            "c:\\Users\\japik\\anaconda3\\lib\\site-packages\\sklearn\\utils\\linear_assignment_.py:124: FutureWarning: The linear_assignment function is deprecated in 0.21 and will be removed from 0.23. Use scipy.optimize.linear_sum_assignment instead.\n",
            "  warnings.warn(\n",
            "c:\\Users\\japik\\anaconda3\\lib\\site-packages\\sklearn\\utils\\linear_assignment_.py:124: FutureWarning: The linear_assignment function is deprecated in 0.21 and will be removed from 0.23. Use scipy.optimize.linear_sum_assignment instead.\n",
            "  warnings.warn(\n",
            "c:\\Users\\japik\\anaconda3\\lib\\site-packages\\sklearn\\utils\\linear_assignment_.py:124: FutureWarning: The linear_assignment function is deprecated in 0.21 and will be removed from 0.23. Use scipy.optimize.linear_sum_assignment instead.\n",
            "  warnings.warn(\n",
            "c:\\Users\\japik\\anaconda3\\lib\\site-packages\\sklearn\\utils\\linear_assignment_.py:124: FutureWarning: The linear_assignment function is deprecated in 0.21 and will be removed from 0.23. Use scipy.optimize.linear_sum_assignment instead.\n",
            "  warnings.warn(\n",
            "c:\\Users\\japik\\anaconda3\\lib\\site-packages\\sklearn\\utils\\linear_assignment_.py:124: FutureWarning: The linear_assignment function is deprecated in 0.21 and will be removed from 0.23. Use scipy.optimize.linear_sum_assignment instead.\n",
            "  warnings.warn(\n",
            "c:\\Users\\japik\\anaconda3\\lib\\site-packages\\sklearn\\utils\\linear_assignment_.py:124: FutureWarning: The linear_assignment function is deprecated in 0.21 and will be removed from 0.23. Use scipy.optimize.linear_sum_assignment instead.\n",
            "  warnings.warn(\n",
            "c:\\Users\\japik\\anaconda3\\lib\\site-packages\\sklearn\\utils\\linear_assignment_.py:124: FutureWarning: The linear_assignment function is deprecated in 0.21 and will be removed from 0.23. Use scipy.optimize.linear_sum_assignment instead.\n",
            "  warnings.warn(\n",
            "c:\\Users\\japik\\anaconda3\\lib\\site-packages\\sklearn\\utils\\linear_assignment_.py:124: FutureWarning: The linear_assignment function is deprecated in 0.21 and will be removed from 0.23. Use scipy.optimize.linear_sum_assignment instead.\n",
            "  warnings.warn(\n"
          ]
        },
        {
          "name": "stdout",
          "output_type": "stream",
          "text": [
            "#Epoch  81: Total: 0.0225 Clustering Loss: 0.0106 Reconstruction Loss: 0.0119\n",
            "acc: 0.50533, nmi: 0.72371\n",
            "satisfied constraints: 1.00000\n",
            "#Epoch  82: Total: 0.0225 Clustering Loss: 0.0104 Reconstruction Loss: 0.0121\n",
            "acc: 0.50415, nmi: 0.72378\n",
            "satisfied constraints: 1.00000\n",
            "#Epoch  83: Total: 0.0225 Clustering Loss: 0.0105 Reconstruction Loss: 0.0119\n"
          ]
        },
        {
          "name": "stderr",
          "output_type": "stream",
          "text": [
            "c:\\Users\\japik\\anaconda3\\lib\\site-packages\\sklearn\\utils\\linear_assignment_.py:124: FutureWarning: The linear_assignment function is deprecated in 0.21 and will be removed from 0.23. Use scipy.optimize.linear_sum_assignment instead.\n",
            "  warnings.warn(\n",
            "c:\\Users\\japik\\anaconda3\\lib\\site-packages\\sklearn\\utils\\linear_assignment_.py:124: FutureWarning: The linear_assignment function is deprecated in 0.21 and will be removed from 0.23. Use scipy.optimize.linear_sum_assignment instead.\n",
            "  warnings.warn(\n",
            "c:\\Users\\japik\\anaconda3\\lib\\site-packages\\sklearn\\utils\\linear_assignment_.py:124: FutureWarning: The linear_assignment function is deprecated in 0.21 and will be removed from 0.23. Use scipy.optimize.linear_sum_assignment instead.\n",
            "  warnings.warn(\n",
            "c:\\Users\\japik\\anaconda3\\lib\\site-packages\\sklearn\\utils\\linear_assignment_.py:124: FutureWarning: The linear_assignment function is deprecated in 0.21 and will be removed from 0.23. Use scipy.optimize.linear_sum_assignment instead.\n",
            "  warnings.warn(\n",
            "c:\\Users\\japik\\anaconda3\\lib\\site-packages\\sklearn\\utils\\linear_assignment_.py:124: FutureWarning: The linear_assignment function is deprecated in 0.21 and will be removed from 0.23. Use scipy.optimize.linear_sum_assignment instead.\n",
            "  warnings.warn(\n"
          ]
        },
        {
          "name": "stdout",
          "output_type": "stream",
          "text": [
            "acc: 0.50364, nmi: 0.72134\n",
            "satisfied constraints: 1.00000\n",
            "#Epoch  84: Total: 0.0236 Clustering Loss: 0.0112 Reconstruction Loss: 0.0124\n",
            "acc: 0.50364, nmi: 0.72241\n",
            "satisfied constraints: 1.00000\n",
            "#Epoch  85: Total: 0.0223 Clustering Loss: 0.0112 Reconstruction Loss: 0.0112\n"
          ]
        },
        {
          "name": "stderr",
          "output_type": "stream",
          "text": [
            "c:\\Users\\japik\\anaconda3\\lib\\site-packages\\sklearn\\utils\\linear_assignment_.py:124: FutureWarning: The linear_assignment function is deprecated in 0.21 and will be removed from 0.23. Use scipy.optimize.linear_sum_assignment instead.\n",
            "  warnings.warn(\n",
            "c:\\Users\\japik\\anaconda3\\lib\\site-packages\\sklearn\\utils\\linear_assignment_.py:124: FutureWarning: The linear_assignment function is deprecated in 0.21 and will be removed from 0.23. Use scipy.optimize.linear_sum_assignment instead.\n",
            "  warnings.warn(\n",
            "c:\\Users\\japik\\anaconda3\\lib\\site-packages\\sklearn\\utils\\linear_assignment_.py:124: FutureWarning: The linear_assignment function is deprecated in 0.21 and will be removed from 0.23. Use scipy.optimize.linear_sum_assignment instead.\n",
            "  warnings.warn(\n",
            "c:\\Users\\japik\\anaconda3\\lib\\site-packages\\sklearn\\utils\\linear_assignment_.py:124: FutureWarning: The linear_assignment function is deprecated in 0.21 and will be removed from 0.23. Use scipy.optimize.linear_sum_assignment instead.\n",
            "  warnings.warn(\n",
            "c:\\Users\\japik\\anaconda3\\lib\\site-packages\\sklearn\\utils\\linear_assignment_.py:124: FutureWarning: The linear_assignment function is deprecated in 0.21 and will be removed from 0.23. Use scipy.optimize.linear_sum_assignment instead.\n",
            "  warnings.warn(\n"
          ]
        },
        {
          "name": "stdout",
          "output_type": "stream",
          "text": [
            "acc: 0.50449, nmi: 0.72235\n",
            "satisfied constraints: 1.00000\n",
            "#Epoch  86: Total: 0.0214 Clustering Loss: 0.0105 Reconstruction Loss: 0.0109\n",
            "acc: 0.49941, nmi: 0.72043\n",
            "satisfied constraints: 1.00000\n",
            "#Epoch  87: Total: 0.0210 Clustering Loss: 0.0107 Reconstruction Loss: 0.0103\n",
            "acc: 0.50025, nmi: 0.72109\n",
            "satisfied constraints: 1.00000\n"
          ]
        },
        {
          "name": "stderr",
          "output_type": "stream",
          "text": [
            "c:\\Users\\japik\\anaconda3\\lib\\site-packages\\sklearn\\utils\\linear_assignment_.py:124: FutureWarning: The linear_assignment function is deprecated in 0.21 and will be removed from 0.23. Use scipy.optimize.linear_sum_assignment instead.\n",
            "  warnings.warn(\n",
            "c:\\Users\\japik\\anaconda3\\lib\\site-packages\\sklearn\\utils\\linear_assignment_.py:124: FutureWarning: The linear_assignment function is deprecated in 0.21 and will be removed from 0.23. Use scipy.optimize.linear_sum_assignment instead.\n",
            "  warnings.warn(\n",
            "c:\\Users\\japik\\anaconda3\\lib\\site-packages\\sklearn\\utils\\linear_assignment_.py:124: FutureWarning: The linear_assignment function is deprecated in 0.21 and will be removed from 0.23. Use scipy.optimize.linear_sum_assignment instead.\n",
            "  warnings.warn(\n",
            "c:\\Users\\japik\\anaconda3\\lib\\site-packages\\sklearn\\utils\\linear_assignment_.py:124: FutureWarning: The linear_assignment function is deprecated in 0.21 and will be removed from 0.23. Use scipy.optimize.linear_sum_assignment instead.\n",
            "  warnings.warn(\n",
            "c:\\Users\\japik\\anaconda3\\lib\\site-packages\\sklearn\\utils\\linear_assignment_.py:124: FutureWarning: The linear_assignment function is deprecated in 0.21 and will be removed from 0.23. Use scipy.optimize.linear_sum_assignment instead.\n",
            "  warnings.warn(\n"
          ]
        },
        {
          "name": "stdout",
          "output_type": "stream",
          "text": [
            "#Epoch  88: Total: 0.0215 Clustering Loss: 0.0102 Reconstruction Loss: 0.0113\n",
            "acc: 0.51041, nmi: 0.72167\n",
            "satisfied constraints: 1.00000\n",
            "#Epoch  89: Total: 0.0216 Clustering Loss: 0.0109 Reconstruction Loss: 0.0106\n",
            "acc: 0.51160, nmi: 0.72275\n",
            "satisfied constraints: 1.00000\n",
            "#Epoch  90: Total: 0.0200 Clustering Loss: 0.0098 Reconstruction Loss: 0.0101\n"
          ]
        },
        {
          "name": "stderr",
          "output_type": "stream",
          "text": [
            "c:\\Users\\japik\\anaconda3\\lib\\site-packages\\sklearn\\utils\\linear_assignment_.py:124: FutureWarning: The linear_assignment function is deprecated in 0.21 and will be removed from 0.23. Use scipy.optimize.linear_sum_assignment instead.\n",
            "  warnings.warn(\n",
            "c:\\Users\\japik\\anaconda3\\lib\\site-packages\\sklearn\\utils\\linear_assignment_.py:124: FutureWarning: The linear_assignment function is deprecated in 0.21 and will be removed from 0.23. Use scipy.optimize.linear_sum_assignment instead.\n",
            "  warnings.warn(\n",
            "c:\\Users\\japik\\anaconda3\\lib\\site-packages\\sklearn\\utils\\linear_assignment_.py:124: FutureWarning: The linear_assignment function is deprecated in 0.21 and will be removed from 0.23. Use scipy.optimize.linear_sum_assignment instead.\n",
            "  warnings.warn(\n",
            "c:\\Users\\japik\\anaconda3\\lib\\site-packages\\sklearn\\utils\\linear_assignment_.py:124: FutureWarning: The linear_assignment function is deprecated in 0.21 and will be removed from 0.23. Use scipy.optimize.linear_sum_assignment instead.\n",
            "  warnings.warn(\n"
          ]
        },
        {
          "name": "stdout",
          "output_type": "stream",
          "text": [
            "acc: 0.51194, nmi: 0.72213\n",
            "satisfied constraints: 1.00000\n",
            "#Epoch  91: Total: 0.0195 Clustering Loss: 0.0098 Reconstruction Loss: 0.0097\n",
            "acc: 0.51143, nmi: 0.72348\n",
            "satisfied constraints: 1.00000\n",
            "#Epoch  92: Total: 0.0198 Clustering Loss: 0.0099 Reconstruction Loss: 0.0099\n"
          ]
        },
        {
          "name": "stderr",
          "output_type": "stream",
          "text": [
            "c:\\Users\\japik\\anaconda3\\lib\\site-packages\\sklearn\\utils\\linear_assignment_.py:124: FutureWarning: The linear_assignment function is deprecated in 0.21 and will be removed from 0.23. Use scipy.optimize.linear_sum_assignment instead.\n",
            "  warnings.warn(\n",
            "c:\\Users\\japik\\anaconda3\\lib\\site-packages\\sklearn\\utils\\linear_assignment_.py:124: FutureWarning: The linear_assignment function is deprecated in 0.21 and will be removed from 0.23. Use scipy.optimize.linear_sum_assignment instead.\n",
            "  warnings.warn(\n",
            "c:\\Users\\japik\\anaconda3\\lib\\site-packages\\sklearn\\utils\\linear_assignment_.py:124: FutureWarning: The linear_assignment function is deprecated in 0.21 and will be removed from 0.23. Use scipy.optimize.linear_sum_assignment instead.\n",
            "  warnings.warn(\n",
            "c:\\Users\\japik\\anaconda3\\lib\\site-packages\\sklearn\\utils\\linear_assignment_.py:124: FutureWarning: The linear_assignment function is deprecated in 0.21 and will be removed from 0.23. Use scipy.optimize.linear_sum_assignment instead.\n",
            "  warnings.warn(\n",
            "c:\\Users\\japik\\anaconda3\\lib\\site-packages\\sklearn\\utils\\linear_assignment_.py:124: FutureWarning: The linear_assignment function is deprecated in 0.21 and will be removed from 0.23. Use scipy.optimize.linear_sum_assignment instead.\n",
            "  warnings.warn(\n"
          ]
        },
        {
          "name": "stdout",
          "output_type": "stream",
          "text": [
            "acc: 0.50991, nmi: 0.72190\n",
            "satisfied constraints: 1.00000\n",
            "#Epoch  93: Total: 0.0180 Clustering Loss: 0.0098 Reconstruction Loss: 0.0082\n",
            "acc: 0.51008, nmi: 0.72172\n",
            "satisfied constraints: 1.00000\n",
            "#Epoch  94: Total: 0.0245 Clustering Loss: 0.0103 Reconstruction Loss: 0.0142\n",
            "acc: 0.50466, nmi: 0.72141\n",
            "satisfied constraints: 1.00000\n",
            "#Epoch  95: Total: 0.0272 Clustering Loss: 0.0104 Reconstruction Loss: 0.0167\n",
            "acc: 0.50178, nmi: 0.72162\n",
            "satisfied constraints: 1.00000\n",
            "#Epoch  96: Total: 0.0244 Clustering Loss: 0.0116 Reconstruction Loss: 0.0128\n"
          ]
        },
        {
          "name": "stderr",
          "output_type": "stream",
          "text": [
            "c:\\Users\\japik\\anaconda3\\lib\\site-packages\\sklearn\\utils\\linear_assignment_.py:124: FutureWarning: The linear_assignment function is deprecated in 0.21 and will be removed from 0.23. Use scipy.optimize.linear_sum_assignment instead.\n",
            "  warnings.warn(\n",
            "c:\\Users\\japik\\anaconda3\\lib\\site-packages\\sklearn\\utils\\linear_assignment_.py:124: FutureWarning: The linear_assignment function is deprecated in 0.21 and will be removed from 0.23. Use scipy.optimize.linear_sum_assignment instead.\n",
            "  warnings.warn(\n",
            "c:\\Users\\japik\\anaconda3\\lib\\site-packages\\sklearn\\utils\\linear_assignment_.py:124: FutureWarning: The linear_assignment function is deprecated in 0.21 and will be removed from 0.23. Use scipy.optimize.linear_sum_assignment instead.\n",
            "  warnings.warn(\n",
            "c:\\Users\\japik\\anaconda3\\lib\\site-packages\\sklearn\\utils\\linear_assignment_.py:124: FutureWarning: The linear_assignment function is deprecated in 0.21 and will be removed from 0.23. Use scipy.optimize.linear_sum_assignment instead.\n",
            "  warnings.warn(\n"
          ]
        },
        {
          "name": "stdout",
          "output_type": "stream",
          "text": [
            "acc: 0.50246, nmi: 0.71759\n",
            "satisfied constraints: 1.00000\n",
            "#Epoch  97: Total: 0.0277 Clustering Loss: 0.0130 Reconstruction Loss: 0.0147\n",
            "acc: 0.50246, nmi: 0.71426\n",
            "satisfied constraints: 1.00000\n",
            "#Epoch  98: Total: 0.0235 Clustering Loss: 0.0117 Reconstruction Loss: 0.0118\n",
            "acc: 0.50093, nmi: 0.71514\n",
            "satisfied constraints: 1.00000\n"
          ]
        },
        {
          "name": "stderr",
          "output_type": "stream",
          "text": [
            "c:\\Users\\japik\\anaconda3\\lib\\site-packages\\sklearn\\utils\\linear_assignment_.py:124: FutureWarning: The linear_assignment function is deprecated in 0.21 and will be removed from 0.23. Use scipy.optimize.linear_sum_assignment instead.\n",
            "  warnings.warn(\n",
            "c:\\Users\\japik\\anaconda3\\lib\\site-packages\\sklearn\\utils\\linear_assignment_.py:124: FutureWarning: The linear_assignment function is deprecated in 0.21 and will be removed from 0.23. Use scipy.optimize.linear_sum_assignment instead.\n",
            "  warnings.warn(\n",
            "c:\\Users\\japik\\anaconda3\\lib\\site-packages\\sklearn\\utils\\linear_assignment_.py:124: FutureWarning: The linear_assignment function is deprecated in 0.21 and will be removed from 0.23. Use scipy.optimize.linear_sum_assignment instead.\n",
            "  warnings.warn(\n",
            "c:\\Users\\japik\\anaconda3\\lib\\site-packages\\sklearn\\utils\\linear_assignment_.py:124: FutureWarning: The linear_assignment function is deprecated in 0.21 and will be removed from 0.23. Use scipy.optimize.linear_sum_assignment instead.\n",
            "  warnings.warn(\n",
            "c:\\Users\\japik\\anaconda3\\lib\\site-packages\\sklearn\\utils\\linear_assignment_.py:124: FutureWarning: The linear_assignment function is deprecated in 0.21 and will be removed from 0.23. Use scipy.optimize.linear_sum_assignment instead.\n",
            "  warnings.warn(\n",
            "c:\\Users\\japik\\anaconda3\\lib\\site-packages\\sklearn\\utils\\linear_assignment_.py:124: FutureWarning: The linear_assignment function is deprecated in 0.21 and will be removed from 0.23. Use scipy.optimize.linear_sum_assignment instead.\n",
            "  warnings.warn(\n",
            "c:\\Users\\japik\\anaconda3\\lib\\site-packages\\sklearn\\utils\\linear_assignment_.py:124: FutureWarning: The linear_assignment function is deprecated in 0.21 and will be removed from 0.23. Use scipy.optimize.linear_sum_assignment instead.\n",
            "  warnings.warn(\n",
            "c:\\Users\\japik\\anaconda3\\lib\\site-packages\\sklearn\\utils\\linear_assignment_.py:124: FutureWarning: The linear_assignment function is deprecated in 0.21 and will be removed from 0.23. Use scipy.optimize.linear_sum_assignment instead.\n",
            "  warnings.warn(\n",
            "c:\\Users\\japik\\anaconda3\\lib\\site-packages\\sklearn\\utils\\linear_assignment_.py:124: FutureWarning: The linear_assignment function is deprecated in 0.21 and will be removed from 0.23. Use scipy.optimize.linear_sum_assignment instead.\n",
            "  warnings.warn(\n"
          ]
        },
        {
          "name": "stdout",
          "output_type": "stream",
          "text": [
            "#Epoch  99: Total: 0.0200 Clustering Loss: 0.0101 Reconstruction Loss: 0.0098\n",
            "acc: 0.50008, nmi: 0.71652\n",
            "satisfied constraints: 1.00000\n",
            "#Epoch 100: Total: 0.0178 Clustering Loss: 0.0100 Reconstruction Loss: 0.0078\n",
            "acc: 0.49822, nmi: 0.71552\n",
            "satisfied constraints: 1.00000\n",
            "#Epoch 101: Total: 0.0178 Clustering Loss: 0.0098 Reconstruction Loss: 0.0081\n"
          ]
        },
        {
          "name": "stderr",
          "output_type": "stream",
          "text": [
            "c:\\Users\\japik\\anaconda3\\lib\\site-packages\\sklearn\\utils\\linear_assignment_.py:124: FutureWarning: The linear_assignment function is deprecated in 0.21 and will be removed from 0.23. Use scipy.optimize.linear_sum_assignment instead.\n",
            "  warnings.warn(\n",
            "c:\\Users\\japik\\anaconda3\\lib\\site-packages\\sklearn\\utils\\linear_assignment_.py:124: FutureWarning: The linear_assignment function is deprecated in 0.21 and will be removed from 0.23. Use scipy.optimize.linear_sum_assignment instead.\n",
            "  warnings.warn(\n",
            "c:\\Users\\japik\\anaconda3\\lib\\site-packages\\sklearn\\utils\\linear_assignment_.py:124: FutureWarning: The linear_assignment function is deprecated in 0.21 and will be removed from 0.23. Use scipy.optimize.linear_sum_assignment instead.\n",
            "  warnings.warn(\n",
            "c:\\Users\\japik\\anaconda3\\lib\\site-packages\\sklearn\\utils\\linear_assignment_.py:124: FutureWarning: The linear_assignment function is deprecated in 0.21 and will be removed from 0.23. Use scipy.optimize.linear_sum_assignment instead.\n",
            "  warnings.warn(\n",
            "c:\\Users\\japik\\anaconda3\\lib\\site-packages\\sklearn\\utils\\linear_assignment_.py:124: FutureWarning: The linear_assignment function is deprecated in 0.21 and will be removed from 0.23. Use scipy.optimize.linear_sum_assignment instead.\n",
            "  warnings.warn(\n"
          ]
        },
        {
          "name": "stdout",
          "output_type": "stream",
          "text": [
            "acc: 0.49568, nmi: 0.71471\n",
            "satisfied constraints: 1.00000\n",
            "#Epoch 102: Total: 0.0184 Clustering Loss: 0.0099 Reconstruction Loss: 0.0084\n",
            "acc: 0.49738, nmi: 0.71719\n",
            "satisfied constraints: 1.00000\n",
            "#Epoch 103: Total: 0.0174 Clustering Loss: 0.0098 Reconstruction Loss: 0.0077\n",
            "acc: 0.49517, nmi: 0.71579\n",
            "satisfied constraints: 1.00000\n",
            "#Epoch 104: Total: 0.0170 Clustering Loss: 0.0100 Reconstruction Loss: 0.0070\n",
            "acc: 0.49534, nmi: 0.71485\n",
            "satisfied constraints: 1.00000\n",
            "#Epoch 105: Total: 0.0171 Clustering Loss: 0.0101 Reconstruction Loss: 0.0069\n"
          ]
        },
        {
          "name": "stderr",
          "output_type": "stream",
          "text": [
            "c:\\Users\\japik\\anaconda3\\lib\\site-packages\\sklearn\\utils\\linear_assignment_.py:124: FutureWarning: The linear_assignment function is deprecated in 0.21 and will be removed from 0.23. Use scipy.optimize.linear_sum_assignment instead.\n",
            "  warnings.warn(\n",
            "c:\\Users\\japik\\anaconda3\\lib\\site-packages\\sklearn\\utils\\linear_assignment_.py:124: FutureWarning: The linear_assignment function is deprecated in 0.21 and will be removed from 0.23. Use scipy.optimize.linear_sum_assignment instead.\n",
            "  warnings.warn(\n",
            "c:\\Users\\japik\\anaconda3\\lib\\site-packages\\sklearn\\utils\\linear_assignment_.py:124: FutureWarning: The linear_assignment function is deprecated in 0.21 and will be removed from 0.23. Use scipy.optimize.linear_sum_assignment instead.\n",
            "  warnings.warn(\n",
            "c:\\Users\\japik\\anaconda3\\lib\\site-packages\\sklearn\\utils\\linear_assignment_.py:124: FutureWarning: The linear_assignment function is deprecated in 0.21 and will be removed from 0.23. Use scipy.optimize.linear_sum_assignment instead.\n",
            "  warnings.warn(\n"
          ]
        },
        {
          "name": "stdout",
          "output_type": "stream",
          "text": [
            "acc: 0.49636, nmi: 0.71433\n",
            "satisfied constraints: 1.00000\n",
            "#Epoch 106: Total: 0.0172 Clustering Loss: 0.0105 Reconstruction Loss: 0.0067\n",
            "acc: 0.49754, nmi: 0.71443\n",
            "satisfied constraints: 1.00000\n",
            "#Epoch 107: Total: 0.0171 Clustering Loss: 0.0103 Reconstruction Loss: 0.0068\n"
          ]
        },
        {
          "name": "stderr",
          "output_type": "stream",
          "text": [
            "c:\\Users\\japik\\anaconda3\\lib\\site-packages\\sklearn\\utils\\linear_assignment_.py:124: FutureWarning: The linear_assignment function is deprecated in 0.21 and will be removed from 0.23. Use scipy.optimize.linear_sum_assignment instead.\n",
            "  warnings.warn(\n",
            "c:\\Users\\japik\\anaconda3\\lib\\site-packages\\sklearn\\utils\\linear_assignment_.py:124: FutureWarning: The linear_assignment function is deprecated in 0.21 and will be removed from 0.23. Use scipy.optimize.linear_sum_assignment instead.\n",
            "  warnings.warn(\n",
            "c:\\Users\\japik\\anaconda3\\lib\\site-packages\\sklearn\\utils\\linear_assignment_.py:124: FutureWarning: The linear_assignment function is deprecated in 0.21 and will be removed from 0.23. Use scipy.optimize.linear_sum_assignment instead.\n",
            "  warnings.warn(\n",
            "c:\\Users\\japik\\anaconda3\\lib\\site-packages\\sklearn\\utils\\linear_assignment_.py:124: FutureWarning: The linear_assignment function is deprecated in 0.21 and will be removed from 0.23. Use scipy.optimize.linear_sum_assignment instead.\n",
            "  warnings.warn(\n"
          ]
        },
        {
          "name": "stdout",
          "output_type": "stream",
          "text": [
            "acc: 0.49517, nmi: 0.71485\n",
            "satisfied constraints: 1.00000\n",
            "#Epoch 108: Total: 0.0167 Clustering Loss: 0.0099 Reconstruction Loss: 0.0068\n",
            "acc: 0.49653, nmi: 0.71541\n",
            "satisfied constraints: 1.00000\n",
            "#Epoch 109: Total: 0.0168 Clustering Loss: 0.0098 Reconstruction Loss: 0.0070\n"
          ]
        },
        {
          "name": "stderr",
          "output_type": "stream",
          "text": [
            "c:\\Users\\japik\\anaconda3\\lib\\site-packages\\sklearn\\utils\\linear_assignment_.py:124: FutureWarning: The linear_assignment function is deprecated in 0.21 and will be removed from 0.23. Use scipy.optimize.linear_sum_assignment instead.\n",
            "  warnings.warn(\n",
            "c:\\Users\\japik\\anaconda3\\lib\\site-packages\\sklearn\\utils\\linear_assignment_.py:124: FutureWarning: The linear_assignment function is deprecated in 0.21 and will be removed from 0.23. Use scipy.optimize.linear_sum_assignment instead.\n",
            "  warnings.warn(\n",
            "c:\\Users\\japik\\anaconda3\\lib\\site-packages\\sklearn\\utils\\linear_assignment_.py:124: FutureWarning: The linear_assignment function is deprecated in 0.21 and will be removed from 0.23. Use scipy.optimize.linear_sum_assignment instead.\n",
            "  warnings.warn(\n",
            "c:\\Users\\japik\\anaconda3\\lib\\site-packages\\sklearn\\utils\\linear_assignment_.py:124: FutureWarning: The linear_assignment function is deprecated in 0.21 and will be removed from 0.23. Use scipy.optimize.linear_sum_assignment instead.\n",
            "  warnings.warn(\n"
          ]
        },
        {
          "name": "stdout",
          "output_type": "stream",
          "text": [
            "acc: 0.49924, nmi: 0.71638\n",
            "satisfied constraints: 1.00000\n",
            "#Epoch 110: Total: 0.0161 Clustering Loss: 0.0096 Reconstruction Loss: 0.0066\n",
            "acc: 0.50042, nmi: 0.71594\n",
            "satisfied constraints: 1.00000\n",
            "#Epoch 111: Total: 0.0160 Clustering Loss: 0.0096 Reconstruction Loss: 0.0065\n",
            "acc: 0.50279, nmi: 0.71664\n",
            "satisfied constraints: 1.00000\n"
          ]
        },
        {
          "name": "stderr",
          "output_type": "stream",
          "text": [
            "c:\\Users\\japik\\anaconda3\\lib\\site-packages\\sklearn\\utils\\linear_assignment_.py:124: FutureWarning: The linear_assignment function is deprecated in 0.21 and will be removed from 0.23. Use scipy.optimize.linear_sum_assignment instead.\n",
            "  warnings.warn(\n",
            "c:\\Users\\japik\\anaconda3\\lib\\site-packages\\sklearn\\utils\\linear_assignment_.py:124: FutureWarning: The linear_assignment function is deprecated in 0.21 and will be removed from 0.23. Use scipy.optimize.linear_sum_assignment instead.\n",
            "  warnings.warn(\n",
            "c:\\Users\\japik\\anaconda3\\lib\\site-packages\\sklearn\\utils\\linear_assignment_.py:124: FutureWarning: The linear_assignment function is deprecated in 0.21 and will be removed from 0.23. Use scipy.optimize.linear_sum_assignment instead.\n",
            "  warnings.warn(\n",
            "c:\\Users\\japik\\anaconda3\\lib\\site-packages\\sklearn\\utils\\linear_assignment_.py:124: FutureWarning: The linear_assignment function is deprecated in 0.21 and will be removed from 0.23. Use scipy.optimize.linear_sum_assignment instead.\n",
            "  warnings.warn(\n",
            "c:\\Users\\japik\\anaconda3\\lib\\site-packages\\sklearn\\utils\\linear_assignment_.py:124: FutureWarning: The linear_assignment function is deprecated in 0.21 and will be removed from 0.23. Use scipy.optimize.linear_sum_assignment instead.\n",
            "  warnings.warn(\n",
            "c:\\Users\\japik\\anaconda3\\lib\\site-packages\\sklearn\\utils\\linear_assignment_.py:124: FutureWarning: The linear_assignment function is deprecated in 0.21 and will be removed from 0.23. Use scipy.optimize.linear_sum_assignment instead.\n",
            "  warnings.warn(\n",
            "c:\\Users\\japik\\anaconda3\\lib\\site-packages\\sklearn\\utils\\linear_assignment_.py:124: FutureWarning: The linear_assignment function is deprecated in 0.21 and will be removed from 0.23. Use scipy.optimize.linear_sum_assignment instead.\n",
            "  warnings.warn(\n",
            "c:\\Users\\japik\\anaconda3\\lib\\site-packages\\sklearn\\utils\\linear_assignment_.py:124: FutureWarning: The linear_assignment function is deprecated in 0.21 and will be removed from 0.23. Use scipy.optimize.linear_sum_assignment instead.\n",
            "  warnings.warn(\n"
          ]
        },
        {
          "name": "stdout",
          "output_type": "stream",
          "text": [
            "#Epoch 112: Total: 0.0158 Clustering Loss: 0.0094 Reconstruction Loss: 0.0063\n",
            "acc: 0.50212, nmi: 0.71481\n",
            "satisfied constraints: 1.00000\n",
            "#Epoch 113: Total: 0.0159 Clustering Loss: 0.0096 Reconstruction Loss: 0.0063\n",
            "acc: 0.50432, nmi: 0.71553\n",
            "satisfied constraints: 1.00000\n",
            "#Epoch 114: Total: 0.0161 Clustering Loss: 0.0096 Reconstruction Loss: 0.0064\n"
          ]
        },
        {
          "name": "stderr",
          "output_type": "stream",
          "text": [
            "c:\\Users\\japik\\anaconda3\\lib\\site-packages\\sklearn\\utils\\linear_assignment_.py:124: FutureWarning: The linear_assignment function is deprecated in 0.21 and will be removed from 0.23. Use scipy.optimize.linear_sum_assignment instead.\n",
            "  warnings.warn(\n",
            "c:\\Users\\japik\\anaconda3\\lib\\site-packages\\sklearn\\utils\\linear_assignment_.py:124: FutureWarning: The linear_assignment function is deprecated in 0.21 and will be removed from 0.23. Use scipy.optimize.linear_sum_assignment instead.\n",
            "  warnings.warn(\n",
            "c:\\Users\\japik\\anaconda3\\lib\\site-packages\\sklearn\\utils\\linear_assignment_.py:124: FutureWarning: The linear_assignment function is deprecated in 0.21 and will be removed from 0.23. Use scipy.optimize.linear_sum_assignment instead.\n",
            "  warnings.warn(\n",
            "c:\\Users\\japik\\anaconda3\\lib\\site-packages\\sklearn\\utils\\linear_assignment_.py:124: FutureWarning: The linear_assignment function is deprecated in 0.21 and will be removed from 0.23. Use scipy.optimize.linear_sum_assignment instead.\n",
            "  warnings.warn(\n",
            "c:\\Users\\japik\\anaconda3\\lib\\site-packages\\sklearn\\utils\\linear_assignment_.py:124: FutureWarning: The linear_assignment function is deprecated in 0.21 and will be removed from 0.23. Use scipy.optimize.linear_sum_assignment instead.\n",
            "  warnings.warn(\n"
          ]
        },
        {
          "name": "stdout",
          "output_type": "stream",
          "text": [
            "acc: 0.50500, nmi: 0.71525\n",
            "satisfied constraints: 1.00000\n",
            "#Epoch 115: Total: 0.0160 Clustering Loss: 0.0097 Reconstruction Loss: 0.0063\n",
            "acc: 0.50567, nmi: 0.71469\n",
            "satisfied constraints: 1.00000\n",
            "#Epoch 116: Total: 0.0162 Clustering Loss: 0.0098 Reconstruction Loss: 0.0064\n",
            "acc: 0.50584, nmi: 0.71419\n",
            "satisfied constraints: 1.00000\n"
          ]
        },
        {
          "name": "stderr",
          "output_type": "stream",
          "text": [
            "c:\\Users\\japik\\anaconda3\\lib\\site-packages\\sklearn\\utils\\linear_assignment_.py:124: FutureWarning: The linear_assignment function is deprecated in 0.21 and will be removed from 0.23. Use scipy.optimize.linear_sum_assignment instead.\n",
            "  warnings.warn(\n",
            "c:\\Users\\japik\\anaconda3\\lib\\site-packages\\sklearn\\utils\\linear_assignment_.py:124: FutureWarning: The linear_assignment function is deprecated in 0.21 and will be removed from 0.23. Use scipy.optimize.linear_sum_assignment instead.\n",
            "  warnings.warn(\n",
            "c:\\Users\\japik\\anaconda3\\lib\\site-packages\\sklearn\\utils\\linear_assignment_.py:124: FutureWarning: The linear_assignment function is deprecated in 0.21 and will be removed from 0.23. Use scipy.optimize.linear_sum_assignment instead.\n",
            "  warnings.warn(\n",
            "c:\\Users\\japik\\anaconda3\\lib\\site-packages\\sklearn\\utils\\linear_assignment_.py:124: FutureWarning: The linear_assignment function is deprecated in 0.21 and will be removed from 0.23. Use scipy.optimize.linear_sum_assignment instead.\n",
            "  warnings.warn(\n"
          ]
        },
        {
          "name": "stdout",
          "output_type": "stream",
          "text": [
            "#Epoch 117: Total: 0.0161 Clustering Loss: 0.0097 Reconstruction Loss: 0.0064\n",
            "acc: 0.50584, nmi: 0.71431\n",
            "satisfied constraints: 1.00000\n",
            "#Epoch 118: Total: 0.0154 Clustering Loss: 0.0094 Reconstruction Loss: 0.0059\n",
            "acc: 0.50804, nmi: 0.71510\n",
            "satisfied constraints: 1.00000\n",
            "#Epoch 119: Total: 0.0156 Clustering Loss: 0.0094 Reconstruction Loss: 0.0061\n"
          ]
        },
        {
          "name": "stderr",
          "output_type": "stream",
          "text": [
            "c:\\Users\\japik\\anaconda3\\lib\\site-packages\\sklearn\\utils\\linear_assignment_.py:124: FutureWarning: The linear_assignment function is deprecated in 0.21 and will be removed from 0.23. Use scipy.optimize.linear_sum_assignment instead.\n",
            "  warnings.warn(\n",
            "c:\\Users\\japik\\anaconda3\\lib\\site-packages\\sklearn\\utils\\linear_assignment_.py:124: FutureWarning: The linear_assignment function is deprecated in 0.21 and will be removed from 0.23. Use scipy.optimize.linear_sum_assignment instead.\n",
            "  warnings.warn(\n",
            "c:\\Users\\japik\\anaconda3\\lib\\site-packages\\sklearn\\utils\\linear_assignment_.py:124: FutureWarning: The linear_assignment function is deprecated in 0.21 and will be removed from 0.23. Use scipy.optimize.linear_sum_assignment instead.\n",
            "  warnings.warn(\n",
            "c:\\Users\\japik\\anaconda3\\lib\\site-packages\\sklearn\\utils\\linear_assignment_.py:124: FutureWarning: The linear_assignment function is deprecated in 0.21 and will be removed from 0.23. Use scipy.optimize.linear_sum_assignment instead.\n",
            "  warnings.warn(\n",
            "c:\\Users\\japik\\anaconda3\\lib\\site-packages\\sklearn\\utils\\linear_assignment_.py:124: FutureWarning: The linear_assignment function is deprecated in 0.21 and will be removed from 0.23. Use scipy.optimize.linear_sum_assignment instead.\n",
            "  warnings.warn(\n"
          ]
        },
        {
          "name": "stdout",
          "output_type": "stream",
          "text": [
            "acc: 0.50838, nmi: 0.71539\n",
            "satisfied constraints: 1.00000\n",
            "#Epoch 120: Total: 0.0158 Clustering Loss: 0.0093 Reconstruction Loss: 0.0065\n",
            "acc: 0.51041, nmi: 0.71458\n",
            "satisfied constraints: 1.00000\n",
            "#Epoch 121: Total: 0.0150 Clustering Loss: 0.0093 Reconstruction Loss: 0.0056\n",
            "acc: 0.51109, nmi: 0.71375\n",
            "satisfied constraints: 1.00000\n"
          ]
        },
        {
          "name": "stderr",
          "output_type": "stream",
          "text": [
            "c:\\Users\\japik\\anaconda3\\lib\\site-packages\\sklearn\\utils\\linear_assignment_.py:124: FutureWarning: The linear_assignment function is deprecated in 0.21 and will be removed from 0.23. Use scipy.optimize.linear_sum_assignment instead.\n",
            "  warnings.warn(\n",
            "c:\\Users\\japik\\anaconda3\\lib\\site-packages\\sklearn\\utils\\linear_assignment_.py:124: FutureWarning: The linear_assignment function is deprecated in 0.21 and will be removed from 0.23. Use scipy.optimize.linear_sum_assignment instead.\n",
            "  warnings.warn(\n",
            "c:\\Users\\japik\\anaconda3\\lib\\site-packages\\sklearn\\utils\\linear_assignment_.py:124: FutureWarning: The linear_assignment function is deprecated in 0.21 and will be removed from 0.23. Use scipy.optimize.linear_sum_assignment instead.\n",
            "  warnings.warn(\n",
            "c:\\Users\\japik\\anaconda3\\lib\\site-packages\\sklearn\\utils\\linear_assignment_.py:124: FutureWarning: The linear_assignment function is deprecated in 0.21 and will be removed from 0.23. Use scipy.optimize.linear_sum_assignment instead.\n",
            "  warnings.warn(\n",
            "c:\\Users\\japik\\anaconda3\\lib\\site-packages\\sklearn\\utils\\linear_assignment_.py:124: FutureWarning: The linear_assignment function is deprecated in 0.21 and will be removed from 0.23. Use scipy.optimize.linear_sum_assignment instead.\n",
            "  warnings.warn(\n"
          ]
        },
        {
          "name": "stdout",
          "output_type": "stream",
          "text": [
            "#Epoch 122: Total: 0.0162 Clustering Loss: 0.0092 Reconstruction Loss: 0.0069\n",
            "acc: 0.50754, nmi: 0.70952\n",
            "satisfied constraints: 1.00000\n",
            "#Epoch 123: Total: 0.0176 Clustering Loss: 0.0097 Reconstruction Loss: 0.0079\n",
            "acc: 0.51008, nmi: 0.70995\n",
            "satisfied constraints: 1.00000\n",
            "#Epoch 124: Total: 0.0183 Clustering Loss: 0.0098 Reconstruction Loss: 0.0085\n"
          ]
        },
        {
          "name": "stderr",
          "output_type": "stream",
          "text": [
            "c:\\Users\\japik\\anaconda3\\lib\\site-packages\\sklearn\\utils\\linear_assignment_.py:124: FutureWarning: The linear_assignment function is deprecated in 0.21 and will be removed from 0.23. Use scipy.optimize.linear_sum_assignment instead.\n",
            "  warnings.warn(\n",
            "c:\\Users\\japik\\anaconda3\\lib\\site-packages\\sklearn\\utils\\linear_assignment_.py:124: FutureWarning: The linear_assignment function is deprecated in 0.21 and will be removed from 0.23. Use scipy.optimize.linear_sum_assignment instead.\n",
            "  warnings.warn(\n",
            "c:\\Users\\japik\\anaconda3\\lib\\site-packages\\sklearn\\utils\\linear_assignment_.py:124: FutureWarning: The linear_assignment function is deprecated in 0.21 and will be removed from 0.23. Use scipy.optimize.linear_sum_assignment instead.\n",
            "  warnings.warn(\n",
            "c:\\Users\\japik\\anaconda3\\lib\\site-packages\\sklearn\\utils\\linear_assignment_.py:124: FutureWarning: The linear_assignment function is deprecated in 0.21 and will be removed from 0.23. Use scipy.optimize.linear_sum_assignment instead.\n",
            "  warnings.warn(\n",
            "c:\\Users\\japik\\anaconda3\\lib\\site-packages\\sklearn\\utils\\linear_assignment_.py:124: FutureWarning: The linear_assignment function is deprecated in 0.21 and will be removed from 0.23. Use scipy.optimize.linear_sum_assignment instead.\n",
            "  warnings.warn(\n"
          ]
        },
        {
          "name": "stdout",
          "output_type": "stream",
          "text": [
            "acc: 0.51177, nmi: 0.70974\n",
            "satisfied constraints: 1.00000\n",
            "#Epoch 125: Total: 0.0170 Clustering Loss: 0.0102 Reconstruction Loss: 0.0067\n",
            "acc: 0.51448, nmi: 0.70960\n",
            "satisfied constraints: 1.00000\n",
            "#Epoch 126: Total: 0.0160 Clustering Loss: 0.0106 Reconstruction Loss: 0.0054\n"
          ]
        },
        {
          "name": "stderr",
          "output_type": "stream",
          "text": [
            "c:\\Users\\japik\\anaconda3\\lib\\site-packages\\sklearn\\utils\\linear_assignment_.py:124: FutureWarning: The linear_assignment function is deprecated in 0.21 and will be removed from 0.23. Use scipy.optimize.linear_sum_assignment instead.\n",
            "  warnings.warn(\n",
            "c:\\Users\\japik\\anaconda3\\lib\\site-packages\\sklearn\\utils\\linear_assignment_.py:124: FutureWarning: The linear_assignment function is deprecated in 0.21 and will be removed from 0.23. Use scipy.optimize.linear_sum_assignment instead.\n",
            "  warnings.warn(\n",
            "c:\\Users\\japik\\anaconda3\\lib\\site-packages\\sklearn\\utils\\linear_assignment_.py:124: FutureWarning: The linear_assignment function is deprecated in 0.21 and will be removed from 0.23. Use scipy.optimize.linear_sum_assignment instead.\n",
            "  warnings.warn(\n",
            "c:\\Users\\japik\\anaconda3\\lib\\site-packages\\sklearn\\utils\\linear_assignment_.py:124: FutureWarning: The linear_assignment function is deprecated in 0.21 and will be removed from 0.23. Use scipy.optimize.linear_sum_assignment instead.\n",
            "  warnings.warn(\n"
          ]
        },
        {
          "name": "stdout",
          "output_type": "stream",
          "text": [
            "acc: 0.51482, nmi: 0.71084\n",
            "satisfied constraints: 1.00000\n",
            "#Epoch 127: Total: 0.0148 Clustering Loss: 0.0096 Reconstruction Loss: 0.0052\n",
            "acc: 0.51719, nmi: 0.71310\n",
            "satisfied constraints: 1.00000\n",
            "#Epoch 128: Total: 0.0147 Clustering Loss: 0.0092 Reconstruction Loss: 0.0055\n"
          ]
        },
        {
          "name": "stderr",
          "output_type": "stream",
          "text": [
            "c:\\Users\\japik\\anaconda3\\lib\\site-packages\\sklearn\\utils\\linear_assignment_.py:124: FutureWarning: The linear_assignment function is deprecated in 0.21 and will be removed from 0.23. Use scipy.optimize.linear_sum_assignment instead.\n",
            "  warnings.warn(\n",
            "c:\\Users\\japik\\anaconda3\\lib\\site-packages\\sklearn\\utils\\linear_assignment_.py:124: FutureWarning: The linear_assignment function is deprecated in 0.21 and will be removed from 0.23. Use scipy.optimize.linear_sum_assignment instead.\n",
            "  warnings.warn(\n",
            "c:\\Users\\japik\\anaconda3\\lib\\site-packages\\sklearn\\utils\\linear_assignment_.py:124: FutureWarning: The linear_assignment function is deprecated in 0.21 and will be removed from 0.23. Use scipy.optimize.linear_sum_assignment instead.\n",
            "  warnings.warn(\n",
            "c:\\Users\\japik\\anaconda3\\lib\\site-packages\\sklearn\\utils\\linear_assignment_.py:124: FutureWarning: The linear_assignment function is deprecated in 0.21 and will be removed from 0.23. Use scipy.optimize.linear_sum_assignment instead.\n",
            "  warnings.warn(\n"
          ]
        },
        {
          "name": "stdout",
          "output_type": "stream",
          "text": [
            "acc: 0.52041, nmi: 0.71458\n",
            "satisfied constraints: 1.00000\n",
            "#Epoch 129: Total: 0.0136 Clustering Loss: 0.0087 Reconstruction Loss: 0.0049\n",
            "acc: 0.52295, nmi: 0.71472\n",
            "satisfied constraints: 1.00000\n",
            "#Epoch 130: Total: 0.0133 Clustering Loss: 0.0089 Reconstruction Loss: 0.0043\n",
            "acc: 0.52210, nmi: 0.71312\n",
            "satisfied constraints: 1.00000\n"
          ]
        },
        {
          "name": "stderr",
          "output_type": "stream",
          "text": [
            "c:\\Users\\japik\\anaconda3\\lib\\site-packages\\sklearn\\utils\\linear_assignment_.py:124: FutureWarning: The linear_assignment function is deprecated in 0.21 and will be removed from 0.23. Use scipy.optimize.linear_sum_assignment instead.\n",
            "  warnings.warn(\n",
            "c:\\Users\\japik\\anaconda3\\lib\\site-packages\\sklearn\\utils\\linear_assignment_.py:124: FutureWarning: The linear_assignment function is deprecated in 0.21 and will be removed from 0.23. Use scipy.optimize.linear_sum_assignment instead.\n",
            "  warnings.warn(\n",
            "c:\\Users\\japik\\anaconda3\\lib\\site-packages\\sklearn\\utils\\linear_assignment_.py:124: FutureWarning: The linear_assignment function is deprecated in 0.21 and will be removed from 0.23. Use scipy.optimize.linear_sum_assignment instead.\n",
            "  warnings.warn(\n",
            "c:\\Users\\japik\\anaconda3\\lib\\site-packages\\sklearn\\utils\\linear_assignment_.py:124: FutureWarning: The linear_assignment function is deprecated in 0.21 and will be removed from 0.23. Use scipy.optimize.linear_sum_assignment instead.\n",
            "  warnings.warn(\n"
          ]
        },
        {
          "name": "stdout",
          "output_type": "stream",
          "text": [
            "#Epoch 131: Total: 0.0136 Clustering Loss: 0.0091 Reconstruction Loss: 0.0045\n",
            "acc: 0.52295, nmi: 0.71280\n",
            "satisfied constraints: 1.00000\n",
            "#Epoch 132: Total: 0.0145 Clustering Loss: 0.0099 Reconstruction Loss: 0.0046\n",
            "acc: 0.52532, nmi: 0.71477\n",
            "satisfied constraints: 1.00000\n",
            "#Epoch 133: Total: 0.0128 Clustering Loss: 0.0086 Reconstruction Loss: 0.0042\n"
          ]
        },
        {
          "name": "stderr",
          "output_type": "stream",
          "text": [
            "c:\\Users\\japik\\anaconda3\\lib\\site-packages\\sklearn\\utils\\linear_assignment_.py:124: FutureWarning: The linear_assignment function is deprecated in 0.21 and will be removed from 0.23. Use scipy.optimize.linear_sum_assignment instead.\n",
            "  warnings.warn(\n",
            "c:\\Users\\japik\\anaconda3\\lib\\site-packages\\sklearn\\utils\\linear_assignment_.py:124: FutureWarning: The linear_assignment function is deprecated in 0.21 and will be removed from 0.23. Use scipy.optimize.linear_sum_assignment instead.\n",
            "  warnings.warn(\n",
            "c:\\Users\\japik\\anaconda3\\lib\\site-packages\\sklearn\\utils\\linear_assignment_.py:124: FutureWarning: The linear_assignment function is deprecated in 0.21 and will be removed from 0.23. Use scipy.optimize.linear_sum_assignment instead.\n",
            "  warnings.warn(\n",
            "c:\\Users\\japik\\anaconda3\\lib\\site-packages\\sklearn\\utils\\linear_assignment_.py:124: FutureWarning: The linear_assignment function is deprecated in 0.21 and will be removed from 0.23. Use scipy.optimize.linear_sum_assignment instead.\n",
            "  warnings.warn(\n"
          ]
        },
        {
          "name": "stdout",
          "output_type": "stream",
          "text": [
            "acc: 0.52515, nmi: 0.71240\n",
            "satisfied constraints: 1.00000\n",
            "#Epoch 134: Total: 0.0133 Clustering Loss: 0.0093 Reconstruction Loss: 0.0040\n",
            "acc: 0.52447, nmi: 0.71398\n",
            "satisfied constraints: 1.00000\n",
            "#Epoch 135: Total: 0.0142 Clustering Loss: 0.0093 Reconstruction Loss: 0.0049\n"
          ]
        },
        {
          "name": "stderr",
          "output_type": "stream",
          "text": [
            "c:\\Users\\japik\\anaconda3\\lib\\site-packages\\sklearn\\utils\\linear_assignment_.py:124: FutureWarning: The linear_assignment function is deprecated in 0.21 and will be removed from 0.23. Use scipy.optimize.linear_sum_assignment instead.\n",
            "  warnings.warn(\n",
            "c:\\Users\\japik\\anaconda3\\lib\\site-packages\\sklearn\\utils\\linear_assignment_.py:124: FutureWarning: The linear_assignment function is deprecated in 0.21 and will be removed from 0.23. Use scipy.optimize.linear_sum_assignment instead.\n",
            "  warnings.warn(\n",
            "c:\\Users\\japik\\anaconda3\\lib\\site-packages\\sklearn\\utils\\linear_assignment_.py:124: FutureWarning: The linear_assignment function is deprecated in 0.21 and will be removed from 0.23. Use scipy.optimize.linear_sum_assignment instead.\n",
            "  warnings.warn(\n",
            "c:\\Users\\japik\\anaconda3\\lib\\site-packages\\sklearn\\utils\\linear_assignment_.py:124: FutureWarning: The linear_assignment function is deprecated in 0.21 and will be removed from 0.23. Use scipy.optimize.linear_sum_assignment instead.\n",
            "  warnings.warn(\n"
          ]
        },
        {
          "name": "stdout",
          "output_type": "stream",
          "text": [
            "acc: 0.52464, nmi: 0.71397\n",
            "satisfied constraints: 1.00000\n",
            "#Epoch 136: Total: 0.0132 Clustering Loss: 0.0092 Reconstruction Loss: 0.0040\n",
            "acc: 0.52701, nmi: 0.71577\n",
            "satisfied constraints: 1.00000\n",
            "#Epoch 137: Total: 0.0128 Clustering Loss: 0.0085 Reconstruction Loss: 0.0044\n"
          ]
        },
        {
          "name": "stderr",
          "output_type": "stream",
          "text": [
            "c:\\Users\\japik\\anaconda3\\lib\\site-packages\\sklearn\\utils\\linear_assignment_.py:124: FutureWarning: The linear_assignment function is deprecated in 0.21 and will be removed from 0.23. Use scipy.optimize.linear_sum_assignment instead.\n",
            "  warnings.warn(\n",
            "c:\\Users\\japik\\anaconda3\\lib\\site-packages\\sklearn\\utils\\linear_assignment_.py:124: FutureWarning: The linear_assignment function is deprecated in 0.21 and will be removed from 0.23. Use scipy.optimize.linear_sum_assignment instead.\n",
            "  warnings.warn(\n",
            "c:\\Users\\japik\\anaconda3\\lib\\site-packages\\sklearn\\utils\\linear_assignment_.py:124: FutureWarning: The linear_assignment function is deprecated in 0.21 and will be removed from 0.23. Use scipy.optimize.linear_sum_assignment instead.\n",
            "  warnings.warn(\n",
            "c:\\Users\\japik\\anaconda3\\lib\\site-packages\\sklearn\\utils\\linear_assignment_.py:124: FutureWarning: The linear_assignment function is deprecated in 0.21 and will be removed from 0.23. Use scipy.optimize.linear_sum_assignment instead.\n",
            "  warnings.warn(\n"
          ]
        },
        {
          "name": "stdout",
          "output_type": "stream",
          "text": [
            "acc: 0.52887, nmi: 0.71613\n",
            "satisfied constraints: 1.00000\n",
            "#Epoch 138: Total: 0.0132 Clustering Loss: 0.0089 Reconstruction Loss: 0.0043\n",
            "acc: 0.52938, nmi: 0.71655\n",
            "satisfied constraints: 1.00000\n",
            "#Epoch 139: Total: 0.0115 Clustering Loss: 0.0082 Reconstruction Loss: 0.0033\n",
            "acc: 0.52972, nmi: 0.71719\n",
            "satisfied constraints: 1.00000\n"
          ]
        },
        {
          "name": "stderr",
          "output_type": "stream",
          "text": [
            "c:\\Users\\japik\\anaconda3\\lib\\site-packages\\sklearn\\utils\\linear_assignment_.py:124: FutureWarning: The linear_assignment function is deprecated in 0.21 and will be removed from 0.23. Use scipy.optimize.linear_sum_assignment instead.\n",
            "  warnings.warn(\n",
            "c:\\Users\\japik\\anaconda3\\lib\\site-packages\\sklearn\\utils\\linear_assignment_.py:124: FutureWarning: The linear_assignment function is deprecated in 0.21 and will be removed from 0.23. Use scipy.optimize.linear_sum_assignment instead.\n",
            "  warnings.warn(\n",
            "c:\\Users\\japik\\anaconda3\\lib\\site-packages\\sklearn\\utils\\linear_assignment_.py:124: FutureWarning: The linear_assignment function is deprecated in 0.21 and will be removed from 0.23. Use scipy.optimize.linear_sum_assignment instead.\n",
            "  warnings.warn(\n",
            "c:\\Users\\japik\\anaconda3\\lib\\site-packages\\sklearn\\utils\\linear_assignment_.py:124: FutureWarning: The linear_assignment function is deprecated in 0.21 and will be removed from 0.23. Use scipy.optimize.linear_sum_assignment instead.\n",
            "  warnings.warn(\n",
            "c:\\Users\\japik\\anaconda3\\lib\\site-packages\\sklearn\\utils\\linear_assignment_.py:124: FutureWarning: The linear_assignment function is deprecated in 0.21 and will be removed from 0.23. Use scipy.optimize.linear_sum_assignment instead.\n",
            "  warnings.warn(\n",
            "c:\\Users\\japik\\anaconda3\\lib\\site-packages\\sklearn\\utils\\linear_assignment_.py:124: FutureWarning: The linear_assignment function is deprecated in 0.21 and will be removed from 0.23. Use scipy.optimize.linear_sum_assignment instead.\n",
            "  warnings.warn(\n",
            "c:\\Users\\japik\\anaconda3\\lib\\site-packages\\sklearn\\utils\\linear_assignment_.py:124: FutureWarning: The linear_assignment function is deprecated in 0.21 and will be removed from 0.23. Use scipy.optimize.linear_sum_assignment instead.\n",
            "  warnings.warn(\n",
            "c:\\Users\\japik\\anaconda3\\lib\\site-packages\\sklearn\\utils\\linear_assignment_.py:124: FutureWarning: The linear_assignment function is deprecated in 0.21 and will be removed from 0.23. Use scipy.optimize.linear_sum_assignment instead.\n",
            "  warnings.warn(\n"
          ]
        },
        {
          "name": "stdout",
          "output_type": "stream",
          "text": [
            "#Epoch 140: Total: 0.0119 Clustering Loss: 0.0081 Reconstruction Loss: 0.0038\n",
            "acc: 0.53141, nmi: 0.71690\n",
            "satisfied constraints: 1.00000\n",
            "#Epoch 141: Total: 0.0118 Clustering Loss: 0.0081 Reconstruction Loss: 0.0037\n",
            "acc: 0.53158, nmi: 0.71647\n",
            "satisfied constraints: 1.00000\n",
            "#Epoch 142: Total: 0.0111 Clustering Loss: 0.0080 Reconstruction Loss: 0.0030\n"
          ]
        },
        {
          "name": "stderr",
          "output_type": "stream",
          "text": [
            "c:\\Users\\japik\\anaconda3\\lib\\site-packages\\sklearn\\utils\\linear_assignment_.py:124: FutureWarning: The linear_assignment function is deprecated in 0.21 and will be removed from 0.23. Use scipy.optimize.linear_sum_assignment instead.\n",
            "  warnings.warn(\n",
            "c:\\Users\\japik\\anaconda3\\lib\\site-packages\\sklearn\\utils\\linear_assignment_.py:124: FutureWarning: The linear_assignment function is deprecated in 0.21 and will be removed from 0.23. Use scipy.optimize.linear_sum_assignment instead.\n",
            "  warnings.warn(\n",
            "c:\\Users\\japik\\anaconda3\\lib\\site-packages\\sklearn\\utils\\linear_assignment_.py:124: FutureWarning: The linear_assignment function is deprecated in 0.21 and will be removed from 0.23. Use scipy.optimize.linear_sum_assignment instead.\n",
            "  warnings.warn(\n",
            "c:\\Users\\japik\\anaconda3\\lib\\site-packages\\sklearn\\utils\\linear_assignment_.py:124: FutureWarning: The linear_assignment function is deprecated in 0.21 and will be removed from 0.23. Use scipy.optimize.linear_sum_assignment instead.\n",
            "  warnings.warn(\n"
          ]
        },
        {
          "name": "stdout",
          "output_type": "stream",
          "text": [
            "acc: 0.53429, nmi: 0.71703\n",
            "satisfied constraints: 1.00000\n",
            "#Epoch 143: Total: 0.0106 Clustering Loss: 0.0080 Reconstruction Loss: 0.0026\n",
            "acc: 0.53429, nmi: 0.71774\n",
            "satisfied constraints: 1.00000\n",
            "#Epoch 144: Total: 0.0106 Clustering Loss: 0.0080 Reconstruction Loss: 0.0025\n"
          ]
        },
        {
          "name": "stderr",
          "output_type": "stream",
          "text": [
            "c:\\Users\\japik\\anaconda3\\lib\\site-packages\\sklearn\\utils\\linear_assignment_.py:124: FutureWarning: The linear_assignment function is deprecated in 0.21 and will be removed from 0.23. Use scipy.optimize.linear_sum_assignment instead.\n",
            "  warnings.warn(\n",
            "c:\\Users\\japik\\anaconda3\\lib\\site-packages\\sklearn\\utils\\linear_assignment_.py:124: FutureWarning: The linear_assignment function is deprecated in 0.21 and will be removed from 0.23. Use scipy.optimize.linear_sum_assignment instead.\n",
            "  warnings.warn(\n",
            "c:\\Users\\japik\\anaconda3\\lib\\site-packages\\sklearn\\utils\\linear_assignment_.py:124: FutureWarning: The linear_assignment function is deprecated in 0.21 and will be removed from 0.23. Use scipy.optimize.linear_sum_assignment instead.\n",
            "  warnings.warn(\n",
            "c:\\Users\\japik\\anaconda3\\lib\\site-packages\\sklearn\\utils\\linear_assignment_.py:124: FutureWarning: The linear_assignment function is deprecated in 0.21 and will be removed from 0.23. Use scipy.optimize.linear_sum_assignment instead.\n",
            "  warnings.warn(\n"
          ]
        },
        {
          "name": "stdout",
          "output_type": "stream",
          "text": [
            "acc: 0.53260, nmi: 0.71743\n",
            "satisfied constraints: 1.00000\n",
            "#Epoch 145: Total: 0.0103 Clustering Loss: 0.0079 Reconstruction Loss: 0.0025\n",
            "acc: 0.53175, nmi: 0.71806\n",
            "satisfied constraints: 1.00000\n",
            "#Epoch 146: Total: 0.0103 Clustering Loss: 0.0078 Reconstruction Loss: 0.0025\n"
          ]
        },
        {
          "name": "stderr",
          "output_type": "stream",
          "text": [
            "c:\\Users\\japik\\anaconda3\\lib\\site-packages\\sklearn\\utils\\linear_assignment_.py:124: FutureWarning: The linear_assignment function is deprecated in 0.21 and will be removed from 0.23. Use scipy.optimize.linear_sum_assignment instead.\n",
            "  warnings.warn(\n",
            "c:\\Users\\japik\\anaconda3\\lib\\site-packages\\sklearn\\utils\\linear_assignment_.py:124: FutureWarning: The linear_assignment function is deprecated in 0.21 and will be removed from 0.23. Use scipy.optimize.linear_sum_assignment instead.\n",
            "  warnings.warn(\n",
            "c:\\Users\\japik\\anaconda3\\lib\\site-packages\\sklearn\\utils\\linear_assignment_.py:124: FutureWarning: The linear_assignment function is deprecated in 0.21 and will be removed from 0.23. Use scipy.optimize.linear_sum_assignment instead.\n",
            "  warnings.warn(\n",
            "c:\\Users\\japik\\anaconda3\\lib\\site-packages\\sklearn\\utils\\linear_assignment_.py:124: FutureWarning: The linear_assignment function is deprecated in 0.21 and will be removed from 0.23. Use scipy.optimize.linear_sum_assignment instead.\n",
            "  warnings.warn(\n"
          ]
        },
        {
          "name": "stdout",
          "output_type": "stream",
          "text": [
            "acc: 0.53091, nmi: 0.71986\n",
            "satisfied constraints: 1.00000\n",
            "#Epoch 147: Total: 0.0107 Clustering Loss: 0.0079 Reconstruction Loss: 0.0027\n",
            "acc: 0.52972, nmi: 0.71880\n",
            "satisfied constraints: 1.00000\n",
            "#Epoch 148: Total: 0.0109 Clustering Loss: 0.0084 Reconstruction Loss: 0.0025\n"
          ]
        },
        {
          "name": "stderr",
          "output_type": "stream",
          "text": [
            "c:\\Users\\japik\\anaconda3\\lib\\site-packages\\sklearn\\utils\\linear_assignment_.py:124: FutureWarning: The linear_assignment function is deprecated in 0.21 and will be removed from 0.23. Use scipy.optimize.linear_sum_assignment instead.\n",
            "  warnings.warn(\n",
            "c:\\Users\\japik\\anaconda3\\lib\\site-packages\\sklearn\\utils\\linear_assignment_.py:124: FutureWarning: The linear_assignment function is deprecated in 0.21 and will be removed from 0.23. Use scipy.optimize.linear_sum_assignment instead.\n",
            "  warnings.warn(\n",
            "c:\\Users\\japik\\anaconda3\\lib\\site-packages\\sklearn\\utils\\linear_assignment_.py:124: FutureWarning: The linear_assignment function is deprecated in 0.21 and will be removed from 0.23. Use scipy.optimize.linear_sum_assignment instead.\n",
            "  warnings.warn(\n",
            "c:\\Users\\japik\\anaconda3\\lib\\site-packages\\sklearn\\utils\\linear_assignment_.py:124: FutureWarning: The linear_assignment function is deprecated in 0.21 and will be removed from 0.23. Use scipy.optimize.linear_sum_assignment instead.\n",
            "  warnings.warn(\n"
          ]
        },
        {
          "name": "stdout",
          "output_type": "stream",
          "text": [
            "acc: 0.52854, nmi: 0.71715\n",
            "satisfied constraints: 1.00000\n",
            "#Epoch 149: Total: 0.0101 Clustering Loss: 0.0078 Reconstruction Loss: 0.0023\n",
            "acc: 0.52904, nmi: 0.71681\n",
            "satisfied constraints: 1.00000\n",
            "#Epoch 150: Total: 0.0100 Clustering Loss: 0.0080 Reconstruction Loss: 0.0020\n"
          ]
        },
        {
          "name": "stderr",
          "output_type": "stream",
          "text": [
            "c:\\Users\\japik\\anaconda3\\lib\\site-packages\\sklearn\\utils\\linear_assignment_.py:124: FutureWarning: The linear_assignment function is deprecated in 0.21 and will be removed from 0.23. Use scipy.optimize.linear_sum_assignment instead.\n",
            "  warnings.warn(\n",
            "c:\\Users\\japik\\anaconda3\\lib\\site-packages\\sklearn\\utils\\linear_assignment_.py:124: FutureWarning: The linear_assignment function is deprecated in 0.21 and will be removed from 0.23. Use scipy.optimize.linear_sum_assignment instead.\n",
            "  warnings.warn(\n",
            "c:\\Users\\japik\\anaconda3\\lib\\site-packages\\sklearn\\utils\\linear_assignment_.py:124: FutureWarning: The linear_assignment function is deprecated in 0.21 and will be removed from 0.23. Use scipy.optimize.linear_sum_assignment instead.\n",
            "  warnings.warn(\n",
            "c:\\Users\\japik\\anaconda3\\lib\\site-packages\\sklearn\\utils\\linear_assignment_.py:124: FutureWarning: The linear_assignment function is deprecated in 0.21 and will be removed from 0.23. Use scipy.optimize.linear_sum_assignment instead.\n",
            "  warnings.warn(\n",
            "c:\\Users\\japik\\anaconda3\\lib\\site-packages\\sklearn\\utils\\linear_assignment_.py:124: FutureWarning: The linear_assignment function is deprecated in 0.21 and will be removed from 0.23. Use scipy.optimize.linear_sum_assignment instead.\n",
            "  warnings.warn(\n"
          ]
        },
        {
          "name": "stdout",
          "output_type": "stream",
          "text": [
            "acc: 0.52616, nmi: 0.71771\n",
            "satisfied constraints: 1.00000\n",
            "#Epoch 151: Total: 0.0121 Clustering Loss: 0.0083 Reconstruction Loss: 0.0038\n",
            "acc: 0.52329, nmi: 0.71655\n",
            "satisfied constraints: 1.00000\n",
            "#Epoch 152: Total: 0.0104 Clustering Loss: 0.0081 Reconstruction Loss: 0.0023\n",
            "acc: 0.52396, nmi: 0.71430\n",
            "satisfied constraints: 1.00000\n"
          ]
        },
        {
          "name": "stderr",
          "output_type": "stream",
          "text": [
            "c:\\Users\\japik\\anaconda3\\lib\\site-packages\\sklearn\\utils\\linear_assignment_.py:124: FutureWarning: The linear_assignment function is deprecated in 0.21 and will be removed from 0.23. Use scipy.optimize.linear_sum_assignment instead.\n",
            "  warnings.warn(\n",
            "c:\\Users\\japik\\anaconda3\\lib\\site-packages\\sklearn\\utils\\linear_assignment_.py:124: FutureWarning: The linear_assignment function is deprecated in 0.21 and will be removed from 0.23. Use scipy.optimize.linear_sum_assignment instead.\n",
            "  warnings.warn(\n",
            "c:\\Users\\japik\\anaconda3\\lib\\site-packages\\sklearn\\utils\\linear_assignment_.py:124: FutureWarning: The linear_assignment function is deprecated in 0.21 and will be removed from 0.23. Use scipy.optimize.linear_sum_assignment instead.\n",
            "  warnings.warn(\n",
            "c:\\Users\\japik\\anaconda3\\lib\\site-packages\\sklearn\\utils\\linear_assignment_.py:124: FutureWarning: The linear_assignment function is deprecated in 0.21 and will be removed from 0.23. Use scipy.optimize.linear_sum_assignment instead.\n",
            "  warnings.warn(\n",
            "c:\\Users\\japik\\anaconda3\\lib\\site-packages\\sklearn\\utils\\linear_assignment_.py:124: FutureWarning: The linear_assignment function is deprecated in 0.21 and will be removed from 0.23. Use scipy.optimize.linear_sum_assignment instead.\n",
            "  warnings.warn(\n"
          ]
        },
        {
          "name": "stdout",
          "output_type": "stream",
          "text": [
            "#Epoch 153: Total: 0.0119 Clustering Loss: 0.0086 Reconstruction Loss: 0.0032\n",
            "acc: 0.52278, nmi: 0.71769\n",
            "satisfied constraints: 1.00000\n",
            "#Epoch 154: Total: 0.0106 Clustering Loss: 0.0085 Reconstruction Loss: 0.0021\n",
            "acc: 0.52312, nmi: 0.71699\n",
            "satisfied constraints: 1.00000\n",
            "#Epoch 155: Total: 0.0090 Clustering Loss: 0.0081 Reconstruction Loss: 0.0010\n"
          ]
        },
        {
          "name": "stderr",
          "output_type": "stream",
          "text": [
            "c:\\Users\\japik\\anaconda3\\lib\\site-packages\\sklearn\\utils\\linear_assignment_.py:124: FutureWarning: The linear_assignment function is deprecated in 0.21 and will be removed from 0.23. Use scipy.optimize.linear_sum_assignment instead.\n",
            "  warnings.warn(\n",
            "c:\\Users\\japik\\anaconda3\\lib\\site-packages\\sklearn\\utils\\linear_assignment_.py:124: FutureWarning: The linear_assignment function is deprecated in 0.21 and will be removed from 0.23. Use scipy.optimize.linear_sum_assignment instead.\n",
            "  warnings.warn(\n",
            "c:\\Users\\japik\\anaconda3\\lib\\site-packages\\sklearn\\utils\\linear_assignment_.py:124: FutureWarning: The linear_assignment function is deprecated in 0.21 and will be removed from 0.23. Use scipy.optimize.linear_sum_assignment instead.\n",
            "  warnings.warn(\n",
            "c:\\Users\\japik\\anaconda3\\lib\\site-packages\\sklearn\\utils\\linear_assignment_.py:124: FutureWarning: The linear_assignment function is deprecated in 0.21 and will be removed from 0.23. Use scipy.optimize.linear_sum_assignment instead.\n",
            "  warnings.warn(\n"
          ]
        },
        {
          "name": "stdout",
          "output_type": "stream",
          "text": [
            "acc: 0.52481, nmi: 0.71834\n",
            "satisfied constraints: 1.00000\n",
            "#Epoch 156: Total: 0.0097 Clustering Loss: 0.0078 Reconstruction Loss: 0.0019\n",
            "acc: 0.52701, nmi: 0.71760\n",
            "satisfied constraints: 1.00000\n",
            "#Epoch 157: Total: 0.0107 Clustering Loss: 0.0089 Reconstruction Loss: 0.0018\n"
          ]
        },
        {
          "name": "stderr",
          "output_type": "stream",
          "text": [
            "c:\\Users\\japik\\anaconda3\\lib\\site-packages\\sklearn\\utils\\linear_assignment_.py:124: FutureWarning: The linear_assignment function is deprecated in 0.21 and will be removed from 0.23. Use scipy.optimize.linear_sum_assignment instead.\n",
            "  warnings.warn(\n",
            "c:\\Users\\japik\\anaconda3\\lib\\site-packages\\sklearn\\utils\\linear_assignment_.py:124: FutureWarning: The linear_assignment function is deprecated in 0.21 and will be removed from 0.23. Use scipy.optimize.linear_sum_assignment instead.\n",
            "  warnings.warn(\n",
            "c:\\Users\\japik\\anaconda3\\lib\\site-packages\\sklearn\\utils\\linear_assignment_.py:124: FutureWarning: The linear_assignment function is deprecated in 0.21 and will be removed from 0.23. Use scipy.optimize.linear_sum_assignment instead.\n",
            "  warnings.warn(\n",
            "c:\\Users\\japik\\anaconda3\\lib\\site-packages\\sklearn\\utils\\linear_assignment_.py:124: FutureWarning: The linear_assignment function is deprecated in 0.21 and will be removed from 0.23. Use scipy.optimize.linear_sum_assignment instead.\n",
            "  warnings.warn(\n"
          ]
        },
        {
          "name": "stdout",
          "output_type": "stream",
          "text": [
            "acc: 0.52464, nmi: 0.71807\n",
            "satisfied constraints: 1.00000\n",
            "#Epoch 158: Total: 0.0091 Clustering Loss: 0.0079 Reconstruction Loss: 0.0012\n",
            "acc: 0.52837, nmi: 0.71764\n",
            "satisfied constraints: 1.00000\n",
            "#Epoch 159: Total: 0.0098 Clustering Loss: 0.0080 Reconstruction Loss: 0.0017\n"
          ]
        },
        {
          "name": "stderr",
          "output_type": "stream",
          "text": [
            "c:\\Users\\japik\\anaconda3\\lib\\site-packages\\sklearn\\utils\\linear_assignment_.py:124: FutureWarning: The linear_assignment function is deprecated in 0.21 and will be removed from 0.23. Use scipy.optimize.linear_sum_assignment instead.\n",
            "  warnings.warn(\n",
            "c:\\Users\\japik\\anaconda3\\lib\\site-packages\\sklearn\\utils\\linear_assignment_.py:124: FutureWarning: The linear_assignment function is deprecated in 0.21 and will be removed from 0.23. Use scipy.optimize.linear_sum_assignment instead.\n",
            "  warnings.warn(\n",
            "c:\\Users\\japik\\anaconda3\\lib\\site-packages\\sklearn\\utils\\linear_assignment_.py:124: FutureWarning: The linear_assignment function is deprecated in 0.21 and will be removed from 0.23. Use scipy.optimize.linear_sum_assignment instead.\n",
            "  warnings.warn(\n",
            "c:\\Users\\japik\\anaconda3\\lib\\site-packages\\sklearn\\utils\\linear_assignment_.py:124: FutureWarning: The linear_assignment function is deprecated in 0.21 and will be removed from 0.23. Use scipy.optimize.linear_sum_assignment instead.\n",
            "  warnings.warn(\n"
          ]
        },
        {
          "name": "stdout",
          "output_type": "stream",
          "text": [
            "acc: 0.52684, nmi: 0.71821\n",
            "satisfied constraints: 1.00000\n",
            "#Epoch 160: Total: 0.0089 Clustering Loss: 0.0077 Reconstruction Loss: 0.0012\n",
            "acc: 0.52786, nmi: 0.71809\n",
            "satisfied constraints: 1.00000\n",
            "#Epoch 161: Total: 0.0090 Clustering Loss: 0.0079 Reconstruction Loss: 0.0011\n"
          ]
        },
        {
          "name": "stderr",
          "output_type": "stream",
          "text": [
            "c:\\Users\\japik\\anaconda3\\lib\\site-packages\\sklearn\\utils\\linear_assignment_.py:124: FutureWarning: The linear_assignment function is deprecated in 0.21 and will be removed from 0.23. Use scipy.optimize.linear_sum_assignment instead.\n",
            "  warnings.warn(\n",
            "c:\\Users\\japik\\anaconda3\\lib\\site-packages\\sklearn\\utils\\linear_assignment_.py:124: FutureWarning: The linear_assignment function is deprecated in 0.21 and will be removed from 0.23. Use scipy.optimize.linear_sum_assignment instead.\n",
            "  warnings.warn(\n",
            "c:\\Users\\japik\\anaconda3\\lib\\site-packages\\sklearn\\utils\\linear_assignment_.py:124: FutureWarning: The linear_assignment function is deprecated in 0.21 and will be removed from 0.23. Use scipy.optimize.linear_sum_assignment instead.\n",
            "  warnings.warn(\n",
            "c:\\Users\\japik\\anaconda3\\lib\\site-packages\\sklearn\\utils\\linear_assignment_.py:124: FutureWarning: The linear_assignment function is deprecated in 0.21 and will be removed from 0.23. Use scipy.optimize.linear_sum_assignment instead.\n",
            "  warnings.warn(\n",
            "c:\\Users\\japik\\anaconda3\\lib\\site-packages\\sklearn\\utils\\linear_assignment_.py:124: FutureWarning: The linear_assignment function is deprecated in 0.21 and will be removed from 0.23. Use scipy.optimize.linear_sum_assignment instead.\n",
            "  warnings.warn(\n"
          ]
        },
        {
          "name": "stdout",
          "output_type": "stream",
          "text": [
            "acc: 0.52667, nmi: 0.71765\n",
            "satisfied constraints: 1.00000\n",
            "#Epoch 162: Total: 0.0089 Clustering Loss: 0.0077 Reconstruction Loss: 0.0012\n",
            "acc: 0.52752, nmi: 0.71827\n",
            "satisfied constraints: 1.00000\n",
            "#Epoch 163: Total: 0.0091 Clustering Loss: 0.0077 Reconstruction Loss: 0.0014\n"
          ]
        },
        {
          "name": "stderr",
          "output_type": "stream",
          "text": [
            "c:\\Users\\japik\\anaconda3\\lib\\site-packages\\sklearn\\utils\\linear_assignment_.py:124: FutureWarning: The linear_assignment function is deprecated in 0.21 and will be removed from 0.23. Use scipy.optimize.linear_sum_assignment instead.\n",
            "  warnings.warn(\n",
            "c:\\Users\\japik\\anaconda3\\lib\\site-packages\\sklearn\\utils\\linear_assignment_.py:124: FutureWarning: The linear_assignment function is deprecated in 0.21 and will be removed from 0.23. Use scipy.optimize.linear_sum_assignment instead.\n",
            "  warnings.warn(\n",
            "c:\\Users\\japik\\anaconda3\\lib\\site-packages\\sklearn\\utils\\linear_assignment_.py:124: FutureWarning: The linear_assignment function is deprecated in 0.21 and will be removed from 0.23. Use scipy.optimize.linear_sum_assignment instead.\n",
            "  warnings.warn(\n",
            "c:\\Users\\japik\\anaconda3\\lib\\site-packages\\sklearn\\utils\\linear_assignment_.py:124: FutureWarning: The linear_assignment function is deprecated in 0.21 and will be removed from 0.23. Use scipy.optimize.linear_sum_assignment instead.\n",
            "  warnings.warn(\n",
            "c:\\Users\\japik\\anaconda3\\lib\\site-packages\\sklearn\\utils\\linear_assignment_.py:124: FutureWarning: The linear_assignment function is deprecated in 0.21 and will be removed from 0.23. Use scipy.optimize.linear_sum_assignment instead.\n",
            "  warnings.warn(\n",
            "c:\\Users\\japik\\anaconda3\\lib\\site-packages\\sklearn\\utils\\linear_assignment_.py:124: FutureWarning: The linear_assignment function is deprecated in 0.21 and will be removed from 0.23. Use scipy.optimize.linear_sum_assignment instead.\n",
            "  warnings.warn(\n"
          ]
        },
        {
          "name": "stdout",
          "output_type": "stream",
          "text": [
            "acc: 0.52769, nmi: 0.71728\n",
            "satisfied constraints: 1.00000\n",
            "#Epoch 164: Total: 0.0086 Clustering Loss: 0.0076 Reconstruction Loss: 0.0010\n",
            "acc: 0.53040, nmi: 0.71805\n",
            "satisfied constraints: 1.00000\n",
            "#Epoch 165: Total: 0.0088 Clustering Loss: 0.0078 Reconstruction Loss: 0.0010\n",
            "acc: 0.53091, nmi: 0.71781\n",
            "satisfied constraints: 1.00000\n"
          ]
        },
        {
          "name": "stderr",
          "output_type": "stream",
          "text": [
            "c:\\Users\\japik\\anaconda3\\lib\\site-packages\\sklearn\\utils\\linear_assignment_.py:124: FutureWarning: The linear_assignment function is deprecated in 0.21 and will be removed from 0.23. Use scipy.optimize.linear_sum_assignment instead.\n",
            "  warnings.warn(\n",
            "c:\\Users\\japik\\anaconda3\\lib\\site-packages\\sklearn\\utils\\linear_assignment_.py:124: FutureWarning: The linear_assignment function is deprecated in 0.21 and will be removed from 0.23. Use scipy.optimize.linear_sum_assignment instead.\n",
            "  warnings.warn(\n",
            "c:\\Users\\japik\\anaconda3\\lib\\site-packages\\sklearn\\utils\\linear_assignment_.py:124: FutureWarning: The linear_assignment function is deprecated in 0.21 and will be removed from 0.23. Use scipy.optimize.linear_sum_assignment instead.\n",
            "  warnings.warn(\n",
            "c:\\Users\\japik\\anaconda3\\lib\\site-packages\\sklearn\\utils\\linear_assignment_.py:124: FutureWarning: The linear_assignment function is deprecated in 0.21 and will be removed from 0.23. Use scipy.optimize.linear_sum_assignment instead.\n",
            "  warnings.warn(\n"
          ]
        },
        {
          "name": "stdout",
          "output_type": "stream",
          "text": [
            "#Epoch 166: Total: 0.0093 Clustering Loss: 0.0083 Reconstruction Loss: 0.0010\n",
            "acc: 0.53057, nmi: 0.71879\n",
            "satisfied constraints: 1.00000\n",
            "#Epoch 167: Total: 0.0080 Clustering Loss: 0.0072 Reconstruction Loss: 0.0007\n",
            "acc: 0.53057, nmi: 0.71871\n",
            "satisfied constraints: 1.00000\n",
            "#Epoch 168: Total: 0.0078 Clustering Loss: 0.0072 Reconstruction Loss: 0.0005\n"
          ]
        },
        {
          "name": "stderr",
          "output_type": "stream",
          "text": [
            "c:\\Users\\japik\\anaconda3\\lib\\site-packages\\sklearn\\utils\\linear_assignment_.py:124: FutureWarning: The linear_assignment function is deprecated in 0.21 and will be removed from 0.23. Use scipy.optimize.linear_sum_assignment instead.\n",
            "  warnings.warn(\n",
            "c:\\Users\\japik\\anaconda3\\lib\\site-packages\\sklearn\\utils\\linear_assignment_.py:124: FutureWarning: The linear_assignment function is deprecated in 0.21 and will be removed from 0.23. Use scipy.optimize.linear_sum_assignment instead.\n",
            "  warnings.warn(\n",
            "c:\\Users\\japik\\anaconda3\\lib\\site-packages\\sklearn\\utils\\linear_assignment_.py:124: FutureWarning: The linear_assignment function is deprecated in 0.21 and will be removed from 0.23. Use scipy.optimize.linear_sum_assignment instead.\n",
            "  warnings.warn(\n",
            "c:\\Users\\japik\\anaconda3\\lib\\site-packages\\sklearn\\utils\\linear_assignment_.py:124: FutureWarning: The linear_assignment function is deprecated in 0.21 and will be removed from 0.23. Use scipy.optimize.linear_sum_assignment instead.\n",
            "  warnings.warn(\n",
            "c:\\Users\\japik\\anaconda3\\lib\\site-packages\\sklearn\\utils\\linear_assignment_.py:124: FutureWarning: The linear_assignment function is deprecated in 0.21 and will be removed from 0.23. Use scipy.optimize.linear_sum_assignment instead.\n",
            "  warnings.warn(\n",
            "c:\\Users\\japik\\anaconda3\\lib\\site-packages\\sklearn\\utils\\linear_assignment_.py:124: FutureWarning: The linear_assignment function is deprecated in 0.21 and will be removed from 0.23. Use scipy.optimize.linear_sum_assignment instead.\n",
            "  warnings.warn(\n"
          ]
        },
        {
          "name": "stdout",
          "output_type": "stream",
          "text": [
            "acc: 0.53192, nmi: 0.71894\n",
            "satisfied constraints: 1.00000\n",
            "#Epoch 169: Total: 0.0081 Clustering Loss: 0.0074 Reconstruction Loss: 0.0007\n",
            "acc: 0.53209, nmi: 0.71884\n",
            "satisfied constraints: 1.00000\n",
            "#Epoch 170: Total: 0.0082 Clustering Loss: 0.0073 Reconstruction Loss: 0.0009\n",
            "acc: 0.53294, nmi: 0.71748\n",
            "satisfied constraints: 1.00000\n",
            "#Epoch 171: Total: 0.0086 Clustering Loss: 0.0075 Reconstruction Loss: 0.0011\n",
            "acc: 0.53192, nmi: 0.71717\n",
            "satisfied constraints: 1.00000\n",
            "#Epoch 172: Total: 0.0089 Clustering Loss: 0.0076 Reconstruction Loss: 0.0013\n",
            "acc: 0.53158, nmi: 0.71632\n",
            "satisfied constraints: 1.00000\n",
            "#Epoch 173: Total: 0.0095 Clustering Loss: 0.0080 Reconstruction Loss: 0.0016\n"
          ]
        },
        {
          "name": "stderr",
          "output_type": "stream",
          "text": [
            "c:\\Users\\japik\\anaconda3\\lib\\site-packages\\sklearn\\utils\\linear_assignment_.py:124: FutureWarning: The linear_assignment function is deprecated in 0.21 and will be removed from 0.23. Use scipy.optimize.linear_sum_assignment instead.\n",
            "  warnings.warn(\n",
            "c:\\Users\\japik\\anaconda3\\lib\\site-packages\\sklearn\\utils\\linear_assignment_.py:124: FutureWarning: The linear_assignment function is deprecated in 0.21 and will be removed from 0.23. Use scipy.optimize.linear_sum_assignment instead.\n",
            "  warnings.warn(\n",
            "c:\\Users\\japik\\anaconda3\\lib\\site-packages\\sklearn\\utils\\linear_assignment_.py:124: FutureWarning: The linear_assignment function is deprecated in 0.21 and will be removed from 0.23. Use scipy.optimize.linear_sum_assignment instead.\n",
            "  warnings.warn(\n",
            "c:\\Users\\japik\\anaconda3\\lib\\site-packages\\sklearn\\utils\\linear_assignment_.py:124: FutureWarning: The linear_assignment function is deprecated in 0.21 and will be removed from 0.23. Use scipy.optimize.linear_sum_assignment instead.\n",
            "  warnings.warn(\n",
            "c:\\Users\\japik\\anaconda3\\lib\\site-packages\\sklearn\\utils\\linear_assignment_.py:124: FutureWarning: The linear_assignment function is deprecated in 0.21 and will be removed from 0.23. Use scipy.optimize.linear_sum_assignment instead.\n",
            "  warnings.warn(\n"
          ]
        },
        {
          "name": "stdout",
          "output_type": "stream",
          "text": [
            "acc: 0.53108, nmi: 0.71633\n",
            "satisfied constraints: 1.00000\n",
            "#Epoch 174: Total: 0.0096 Clustering Loss: 0.0081 Reconstruction Loss: 0.0015\n",
            "acc: 0.52854, nmi: 0.71575\n",
            "satisfied constraints: 1.00000\n",
            "#Epoch 175: Total: 0.0104 Clustering Loss: 0.0083 Reconstruction Loss: 0.0021\n",
            "acc: 0.52837, nmi: 0.71590\n",
            "satisfied constraints: 1.00000\n"
          ]
        },
        {
          "name": "stderr",
          "output_type": "stream",
          "text": [
            "c:\\Users\\japik\\anaconda3\\lib\\site-packages\\sklearn\\utils\\linear_assignment_.py:124: FutureWarning: The linear_assignment function is deprecated in 0.21 and will be removed from 0.23. Use scipy.optimize.linear_sum_assignment instead.\n",
            "  warnings.warn(\n",
            "c:\\Users\\japik\\anaconda3\\lib\\site-packages\\sklearn\\utils\\linear_assignment_.py:124: FutureWarning: The linear_assignment function is deprecated in 0.21 and will be removed from 0.23. Use scipy.optimize.linear_sum_assignment instead.\n",
            "  warnings.warn(\n",
            "c:\\Users\\japik\\anaconda3\\lib\\site-packages\\sklearn\\utils\\linear_assignment_.py:124: FutureWarning: The linear_assignment function is deprecated in 0.21 and will be removed from 0.23. Use scipy.optimize.linear_sum_assignment instead.\n",
            "  warnings.warn(\n",
            "c:\\Users\\japik\\anaconda3\\lib\\site-packages\\sklearn\\utils\\linear_assignment_.py:124: FutureWarning: The linear_assignment function is deprecated in 0.21 and will be removed from 0.23. Use scipy.optimize.linear_sum_assignment instead.\n",
            "  warnings.warn(\n",
            "c:\\Users\\japik\\anaconda3\\lib\\site-packages\\sklearn\\utils\\linear_assignment_.py:124: FutureWarning: The linear_assignment function is deprecated in 0.21 and will be removed from 0.23. Use scipy.optimize.linear_sum_assignment instead.\n",
            "  warnings.warn(\n"
          ]
        },
        {
          "name": "stdout",
          "output_type": "stream",
          "text": [
            "#Epoch 176: Total: 0.0105 Clustering Loss: 0.0078 Reconstruction Loss: 0.0027\n",
            "acc: 0.52803, nmi: 0.71707\n",
            "satisfied constraints: 1.00000\n",
            "#Epoch 177: Total: 0.0088 Clustering Loss: 0.0076 Reconstruction Loss: 0.0012\n",
            "acc: 0.53023, nmi: 0.71738\n",
            "satisfied constraints: 1.00000\n",
            "#Epoch 178: Total: 0.0083 Clustering Loss: 0.0072 Reconstruction Loss: 0.0011\n"
          ]
        },
        {
          "name": "stderr",
          "output_type": "stream",
          "text": [
            "c:\\Users\\japik\\anaconda3\\lib\\site-packages\\sklearn\\utils\\linear_assignment_.py:124: FutureWarning: The linear_assignment function is deprecated in 0.21 and will be removed from 0.23. Use scipy.optimize.linear_sum_assignment instead.\n",
            "  warnings.warn(\n",
            "c:\\Users\\japik\\anaconda3\\lib\\site-packages\\sklearn\\utils\\linear_assignment_.py:124: FutureWarning: The linear_assignment function is deprecated in 0.21 and will be removed from 0.23. Use scipy.optimize.linear_sum_assignment instead.\n",
            "  warnings.warn(\n",
            "c:\\Users\\japik\\anaconda3\\lib\\site-packages\\sklearn\\utils\\linear_assignment_.py:124: FutureWarning: The linear_assignment function is deprecated in 0.21 and will be removed from 0.23. Use scipy.optimize.linear_sum_assignment instead.\n",
            "  warnings.warn(\n",
            "c:\\Users\\japik\\anaconda3\\lib\\site-packages\\sklearn\\utils\\linear_assignment_.py:124: FutureWarning: The linear_assignment function is deprecated in 0.21 and will be removed from 0.23. Use scipy.optimize.linear_sum_assignment instead.\n",
            "  warnings.warn(\n",
            "c:\\Users\\japik\\anaconda3\\lib\\site-packages\\sklearn\\utils\\linear_assignment_.py:124: FutureWarning: The linear_assignment function is deprecated in 0.21 and will be removed from 0.23. Use scipy.optimize.linear_sum_assignment instead.\n",
            "  warnings.warn(\n"
          ]
        },
        {
          "name": "stdout",
          "output_type": "stream",
          "text": [
            "acc: 0.53158, nmi: 0.71834\n",
            "satisfied constraints: 1.00000\n",
            "#Epoch 179: Total: 0.0082 Clustering Loss: 0.0072 Reconstruction Loss: 0.0010\n",
            "acc: 0.53209, nmi: 0.71712\n",
            "satisfied constraints: 1.00000\n",
            "#Epoch 180: Total: 0.0075 Clustering Loss: 0.0069 Reconstruction Loss: 0.0007\n",
            "acc: 0.53277, nmi: 0.71723\n",
            "satisfied constraints: 1.00000\n"
          ]
        },
        {
          "name": "stderr",
          "output_type": "stream",
          "text": [
            "c:\\Users\\japik\\anaconda3\\lib\\site-packages\\sklearn\\utils\\linear_assignment_.py:124: FutureWarning: The linear_assignment function is deprecated in 0.21 and will be removed from 0.23. Use scipy.optimize.linear_sum_assignment instead.\n",
            "  warnings.warn(\n",
            "c:\\Users\\japik\\anaconda3\\lib\\site-packages\\sklearn\\utils\\linear_assignment_.py:124: FutureWarning: The linear_assignment function is deprecated in 0.21 and will be removed from 0.23. Use scipy.optimize.linear_sum_assignment instead.\n",
            "  warnings.warn(\n",
            "c:\\Users\\japik\\anaconda3\\lib\\site-packages\\sklearn\\utils\\linear_assignment_.py:124: FutureWarning: The linear_assignment function is deprecated in 0.21 and will be removed from 0.23. Use scipy.optimize.linear_sum_assignment instead.\n",
            "  warnings.warn(\n",
            "c:\\Users\\japik\\anaconda3\\lib\\site-packages\\sklearn\\utils\\linear_assignment_.py:124: FutureWarning: The linear_assignment function is deprecated in 0.21 and will be removed from 0.23. Use scipy.optimize.linear_sum_assignment instead.\n",
            "  warnings.warn(\n",
            "c:\\Users\\japik\\anaconda3\\lib\\site-packages\\sklearn\\utils\\linear_assignment_.py:124: FutureWarning: The linear_assignment function is deprecated in 0.21 and will be removed from 0.23. Use scipy.optimize.linear_sum_assignment instead.\n",
            "  warnings.warn(\n"
          ]
        },
        {
          "name": "stdout",
          "output_type": "stream",
          "text": [
            "#Epoch 181: Total: 0.0073 Clustering Loss: 0.0068 Reconstruction Loss: 0.0005\n",
            "acc: 0.53277, nmi: 0.71728\n",
            "satisfied constraints: 1.00000\n",
            "#Epoch 182: Total: 0.0073 Clustering Loss: 0.0068 Reconstruction Loss: 0.0005\n",
            "acc: 0.53277, nmi: 0.71756\n",
            "satisfied constraints: 1.00000\n",
            "#Epoch 183: Total: 0.0074 Clustering Loss: 0.0068 Reconstruction Loss: 0.0006\n"
          ]
        },
        {
          "name": "stderr",
          "output_type": "stream",
          "text": [
            "c:\\Users\\japik\\anaconda3\\lib\\site-packages\\sklearn\\utils\\linear_assignment_.py:124: FutureWarning: The linear_assignment function is deprecated in 0.21 and will be removed from 0.23. Use scipy.optimize.linear_sum_assignment instead.\n",
            "  warnings.warn(\n",
            "c:\\Users\\japik\\anaconda3\\lib\\site-packages\\sklearn\\utils\\linear_assignment_.py:124: FutureWarning: The linear_assignment function is deprecated in 0.21 and will be removed from 0.23. Use scipy.optimize.linear_sum_assignment instead.\n",
            "  warnings.warn(\n",
            "c:\\Users\\japik\\anaconda3\\lib\\site-packages\\sklearn\\utils\\linear_assignment_.py:124: FutureWarning: The linear_assignment function is deprecated in 0.21 and will be removed from 0.23. Use scipy.optimize.linear_sum_assignment instead.\n",
            "  warnings.warn(\n",
            "c:\\Users\\japik\\anaconda3\\lib\\site-packages\\sklearn\\utils\\linear_assignment_.py:124: FutureWarning: The linear_assignment function is deprecated in 0.21 and will be removed from 0.23. Use scipy.optimize.linear_sum_assignment instead.\n",
            "  warnings.warn(\n",
            "c:\\Users\\japik\\anaconda3\\lib\\site-packages\\sklearn\\utils\\linear_assignment_.py:124: FutureWarning: The linear_assignment function is deprecated in 0.21 and will be removed from 0.23. Use scipy.optimize.linear_sum_assignment instead.\n",
            "  warnings.warn(\n",
            "c:\\Users\\japik\\anaconda3\\lib\\site-packages\\sklearn\\utils\\linear_assignment_.py:124: FutureWarning: The linear_assignment function is deprecated in 0.21 and will be removed from 0.23. Use scipy.optimize.linear_sum_assignment instead.\n",
            "  warnings.warn(\n"
          ]
        },
        {
          "name": "stdout",
          "output_type": "stream",
          "text": [
            "acc: 0.53260, nmi: 0.71599\n",
            "satisfied constraints: 1.00000\n",
            "#Epoch 184: Total: 0.0079 Clustering Loss: 0.0067 Reconstruction Loss: 0.0012\n",
            "acc: 0.53226, nmi: 0.71560\n",
            "satisfied constraints: 1.00000\n",
            "#Epoch 185: Total: 0.0080 Clustering Loss: 0.0069 Reconstruction Loss: 0.0011\n"
          ]
        },
        {
          "name": "stderr",
          "output_type": "stream",
          "text": [
            "c:\\Users\\japik\\anaconda3\\lib\\site-packages\\sklearn\\utils\\linear_assignment_.py:124: FutureWarning: The linear_assignment function is deprecated in 0.21 and will be removed from 0.23. Use scipy.optimize.linear_sum_assignment instead.\n",
            "  warnings.warn(\n",
            "c:\\Users\\japik\\anaconda3\\lib\\site-packages\\sklearn\\utils\\linear_assignment_.py:124: FutureWarning: The linear_assignment function is deprecated in 0.21 and will be removed from 0.23. Use scipy.optimize.linear_sum_assignment instead.\n",
            "  warnings.warn(\n",
            "c:\\Users\\japik\\anaconda3\\lib\\site-packages\\sklearn\\utils\\linear_assignment_.py:124: FutureWarning: The linear_assignment function is deprecated in 0.21 and will be removed from 0.23. Use scipy.optimize.linear_sum_assignment instead.\n",
            "  warnings.warn(\n"
          ]
        },
        {
          "name": "stdout",
          "output_type": "stream",
          "text": [
            "acc: 0.53141, nmi: 0.71568\n",
            "satisfied constraints: 1.00000\n",
            "#Epoch 186: Total: 0.0078 Clustering Loss: 0.0070 Reconstruction Loss: 0.0008\n",
            "acc: 0.53209, nmi: 0.71705\n",
            "satisfied constraints: 1.00000\n",
            "#Epoch 187: Total: 0.0077 Clustering Loss: 0.0068 Reconstruction Loss: 0.0009\n",
            "acc: 0.53209, nmi: 0.71661\n",
            "satisfied constraints: 1.00000\n"
          ]
        },
        {
          "name": "stderr",
          "output_type": "stream",
          "text": [
            "c:\\Users\\japik\\anaconda3\\lib\\site-packages\\sklearn\\utils\\linear_assignment_.py:124: FutureWarning: The linear_assignment function is deprecated in 0.21 and will be removed from 0.23. Use scipy.optimize.linear_sum_assignment instead.\n",
            "  warnings.warn(\n",
            "c:\\Users\\japik\\anaconda3\\lib\\site-packages\\sklearn\\utils\\linear_assignment_.py:124: FutureWarning: The linear_assignment function is deprecated in 0.21 and will be removed from 0.23. Use scipy.optimize.linear_sum_assignment instead.\n",
            "  warnings.warn(\n",
            "c:\\Users\\japik\\anaconda3\\lib\\site-packages\\sklearn\\utils\\linear_assignment_.py:124: FutureWarning: The linear_assignment function is deprecated in 0.21 and will be removed from 0.23. Use scipy.optimize.linear_sum_assignment instead.\n",
            "  warnings.warn(\n",
            "c:\\Users\\japik\\anaconda3\\lib\\site-packages\\sklearn\\utils\\linear_assignment_.py:124: FutureWarning: The linear_assignment function is deprecated in 0.21 and will be removed from 0.23. Use scipy.optimize.linear_sum_assignment instead.\n",
            "  warnings.warn(\n",
            "c:\\Users\\japik\\anaconda3\\lib\\site-packages\\sklearn\\utils\\linear_assignment_.py:124: FutureWarning: The linear_assignment function is deprecated in 0.21 and will be removed from 0.23. Use scipy.optimize.linear_sum_assignment instead.\n",
            "  warnings.warn(\n",
            "c:\\Users\\japik\\anaconda3\\lib\\site-packages\\sklearn\\utils\\linear_assignment_.py:124: FutureWarning: The linear_assignment function is deprecated in 0.21 and will be removed from 0.23. Use scipy.optimize.linear_sum_assignment instead.\n",
            "  warnings.warn(\n",
            "c:\\Users\\japik\\anaconda3\\lib\\site-packages\\sklearn\\utils\\linear_assignment_.py:124: FutureWarning: The linear_assignment function is deprecated in 0.21 and will be removed from 0.23. Use scipy.optimize.linear_sum_assignment instead.\n",
            "  warnings.warn(\n",
            "c:\\Users\\japik\\anaconda3\\lib\\site-packages\\sklearn\\utils\\linear_assignment_.py:124: FutureWarning: The linear_assignment function is deprecated in 0.21 and will be removed from 0.23. Use scipy.optimize.linear_sum_assignment instead.\n",
            "  warnings.warn(\n"
          ]
        },
        {
          "name": "stdout",
          "output_type": "stream",
          "text": [
            "#Epoch 188: Total: 0.0081 Clustering Loss: 0.0069 Reconstruction Loss: 0.0012\n",
            "acc: 0.53294, nmi: 0.71770\n",
            "satisfied constraints: 1.00000\n",
            "#Epoch 189: Total: 0.0084 Clustering Loss: 0.0071 Reconstruction Loss: 0.0012\n",
            "acc: 0.53277, nmi: 0.71751\n",
            "satisfied constraints: 1.00000\n",
            "#Epoch 190: Total: 0.0089 Clustering Loss: 0.0075 Reconstruction Loss: 0.0014\n"
          ]
        },
        {
          "name": "stderr",
          "output_type": "stream",
          "text": [
            "c:\\Users\\japik\\anaconda3\\lib\\site-packages\\sklearn\\utils\\linear_assignment_.py:124: FutureWarning: The linear_assignment function is deprecated in 0.21 and will be removed from 0.23. Use scipy.optimize.linear_sum_assignment instead.\n",
            "  warnings.warn(\n",
            "c:\\Users\\japik\\anaconda3\\lib\\site-packages\\sklearn\\utils\\linear_assignment_.py:124: FutureWarning: The linear_assignment function is deprecated in 0.21 and will be removed from 0.23. Use scipy.optimize.linear_sum_assignment instead.\n",
            "  warnings.warn(\n",
            "c:\\Users\\japik\\anaconda3\\lib\\site-packages\\sklearn\\utils\\linear_assignment_.py:124: FutureWarning: The linear_assignment function is deprecated in 0.21 and will be removed from 0.23. Use scipy.optimize.linear_sum_assignment instead.\n",
            "  warnings.warn(\n",
            "c:\\Users\\japik\\anaconda3\\lib\\site-packages\\sklearn\\utils\\linear_assignment_.py:124: FutureWarning: The linear_assignment function is deprecated in 0.21 and will be removed from 0.23. Use scipy.optimize.linear_sum_assignment instead.\n",
            "  warnings.warn(\n"
          ]
        },
        {
          "name": "stdout",
          "output_type": "stream",
          "text": [
            "acc: 0.53328, nmi: 0.71805\n",
            "satisfied constraints: 1.00000\n",
            "#Epoch 191: Total: 0.0094 Clustering Loss: 0.0078 Reconstruction Loss: 0.0016\n",
            "acc: 0.53277, nmi: 0.71838\n",
            "satisfied constraints: 1.00000\n"
          ]
        },
        {
          "name": "stderr",
          "output_type": "stream",
          "text": [
            "c:\\Users\\japik\\anaconda3\\lib\\site-packages\\sklearn\\utils\\linear_assignment_.py:124: FutureWarning: The linear_assignment function is deprecated in 0.21 and will be removed from 0.23. Use scipy.optimize.linear_sum_assignment instead.\n",
            "  warnings.warn(\n",
            "c:\\Users\\japik\\anaconda3\\lib\\site-packages\\sklearn\\utils\\linear_assignment_.py:124: FutureWarning: The linear_assignment function is deprecated in 0.21 and will be removed from 0.23. Use scipy.optimize.linear_sum_assignment instead.\n",
            "  warnings.warn(\n",
            "c:\\Users\\japik\\anaconda3\\lib\\site-packages\\sklearn\\utils\\linear_assignment_.py:124: FutureWarning: The linear_assignment function is deprecated in 0.21 and will be removed from 0.23. Use scipy.optimize.linear_sum_assignment instead.\n",
            "  warnings.warn(\n",
            "c:\\Users\\japik\\anaconda3\\lib\\site-packages\\sklearn\\utils\\linear_assignment_.py:124: FutureWarning: The linear_assignment function is deprecated in 0.21 and will be removed from 0.23. Use scipy.optimize.linear_sum_assignment instead.\n",
            "  warnings.warn(\n",
            "c:\\Users\\japik\\anaconda3\\lib\\site-packages\\sklearn\\utils\\linear_assignment_.py:124: FutureWarning: The linear_assignment function is deprecated in 0.21 and will be removed from 0.23. Use scipy.optimize.linear_sum_assignment instead.\n",
            "  warnings.warn(\n"
          ]
        },
        {
          "name": "stdout",
          "output_type": "stream",
          "text": [
            "#Epoch 192: Total: 0.0084 Clustering Loss: 0.0069 Reconstruction Loss: 0.0015\n",
            "acc: 0.53345, nmi: 0.71934\n",
            "satisfied constraints: 1.00000\n",
            "#Epoch 193: Total: 0.0080 Clustering Loss: 0.0067 Reconstruction Loss: 0.0013\n",
            "acc: 0.53497, nmi: 0.71904\n",
            "satisfied constraints: 1.00000\n",
            "#Epoch 194: Total: 0.0082 Clustering Loss: 0.0071 Reconstruction Loss: 0.0011\n"
          ]
        },
        {
          "name": "stderr",
          "output_type": "stream",
          "text": [
            "c:\\Users\\japik\\anaconda3\\lib\\site-packages\\sklearn\\utils\\linear_assignment_.py:124: FutureWarning: The linear_assignment function is deprecated in 0.21 and will be removed from 0.23. Use scipy.optimize.linear_sum_assignment instead.\n",
            "  warnings.warn(\n",
            "c:\\Users\\japik\\anaconda3\\lib\\site-packages\\sklearn\\utils\\linear_assignment_.py:124: FutureWarning: The linear_assignment function is deprecated in 0.21 and will be removed from 0.23. Use scipy.optimize.linear_sum_assignment instead.\n",
            "  warnings.warn(\n",
            "c:\\Users\\japik\\anaconda3\\lib\\site-packages\\sklearn\\utils\\linear_assignment_.py:124: FutureWarning: The linear_assignment function is deprecated in 0.21 and will be removed from 0.23. Use scipy.optimize.linear_sum_assignment instead.\n",
            "  warnings.warn(\n",
            "c:\\Users\\japik\\anaconda3\\lib\\site-packages\\sklearn\\utils\\linear_assignment_.py:124: FutureWarning: The linear_assignment function is deprecated in 0.21 and will be removed from 0.23. Use scipy.optimize.linear_sum_assignment instead.\n",
            "  warnings.warn(\n"
          ]
        },
        {
          "name": "stdout",
          "output_type": "stream",
          "text": [
            "acc: 0.53565, nmi: 0.71906\n",
            "satisfied constraints: 1.00000\n",
            "#Epoch 195: Total: 0.0083 Clustering Loss: 0.0067 Reconstruction Loss: 0.0016\n",
            "acc: 0.53565, nmi: 0.71854\n",
            "satisfied constraints: 1.00000\n",
            "#Epoch 196: Total: 0.0077 Clustering Loss: 0.0065 Reconstruction Loss: 0.0011\n"
          ]
        },
        {
          "name": "stderr",
          "output_type": "stream",
          "text": [
            "c:\\Users\\japik\\anaconda3\\lib\\site-packages\\sklearn\\utils\\linear_assignment_.py:124: FutureWarning: The linear_assignment function is deprecated in 0.21 and will be removed from 0.23. Use scipy.optimize.linear_sum_assignment instead.\n",
            "  warnings.warn(\n",
            "c:\\Users\\japik\\anaconda3\\lib\\site-packages\\sklearn\\utils\\linear_assignment_.py:124: FutureWarning: The linear_assignment function is deprecated in 0.21 and will be removed from 0.23. Use scipy.optimize.linear_sum_assignment instead.\n",
            "  warnings.warn(\n",
            "c:\\Users\\japik\\anaconda3\\lib\\site-packages\\sklearn\\utils\\linear_assignment_.py:124: FutureWarning: The linear_assignment function is deprecated in 0.21 and will be removed from 0.23. Use scipy.optimize.linear_sum_assignment instead.\n",
            "  warnings.warn(\n",
            "c:\\Users\\japik\\anaconda3\\lib\\site-packages\\sklearn\\utils\\linear_assignment_.py:124: FutureWarning: The linear_assignment function is deprecated in 0.21 and will be removed from 0.23. Use scipy.optimize.linear_sum_assignment instead.\n",
            "  warnings.warn(\n",
            "c:\\Users\\japik\\anaconda3\\lib\\site-packages\\sklearn\\utils\\linear_assignment_.py:124: FutureWarning: The linear_assignment function is deprecated in 0.21 and will be removed from 0.23. Use scipy.optimize.linear_sum_assignment instead.\n",
            "  warnings.warn(\n"
          ]
        },
        {
          "name": "stdout",
          "output_type": "stream",
          "text": [
            "acc: 0.53531, nmi: 0.71872\n",
            "satisfied constraints: 1.00000\n",
            "#Epoch 197: Total: 0.0074 Clustering Loss: 0.0063 Reconstruction Loss: 0.0011\n",
            "acc: 0.53582, nmi: 0.71858\n",
            "satisfied constraints: 1.00000\n",
            "#Epoch 198: Total: 0.0069 Clustering Loss: 0.0063 Reconstruction Loss: 0.0006\n",
            "acc: 0.53582, nmi: 0.71921\n",
            "satisfied constraints: 1.00000\n",
            "#Epoch 199: Total: 0.0067 Clustering Loss: 0.0062 Reconstruction Loss: 0.0005\n",
            "acc: 0.53565, nmi: 0.71954\n",
            "satisfied constraints: 1.00000\n",
            "#Epoch 200: Total: 0.0067 Clustering Loss: 0.0061 Reconstruction Loss: 0.0005\n"
          ]
        },
        {
          "name": "stderr",
          "output_type": "stream",
          "text": [
            "c:\\Users\\japik\\anaconda3\\lib\\site-packages\\sklearn\\utils\\linear_assignment_.py:124: FutureWarning: The linear_assignment function is deprecated in 0.21 and will be removed from 0.23. Use scipy.optimize.linear_sum_assignment instead.\n",
            "  warnings.warn(\n",
            "c:\\Users\\japik\\anaconda3\\lib\\site-packages\\sklearn\\utils\\linear_assignment_.py:124: FutureWarning: The linear_assignment function is deprecated in 0.21 and will be removed from 0.23. Use scipy.optimize.linear_sum_assignment instead.\n",
            "  warnings.warn(\n",
            "c:\\Users\\japik\\anaconda3\\lib\\site-packages\\sklearn\\utils\\linear_assignment_.py:124: FutureWarning: The linear_assignment function is deprecated in 0.21 and will be removed from 0.23. Use scipy.optimize.linear_sum_assignment instead.\n",
            "  warnings.warn(\n",
            "c:\\Users\\japik\\anaconda3\\lib\\site-packages\\sklearn\\utils\\linear_assignment_.py:124: FutureWarning: The linear_assignment function is deprecated in 0.21 and will be removed from 0.23. Use scipy.optimize.linear_sum_assignment instead.\n",
            "  warnings.warn(\n"
          ]
        },
        {
          "name": "stdout",
          "output_type": "stream",
          "text": [
            "acc: 0.53582, nmi: 0.71899\n",
            "satisfied constraints: 1.00000\n",
            "#Epoch 201: Total: 0.0067 Clustering Loss: 0.0061 Reconstruction Loss: 0.0005\n",
            "acc: 0.53463, nmi: 0.71901\n",
            "satisfied constraints: 1.00000\n",
            "#Epoch 202: Total: 0.0067 Clustering Loss: 0.0062 Reconstruction Loss: 0.0005\n",
            "acc: 0.53243, nmi: 0.71894\n",
            "satisfied constraints: 1.00000\n"
          ]
        },
        {
          "name": "stderr",
          "output_type": "stream",
          "text": [
            "c:\\Users\\japik\\anaconda3\\lib\\site-packages\\sklearn\\utils\\linear_assignment_.py:124: FutureWarning: The linear_assignment function is deprecated in 0.21 and will be removed from 0.23. Use scipy.optimize.linear_sum_assignment instead.\n",
            "  warnings.warn(\n",
            "c:\\Users\\japik\\anaconda3\\lib\\site-packages\\sklearn\\utils\\linear_assignment_.py:124: FutureWarning: The linear_assignment function is deprecated in 0.21 and will be removed from 0.23. Use scipy.optimize.linear_sum_assignment instead.\n",
            "  warnings.warn(\n",
            "c:\\Users\\japik\\anaconda3\\lib\\site-packages\\sklearn\\utils\\linear_assignment_.py:124: FutureWarning: The linear_assignment function is deprecated in 0.21 and will be removed from 0.23. Use scipy.optimize.linear_sum_assignment instead.\n",
            "  warnings.warn(\n",
            "c:\\Users\\japik\\anaconda3\\lib\\site-packages\\sklearn\\utils\\linear_assignment_.py:124: FutureWarning: The linear_assignment function is deprecated in 0.21 and will be removed from 0.23. Use scipy.optimize.linear_sum_assignment instead.\n",
            "  warnings.warn(\n",
            "c:\\Users\\japik\\anaconda3\\lib\\site-packages\\sklearn\\utils\\linear_assignment_.py:124: FutureWarning: The linear_assignment function is deprecated in 0.21 and will be removed from 0.23. Use scipy.optimize.linear_sum_assignment instead.\n",
            "  warnings.warn(\n"
          ]
        },
        {
          "name": "stdout",
          "output_type": "stream",
          "text": [
            "#Epoch 203: Total: 0.0071 Clustering Loss: 0.0064 Reconstruction Loss: 0.0007\n",
            "acc: 0.53006, nmi: 0.71792\n",
            "satisfied constraints: 1.00000\n",
            "#Epoch 204: Total: 0.0080 Clustering Loss: 0.0069 Reconstruction Loss: 0.0012\n",
            "acc: 0.53243, nmi: 0.71915\n",
            "satisfied constraints: 1.00000\n",
            "#Epoch 205: Total: 0.0075 Clustering Loss: 0.0061 Reconstruction Loss: 0.0014\n"
          ]
        },
        {
          "name": "stderr",
          "output_type": "stream",
          "text": [
            "c:\\Users\\japik\\anaconda3\\lib\\site-packages\\sklearn\\utils\\linear_assignment_.py:124: FutureWarning: The linear_assignment function is deprecated in 0.21 and will be removed from 0.23. Use scipy.optimize.linear_sum_assignment instead.\n",
            "  warnings.warn(\n",
            "c:\\Users\\japik\\anaconda3\\lib\\site-packages\\sklearn\\utils\\linear_assignment_.py:124: FutureWarning: The linear_assignment function is deprecated in 0.21 and will be removed from 0.23. Use scipy.optimize.linear_sum_assignment instead.\n",
            "  warnings.warn(\n",
            "c:\\Users\\japik\\anaconda3\\lib\\site-packages\\sklearn\\utils\\linear_assignment_.py:124: FutureWarning: The linear_assignment function is deprecated in 0.21 and will be removed from 0.23. Use scipy.optimize.linear_sum_assignment instead.\n",
            "  warnings.warn(\n",
            "c:\\Users\\japik\\anaconda3\\lib\\site-packages\\sklearn\\utils\\linear_assignment_.py:124: FutureWarning: The linear_assignment function is deprecated in 0.21 and will be removed from 0.23. Use scipy.optimize.linear_sum_assignment instead.\n",
            "  warnings.warn(\n",
            "c:\\Users\\japik\\anaconda3\\lib\\site-packages\\sklearn\\utils\\linear_assignment_.py:124: FutureWarning: The linear_assignment function is deprecated in 0.21 and will be removed from 0.23. Use scipy.optimize.linear_sum_assignment instead.\n",
            "  warnings.warn(\n"
          ]
        },
        {
          "name": "stdout",
          "output_type": "stream",
          "text": [
            "acc: 0.52633, nmi: 0.71805\n",
            "satisfied constraints: 1.00000\n",
            "#Epoch 206: Total: 0.0075 Clustering Loss: 0.0066 Reconstruction Loss: 0.0008\n",
            "acc: 0.52583, nmi: 0.71836\n",
            "satisfied constraints: 1.00000\n",
            "#Epoch 207: Total: 0.0074 Clustering Loss: 0.0064 Reconstruction Loss: 0.0009\n",
            "acc: 0.52566, nmi: 0.71913\n",
            "satisfied constraints: 1.00000\n"
          ]
        },
        {
          "name": "stderr",
          "output_type": "stream",
          "text": [
            "c:\\Users\\japik\\anaconda3\\lib\\site-packages\\sklearn\\utils\\linear_assignment_.py:124: FutureWarning: The linear_assignment function is deprecated in 0.21 and will be removed from 0.23. Use scipy.optimize.linear_sum_assignment instead.\n",
            "  warnings.warn(\n",
            "c:\\Users\\japik\\anaconda3\\lib\\site-packages\\sklearn\\utils\\linear_assignment_.py:124: FutureWarning: The linear_assignment function is deprecated in 0.21 and will be removed from 0.23. Use scipy.optimize.linear_sum_assignment instead.\n",
            "  warnings.warn(\n",
            "c:\\Users\\japik\\anaconda3\\lib\\site-packages\\sklearn\\utils\\linear_assignment_.py:124: FutureWarning: The linear_assignment function is deprecated in 0.21 and will be removed from 0.23. Use scipy.optimize.linear_sum_assignment instead.\n",
            "  warnings.warn(\n",
            "c:\\Users\\japik\\anaconda3\\lib\\site-packages\\sklearn\\utils\\linear_assignment_.py:124: FutureWarning: The linear_assignment function is deprecated in 0.21 and will be removed from 0.23. Use scipy.optimize.linear_sum_assignment instead.\n",
            "  warnings.warn(\n",
            "c:\\Users\\japik\\anaconda3\\lib\\site-packages\\sklearn\\utils\\linear_assignment_.py:124: FutureWarning: The linear_assignment function is deprecated in 0.21 and will be removed from 0.23. Use scipy.optimize.linear_sum_assignment instead.\n",
            "  warnings.warn(\n"
          ]
        },
        {
          "name": "stdout",
          "output_type": "stream",
          "text": [
            "#Epoch 208: Total: 0.0075 Clustering Loss: 0.0065 Reconstruction Loss: 0.0009\n",
            "acc: 0.52633, nmi: 0.71964\n",
            "satisfied constraints: 1.00000\n",
            "#Epoch 209: Total: 0.0078 Clustering Loss: 0.0067 Reconstruction Loss: 0.0011\n",
            "acc: 0.52633, nmi: 0.71930\n",
            "satisfied constraints: 1.00000\n",
            "#Epoch 210: Total: 0.0082 Clustering Loss: 0.0066 Reconstruction Loss: 0.0015\n"
          ]
        },
        {
          "name": "stderr",
          "output_type": "stream",
          "text": [
            "c:\\Users\\japik\\anaconda3\\lib\\site-packages\\sklearn\\utils\\linear_assignment_.py:124: FutureWarning: The linear_assignment function is deprecated in 0.21 and will be removed from 0.23. Use scipy.optimize.linear_sum_assignment instead.\n",
            "  warnings.warn(\n",
            "c:\\Users\\japik\\anaconda3\\lib\\site-packages\\sklearn\\utils\\linear_assignment_.py:124: FutureWarning: The linear_assignment function is deprecated in 0.21 and will be removed from 0.23. Use scipy.optimize.linear_sum_assignment instead.\n",
            "  warnings.warn(\n",
            "c:\\Users\\japik\\anaconda3\\lib\\site-packages\\sklearn\\utils\\linear_assignment_.py:124: FutureWarning: The linear_assignment function is deprecated in 0.21 and will be removed from 0.23. Use scipy.optimize.linear_sum_assignment instead.\n",
            "  warnings.warn(\n",
            "c:\\Users\\japik\\anaconda3\\lib\\site-packages\\sklearn\\utils\\linear_assignment_.py:124: FutureWarning: The linear_assignment function is deprecated in 0.21 and will be removed from 0.23. Use scipy.optimize.linear_sum_assignment instead.\n",
            "  warnings.warn(\n",
            "c:\\Users\\japik\\anaconda3\\lib\\site-packages\\sklearn\\utils\\linear_assignment_.py:124: FutureWarning: The linear_assignment function is deprecated in 0.21 and will be removed from 0.23. Use scipy.optimize.linear_sum_assignment instead.\n",
            "  warnings.warn(\n",
            "c:\\Users\\japik\\anaconda3\\lib\\site-packages\\sklearn\\utils\\linear_assignment_.py:124: FutureWarning: The linear_assignment function is deprecated in 0.21 and will be removed from 0.23. Use scipy.optimize.linear_sum_assignment instead.\n",
            "  warnings.warn(\n"
          ]
        },
        {
          "name": "stdout",
          "output_type": "stream",
          "text": [
            "acc: 0.52430, nmi: 0.71845\n",
            "satisfied constraints: 1.00000\n",
            "#Epoch 211: Total: 0.0084 Clustering Loss: 0.0068 Reconstruction Loss: 0.0016\n",
            "acc: 0.52430, nmi: 0.71888\n",
            "satisfied constraints: 1.00000\n",
            "#Epoch 212: Total: 0.0081 Clustering Loss: 0.0066 Reconstruction Loss: 0.0015\n"
          ]
        },
        {
          "name": "stderr",
          "output_type": "stream",
          "text": [
            "c:\\Users\\japik\\anaconda3\\lib\\site-packages\\sklearn\\utils\\linear_assignment_.py:124: FutureWarning: The linear_assignment function is deprecated in 0.21 and will be removed from 0.23. Use scipy.optimize.linear_sum_assignment instead.\n",
            "  warnings.warn(\n",
            "c:\\Users\\japik\\anaconda3\\lib\\site-packages\\sklearn\\utils\\linear_assignment_.py:124: FutureWarning: The linear_assignment function is deprecated in 0.21 and will be removed from 0.23. Use scipy.optimize.linear_sum_assignment instead.\n",
            "  warnings.warn(\n",
            "c:\\Users\\japik\\anaconda3\\lib\\site-packages\\sklearn\\utils\\linear_assignment_.py:124: FutureWarning: The linear_assignment function is deprecated in 0.21 and will be removed from 0.23. Use scipy.optimize.linear_sum_assignment instead.\n",
            "  warnings.warn(\n",
            "c:\\Users\\japik\\anaconda3\\lib\\site-packages\\sklearn\\utils\\linear_assignment_.py:124: FutureWarning: The linear_assignment function is deprecated in 0.21 and will be removed from 0.23. Use scipy.optimize.linear_sum_assignment instead.\n",
            "  warnings.warn(\n",
            "c:\\Users\\japik\\anaconda3\\lib\\site-packages\\sklearn\\utils\\linear_assignment_.py:124: FutureWarning: The linear_assignment function is deprecated in 0.21 and will be removed from 0.23. Use scipy.optimize.linear_sum_assignment instead.\n",
            "  warnings.warn(\n"
          ]
        },
        {
          "name": "stdout",
          "output_type": "stream",
          "text": [
            "acc: 0.52498, nmi: 0.71923\n",
            "satisfied constraints: 1.00000\n",
            "#Epoch 213: Total: 0.0075 Clustering Loss: 0.0064 Reconstruction Loss: 0.0011\n",
            "acc: 0.52599, nmi: 0.71845\n",
            "satisfied constraints: 1.00000\n",
            "#Epoch 214: Total: 0.0070 Clustering Loss: 0.0060 Reconstruction Loss: 0.0010\n",
            "acc: 0.52718, nmi: 0.71779\n",
            "satisfied constraints: 1.00000\n"
          ]
        },
        {
          "name": "stderr",
          "output_type": "stream",
          "text": [
            "c:\\Users\\japik\\anaconda3\\lib\\site-packages\\sklearn\\utils\\linear_assignment_.py:124: FutureWarning: The linear_assignment function is deprecated in 0.21 and will be removed from 0.23. Use scipy.optimize.linear_sum_assignment instead.\n",
            "  warnings.warn(\n",
            "c:\\Users\\japik\\anaconda3\\lib\\site-packages\\sklearn\\utils\\linear_assignment_.py:124: FutureWarning: The linear_assignment function is deprecated in 0.21 and will be removed from 0.23. Use scipy.optimize.linear_sum_assignment instead.\n",
            "  warnings.warn(\n",
            "c:\\Users\\japik\\anaconda3\\lib\\site-packages\\sklearn\\utils\\linear_assignment_.py:124: FutureWarning: The linear_assignment function is deprecated in 0.21 and will be removed from 0.23. Use scipy.optimize.linear_sum_assignment instead.\n",
            "  warnings.warn(\n",
            "c:\\Users\\japik\\anaconda3\\lib\\site-packages\\sklearn\\utils\\linear_assignment_.py:124: FutureWarning: The linear_assignment function is deprecated in 0.21 and will be removed from 0.23. Use scipy.optimize.linear_sum_assignment instead.\n",
            "  warnings.warn(\n",
            "c:\\Users\\japik\\anaconda3\\lib\\site-packages\\sklearn\\utils\\linear_assignment_.py:124: FutureWarning: The linear_assignment function is deprecated in 0.21 and will be removed from 0.23. Use scipy.optimize.linear_sum_assignment instead.\n",
            "  warnings.warn(\n"
          ]
        },
        {
          "name": "stdout",
          "output_type": "stream",
          "text": [
            "#Epoch 215: Total: 0.0065 Clustering Loss: 0.0058 Reconstruction Loss: 0.0007\n",
            "acc: 0.53023, nmi: 0.71897\n",
            "satisfied constraints: 1.00000\n",
            "#Epoch 216: Total: 0.0062 Clustering Loss: 0.0057 Reconstruction Loss: 0.0005\n",
            "acc: 0.52803, nmi: 0.71829\n",
            "satisfied constraints: 1.00000\n",
            "#Epoch 217: Total: 0.0067 Clustering Loss: 0.0057 Reconstruction Loss: 0.0011\n"
          ]
        },
        {
          "name": "stderr",
          "output_type": "stream",
          "text": [
            "c:\\Users\\japik\\anaconda3\\lib\\site-packages\\sklearn\\utils\\linear_assignment_.py:124: FutureWarning: The linear_assignment function is deprecated in 0.21 and will be removed from 0.23. Use scipy.optimize.linear_sum_assignment instead.\n",
            "  warnings.warn(\n",
            "c:\\Users\\japik\\anaconda3\\lib\\site-packages\\sklearn\\utils\\linear_assignment_.py:124: FutureWarning: The linear_assignment function is deprecated in 0.21 and will be removed from 0.23. Use scipy.optimize.linear_sum_assignment instead.\n",
            "  warnings.warn(\n",
            "c:\\Users\\japik\\anaconda3\\lib\\site-packages\\sklearn\\utils\\linear_assignment_.py:124: FutureWarning: The linear_assignment function is deprecated in 0.21 and will be removed from 0.23. Use scipy.optimize.linear_sum_assignment instead.\n",
            "  warnings.warn(\n",
            "c:\\Users\\japik\\anaconda3\\lib\\site-packages\\sklearn\\utils\\linear_assignment_.py:124: FutureWarning: The linear_assignment function is deprecated in 0.21 and will be removed from 0.23. Use scipy.optimize.linear_sum_assignment instead.\n",
            "  warnings.warn(\n"
          ]
        },
        {
          "name": "stdout",
          "output_type": "stream",
          "text": [
            "acc: 0.52718, nmi: 0.72070\n",
            "satisfied constraints: 1.00000\n",
            "#Epoch 218: Total: 0.0069 Clustering Loss: 0.0057 Reconstruction Loss: 0.0011\n",
            "acc: 0.52515, nmi: 0.71901\n",
            "satisfied constraints: 1.00000\n",
            "#Epoch 219: Total: 0.0068 Clustering Loss: 0.0057 Reconstruction Loss: 0.0011\n",
            "acc: 0.52616, nmi: 0.72027\n",
            "satisfied constraints: 1.00000\n"
          ]
        },
        {
          "name": "stderr",
          "output_type": "stream",
          "text": [
            "c:\\Users\\japik\\anaconda3\\lib\\site-packages\\sklearn\\utils\\linear_assignment_.py:124: FutureWarning: The linear_assignment function is deprecated in 0.21 and will be removed from 0.23. Use scipy.optimize.linear_sum_assignment instead.\n",
            "  warnings.warn(\n",
            "c:\\Users\\japik\\anaconda3\\lib\\site-packages\\sklearn\\utils\\linear_assignment_.py:124: FutureWarning: The linear_assignment function is deprecated in 0.21 and will be removed from 0.23. Use scipy.optimize.linear_sum_assignment instead.\n",
            "  warnings.warn(\n",
            "c:\\Users\\japik\\anaconda3\\lib\\site-packages\\sklearn\\utils\\linear_assignment_.py:124: FutureWarning: The linear_assignment function is deprecated in 0.21 and will be removed from 0.23. Use scipy.optimize.linear_sum_assignment instead.\n",
            "  warnings.warn(\n",
            "c:\\Users\\japik\\anaconda3\\lib\\site-packages\\sklearn\\utils\\linear_assignment_.py:124: FutureWarning: The linear_assignment function is deprecated in 0.21 and will be removed from 0.23. Use scipy.optimize.linear_sum_assignment instead.\n",
            "  warnings.warn(\n",
            "c:\\Users\\japik\\anaconda3\\lib\\site-packages\\sklearn\\utils\\linear_assignment_.py:124: FutureWarning: The linear_assignment function is deprecated in 0.21 and will be removed from 0.23. Use scipy.optimize.linear_sum_assignment instead.\n",
            "  warnings.warn(\n"
          ]
        },
        {
          "name": "stdout",
          "output_type": "stream",
          "text": [
            "#Epoch 220: Total: 0.0065 Clustering Loss: 0.0056 Reconstruction Loss: 0.0009\n",
            "acc: 0.52362, nmi: 0.71882\n",
            "satisfied constraints: 1.00000\n",
            "#Epoch 221: Total: 0.0063 Clustering Loss: 0.0058 Reconstruction Loss: 0.0005\n",
            "acc: 0.52329, nmi: 0.71876\n",
            "satisfied constraints: 1.00000\n",
            "#Epoch 222: Total: 0.0063 Clustering Loss: 0.0057 Reconstruction Loss: 0.0006\n"
          ]
        },
        {
          "name": "stderr",
          "output_type": "stream",
          "text": [
            "c:\\Users\\japik\\anaconda3\\lib\\site-packages\\sklearn\\utils\\linear_assignment_.py:124: FutureWarning: The linear_assignment function is deprecated in 0.21 and will be removed from 0.23. Use scipy.optimize.linear_sum_assignment instead.\n",
            "  warnings.warn(\n",
            "c:\\Users\\japik\\anaconda3\\lib\\site-packages\\sklearn\\utils\\linear_assignment_.py:124: FutureWarning: The linear_assignment function is deprecated in 0.21 and will be removed from 0.23. Use scipy.optimize.linear_sum_assignment instead.\n",
            "  warnings.warn(\n",
            "c:\\Users\\japik\\anaconda3\\lib\\site-packages\\sklearn\\utils\\linear_assignment_.py:124: FutureWarning: The linear_assignment function is deprecated in 0.21 and will be removed from 0.23. Use scipy.optimize.linear_sum_assignment instead.\n",
            "  warnings.warn(\n",
            "c:\\Users\\japik\\anaconda3\\lib\\site-packages\\sklearn\\utils\\linear_assignment_.py:124: FutureWarning: The linear_assignment function is deprecated in 0.21 and will be removed from 0.23. Use scipy.optimize.linear_sum_assignment instead.\n",
            "  warnings.warn(\n"
          ]
        },
        {
          "name": "stdout",
          "output_type": "stream",
          "text": [
            "acc: 0.52227, nmi: 0.71864\n",
            "satisfied constraints: 1.00000\n",
            "#Epoch 223: Total: 0.0064 Clustering Loss: 0.0058 Reconstruction Loss: 0.0006\n",
            "acc: 0.52295, nmi: 0.71874\n",
            "satisfied constraints: 1.00000\n",
            "#Epoch 224: Total: 0.0063 Clustering Loss: 0.0058 Reconstruction Loss: 0.0005\n",
            "acc: 0.52515, nmi: 0.71881\n",
            "satisfied constraints: 1.00000\n"
          ]
        },
        {
          "name": "stderr",
          "output_type": "stream",
          "text": [
            "c:\\Users\\japik\\anaconda3\\lib\\site-packages\\sklearn\\utils\\linear_assignment_.py:124: FutureWarning: The linear_assignment function is deprecated in 0.21 and will be removed from 0.23. Use scipy.optimize.linear_sum_assignment instead.\n",
            "  warnings.warn(\n",
            "c:\\Users\\japik\\anaconda3\\lib\\site-packages\\sklearn\\utils\\linear_assignment_.py:124: FutureWarning: The linear_assignment function is deprecated in 0.21 and will be removed from 0.23. Use scipy.optimize.linear_sum_assignment instead.\n",
            "  warnings.warn(\n",
            "c:\\Users\\japik\\anaconda3\\lib\\site-packages\\sklearn\\utils\\linear_assignment_.py:124: FutureWarning: The linear_assignment function is deprecated in 0.21 and will be removed from 0.23. Use scipy.optimize.linear_sum_assignment instead.\n",
            "  warnings.warn(\n",
            "c:\\Users\\japik\\anaconda3\\lib\\site-packages\\sklearn\\utils\\linear_assignment_.py:124: FutureWarning: The linear_assignment function is deprecated in 0.21 and will be removed from 0.23. Use scipy.optimize.linear_sum_assignment instead.\n",
            "  warnings.warn(\n",
            "c:\\Users\\japik\\anaconda3\\lib\\site-packages\\sklearn\\utils\\linear_assignment_.py:124: FutureWarning: The linear_assignment function is deprecated in 0.21 and will be removed from 0.23. Use scipy.optimize.linear_sum_assignment instead.\n",
            "  warnings.warn(\n"
          ]
        },
        {
          "name": "stdout",
          "output_type": "stream",
          "text": [
            "#Epoch 225: Total: 0.0064 Clustering Loss: 0.0058 Reconstruction Loss: 0.0006\n",
            "acc: 0.52633, nmi: 0.71876\n",
            "satisfied constraints: 1.00000\n",
            "#Epoch 226: Total: 0.0065 Clustering Loss: 0.0057 Reconstruction Loss: 0.0007\n",
            "acc: 0.52803, nmi: 0.71841\n",
            "satisfied constraints: 1.00000\n",
            "#Epoch 227: Total: 0.0066 Clustering Loss: 0.0058 Reconstruction Loss: 0.0008\n"
          ]
        },
        {
          "name": "stderr",
          "output_type": "stream",
          "text": [
            "c:\\Users\\japik\\anaconda3\\lib\\site-packages\\sklearn\\utils\\linear_assignment_.py:124: FutureWarning: The linear_assignment function is deprecated in 0.21 and will be removed from 0.23. Use scipy.optimize.linear_sum_assignment instead.\n",
            "  warnings.warn(\n",
            "c:\\Users\\japik\\anaconda3\\lib\\site-packages\\sklearn\\utils\\linear_assignment_.py:124: FutureWarning: The linear_assignment function is deprecated in 0.21 and will be removed from 0.23. Use scipy.optimize.linear_sum_assignment instead.\n",
            "  warnings.warn(\n",
            "c:\\Users\\japik\\anaconda3\\lib\\site-packages\\sklearn\\utils\\linear_assignment_.py:124: FutureWarning: The linear_assignment function is deprecated in 0.21 and will be removed from 0.23. Use scipy.optimize.linear_sum_assignment instead.\n",
            "  warnings.warn(\n",
            "c:\\Users\\japik\\anaconda3\\lib\\site-packages\\sklearn\\utils\\linear_assignment_.py:124: FutureWarning: The linear_assignment function is deprecated in 0.21 and will be removed from 0.23. Use scipy.optimize.linear_sum_assignment instead.\n",
            "  warnings.warn(\n",
            "c:\\Users\\japik\\anaconda3\\lib\\site-packages\\sklearn\\utils\\linear_assignment_.py:124: FutureWarning: The linear_assignment function is deprecated in 0.21 and will be removed from 0.23. Use scipy.optimize.linear_sum_assignment instead.\n",
            "  warnings.warn(\n",
            "c:\\Users\\japik\\anaconda3\\lib\\site-packages\\sklearn\\utils\\linear_assignment_.py:124: FutureWarning: The linear_assignment function is deprecated in 0.21 and will be removed from 0.23. Use scipy.optimize.linear_sum_assignment instead.\n",
            "  warnings.warn(\n"
          ]
        },
        {
          "name": "stdout",
          "output_type": "stream",
          "text": [
            "acc: 0.52989, nmi: 0.71831\n",
            "satisfied constraints: 1.00000\n",
            "#Epoch 228: Total: 0.0066 Clustering Loss: 0.0058 Reconstruction Loss: 0.0008\n",
            "acc: 0.53091, nmi: 0.71880\n",
            "satisfied constraints: 1.00000\n",
            "#Epoch 229: Total: 0.0064 Clustering Loss: 0.0058 Reconstruction Loss: 0.0007\n"
          ]
        },
        {
          "name": "stderr",
          "output_type": "stream",
          "text": [
            "c:\\Users\\japik\\anaconda3\\lib\\site-packages\\sklearn\\utils\\linear_assignment_.py:124: FutureWarning: The linear_assignment function is deprecated in 0.21 and will be removed from 0.23. Use scipy.optimize.linear_sum_assignment instead.\n",
            "  warnings.warn(\n",
            "c:\\Users\\japik\\anaconda3\\lib\\site-packages\\sklearn\\utils\\linear_assignment_.py:124: FutureWarning: The linear_assignment function is deprecated in 0.21 and will be removed from 0.23. Use scipy.optimize.linear_sum_assignment instead.\n",
            "  warnings.warn(\n",
            "c:\\Users\\japik\\anaconda3\\lib\\site-packages\\sklearn\\utils\\linear_assignment_.py:124: FutureWarning: The linear_assignment function is deprecated in 0.21 and will be removed from 0.23. Use scipy.optimize.linear_sum_assignment instead.\n",
            "  warnings.warn(\n",
            "c:\\Users\\japik\\anaconda3\\lib\\site-packages\\sklearn\\utils\\linear_assignment_.py:124: FutureWarning: The linear_assignment function is deprecated in 0.21 and will be removed from 0.23. Use scipy.optimize.linear_sum_assignment instead.\n",
            "  warnings.warn(\n",
            "c:\\Users\\japik\\anaconda3\\lib\\site-packages\\sklearn\\utils\\linear_assignment_.py:124: FutureWarning: The linear_assignment function is deprecated in 0.21 and will be removed from 0.23. Use scipy.optimize.linear_sum_assignment instead.\n",
            "  warnings.warn(\n"
          ]
        },
        {
          "name": "stdout",
          "output_type": "stream",
          "text": [
            "acc: 0.53175, nmi: 0.71867\n",
            "satisfied constraints: 1.00000\n",
            "#Epoch 230: Total: 0.0062 Clustering Loss: 0.0057 Reconstruction Loss: 0.0005\n",
            "acc: 0.53446, nmi: 0.71925\n",
            "satisfied constraints: 1.00000\n",
            "#Epoch 231: Total: 0.0060 Clustering Loss: 0.0056 Reconstruction Loss: 0.0005\n",
            "acc: 0.53649, nmi: 0.71994\n",
            "satisfied constraints: 1.00000\n"
          ]
        },
        {
          "name": "stderr",
          "output_type": "stream",
          "text": [
            "c:\\Users\\japik\\anaconda3\\lib\\site-packages\\sklearn\\utils\\linear_assignment_.py:124: FutureWarning: The linear_assignment function is deprecated in 0.21 and will be removed from 0.23. Use scipy.optimize.linear_sum_assignment instead.\n",
            "  warnings.warn(\n",
            "c:\\Users\\japik\\anaconda3\\lib\\site-packages\\sklearn\\utils\\linear_assignment_.py:124: FutureWarning: The linear_assignment function is deprecated in 0.21 and will be removed from 0.23. Use scipy.optimize.linear_sum_assignment instead.\n",
            "  warnings.warn(\n",
            "c:\\Users\\japik\\anaconda3\\lib\\site-packages\\sklearn\\utils\\linear_assignment_.py:124: FutureWarning: The linear_assignment function is deprecated in 0.21 and will be removed from 0.23. Use scipy.optimize.linear_sum_assignment instead.\n",
            "  warnings.warn(\n",
            "c:\\Users\\japik\\anaconda3\\lib\\site-packages\\sklearn\\utils\\linear_assignment_.py:124: FutureWarning: The linear_assignment function is deprecated in 0.21 and will be removed from 0.23. Use scipy.optimize.linear_sum_assignment instead.\n",
            "  warnings.warn(\n",
            "c:\\Users\\japik\\anaconda3\\lib\\site-packages\\sklearn\\utils\\linear_assignment_.py:124: FutureWarning: The linear_assignment function is deprecated in 0.21 and will be removed from 0.23. Use scipy.optimize.linear_sum_assignment instead.\n",
            "  warnings.warn(\n"
          ]
        },
        {
          "name": "stdout",
          "output_type": "stream",
          "text": [
            "#Epoch 232: Total: 0.0061 Clustering Loss: 0.0055 Reconstruction Loss: 0.0007\n",
            "acc: 0.53853, nmi: 0.72025\n",
            "satisfied constraints: 1.00000\n",
            "#Epoch 233: Total: 0.0060 Clustering Loss: 0.0054 Reconstruction Loss: 0.0006\n",
            "acc: 0.53870, nmi: 0.72050\n",
            "satisfied constraints: 1.00000\n",
            "#Epoch 234: Total: 0.0060 Clustering Loss: 0.0054 Reconstruction Loss: 0.0006\n"
          ]
        },
        {
          "name": "stderr",
          "output_type": "stream",
          "text": [
            "c:\\Users\\japik\\anaconda3\\lib\\site-packages\\sklearn\\utils\\linear_assignment_.py:124: FutureWarning: The linear_assignment function is deprecated in 0.21 and will be removed from 0.23. Use scipy.optimize.linear_sum_assignment instead.\n",
            "  warnings.warn(\n",
            "c:\\Users\\japik\\anaconda3\\lib\\site-packages\\sklearn\\utils\\linear_assignment_.py:124: FutureWarning: The linear_assignment function is deprecated in 0.21 and will be removed from 0.23. Use scipy.optimize.linear_sum_assignment instead.\n",
            "  warnings.warn(\n",
            "c:\\Users\\japik\\anaconda3\\lib\\site-packages\\sklearn\\utils\\linear_assignment_.py:124: FutureWarning: The linear_assignment function is deprecated in 0.21 and will be removed from 0.23. Use scipy.optimize.linear_sum_assignment instead.\n",
            "  warnings.warn(\n",
            "c:\\Users\\japik\\anaconda3\\lib\\site-packages\\sklearn\\utils\\linear_assignment_.py:124: FutureWarning: The linear_assignment function is deprecated in 0.21 and will be removed from 0.23. Use scipy.optimize.linear_sum_assignment instead.\n",
            "  warnings.warn(\n",
            "c:\\Users\\japik\\anaconda3\\lib\\site-packages\\sklearn\\utils\\linear_assignment_.py:124: FutureWarning: The linear_assignment function is deprecated in 0.21 and will be removed from 0.23. Use scipy.optimize.linear_sum_assignment instead.\n",
            "  warnings.warn(\n",
            "c:\\Users\\japik\\anaconda3\\lib\\site-packages\\sklearn\\utils\\linear_assignment_.py:124: FutureWarning: The linear_assignment function is deprecated in 0.21 and will be removed from 0.23. Use scipy.optimize.linear_sum_assignment instead.\n",
            "  warnings.warn(\n"
          ]
        },
        {
          "name": "stdout",
          "output_type": "stream",
          "text": [
            "acc: 0.53920, nmi: 0.72055\n",
            "satisfied constraints: 1.00000\n",
            "#Epoch 235: Total: 0.0061 Clustering Loss: 0.0054 Reconstruction Loss: 0.0007\n",
            "acc: 0.54174, nmi: 0.72155\n",
            "satisfied constraints: 1.00000\n",
            "#Epoch 236: Total: 0.0059 Clustering Loss: 0.0053 Reconstruction Loss: 0.0006\n",
            "acc: 0.54361, nmi: 0.72169\n",
            "satisfied constraints: 1.00000\n"
          ]
        },
        {
          "name": "stderr",
          "output_type": "stream",
          "text": [
            "c:\\Users\\japik\\anaconda3\\lib\\site-packages\\sklearn\\utils\\linear_assignment_.py:124: FutureWarning: The linear_assignment function is deprecated in 0.21 and will be removed from 0.23. Use scipy.optimize.linear_sum_assignment instead.\n",
            "  warnings.warn(\n",
            "c:\\Users\\japik\\anaconda3\\lib\\site-packages\\sklearn\\utils\\linear_assignment_.py:124: FutureWarning: The linear_assignment function is deprecated in 0.21 and will be removed from 0.23. Use scipy.optimize.linear_sum_assignment instead.\n",
            "  warnings.warn(\n",
            "c:\\Users\\japik\\anaconda3\\lib\\site-packages\\sklearn\\utils\\linear_assignment_.py:124: FutureWarning: The linear_assignment function is deprecated in 0.21 and will be removed from 0.23. Use scipy.optimize.linear_sum_assignment instead.\n",
            "  warnings.warn(\n",
            "c:\\Users\\japik\\anaconda3\\lib\\site-packages\\sklearn\\utils\\linear_assignment_.py:124: FutureWarning: The linear_assignment function is deprecated in 0.21 and will be removed from 0.23. Use scipy.optimize.linear_sum_assignment instead.\n",
            "  warnings.warn(\n",
            "c:\\Users\\japik\\anaconda3\\lib\\site-packages\\sklearn\\utils\\linear_assignment_.py:124: FutureWarning: The linear_assignment function is deprecated in 0.21 and will be removed from 0.23. Use scipy.optimize.linear_sum_assignment instead.\n",
            "  warnings.warn(\n"
          ]
        },
        {
          "name": "stdout",
          "output_type": "stream",
          "text": [
            "#Epoch 237: Total: 0.0059 Clustering Loss: 0.0053 Reconstruction Loss: 0.0005\n",
            "acc: 0.54530, nmi: 0.72208\n",
            "satisfied constraints: 1.00000\n",
            "#Epoch 238: Total: 0.0059 Clustering Loss: 0.0054 Reconstruction Loss: 0.0005\n",
            "acc: 0.54513, nmi: 0.72145\n",
            "satisfied constraints: 1.00000\n",
            "#Epoch 239: Total: 0.0060 Clustering Loss: 0.0053 Reconstruction Loss: 0.0007\n"
          ]
        },
        {
          "name": "stderr",
          "output_type": "stream",
          "text": [
            "c:\\Users\\japik\\anaconda3\\lib\\site-packages\\sklearn\\utils\\linear_assignment_.py:124: FutureWarning: The linear_assignment function is deprecated in 0.21 and will be removed from 0.23. Use scipy.optimize.linear_sum_assignment instead.\n",
            "  warnings.warn(\n",
            "c:\\Users\\japik\\anaconda3\\lib\\site-packages\\sklearn\\utils\\linear_assignment_.py:124: FutureWarning: The linear_assignment function is deprecated in 0.21 and will be removed from 0.23. Use scipy.optimize.linear_sum_assignment instead.\n",
            "  warnings.warn(\n",
            "c:\\Users\\japik\\anaconda3\\lib\\site-packages\\sklearn\\utils\\linear_assignment_.py:124: FutureWarning: The linear_assignment function is deprecated in 0.21 and will be removed from 0.23. Use scipy.optimize.linear_sum_assignment instead.\n",
            "  warnings.warn(\n",
            "c:\\Users\\japik\\anaconda3\\lib\\site-packages\\sklearn\\utils\\linear_assignment_.py:124: FutureWarning: The linear_assignment function is deprecated in 0.21 and will be removed from 0.23. Use scipy.optimize.linear_sum_assignment instead.\n",
            "  warnings.warn(\n"
          ]
        },
        {
          "name": "stdout",
          "output_type": "stream",
          "text": [
            "acc: 0.54649, nmi: 0.72223\n",
            "satisfied constraints: 1.00000\n",
            "#Epoch 240: Total: 0.0059 Clustering Loss: 0.0053 Reconstruction Loss: 0.0007\n",
            "acc: 0.54767, nmi: 0.72230\n",
            "satisfied constraints: 1.00000\n",
            "#Epoch 241: Total: 0.0058 Clustering Loss: 0.0053 Reconstruction Loss: 0.0005\n"
          ]
        },
        {
          "name": "stderr",
          "output_type": "stream",
          "text": [
            "c:\\Users\\japik\\anaconda3\\lib\\site-packages\\sklearn\\utils\\linear_assignment_.py:124: FutureWarning: The linear_assignment function is deprecated in 0.21 and will be removed from 0.23. Use scipy.optimize.linear_sum_assignment instead.\n",
            "  warnings.warn(\n",
            "c:\\Users\\japik\\anaconda3\\lib\\site-packages\\sklearn\\utils\\linear_assignment_.py:124: FutureWarning: The linear_assignment function is deprecated in 0.21 and will be removed from 0.23. Use scipy.optimize.linear_sum_assignment instead.\n",
            "  warnings.warn(\n",
            "c:\\Users\\japik\\anaconda3\\lib\\site-packages\\sklearn\\utils\\linear_assignment_.py:124: FutureWarning: The linear_assignment function is deprecated in 0.21 and will be removed from 0.23. Use scipy.optimize.linear_sum_assignment instead.\n",
            "  warnings.warn(\n",
            "c:\\Users\\japik\\anaconda3\\lib\\site-packages\\sklearn\\utils\\linear_assignment_.py:124: FutureWarning: The linear_assignment function is deprecated in 0.21 and will be removed from 0.23. Use scipy.optimize.linear_sum_assignment instead.\n",
            "  warnings.warn(\n",
            "c:\\Users\\japik\\anaconda3\\lib\\site-packages\\sklearn\\utils\\linear_assignment_.py:124: FutureWarning: The linear_assignment function is deprecated in 0.21 and will be removed from 0.23. Use scipy.optimize.linear_sum_assignment instead.\n",
            "  warnings.warn(\n"
          ]
        },
        {
          "name": "stdout",
          "output_type": "stream",
          "text": [
            "acc: 0.54903, nmi: 0.72215\n",
            "satisfied constraints: 1.00000\n",
            "#Epoch 242: Total: 0.0059 Clustering Loss: 0.0053 Reconstruction Loss: 0.0006\n",
            "acc: 0.55055, nmi: 0.72222\n",
            "satisfied constraints: 1.00000\n",
            "#Epoch 243: Total: 0.0060 Clustering Loss: 0.0053 Reconstruction Loss: 0.0007\n",
            "acc: 0.55207, nmi: 0.72264\n",
            "satisfied constraints: 1.00000\n"
          ]
        },
        {
          "name": "stderr",
          "output_type": "stream",
          "text": [
            "c:\\Users\\japik\\anaconda3\\lib\\site-packages\\sklearn\\utils\\linear_assignment_.py:124: FutureWarning: The linear_assignment function is deprecated in 0.21 and will be removed from 0.23. Use scipy.optimize.linear_sum_assignment instead.\n",
            "  warnings.warn(\n",
            "c:\\Users\\japik\\anaconda3\\lib\\site-packages\\sklearn\\utils\\linear_assignment_.py:124: FutureWarning: The linear_assignment function is deprecated in 0.21 and will be removed from 0.23. Use scipy.optimize.linear_sum_assignment instead.\n",
            "  warnings.warn(\n",
            "c:\\Users\\japik\\anaconda3\\lib\\site-packages\\sklearn\\utils\\linear_assignment_.py:124: FutureWarning: The linear_assignment function is deprecated in 0.21 and will be removed from 0.23. Use scipy.optimize.linear_sum_assignment instead.\n",
            "  warnings.warn(\n",
            "c:\\Users\\japik\\anaconda3\\lib\\site-packages\\sklearn\\utils\\linear_assignment_.py:124: FutureWarning: The linear_assignment function is deprecated in 0.21 and will be removed from 0.23. Use scipy.optimize.linear_sum_assignment instead.\n",
            "  warnings.warn(\n",
            "c:\\Users\\japik\\anaconda3\\lib\\site-packages\\sklearn\\utils\\linear_assignment_.py:124: FutureWarning: The linear_assignment function is deprecated in 0.21 and will be removed from 0.23. Use scipy.optimize.linear_sum_assignment instead.\n",
            "  warnings.warn(\n",
            "c:\\Users\\japik\\anaconda3\\lib\\site-packages\\sklearn\\utils\\linear_assignment_.py:124: FutureWarning: The linear_assignment function is deprecated in 0.21 and will be removed from 0.23. Use scipy.optimize.linear_sum_assignment instead.\n",
            "  warnings.warn(\n"
          ]
        },
        {
          "name": "stdout",
          "output_type": "stream",
          "text": [
            "#Epoch 244: Total: 0.0059 Clustering Loss: 0.0052 Reconstruction Loss: 0.0007\n",
            "acc: 0.55292, nmi: 0.72239\n",
            "satisfied constraints: 1.00000\n",
            "#Epoch 245: Total: 0.0059 Clustering Loss: 0.0051 Reconstruction Loss: 0.0008\n",
            "acc: 0.55241, nmi: 0.72261\n",
            "satisfied constraints: 1.00000\n",
            "#Epoch 246: Total: 0.0058 Clustering Loss: 0.0051 Reconstruction Loss: 0.0007\n"
          ]
        },
        {
          "name": "stderr",
          "output_type": "stream",
          "text": [
            "c:\\Users\\japik\\anaconda3\\lib\\site-packages\\sklearn\\utils\\linear_assignment_.py:124: FutureWarning: The linear_assignment function is deprecated in 0.21 and will be removed from 0.23. Use scipy.optimize.linear_sum_assignment instead.\n",
            "  warnings.warn(\n",
            "c:\\Users\\japik\\anaconda3\\lib\\site-packages\\sklearn\\utils\\linear_assignment_.py:124: FutureWarning: The linear_assignment function is deprecated in 0.21 and will be removed from 0.23. Use scipy.optimize.linear_sum_assignment instead.\n",
            "  warnings.warn(\n",
            "c:\\Users\\japik\\anaconda3\\lib\\site-packages\\sklearn\\utils\\linear_assignment_.py:124: FutureWarning: The linear_assignment function is deprecated in 0.21 and will be removed from 0.23. Use scipy.optimize.linear_sum_assignment instead.\n",
            "  warnings.warn(\n",
            "c:\\Users\\japik\\anaconda3\\lib\\site-packages\\sklearn\\utils\\linear_assignment_.py:124: FutureWarning: The linear_assignment function is deprecated in 0.21 and will be removed from 0.23. Use scipy.optimize.linear_sum_assignment instead.\n",
            "  warnings.warn(\n",
            "c:\\Users\\japik\\anaconda3\\lib\\site-packages\\sklearn\\utils\\linear_assignment_.py:124: FutureWarning: The linear_assignment function is deprecated in 0.21 and will be removed from 0.23. Use scipy.optimize.linear_sum_assignment instead.\n",
            "  warnings.warn(\n",
            "c:\\Users\\japik\\anaconda3\\lib\\site-packages\\sklearn\\utils\\linear_assignment_.py:124: FutureWarning: The linear_assignment function is deprecated in 0.21 and will be removed from 0.23. Use scipy.optimize.linear_sum_assignment instead.\n",
            "  warnings.warn(\n"
          ]
        },
        {
          "name": "stdout",
          "output_type": "stream",
          "text": [
            "acc: 0.55563, nmi: 0.72278\n",
            "satisfied constraints: 1.00000\n",
            "#Epoch 247: Total: 0.0061 Clustering Loss: 0.0051 Reconstruction Loss: 0.0010\n",
            "acc: 0.55275, nmi: 0.72285\n",
            "satisfied constraints: 1.00000\n",
            "#Epoch 248: Total: 0.0057 Clustering Loss: 0.0051 Reconstruction Loss: 0.0007\n",
            "acc: 0.55563, nmi: 0.72270\n",
            "satisfied constraints: 1.00000\n"
          ]
        },
        {
          "name": "stderr",
          "output_type": "stream",
          "text": [
            "c:\\Users\\japik\\anaconda3\\lib\\site-packages\\sklearn\\utils\\linear_assignment_.py:124: FutureWarning: The linear_assignment function is deprecated in 0.21 and will be removed from 0.23. Use scipy.optimize.linear_sum_assignment instead.\n",
            "  warnings.warn(\n",
            "c:\\Users\\japik\\anaconda3\\lib\\site-packages\\sklearn\\utils\\linear_assignment_.py:124: FutureWarning: The linear_assignment function is deprecated in 0.21 and will be removed from 0.23. Use scipy.optimize.linear_sum_assignment instead.\n",
            "  warnings.warn(\n",
            "c:\\Users\\japik\\anaconda3\\lib\\site-packages\\sklearn\\utils\\linear_assignment_.py:124: FutureWarning: The linear_assignment function is deprecated in 0.21 and will be removed from 0.23. Use scipy.optimize.linear_sum_assignment instead.\n",
            "  warnings.warn(\n",
            "c:\\Users\\japik\\anaconda3\\lib\\site-packages\\sklearn\\utils\\linear_assignment_.py:124: FutureWarning: The linear_assignment function is deprecated in 0.21 and will be removed from 0.23. Use scipy.optimize.linear_sum_assignment instead.\n",
            "  warnings.warn(\n"
          ]
        },
        {
          "name": "stdout",
          "output_type": "stream",
          "text": [
            "#Epoch 249: Total: 0.0063 Clustering Loss: 0.0052 Reconstruction Loss: 0.0011\n",
            "acc: 0.55614, nmi: 0.72408\n",
            "satisfied constraints: 1.00000\n",
            "#Epoch 250: Total: 0.0056 Clustering Loss: 0.0051 Reconstruction Loss: 0.0005\n",
            "acc: 0.55665, nmi: 0.72273\n",
            "satisfied constraints: 1.00000\n",
            "#Epoch 251: Total: 0.0064 Clustering Loss: 0.0052 Reconstruction Loss: 0.0011\n"
          ]
        },
        {
          "name": "stderr",
          "output_type": "stream",
          "text": [
            "c:\\Users\\japik\\anaconda3\\lib\\site-packages\\sklearn\\utils\\linear_assignment_.py:124: FutureWarning: The linear_assignment function is deprecated in 0.21 and will be removed from 0.23. Use scipy.optimize.linear_sum_assignment instead.\n",
            "  warnings.warn(\n",
            "c:\\Users\\japik\\anaconda3\\lib\\site-packages\\sklearn\\utils\\linear_assignment_.py:124: FutureWarning: The linear_assignment function is deprecated in 0.21 and will be removed from 0.23. Use scipy.optimize.linear_sum_assignment instead.\n",
            "  warnings.warn(\n",
            "c:\\Users\\japik\\anaconda3\\lib\\site-packages\\sklearn\\utils\\linear_assignment_.py:124: FutureWarning: The linear_assignment function is deprecated in 0.21 and will be removed from 0.23. Use scipy.optimize.linear_sum_assignment instead.\n",
            "  warnings.warn(\n",
            "c:\\Users\\japik\\anaconda3\\lib\\site-packages\\sklearn\\utils\\linear_assignment_.py:124: FutureWarning: The linear_assignment function is deprecated in 0.21 and will be removed from 0.23. Use scipy.optimize.linear_sum_assignment instead.\n",
            "  warnings.warn(\n",
            "c:\\Users\\japik\\anaconda3\\lib\\site-packages\\sklearn\\utils\\linear_assignment_.py:124: FutureWarning: The linear_assignment function is deprecated in 0.21 and will be removed from 0.23. Use scipy.optimize.linear_sum_assignment instead.\n",
            "  warnings.warn(\n"
          ]
        },
        {
          "name": "stdout",
          "output_type": "stream",
          "text": [
            "acc: 0.56071, nmi: 0.72358\n",
            "satisfied constraints: 1.00000\n",
            "#Epoch 252: Total: 0.0057 Clustering Loss: 0.0050 Reconstruction Loss: 0.0007\n",
            "acc: 0.55953, nmi: 0.72286\n",
            "satisfied constraints: 1.00000\n",
            "#Epoch 253: Total: 0.0055 Clustering Loss: 0.0050 Reconstruction Loss: 0.0006\n",
            "acc: 0.56190, nmi: 0.72377\n",
            "satisfied constraints: 1.00000\n"
          ]
        },
        {
          "name": "stderr",
          "output_type": "stream",
          "text": [
            "c:\\Users\\japik\\anaconda3\\lib\\site-packages\\sklearn\\utils\\linear_assignment_.py:124: FutureWarning: The linear_assignment function is deprecated in 0.21 and will be removed from 0.23. Use scipy.optimize.linear_sum_assignment instead.\n",
            "  warnings.warn(\n",
            "c:\\Users\\japik\\anaconda3\\lib\\site-packages\\sklearn\\utils\\linear_assignment_.py:124: FutureWarning: The linear_assignment function is deprecated in 0.21 and will be removed from 0.23. Use scipy.optimize.linear_sum_assignment instead.\n",
            "  warnings.warn(\n",
            "c:\\Users\\japik\\anaconda3\\lib\\site-packages\\sklearn\\utils\\linear_assignment_.py:124: FutureWarning: The linear_assignment function is deprecated in 0.21 and will be removed from 0.23. Use scipy.optimize.linear_sum_assignment instead.\n",
            "  warnings.warn(\n",
            "c:\\Users\\japik\\anaconda3\\lib\\site-packages\\sklearn\\utils\\linear_assignment_.py:124: FutureWarning: The linear_assignment function is deprecated in 0.21 and will be removed from 0.23. Use scipy.optimize.linear_sum_assignment instead.\n",
            "  warnings.warn(\n"
          ]
        },
        {
          "name": "stdout",
          "output_type": "stream",
          "text": [
            "#Epoch 254: Total: 0.0057 Clustering Loss: 0.0049 Reconstruction Loss: 0.0008\n",
            "acc: 0.56359, nmi: 0.72319\n",
            "satisfied constraints: 1.00000\n",
            "#Epoch 255: Total: 0.0053 Clustering Loss: 0.0049 Reconstruction Loss: 0.0004\n",
            "acc: 0.56647, nmi: 0.72394\n",
            "satisfied constraints: 1.00000\n",
            "#Epoch 256: Total: 0.0057 Clustering Loss: 0.0049 Reconstruction Loss: 0.0008\n"
          ]
        },
        {
          "name": "stderr",
          "output_type": "stream",
          "text": [
            "c:\\Users\\japik\\anaconda3\\lib\\site-packages\\sklearn\\utils\\linear_assignment_.py:124: FutureWarning: The linear_assignment function is deprecated in 0.21 and will be removed from 0.23. Use scipy.optimize.linear_sum_assignment instead.\n",
            "  warnings.warn(\n",
            "c:\\Users\\japik\\anaconda3\\lib\\site-packages\\sklearn\\utils\\linear_assignment_.py:124: FutureWarning: The linear_assignment function is deprecated in 0.21 and will be removed from 0.23. Use scipy.optimize.linear_sum_assignment instead.\n",
            "  warnings.warn(\n",
            "c:\\Users\\japik\\anaconda3\\lib\\site-packages\\sklearn\\utils\\linear_assignment_.py:124: FutureWarning: The linear_assignment function is deprecated in 0.21 and will be removed from 0.23. Use scipy.optimize.linear_sum_assignment instead.\n",
            "  warnings.warn(\n",
            "c:\\Users\\japik\\anaconda3\\lib\\site-packages\\sklearn\\utils\\linear_assignment_.py:124: FutureWarning: The linear_assignment function is deprecated in 0.21 and will be removed from 0.23. Use scipy.optimize.linear_sum_assignment instead.\n",
            "  warnings.warn(\n",
            "c:\\Users\\japik\\anaconda3\\lib\\site-packages\\sklearn\\utils\\linear_assignment_.py:124: FutureWarning: The linear_assignment function is deprecated in 0.21 and will be removed from 0.23. Use scipy.optimize.linear_sum_assignment instead.\n",
            "  warnings.warn(\n"
          ]
        },
        {
          "name": "stdout",
          "output_type": "stream",
          "text": [
            "acc: 0.56749, nmi: 0.72340\n",
            "satisfied constraints: 1.00000\n",
            "#Epoch 257: Total: 0.0055 Clustering Loss: 0.0048 Reconstruction Loss: 0.0007\n",
            "acc: 0.57003, nmi: 0.72434\n",
            "satisfied constraints: 1.00000\n",
            "#Epoch 258: Total: 0.0058 Clustering Loss: 0.0048 Reconstruction Loss: 0.0009\n",
            "acc: 0.56816, nmi: 0.72350\n",
            "satisfied constraints: 1.00000\n"
          ]
        },
        {
          "name": "stderr",
          "output_type": "stream",
          "text": [
            "c:\\Users\\japik\\anaconda3\\lib\\site-packages\\sklearn\\utils\\linear_assignment_.py:124: FutureWarning: The linear_assignment function is deprecated in 0.21 and will be removed from 0.23. Use scipy.optimize.linear_sum_assignment instead.\n",
            "  warnings.warn(\n",
            "c:\\Users\\japik\\anaconda3\\lib\\site-packages\\sklearn\\utils\\linear_assignment_.py:124: FutureWarning: The linear_assignment function is deprecated in 0.21 and will be removed from 0.23. Use scipy.optimize.linear_sum_assignment instead.\n",
            "  warnings.warn(\n",
            "c:\\Users\\japik\\anaconda3\\lib\\site-packages\\sklearn\\utils\\linear_assignment_.py:124: FutureWarning: The linear_assignment function is deprecated in 0.21 and will be removed from 0.23. Use scipy.optimize.linear_sum_assignment instead.\n",
            "  warnings.warn(\n",
            "c:\\Users\\japik\\anaconda3\\lib\\site-packages\\sklearn\\utils\\linear_assignment_.py:124: FutureWarning: The linear_assignment function is deprecated in 0.21 and will be removed from 0.23. Use scipy.optimize.linear_sum_assignment instead.\n",
            "  warnings.warn(\n"
          ]
        },
        {
          "name": "stdout",
          "output_type": "stream",
          "text": [
            "#Epoch 259: Total: 0.0055 Clustering Loss: 0.0048 Reconstruction Loss: 0.0007\n",
            "acc: 0.57172, nmi: 0.72408\n",
            "satisfied constraints: 1.00000\n",
            "#Epoch 260: Total: 0.0057 Clustering Loss: 0.0048 Reconstruction Loss: 0.0009\n",
            "acc: 0.57121, nmi: 0.72334\n",
            "satisfied constraints: 1.00000\n",
            "#Epoch 261: Total: 0.0057 Clustering Loss: 0.0049 Reconstruction Loss: 0.0008\n"
          ]
        },
        {
          "name": "stderr",
          "output_type": "stream",
          "text": [
            "c:\\Users\\japik\\anaconda3\\lib\\site-packages\\sklearn\\utils\\linear_assignment_.py:124: FutureWarning: The linear_assignment function is deprecated in 0.21 and will be removed from 0.23. Use scipy.optimize.linear_sum_assignment instead.\n",
            "  warnings.warn(\n",
            "c:\\Users\\japik\\anaconda3\\lib\\site-packages\\sklearn\\utils\\linear_assignment_.py:124: FutureWarning: The linear_assignment function is deprecated in 0.21 and will be removed from 0.23. Use scipy.optimize.linear_sum_assignment instead.\n",
            "  warnings.warn(\n",
            "c:\\Users\\japik\\anaconda3\\lib\\site-packages\\sklearn\\utils\\linear_assignment_.py:124: FutureWarning: The linear_assignment function is deprecated in 0.21 and will be removed from 0.23. Use scipy.optimize.linear_sum_assignment instead.\n",
            "  warnings.warn(\n",
            "c:\\Users\\japik\\anaconda3\\lib\\site-packages\\sklearn\\utils\\linear_assignment_.py:124: FutureWarning: The linear_assignment function is deprecated in 0.21 and will be removed from 0.23. Use scipy.optimize.linear_sum_assignment instead.\n",
            "  warnings.warn(\n",
            "c:\\Users\\japik\\anaconda3\\lib\\site-packages\\sklearn\\utils\\linear_assignment_.py:124: FutureWarning: The linear_assignment function is deprecated in 0.21 and will be removed from 0.23. Use scipy.optimize.linear_sum_assignment instead.\n",
            "  warnings.warn(\n",
            "c:\\Users\\japik\\anaconda3\\lib\\site-packages\\sklearn\\utils\\linear_assignment_.py:124: FutureWarning: The linear_assignment function is deprecated in 0.21 and will be removed from 0.23. Use scipy.optimize.linear_sum_assignment instead.\n",
            "  warnings.warn(\n"
          ]
        },
        {
          "name": "stdout",
          "output_type": "stream",
          "text": [
            "acc: 0.57172, nmi: 0.72392\n",
            "satisfied constraints: 1.00000\n",
            "#Epoch 262: Total: 0.0057 Clustering Loss: 0.0049 Reconstruction Loss: 0.0008\n",
            "acc: 0.56765, nmi: 0.72297\n",
            "satisfied constraints: 1.00000\n",
            "#Epoch 263: Total: 0.0057 Clustering Loss: 0.0049 Reconstruction Loss: 0.0007\n",
            "acc: 0.56867, nmi: 0.72257\n",
            "satisfied constraints: 1.00000\n"
          ]
        },
        {
          "name": "stderr",
          "output_type": "stream",
          "text": [
            "c:\\Users\\japik\\anaconda3\\lib\\site-packages\\sklearn\\utils\\linear_assignment_.py:124: FutureWarning: The linear_assignment function is deprecated in 0.21 and will be removed from 0.23. Use scipy.optimize.linear_sum_assignment instead.\n",
            "  warnings.warn(\n",
            "c:\\Users\\japik\\anaconda3\\lib\\site-packages\\sklearn\\utils\\linear_assignment_.py:124: FutureWarning: The linear_assignment function is deprecated in 0.21 and will be removed from 0.23. Use scipy.optimize.linear_sum_assignment instead.\n",
            "  warnings.warn(\n",
            "c:\\Users\\japik\\anaconda3\\lib\\site-packages\\sklearn\\utils\\linear_assignment_.py:124: FutureWarning: The linear_assignment function is deprecated in 0.21 and will be removed from 0.23. Use scipy.optimize.linear_sum_assignment instead.\n",
            "  warnings.warn(\n",
            "c:\\Users\\japik\\anaconda3\\lib\\site-packages\\sklearn\\utils\\linear_assignment_.py:124: FutureWarning: The linear_assignment function is deprecated in 0.21 and will be removed from 0.23. Use scipy.optimize.linear_sum_assignment instead.\n",
            "  warnings.warn(\n"
          ]
        },
        {
          "name": "stdout",
          "output_type": "stream",
          "text": [
            "#Epoch 264: Total: 0.0059 Clustering Loss: 0.0048 Reconstruction Loss: 0.0011\n",
            "acc: 0.56342, nmi: 0.72088\n",
            "satisfied constraints: 1.00000\n",
            "#Epoch 265: Total: 0.0059 Clustering Loss: 0.0050 Reconstruction Loss: 0.0009\n",
            "acc: 0.56291, nmi: 0.72164\n",
            "satisfied constraints: 1.00000\n",
            "#Epoch 266: Total: 0.0061 Clustering Loss: 0.0049 Reconstruction Loss: 0.0012\n"
          ]
        },
        {
          "name": "stderr",
          "output_type": "stream",
          "text": [
            "c:\\Users\\japik\\anaconda3\\lib\\site-packages\\sklearn\\utils\\linear_assignment_.py:124: FutureWarning: The linear_assignment function is deprecated in 0.21 and will be removed from 0.23. Use scipy.optimize.linear_sum_assignment instead.\n",
            "  warnings.warn(\n",
            "c:\\Users\\japik\\anaconda3\\lib\\site-packages\\sklearn\\utils\\linear_assignment_.py:124: FutureWarning: The linear_assignment function is deprecated in 0.21 and will be removed from 0.23. Use scipy.optimize.linear_sum_assignment instead.\n",
            "  warnings.warn(\n",
            "c:\\Users\\japik\\anaconda3\\lib\\site-packages\\sklearn\\utils\\linear_assignment_.py:124: FutureWarning: The linear_assignment function is deprecated in 0.21 and will be removed from 0.23. Use scipy.optimize.linear_sum_assignment instead.\n",
            "  warnings.warn(\n",
            "c:\\Users\\japik\\anaconda3\\lib\\site-packages\\sklearn\\utils\\linear_assignment_.py:124: FutureWarning: The linear_assignment function is deprecated in 0.21 and will be removed from 0.23. Use scipy.optimize.linear_sum_assignment instead.\n",
            "  warnings.warn(\n"
          ]
        },
        {
          "name": "stdout",
          "output_type": "stream",
          "text": [
            "acc: 0.56037, nmi: 0.71984\n",
            "satisfied constraints: 1.00000\n",
            "#Epoch 267: Total: 0.0053 Clustering Loss: 0.0047 Reconstruction Loss: 0.0006\n",
            "acc: 0.55936, nmi: 0.72105\n",
            "satisfied constraints: 1.00000\n",
            "#Epoch 268: Total: 0.0055 Clustering Loss: 0.0047 Reconstruction Loss: 0.0007\n"
          ]
        },
        {
          "name": "stderr",
          "output_type": "stream",
          "text": [
            "c:\\Users\\japik\\anaconda3\\lib\\site-packages\\sklearn\\utils\\linear_assignment_.py:124: FutureWarning: The linear_assignment function is deprecated in 0.21 and will be removed from 0.23. Use scipy.optimize.linear_sum_assignment instead.\n",
            "  warnings.warn(\n",
            "c:\\Users\\japik\\anaconda3\\lib\\site-packages\\sklearn\\utils\\linear_assignment_.py:124: FutureWarning: The linear_assignment function is deprecated in 0.21 and will be removed from 0.23. Use scipy.optimize.linear_sum_assignment instead.\n",
            "  warnings.warn(\n",
            "c:\\Users\\japik\\anaconda3\\lib\\site-packages\\sklearn\\utils\\linear_assignment_.py:124: FutureWarning: The linear_assignment function is deprecated in 0.21 and will be removed from 0.23. Use scipy.optimize.linear_sum_assignment instead.\n",
            "  warnings.warn(\n",
            "c:\\Users\\japik\\anaconda3\\lib\\site-packages\\sklearn\\utils\\linear_assignment_.py:124: FutureWarning: The linear_assignment function is deprecated in 0.21 and will be removed from 0.23. Use scipy.optimize.linear_sum_assignment instead.\n",
            "  warnings.warn(\n",
            "c:\\Users\\japik\\anaconda3\\lib\\site-packages\\sklearn\\utils\\linear_assignment_.py:124: FutureWarning: The linear_assignment function is deprecated in 0.21 and will be removed from 0.23. Use scipy.optimize.linear_sum_assignment instead.\n",
            "  warnings.warn(\n"
          ]
        },
        {
          "name": "stdout",
          "output_type": "stream",
          "text": [
            "acc: 0.55868, nmi: 0.71987\n",
            "satisfied constraints: 1.00000\n",
            "#Epoch 269: Total: 0.0051 Clustering Loss: 0.0045 Reconstruction Loss: 0.0006\n",
            "acc: 0.55563, nmi: 0.72024\n",
            "satisfied constraints: 1.00000\n",
            "#Epoch 270: Total: 0.0051 Clustering Loss: 0.0045 Reconstruction Loss: 0.0006\n",
            "acc: 0.55563, nmi: 0.71952\n",
            "satisfied constraints: 1.00000\n"
          ]
        },
        {
          "name": "stderr",
          "output_type": "stream",
          "text": [
            "c:\\Users\\japik\\anaconda3\\lib\\site-packages\\sklearn\\utils\\linear_assignment_.py:124: FutureWarning: The linear_assignment function is deprecated in 0.21 and will be removed from 0.23. Use scipy.optimize.linear_sum_assignment instead.\n",
            "  warnings.warn(\n",
            "c:\\Users\\japik\\anaconda3\\lib\\site-packages\\sklearn\\utils\\linear_assignment_.py:124: FutureWarning: The linear_assignment function is deprecated in 0.21 and will be removed from 0.23. Use scipy.optimize.linear_sum_assignment instead.\n",
            "  warnings.warn(\n",
            "c:\\Users\\japik\\anaconda3\\lib\\site-packages\\sklearn\\utils\\linear_assignment_.py:124: FutureWarning: The linear_assignment function is deprecated in 0.21 and will be removed from 0.23. Use scipy.optimize.linear_sum_assignment instead.\n",
            "  warnings.warn(\n",
            "c:\\Users\\japik\\anaconda3\\lib\\site-packages\\sklearn\\utils\\linear_assignment_.py:124: FutureWarning: The linear_assignment function is deprecated in 0.21 and will be removed from 0.23. Use scipy.optimize.linear_sum_assignment instead.\n",
            "  warnings.warn(\n",
            "c:\\Users\\japik\\anaconda3\\lib\\site-packages\\sklearn\\utils\\linear_assignment_.py:124: FutureWarning: The linear_assignment function is deprecated in 0.21 and will be removed from 0.23. Use scipy.optimize.linear_sum_assignment instead.\n",
            "  warnings.warn(\n"
          ]
        },
        {
          "name": "stdout",
          "output_type": "stream",
          "text": [
            "#Epoch 271: Total: 0.0053 Clustering Loss: 0.0045 Reconstruction Loss: 0.0008\n",
            "acc: 0.55377, nmi: 0.71956\n",
            "satisfied constraints: 1.00000\n",
            "#Epoch 272: Total: 0.0053 Clustering Loss: 0.0045 Reconstruction Loss: 0.0009\n",
            "acc: 0.55292, nmi: 0.71910\n",
            "satisfied constraints: 1.00000\n",
            "#Epoch 273: Total: 0.0052 Clustering Loss: 0.0045 Reconstruction Loss: 0.0008\n"
          ]
        },
        {
          "name": "stderr",
          "output_type": "stream",
          "text": [
            "c:\\Users\\japik\\anaconda3\\lib\\site-packages\\sklearn\\utils\\linear_assignment_.py:124: FutureWarning: The linear_assignment function is deprecated in 0.21 and will be removed from 0.23. Use scipy.optimize.linear_sum_assignment instead.\n",
            "  warnings.warn(\n",
            "c:\\Users\\japik\\anaconda3\\lib\\site-packages\\sklearn\\utils\\linear_assignment_.py:124: FutureWarning: The linear_assignment function is deprecated in 0.21 and will be removed from 0.23. Use scipy.optimize.linear_sum_assignment instead.\n",
            "  warnings.warn(\n",
            "c:\\Users\\japik\\anaconda3\\lib\\site-packages\\sklearn\\utils\\linear_assignment_.py:124: FutureWarning: The linear_assignment function is deprecated in 0.21 and will be removed from 0.23. Use scipy.optimize.linear_sum_assignment instead.\n",
            "  warnings.warn(\n",
            "c:\\Users\\japik\\anaconda3\\lib\\site-packages\\sklearn\\utils\\linear_assignment_.py:124: FutureWarning: The linear_assignment function is deprecated in 0.21 and will be removed from 0.23. Use scipy.optimize.linear_sum_assignment instead.\n",
            "  warnings.warn(\n",
            "c:\\Users\\japik\\anaconda3\\lib\\site-packages\\sklearn\\utils\\linear_assignment_.py:124: FutureWarning: The linear_assignment function is deprecated in 0.21 and will be removed from 0.23. Use scipy.optimize.linear_sum_assignment instead.\n",
            "  warnings.warn(\n",
            "c:\\Users\\japik\\anaconda3\\lib\\site-packages\\sklearn\\utils\\linear_assignment_.py:124: FutureWarning: The linear_assignment function is deprecated in 0.21 and will be removed from 0.23. Use scipy.optimize.linear_sum_assignment instead.\n",
            "  warnings.warn(\n"
          ]
        },
        {
          "name": "stdout",
          "output_type": "stream",
          "text": [
            "acc: 0.55343, nmi: 0.71933\n",
            "satisfied constraints: 1.00000\n",
            "#Epoch 274: Total: 0.0056 Clustering Loss: 0.0045 Reconstruction Loss: 0.0012\n",
            "acc: 0.55140, nmi: 0.71891\n",
            "satisfied constraints: 1.00000\n",
            "#Epoch 275: Total: 0.0058 Clustering Loss: 0.0045 Reconstruction Loss: 0.0013\n",
            "acc: 0.55207, nmi: 0.71988\n",
            "satisfied constraints: 1.00000\n"
          ]
        },
        {
          "name": "stderr",
          "output_type": "stream",
          "text": [
            "c:\\Users\\japik\\anaconda3\\lib\\site-packages\\sklearn\\utils\\linear_assignment_.py:124: FutureWarning: The linear_assignment function is deprecated in 0.21 and will be removed from 0.23. Use scipy.optimize.linear_sum_assignment instead.\n",
            "  warnings.warn(\n",
            "c:\\Users\\japik\\anaconda3\\lib\\site-packages\\sklearn\\utils\\linear_assignment_.py:124: FutureWarning: The linear_assignment function is deprecated in 0.21 and will be removed from 0.23. Use scipy.optimize.linear_sum_assignment instead.\n",
            "  warnings.warn(\n",
            "c:\\Users\\japik\\anaconda3\\lib\\site-packages\\sklearn\\utils\\linear_assignment_.py:124: FutureWarning: The linear_assignment function is deprecated in 0.21 and will be removed from 0.23. Use scipy.optimize.linear_sum_assignment instead.\n",
            "  warnings.warn(\n",
            "c:\\Users\\japik\\anaconda3\\lib\\site-packages\\sklearn\\utils\\linear_assignment_.py:124: FutureWarning: The linear_assignment function is deprecated in 0.21 and will be removed from 0.23. Use scipy.optimize.linear_sum_assignment instead.\n",
            "  warnings.warn(\n",
            "c:\\Users\\japik\\anaconda3\\lib\\site-packages\\sklearn\\utils\\linear_assignment_.py:124: FutureWarning: The linear_assignment function is deprecated in 0.21 and will be removed from 0.23. Use scipy.optimize.linear_sum_assignment instead.\n",
            "  warnings.warn(\n"
          ]
        },
        {
          "name": "stdout",
          "output_type": "stream",
          "text": [
            "#Epoch 276: Total: 0.0055 Clustering Loss: 0.0045 Reconstruction Loss: 0.0011\n",
            "acc: 0.55309, nmi: 0.71864\n",
            "satisfied constraints: 1.00000\n",
            "#Epoch 277: Total: 0.0058 Clustering Loss: 0.0044 Reconstruction Loss: 0.0014\n",
            "acc: 0.55665, nmi: 0.72011\n",
            "satisfied constraints: 1.00000\n",
            "#Epoch 278: Total: 0.0057 Clustering Loss: 0.0044 Reconstruction Loss: 0.0014\n"
          ]
        },
        {
          "name": "stderr",
          "output_type": "stream",
          "text": [
            "c:\\Users\\japik\\anaconda3\\lib\\site-packages\\sklearn\\utils\\linear_assignment_.py:124: FutureWarning: The linear_assignment function is deprecated in 0.21 and will be removed from 0.23. Use scipy.optimize.linear_sum_assignment instead.\n",
            "  warnings.warn(\n",
            "c:\\Users\\japik\\anaconda3\\lib\\site-packages\\sklearn\\utils\\linear_assignment_.py:124: FutureWarning: The linear_assignment function is deprecated in 0.21 and will be removed from 0.23. Use scipy.optimize.linear_sum_assignment instead.\n",
            "  warnings.warn(\n",
            "c:\\Users\\japik\\anaconda3\\lib\\site-packages\\sklearn\\utils\\linear_assignment_.py:124: FutureWarning: The linear_assignment function is deprecated in 0.21 and will be removed from 0.23. Use scipy.optimize.linear_sum_assignment instead.\n",
            "  warnings.warn(\n",
            "c:\\Users\\japik\\anaconda3\\lib\\site-packages\\sklearn\\utils\\linear_assignment_.py:124: FutureWarning: The linear_assignment function is deprecated in 0.21 and will be removed from 0.23. Use scipy.optimize.linear_sum_assignment instead.\n",
            "  warnings.warn(\n",
            "c:\\Users\\japik\\anaconda3\\lib\\site-packages\\sklearn\\utils\\linear_assignment_.py:124: FutureWarning: The linear_assignment function is deprecated in 0.21 and will be removed from 0.23. Use scipy.optimize.linear_sum_assignment instead.\n",
            "  warnings.warn(\n"
          ]
        },
        {
          "name": "stdout",
          "output_type": "stream",
          "text": [
            "acc: 0.55445, nmi: 0.71867\n",
            "satisfied constraints: 1.00000\n",
            "#Epoch 279: Total: 0.0062 Clustering Loss: 0.0045 Reconstruction Loss: 0.0017\n",
            "acc: 0.55986, nmi: 0.72083\n",
            "satisfied constraints: 1.00000\n",
            "#Epoch 280: Total: 0.0065 Clustering Loss: 0.0045 Reconstruction Loss: 0.0019\n",
            "acc: 0.55715, nmi: 0.71991\n",
            "satisfied constraints: 1.00000\n"
          ]
        },
        {
          "name": "stderr",
          "output_type": "stream",
          "text": [
            "c:\\Users\\japik\\anaconda3\\lib\\site-packages\\sklearn\\utils\\linear_assignment_.py:124: FutureWarning: The linear_assignment function is deprecated in 0.21 and will be removed from 0.23. Use scipy.optimize.linear_sum_assignment instead.\n",
            "  warnings.warn(\n",
            "c:\\Users\\japik\\anaconda3\\lib\\site-packages\\sklearn\\utils\\linear_assignment_.py:124: FutureWarning: The linear_assignment function is deprecated in 0.21 and will be removed from 0.23. Use scipy.optimize.linear_sum_assignment instead.\n",
            "  warnings.warn(\n",
            "c:\\Users\\japik\\anaconda3\\lib\\site-packages\\sklearn\\utils\\linear_assignment_.py:124: FutureWarning: The linear_assignment function is deprecated in 0.21 and will be removed from 0.23. Use scipy.optimize.linear_sum_assignment instead.\n",
            "  warnings.warn(\n",
            "c:\\Users\\japik\\anaconda3\\lib\\site-packages\\sklearn\\utils\\linear_assignment_.py:124: FutureWarning: The linear_assignment function is deprecated in 0.21 and will be removed from 0.23. Use scipy.optimize.linear_sum_assignment instead.\n",
            "  warnings.warn(\n"
          ]
        },
        {
          "name": "stdout",
          "output_type": "stream",
          "text": [
            "#Epoch 281: Total: 0.0094 Clustering Loss: 0.0049 Reconstruction Loss: 0.0045\n",
            "acc: 0.56037, nmi: 0.72015\n",
            "satisfied constraints: 1.00000\n",
            "#Epoch 282: Total: 0.0093 Clustering Loss: 0.0046 Reconstruction Loss: 0.0047\n",
            "acc: 0.55445, nmi: 0.71626\n",
            "satisfied constraints: 1.00000\n",
            "#Epoch 283: Total: 0.0099 Clustering Loss: 0.0048 Reconstruction Loss: 0.0051\n"
          ]
        },
        {
          "name": "stderr",
          "output_type": "stream",
          "text": [
            "c:\\Users\\japik\\anaconda3\\lib\\site-packages\\sklearn\\utils\\linear_assignment_.py:124: FutureWarning: The linear_assignment function is deprecated in 0.21 and will be removed from 0.23. Use scipy.optimize.linear_sum_assignment instead.\n",
            "  warnings.warn(\n",
            "c:\\Users\\japik\\anaconda3\\lib\\site-packages\\sklearn\\utils\\linear_assignment_.py:124: FutureWarning: The linear_assignment function is deprecated in 0.21 and will be removed from 0.23. Use scipy.optimize.linear_sum_assignment instead.\n",
            "  warnings.warn(\n",
            "c:\\Users\\japik\\anaconda3\\lib\\site-packages\\sklearn\\utils\\linear_assignment_.py:124: FutureWarning: The linear_assignment function is deprecated in 0.21 and will be removed from 0.23. Use scipy.optimize.linear_sum_assignment instead.\n",
            "  warnings.warn(\n",
            "c:\\Users\\japik\\anaconda3\\lib\\site-packages\\sklearn\\utils\\linear_assignment_.py:124: FutureWarning: The linear_assignment function is deprecated in 0.21 and will be removed from 0.23. Use scipy.optimize.linear_sum_assignment instead.\n",
            "  warnings.warn(\n",
            "c:\\Users\\japik\\anaconda3\\lib\\site-packages\\sklearn\\utils\\linear_assignment_.py:124: FutureWarning: The linear_assignment function is deprecated in 0.21 and will be removed from 0.23. Use scipy.optimize.linear_sum_assignment instead.\n",
            "  warnings.warn(\n",
            "c:\\Users\\japik\\anaconda3\\lib\\site-packages\\sklearn\\utils\\linear_assignment_.py:124: FutureWarning: The linear_assignment function is deprecated in 0.21 and will be removed from 0.23. Use scipy.optimize.linear_sum_assignment instead.\n",
            "  warnings.warn(\n"
          ]
        },
        {
          "name": "stdout",
          "output_type": "stream",
          "text": [
            "acc: 0.55157, nmi: 0.71924\n",
            "satisfied constraints: 1.00000\n",
            "#Epoch 284: Total: 0.0119 Clustering Loss: 0.0053 Reconstruction Loss: 0.0066\n",
            "acc: 0.56308, nmi: 0.72112\n",
            "satisfied constraints: 1.00000\n",
            "#Epoch 285: Total: 0.0100 Clustering Loss: 0.0056 Reconstruction Loss: 0.0043\n",
            "acc: 0.55326, nmi: 0.72270\n",
            "satisfied constraints: 1.00000\n"
          ]
        },
        {
          "name": "stderr",
          "output_type": "stream",
          "text": [
            "c:\\Users\\japik\\anaconda3\\lib\\site-packages\\sklearn\\utils\\linear_assignment_.py:124: FutureWarning: The linear_assignment function is deprecated in 0.21 and will be removed from 0.23. Use scipy.optimize.linear_sum_assignment instead.\n",
            "  warnings.warn(\n",
            "c:\\Users\\japik\\anaconda3\\lib\\site-packages\\sklearn\\utils\\linear_assignment_.py:124: FutureWarning: The linear_assignment function is deprecated in 0.21 and will be removed from 0.23. Use scipy.optimize.linear_sum_assignment instead.\n",
            "  warnings.warn(\n",
            "c:\\Users\\japik\\anaconda3\\lib\\site-packages\\sklearn\\utils\\linear_assignment_.py:124: FutureWarning: The linear_assignment function is deprecated in 0.21 and will be removed from 0.23. Use scipy.optimize.linear_sum_assignment instead.\n",
            "  warnings.warn(\n"
          ]
        },
        {
          "name": "stdout",
          "output_type": "stream",
          "text": [
            "#Epoch 286: Total: 0.0066 Clustering Loss: 0.0048 Reconstruction Loss: 0.0018\n",
            "acc: 0.54987, nmi: 0.72180\n",
            "satisfied constraints: 1.00000\n",
            "#Epoch 287: Total: 0.0056 Clustering Loss: 0.0045 Reconstruction Loss: 0.0011\n",
            "acc: 0.54953, nmi: 0.72163\n",
            "satisfied constraints: 1.00000\n",
            "#Epoch 288: Total: 0.0055 Clustering Loss: 0.0044 Reconstruction Loss: 0.0011\n"
          ]
        },
        {
          "name": "stderr",
          "output_type": "stream",
          "text": [
            "c:\\Users\\japik\\anaconda3\\lib\\site-packages\\sklearn\\utils\\linear_assignment_.py:124: FutureWarning: The linear_assignment function is deprecated in 0.21 and will be removed from 0.23. Use scipy.optimize.linear_sum_assignment instead.\n",
            "  warnings.warn(\n",
            "c:\\Users\\japik\\anaconda3\\lib\\site-packages\\sklearn\\utils\\linear_assignment_.py:124: FutureWarning: The linear_assignment function is deprecated in 0.21 and will be removed from 0.23. Use scipy.optimize.linear_sum_assignment instead.\n",
            "  warnings.warn(\n",
            "c:\\Users\\japik\\anaconda3\\lib\\site-packages\\sklearn\\utils\\linear_assignment_.py:124: FutureWarning: The linear_assignment function is deprecated in 0.21 and will be removed from 0.23. Use scipy.optimize.linear_sum_assignment instead.\n",
            "  warnings.warn(\n",
            "c:\\Users\\japik\\anaconda3\\lib\\site-packages\\sklearn\\utils\\linear_assignment_.py:124: FutureWarning: The linear_assignment function is deprecated in 0.21 and will be removed from 0.23. Use scipy.optimize.linear_sum_assignment instead.\n",
            "  warnings.warn(\n",
            "c:\\Users\\japik\\anaconda3\\lib\\site-packages\\sklearn\\utils\\linear_assignment_.py:124: FutureWarning: The linear_assignment function is deprecated in 0.21 and will be removed from 0.23. Use scipy.optimize.linear_sum_assignment instead.\n",
            "  warnings.warn(\n"
          ]
        },
        {
          "name": "stdout",
          "output_type": "stream",
          "text": [
            "acc: 0.54733, nmi: 0.72163\n",
            "satisfied constraints: 1.00000\n",
            "#Epoch 289: Total: 0.0054 Clustering Loss: 0.0043 Reconstruction Loss: 0.0011\n",
            "acc: 0.54513, nmi: 0.72277\n",
            "satisfied constraints: 1.00000\n",
            "#Epoch 290: Total: 0.0051 Clustering Loss: 0.0041 Reconstruction Loss: 0.0010\n",
            "acc: 0.53954, nmi: 0.72079\n",
            "satisfied constraints: 1.00000\n"
          ]
        },
        {
          "name": "stderr",
          "output_type": "stream",
          "text": [
            "c:\\Users\\japik\\anaconda3\\lib\\site-packages\\sklearn\\utils\\linear_assignment_.py:124: FutureWarning: The linear_assignment function is deprecated in 0.21 and will be removed from 0.23. Use scipy.optimize.linear_sum_assignment instead.\n",
            "  warnings.warn(\n",
            "c:\\Users\\japik\\anaconda3\\lib\\site-packages\\sklearn\\utils\\linear_assignment_.py:124: FutureWarning: The linear_assignment function is deprecated in 0.21 and will be removed from 0.23. Use scipy.optimize.linear_sum_assignment instead.\n",
            "  warnings.warn(\n",
            "c:\\Users\\japik\\anaconda3\\lib\\site-packages\\sklearn\\utils\\linear_assignment_.py:124: FutureWarning: The linear_assignment function is deprecated in 0.21 and will be removed from 0.23. Use scipy.optimize.linear_sum_assignment instead.\n",
            "  warnings.warn(\n",
            "c:\\Users\\japik\\anaconda3\\lib\\site-packages\\sklearn\\utils\\linear_assignment_.py:124: FutureWarning: The linear_assignment function is deprecated in 0.21 and will be removed from 0.23. Use scipy.optimize.linear_sum_assignment instead.\n",
            "  warnings.warn(\n",
            "c:\\Users\\japik\\anaconda3\\lib\\site-packages\\sklearn\\utils\\linear_assignment_.py:124: FutureWarning: The linear_assignment function is deprecated in 0.21 and will be removed from 0.23. Use scipy.optimize.linear_sum_assignment instead.\n",
            "  warnings.warn(\n"
          ]
        },
        {
          "name": "stdout",
          "output_type": "stream",
          "text": [
            "#Epoch 291: Total: 0.0053 Clustering Loss: 0.0042 Reconstruction Loss: 0.0011\n",
            "acc: 0.54039, nmi: 0.72173\n",
            "satisfied constraints: 1.00000\n",
            "#Epoch 292: Total: 0.0063 Clustering Loss: 0.0042 Reconstruction Loss: 0.0021\n",
            "acc: 0.53836, nmi: 0.72031\n",
            "satisfied constraints: 1.00000\n",
            "#Epoch 293: Total: 0.0061 Clustering Loss: 0.0042 Reconstruction Loss: 0.0019\n"
          ]
        },
        {
          "name": "stderr",
          "output_type": "stream",
          "text": [
            "c:\\Users\\japik\\anaconda3\\lib\\site-packages\\sklearn\\utils\\linear_assignment_.py:124: FutureWarning: The linear_assignment function is deprecated in 0.21 and will be removed from 0.23. Use scipy.optimize.linear_sum_assignment instead.\n",
            "  warnings.warn(\n",
            "c:\\Users\\japik\\anaconda3\\lib\\site-packages\\sklearn\\utils\\linear_assignment_.py:124: FutureWarning: The linear_assignment function is deprecated in 0.21 and will be removed from 0.23. Use scipy.optimize.linear_sum_assignment instead.\n",
            "  warnings.warn(\n",
            "c:\\Users\\japik\\anaconda3\\lib\\site-packages\\sklearn\\utils\\linear_assignment_.py:124: FutureWarning: The linear_assignment function is deprecated in 0.21 and will be removed from 0.23. Use scipy.optimize.linear_sum_assignment instead.\n",
            "  warnings.warn(\n",
            "c:\\Users\\japik\\anaconda3\\lib\\site-packages\\sklearn\\utils\\linear_assignment_.py:124: FutureWarning: The linear_assignment function is deprecated in 0.21 and will be removed from 0.23. Use scipy.optimize.linear_sum_assignment instead.\n",
            "  warnings.warn(\n",
            "c:\\Users\\japik\\anaconda3\\lib\\site-packages\\sklearn\\utils\\linear_assignment_.py:124: FutureWarning: The linear_assignment function is deprecated in 0.21 and will be removed from 0.23. Use scipy.optimize.linear_sum_assignment instead.\n",
            "  warnings.warn(\n"
          ]
        },
        {
          "name": "stdout",
          "output_type": "stream",
          "text": [
            "acc: 0.53785, nmi: 0.72091\n",
            "satisfied constraints: 1.00000\n",
            "#Epoch 294: Total: 0.0066 Clustering Loss: 0.0045 Reconstruction Loss: 0.0021\n",
            "acc: 0.53785, nmi: 0.72248\n",
            "satisfied constraints: 1.00000\n",
            "#Epoch 295: Total: 0.0062 Clustering Loss: 0.0044 Reconstruction Loss: 0.0018\n"
          ]
        },
        {
          "name": "stderr",
          "output_type": "stream",
          "text": [
            "c:\\Users\\japik\\anaconda3\\lib\\site-packages\\sklearn\\utils\\linear_assignment_.py:124: FutureWarning: The linear_assignment function is deprecated in 0.21 and will be removed from 0.23. Use scipy.optimize.linear_sum_assignment instead.\n",
            "  warnings.warn(\n",
            "c:\\Users\\japik\\anaconda3\\lib\\site-packages\\sklearn\\utils\\linear_assignment_.py:124: FutureWarning: The linear_assignment function is deprecated in 0.21 and will be removed from 0.23. Use scipy.optimize.linear_sum_assignment instead.\n",
            "  warnings.warn(\n",
            "c:\\Users\\japik\\anaconda3\\lib\\site-packages\\sklearn\\utils\\linear_assignment_.py:124: FutureWarning: The linear_assignment function is deprecated in 0.21 and will be removed from 0.23. Use scipy.optimize.linear_sum_assignment instead.\n",
            "  warnings.warn(\n",
            "c:\\Users\\japik\\anaconda3\\lib\\site-packages\\sklearn\\utils\\linear_assignment_.py:124: FutureWarning: The linear_assignment function is deprecated in 0.21 and will be removed from 0.23. Use scipy.optimize.linear_sum_assignment instead.\n",
            "  warnings.warn(\n",
            "c:\\Users\\japik\\anaconda3\\lib\\site-packages\\sklearn\\utils\\linear_assignment_.py:124: FutureWarning: The linear_assignment function is deprecated in 0.21 and will be removed from 0.23. Use scipy.optimize.linear_sum_assignment instead.\n",
            "  warnings.warn(\n"
          ]
        },
        {
          "name": "stdout",
          "output_type": "stream",
          "text": [
            "acc: 0.53734, nmi: 0.72335\n",
            "satisfied constraints: 1.00000\n",
            "#Epoch 296: Total: 0.0056 Clustering Loss: 0.0044 Reconstruction Loss: 0.0011\n",
            "acc: 0.53497, nmi: 0.72253\n",
            "satisfied constraints: 1.00000\n",
            "#Epoch 297: Total: 0.0046 Clustering Loss: 0.0041 Reconstruction Loss: 0.0005\n",
            "acc: 0.53209, nmi: 0.72242\n",
            "satisfied constraints: 1.00000\n"
          ]
        },
        {
          "name": "stderr",
          "output_type": "stream",
          "text": [
            "c:\\Users\\japik\\anaconda3\\lib\\site-packages\\sklearn\\utils\\linear_assignment_.py:124: FutureWarning: The linear_assignment function is deprecated in 0.21 and will be removed from 0.23. Use scipy.optimize.linear_sum_assignment instead.\n",
            "  warnings.warn(\n",
            "c:\\Users\\japik\\anaconda3\\lib\\site-packages\\sklearn\\utils\\linear_assignment_.py:124: FutureWarning: The linear_assignment function is deprecated in 0.21 and will be removed from 0.23. Use scipy.optimize.linear_sum_assignment instead.\n",
            "  warnings.warn(\n",
            "c:\\Users\\japik\\anaconda3\\lib\\site-packages\\sklearn\\utils\\linear_assignment_.py:124: FutureWarning: The linear_assignment function is deprecated in 0.21 and will be removed from 0.23. Use scipy.optimize.linear_sum_assignment instead.\n",
            "  warnings.warn(\n",
            "c:\\Users\\japik\\anaconda3\\lib\\site-packages\\sklearn\\utils\\linear_assignment_.py:124: FutureWarning: The linear_assignment function is deprecated in 0.21 and will be removed from 0.23. Use scipy.optimize.linear_sum_assignment instead.\n",
            "  warnings.warn(\n",
            "c:\\Users\\japik\\anaconda3\\lib\\site-packages\\sklearn\\utils\\linear_assignment_.py:124: FutureWarning: The linear_assignment function is deprecated in 0.21 and will be removed from 0.23. Use scipy.optimize.linear_sum_assignment instead.\n",
            "  warnings.warn(\n"
          ]
        },
        {
          "name": "stdout",
          "output_type": "stream",
          "text": [
            "#Epoch 298: Total: 0.0046 Clustering Loss: 0.0041 Reconstruction Loss: 0.0006\n",
            "acc: 0.52921, nmi: 0.72037\n",
            "satisfied constraints: 1.00000\n",
            "#Epoch 299: Total: 0.0046 Clustering Loss: 0.0041 Reconstruction Loss: 0.0005\n",
            "acc: 0.52887, nmi: 0.72207\n",
            "satisfied constraints: 1.00000\n",
            "#Epoch 300: Total: 0.0047 Clustering Loss: 0.0039 Reconstruction Loss: 0.0007\n"
          ]
        },
        {
          "name": "stderr",
          "output_type": "stream",
          "text": [
            "c:\\Users\\japik\\anaconda3\\lib\\site-packages\\sklearn\\utils\\linear_assignment_.py:124: FutureWarning: The linear_assignment function is deprecated in 0.21 and will be removed from 0.23. Use scipy.optimize.linear_sum_assignment instead.\n",
            "  warnings.warn(\n",
            "c:\\Users\\japik\\anaconda3\\lib\\site-packages\\sklearn\\utils\\linear_assignment_.py:124: FutureWarning: The linear_assignment function is deprecated in 0.21 and will be removed from 0.23. Use scipy.optimize.linear_sum_assignment instead.\n",
            "  warnings.warn(\n",
            "c:\\Users\\japik\\anaconda3\\lib\\site-packages\\sklearn\\utils\\linear_assignment_.py:124: FutureWarning: The linear_assignment function is deprecated in 0.21 and will be removed from 0.23. Use scipy.optimize.linear_sum_assignment instead.\n",
            "  warnings.warn(\n",
            "c:\\Users\\japik\\anaconda3\\lib\\site-packages\\sklearn\\utils\\linear_assignment_.py:124: FutureWarning: The linear_assignment function is deprecated in 0.21 and will be removed from 0.23. Use scipy.optimize.linear_sum_assignment instead.\n",
            "  warnings.warn(\n"
          ]
        },
        {
          "name": "stdout",
          "output_type": "stream",
          "text": [
            "acc: 0.52447, nmi: 0.71966\n",
            "satisfied constraints: 1.00000\n",
            "#Epoch 301: Total: 0.0048 Clustering Loss: 0.0040 Reconstruction Loss: 0.0008\n",
            "acc: 0.52752, nmi: 0.72191\n",
            "satisfied constraints: 1.00000\n",
            "#Epoch 302: Total: 0.0045 Clustering Loss: 0.0039 Reconstruction Loss: 0.0005\n"
          ]
        },
        {
          "name": "stderr",
          "output_type": "stream",
          "text": [
            "c:\\Users\\japik\\anaconda3\\lib\\site-packages\\sklearn\\utils\\linear_assignment_.py:124: FutureWarning: The linear_assignment function is deprecated in 0.21 and will be removed from 0.23. Use scipy.optimize.linear_sum_assignment instead.\n",
            "  warnings.warn(\n",
            "c:\\Users\\japik\\anaconda3\\lib\\site-packages\\sklearn\\utils\\linear_assignment_.py:124: FutureWarning: The linear_assignment function is deprecated in 0.21 and will be removed from 0.23. Use scipy.optimize.linear_sum_assignment instead.\n",
            "  warnings.warn(\n",
            "c:\\Users\\japik\\anaconda3\\lib\\site-packages\\sklearn\\utils\\linear_assignment_.py:124: FutureWarning: The linear_assignment function is deprecated in 0.21 and will be removed from 0.23. Use scipy.optimize.linear_sum_assignment instead.\n",
            "  warnings.warn(\n",
            "c:\\Users\\japik\\anaconda3\\lib\\site-packages\\sklearn\\utils\\linear_assignment_.py:124: FutureWarning: The linear_assignment function is deprecated in 0.21 and will be removed from 0.23. Use scipy.optimize.linear_sum_assignment instead.\n",
            "  warnings.warn(\n"
          ]
        },
        {
          "name": "stdout",
          "output_type": "stream",
          "text": [
            "acc: 0.52261, nmi: 0.71973\n",
            "satisfied constraints: 1.00000\n",
            "#Epoch 303: Total: 0.0044 Clustering Loss: 0.0039 Reconstruction Loss: 0.0005\n",
            "acc: 0.52464, nmi: 0.72240\n",
            "satisfied constraints: 1.00000\n",
            "#Epoch 304: Total: 0.0043 Clustering Loss: 0.0039 Reconstruction Loss: 0.0004\n"
          ]
        },
        {
          "name": "stderr",
          "output_type": "stream",
          "text": [
            "c:\\Users\\japik\\anaconda3\\lib\\site-packages\\sklearn\\utils\\linear_assignment_.py:124: FutureWarning: The linear_assignment function is deprecated in 0.21 and will be removed from 0.23. Use scipy.optimize.linear_sum_assignment instead.\n",
            "  warnings.warn(\n",
            "c:\\Users\\japik\\anaconda3\\lib\\site-packages\\sklearn\\utils\\linear_assignment_.py:124: FutureWarning: The linear_assignment function is deprecated in 0.21 and will be removed from 0.23. Use scipy.optimize.linear_sum_assignment instead.\n",
            "  warnings.warn(\n",
            "c:\\Users\\japik\\anaconda3\\lib\\site-packages\\sklearn\\utils\\linear_assignment_.py:124: FutureWarning: The linear_assignment function is deprecated in 0.21 and will be removed from 0.23. Use scipy.optimize.linear_sum_assignment instead.\n",
            "  warnings.warn(\n",
            "c:\\Users\\japik\\anaconda3\\lib\\site-packages\\sklearn\\utils\\linear_assignment_.py:124: FutureWarning: The linear_assignment function is deprecated in 0.21 and will be removed from 0.23. Use scipy.optimize.linear_sum_assignment instead.\n",
            "  warnings.warn(\n"
          ]
        },
        {
          "name": "stdout",
          "output_type": "stream",
          "text": [
            "acc: 0.52227, nmi: 0.72061\n",
            "satisfied constraints: 1.00000\n",
            "#Epoch 305: Total: 0.0044 Clustering Loss: 0.0040 Reconstruction Loss: 0.0005\n",
            "acc: 0.52295, nmi: 0.72210\n",
            "satisfied constraints: 1.00000\n",
            "#Epoch 306: Total: 0.0043 Clustering Loss: 0.0038 Reconstruction Loss: 0.0005\n"
          ]
        },
        {
          "name": "stderr",
          "output_type": "stream",
          "text": [
            "c:\\Users\\japik\\anaconda3\\lib\\site-packages\\sklearn\\utils\\linear_assignment_.py:124: FutureWarning: The linear_assignment function is deprecated in 0.21 and will be removed from 0.23. Use scipy.optimize.linear_sum_assignment instead.\n",
            "  warnings.warn(\n",
            "c:\\Users\\japik\\anaconda3\\lib\\site-packages\\sklearn\\utils\\linear_assignment_.py:124: FutureWarning: The linear_assignment function is deprecated in 0.21 and will be removed from 0.23. Use scipy.optimize.linear_sum_assignment instead.\n",
            "  warnings.warn(\n",
            "c:\\Users\\japik\\anaconda3\\lib\\site-packages\\sklearn\\utils\\linear_assignment_.py:124: FutureWarning: The linear_assignment function is deprecated in 0.21 and will be removed from 0.23. Use scipy.optimize.linear_sum_assignment instead.\n",
            "  warnings.warn(\n",
            "c:\\Users\\japik\\anaconda3\\lib\\site-packages\\sklearn\\utils\\linear_assignment_.py:124: FutureWarning: The linear_assignment function is deprecated in 0.21 and will be removed from 0.23. Use scipy.optimize.linear_sum_assignment instead.\n",
            "  warnings.warn(\n",
            "c:\\Users\\japik\\anaconda3\\lib\\site-packages\\sklearn\\utils\\linear_assignment_.py:124: FutureWarning: The linear_assignment function is deprecated in 0.21 and will be removed from 0.23. Use scipy.optimize.linear_sum_assignment instead.\n",
            "  warnings.warn(\n"
          ]
        },
        {
          "name": "stdout",
          "output_type": "stream",
          "text": [
            "acc: 0.52176, nmi: 0.72081\n",
            "satisfied constraints: 1.00000\n",
            "#Epoch 307: Total: 0.0042 Clustering Loss: 0.0039 Reconstruction Loss: 0.0003\n",
            "acc: 0.52227, nmi: 0.72198\n",
            "satisfied constraints: 1.00000\n",
            "#Epoch 308: Total: 0.0043 Clustering Loss: 0.0038 Reconstruction Loss: 0.0005\n",
            "acc: 0.52058, nmi: 0.72087\n",
            "satisfied constraints: 1.00000\n"
          ]
        },
        {
          "name": "stderr",
          "output_type": "stream",
          "text": [
            "c:\\Users\\japik\\anaconda3\\lib\\site-packages\\sklearn\\utils\\linear_assignment_.py:124: FutureWarning: The linear_assignment function is deprecated in 0.21 and will be removed from 0.23. Use scipy.optimize.linear_sum_assignment instead.\n",
            "  warnings.warn(\n",
            "c:\\Users\\japik\\anaconda3\\lib\\site-packages\\sklearn\\utils\\linear_assignment_.py:124: FutureWarning: The linear_assignment function is deprecated in 0.21 and will be removed from 0.23. Use scipy.optimize.linear_sum_assignment instead.\n",
            "  warnings.warn(\n",
            "c:\\Users\\japik\\anaconda3\\lib\\site-packages\\sklearn\\utils\\linear_assignment_.py:124: FutureWarning: The linear_assignment function is deprecated in 0.21 and will be removed from 0.23. Use scipy.optimize.linear_sum_assignment instead.\n",
            "  warnings.warn(\n",
            "c:\\Users\\japik\\anaconda3\\lib\\site-packages\\sklearn\\utils\\linear_assignment_.py:124: FutureWarning: The linear_assignment function is deprecated in 0.21 and will be removed from 0.23. Use scipy.optimize.linear_sum_assignment instead.\n",
            "  warnings.warn(\n"
          ]
        },
        {
          "name": "stdout",
          "output_type": "stream",
          "text": [
            "#Epoch 309: Total: 0.0043 Clustering Loss: 0.0038 Reconstruction Loss: 0.0004\n",
            "acc: 0.52108, nmi: 0.72312\n",
            "satisfied constraints: 1.00000\n",
            "#Epoch 310: Total: 0.0045 Clustering Loss: 0.0039 Reconstruction Loss: 0.0006\n",
            "acc: 0.52007, nmi: 0.72120\n",
            "satisfied constraints: 1.00000\n",
            "#Epoch 311: Total: 0.0045 Clustering Loss: 0.0040 Reconstruction Loss: 0.0005\n"
          ]
        },
        {
          "name": "stderr",
          "output_type": "stream",
          "text": [
            "c:\\Users\\japik\\anaconda3\\lib\\site-packages\\sklearn\\utils\\linear_assignment_.py:124: FutureWarning: The linear_assignment function is deprecated in 0.21 and will be removed from 0.23. Use scipy.optimize.linear_sum_assignment instead.\n",
            "  warnings.warn(\n",
            "c:\\Users\\japik\\anaconda3\\lib\\site-packages\\sklearn\\utils\\linear_assignment_.py:124: FutureWarning: The linear_assignment function is deprecated in 0.21 and will be removed from 0.23. Use scipy.optimize.linear_sum_assignment instead.\n",
            "  warnings.warn(\n",
            "c:\\Users\\japik\\anaconda3\\lib\\site-packages\\sklearn\\utils\\linear_assignment_.py:124: FutureWarning: The linear_assignment function is deprecated in 0.21 and will be removed from 0.23. Use scipy.optimize.linear_sum_assignment instead.\n",
            "  warnings.warn(\n",
            "c:\\Users\\japik\\anaconda3\\lib\\site-packages\\sklearn\\utils\\linear_assignment_.py:124: FutureWarning: The linear_assignment function is deprecated in 0.21 and will be removed from 0.23. Use scipy.optimize.linear_sum_assignment instead.\n",
            "  warnings.warn(\n",
            "c:\\Users\\japik\\anaconda3\\lib\\site-packages\\sklearn\\utils\\linear_assignment_.py:124: FutureWarning: The linear_assignment function is deprecated in 0.21 and will be removed from 0.23. Use scipy.optimize.linear_sum_assignment instead.\n",
            "  warnings.warn(\n"
          ]
        },
        {
          "name": "stdout",
          "output_type": "stream",
          "text": [
            "acc: 0.52362, nmi: 0.72338\n",
            "satisfied constraints: 1.00000\n",
            "#Epoch 312: Total: 0.0048 Clustering Loss: 0.0041 Reconstruction Loss: 0.0007\n",
            "acc: 0.52295, nmi: 0.72056\n",
            "satisfied constraints: 1.00000\n",
            "#Epoch 313: Total: 0.0046 Clustering Loss: 0.0038 Reconstruction Loss: 0.0007\n",
            "acc: 0.52735, nmi: 0.72361\n",
            "satisfied constraints: 1.00000\n"
          ]
        },
        {
          "name": "stderr",
          "output_type": "stream",
          "text": [
            "c:\\Users\\japik\\anaconda3\\lib\\site-packages\\sklearn\\utils\\linear_assignment_.py:124: FutureWarning: The linear_assignment function is deprecated in 0.21 and will be removed from 0.23. Use scipy.optimize.linear_sum_assignment instead.\n",
            "  warnings.warn(\n",
            "c:\\Users\\japik\\anaconda3\\lib\\site-packages\\sklearn\\utils\\linear_assignment_.py:124: FutureWarning: The linear_assignment function is deprecated in 0.21 and will be removed from 0.23. Use scipy.optimize.linear_sum_assignment instead.\n",
            "  warnings.warn(\n",
            "c:\\Users\\japik\\anaconda3\\lib\\site-packages\\sklearn\\utils\\linear_assignment_.py:124: FutureWarning: The linear_assignment function is deprecated in 0.21 and will be removed from 0.23. Use scipy.optimize.linear_sum_assignment instead.\n",
            "  warnings.warn(\n",
            "c:\\Users\\japik\\anaconda3\\lib\\site-packages\\sklearn\\utils\\linear_assignment_.py:124: FutureWarning: The linear_assignment function is deprecated in 0.21 and will be removed from 0.23. Use scipy.optimize.linear_sum_assignment instead.\n",
            "  warnings.warn(\n",
            "c:\\Users\\japik\\anaconda3\\lib\\site-packages\\sklearn\\utils\\linear_assignment_.py:124: FutureWarning: The linear_assignment function is deprecated in 0.21 and will be removed from 0.23. Use scipy.optimize.linear_sum_assignment instead.\n",
            "  warnings.warn(\n"
          ]
        },
        {
          "name": "stdout",
          "output_type": "stream",
          "text": [
            "#Epoch 314: Total: 0.0047 Clustering Loss: 0.0038 Reconstruction Loss: 0.0009\n",
            "acc: 0.53108, nmi: 0.72174\n",
            "satisfied constraints: 1.00000\n",
            "#Epoch 315: Total: 0.0056 Clustering Loss: 0.0040 Reconstruction Loss: 0.0016\n",
            "acc: 0.53311, nmi: 0.72132\n",
            "satisfied constraints: 1.00000\n",
            "#Epoch 316: Total: 0.0053 Clustering Loss: 0.0041 Reconstruction Loss: 0.0012\n"
          ]
        },
        {
          "name": "stderr",
          "output_type": "stream",
          "text": [
            "c:\\Users\\japik\\anaconda3\\lib\\site-packages\\sklearn\\utils\\linear_assignment_.py:124: FutureWarning: The linear_assignment function is deprecated in 0.21 and will be removed from 0.23. Use scipy.optimize.linear_sum_assignment instead.\n",
            "  warnings.warn(\n",
            "c:\\Users\\japik\\anaconda3\\lib\\site-packages\\sklearn\\utils\\linear_assignment_.py:124: FutureWarning: The linear_assignment function is deprecated in 0.21 and will be removed from 0.23. Use scipy.optimize.linear_sum_assignment instead.\n",
            "  warnings.warn(\n",
            "c:\\Users\\japik\\anaconda3\\lib\\site-packages\\sklearn\\utils\\linear_assignment_.py:124: FutureWarning: The linear_assignment function is deprecated in 0.21 and will be removed from 0.23. Use scipy.optimize.linear_sum_assignment instead.\n",
            "  warnings.warn(\n",
            "c:\\Users\\japik\\anaconda3\\lib\\site-packages\\sklearn\\utils\\linear_assignment_.py:124: FutureWarning: The linear_assignment function is deprecated in 0.21 and will be removed from 0.23. Use scipy.optimize.linear_sum_assignment instead.\n",
            "  warnings.warn(\n",
            "c:\\Users\\japik\\anaconda3\\lib\\site-packages\\sklearn\\utils\\linear_assignment_.py:124: FutureWarning: The linear_assignment function is deprecated in 0.21 and will be removed from 0.23. Use scipy.optimize.linear_sum_assignment instead.\n",
            "  warnings.warn(\n"
          ]
        },
        {
          "name": "stdout",
          "output_type": "stream",
          "text": [
            "acc: 0.53192, nmi: 0.72036\n",
            "satisfied constraints: 1.00000\n",
            "#Epoch 317: Total: 0.0045 Clustering Loss: 0.0037 Reconstruction Loss: 0.0008\n",
            "acc: 0.53277, nmi: 0.72254\n",
            "satisfied constraints: 1.00000\n",
            "#Epoch 318: Total: 0.0042 Clustering Loss: 0.0036 Reconstruction Loss: 0.0006\n"
          ]
        },
        {
          "name": "stderr",
          "output_type": "stream",
          "text": [
            "c:\\Users\\japik\\anaconda3\\lib\\site-packages\\sklearn\\utils\\linear_assignment_.py:124: FutureWarning: The linear_assignment function is deprecated in 0.21 and will be removed from 0.23. Use scipy.optimize.linear_sum_assignment instead.\n",
            "  warnings.warn(\n",
            "c:\\Users\\japik\\anaconda3\\lib\\site-packages\\sklearn\\utils\\linear_assignment_.py:124: FutureWarning: The linear_assignment function is deprecated in 0.21 and will be removed from 0.23. Use scipy.optimize.linear_sum_assignment instead.\n",
            "  warnings.warn(\n",
            "c:\\Users\\japik\\anaconda3\\lib\\site-packages\\sklearn\\utils\\linear_assignment_.py:124: FutureWarning: The linear_assignment function is deprecated in 0.21 and will be removed from 0.23. Use scipy.optimize.linear_sum_assignment instead.\n",
            "  warnings.warn(\n",
            "c:\\Users\\japik\\anaconda3\\lib\\site-packages\\sklearn\\utils\\linear_assignment_.py:124: FutureWarning: The linear_assignment function is deprecated in 0.21 and will be removed from 0.23. Use scipy.optimize.linear_sum_assignment instead.\n",
            "  warnings.warn(\n",
            "c:\\Users\\japik\\anaconda3\\lib\\site-packages\\sklearn\\utils\\linear_assignment_.py:124: FutureWarning: The linear_assignment function is deprecated in 0.21 and will be removed from 0.23. Use scipy.optimize.linear_sum_assignment instead.\n",
            "  warnings.warn(\n"
          ]
        },
        {
          "name": "stdout",
          "output_type": "stream",
          "text": [
            "acc: 0.52989, nmi: 0.72186\n",
            "satisfied constraints: 1.00000\n",
            "#Epoch 319: Total: 0.0043 Clustering Loss: 0.0036 Reconstruction Loss: 0.0007\n",
            "acc: 0.52650, nmi: 0.72302\n",
            "satisfied constraints: 1.00000\n",
            "#Epoch 320: Total: 0.0042 Clustering Loss: 0.0035 Reconstruction Loss: 0.0007\n",
            "acc: 0.52278, nmi: 0.72209\n",
            "satisfied constraints: 1.00000\n"
          ]
        },
        {
          "name": "stderr",
          "output_type": "stream",
          "text": [
            "c:\\Users\\japik\\anaconda3\\lib\\site-packages\\sklearn\\utils\\linear_assignment_.py:124: FutureWarning: The linear_assignment function is deprecated in 0.21 and will be removed from 0.23. Use scipy.optimize.linear_sum_assignment instead.\n",
            "  warnings.warn(\n",
            "c:\\Users\\japik\\anaconda3\\lib\\site-packages\\sklearn\\utils\\linear_assignment_.py:124: FutureWarning: The linear_assignment function is deprecated in 0.21 and will be removed from 0.23. Use scipy.optimize.linear_sum_assignment instead.\n",
            "  warnings.warn(\n",
            "c:\\Users\\japik\\anaconda3\\lib\\site-packages\\sklearn\\utils\\linear_assignment_.py:124: FutureWarning: The linear_assignment function is deprecated in 0.21 and will be removed from 0.23. Use scipy.optimize.linear_sum_assignment instead.\n",
            "  warnings.warn(\n",
            "c:\\Users\\japik\\anaconda3\\lib\\site-packages\\sklearn\\utils\\linear_assignment_.py:124: FutureWarning: The linear_assignment function is deprecated in 0.21 and will be removed from 0.23. Use scipy.optimize.linear_sum_assignment instead.\n",
            "  warnings.warn(\n",
            "c:\\Users\\japik\\anaconda3\\lib\\site-packages\\sklearn\\utils\\linear_assignment_.py:124: FutureWarning: The linear_assignment function is deprecated in 0.21 and will be removed from 0.23. Use scipy.optimize.linear_sum_assignment instead.\n",
            "  warnings.warn(\n"
          ]
        },
        {
          "name": "stdout",
          "output_type": "stream",
          "text": [
            "#Epoch 321: Total: 0.0044 Clustering Loss: 0.0036 Reconstruction Loss: 0.0007\n",
            "acc: 0.52075, nmi: 0.72340\n",
            "satisfied constraints: 1.00000\n",
            "#Epoch 322: Total: 0.0044 Clustering Loss: 0.0036 Reconstruction Loss: 0.0008\n",
            "acc: 0.51871, nmi: 0.72211\n",
            "satisfied constraints: 1.00000\n",
            "#Epoch 323: Total: 0.0044 Clustering Loss: 0.0037 Reconstruction Loss: 0.0007\n"
          ]
        },
        {
          "name": "stderr",
          "output_type": "stream",
          "text": [
            "c:\\Users\\japik\\anaconda3\\lib\\site-packages\\sklearn\\utils\\linear_assignment_.py:124: FutureWarning: The linear_assignment function is deprecated in 0.21 and will be removed from 0.23. Use scipy.optimize.linear_sum_assignment instead.\n",
            "  warnings.warn(\n",
            "c:\\Users\\japik\\anaconda3\\lib\\site-packages\\sklearn\\utils\\linear_assignment_.py:124: FutureWarning: The linear_assignment function is deprecated in 0.21 and will be removed from 0.23. Use scipy.optimize.linear_sum_assignment instead.\n",
            "  warnings.warn(\n",
            "c:\\Users\\japik\\anaconda3\\lib\\site-packages\\sklearn\\utils\\linear_assignment_.py:124: FutureWarning: The linear_assignment function is deprecated in 0.21 and will be removed from 0.23. Use scipy.optimize.linear_sum_assignment instead.\n",
            "  warnings.warn(\n",
            "c:\\Users\\japik\\anaconda3\\lib\\site-packages\\sklearn\\utils\\linear_assignment_.py:124: FutureWarning: The linear_assignment function is deprecated in 0.21 and will be removed from 0.23. Use scipy.optimize.linear_sum_assignment instead.\n",
            "  warnings.warn(\n"
          ]
        },
        {
          "name": "stdout",
          "output_type": "stream",
          "text": [
            "acc: 0.52075, nmi: 0.72281\n",
            "satisfied constraints: 1.00000\n",
            "#Epoch 324: Total: 0.0041 Clustering Loss: 0.0035 Reconstruction Loss: 0.0006\n",
            "acc: 0.52159, nmi: 0.72144\n",
            "satisfied constraints: 1.00000\n",
            "#Epoch 325: Total: 0.0040 Clustering Loss: 0.0036 Reconstruction Loss: 0.0004\n"
          ]
        },
        {
          "name": "stderr",
          "output_type": "stream",
          "text": [
            "c:\\Users\\japik\\anaconda3\\lib\\site-packages\\sklearn\\utils\\linear_assignment_.py:124: FutureWarning: The linear_assignment function is deprecated in 0.21 and will be removed from 0.23. Use scipy.optimize.linear_sum_assignment instead.\n",
            "  warnings.warn(\n",
            "c:\\Users\\japik\\anaconda3\\lib\\site-packages\\sklearn\\utils\\linear_assignment_.py:124: FutureWarning: The linear_assignment function is deprecated in 0.21 and will be removed from 0.23. Use scipy.optimize.linear_sum_assignment instead.\n",
            "  warnings.warn(\n",
            "c:\\Users\\japik\\anaconda3\\lib\\site-packages\\sklearn\\utils\\linear_assignment_.py:124: FutureWarning: The linear_assignment function is deprecated in 0.21 and will be removed from 0.23. Use scipy.optimize.linear_sum_assignment instead.\n",
            "  warnings.warn(\n",
            "c:\\Users\\japik\\anaconda3\\lib\\site-packages\\sklearn\\utils\\linear_assignment_.py:124: FutureWarning: The linear_assignment function is deprecated in 0.21 and will be removed from 0.23. Use scipy.optimize.linear_sum_assignment instead.\n",
            "  warnings.warn(\n",
            "c:\\Users\\japik\\anaconda3\\lib\\site-packages\\sklearn\\utils\\linear_assignment_.py:124: FutureWarning: The linear_assignment function is deprecated in 0.21 and will be removed from 0.23. Use scipy.optimize.linear_sum_assignment instead.\n",
            "  warnings.warn(\n"
          ]
        },
        {
          "name": "stdout",
          "output_type": "stream",
          "text": [
            "acc: 0.52413, nmi: 0.72192\n",
            "satisfied constraints: 1.00000\n",
            "#Epoch 326: Total: 0.0054 Clustering Loss: 0.0041 Reconstruction Loss: 0.0013\n",
            "acc: 0.52515, nmi: 0.72245\n",
            "satisfied constraints: 1.00000\n",
            "#Epoch 327: Total: 0.0134 Clustering Loss: 0.0081 Reconstruction Loss: 0.0053\n"
          ]
        },
        {
          "name": "stderr",
          "output_type": "stream",
          "text": [
            "c:\\Users\\japik\\anaconda3\\lib\\site-packages\\sklearn\\utils\\linear_assignment_.py:124: FutureWarning: The linear_assignment function is deprecated in 0.21 and will be removed from 0.23. Use scipy.optimize.linear_sum_assignment instead.\n",
            "  warnings.warn(\n",
            "c:\\Users\\japik\\anaconda3\\lib\\site-packages\\sklearn\\utils\\linear_assignment_.py:124: FutureWarning: The linear_assignment function is deprecated in 0.21 and will be removed from 0.23. Use scipy.optimize.linear_sum_assignment instead.\n",
            "  warnings.warn(\n",
            "c:\\Users\\japik\\anaconda3\\lib\\site-packages\\sklearn\\utils\\linear_assignment_.py:124: FutureWarning: The linear_assignment function is deprecated in 0.21 and will be removed from 0.23. Use scipy.optimize.linear_sum_assignment instead.\n",
            "  warnings.warn(\n",
            "c:\\Users\\japik\\anaconda3\\lib\\site-packages\\sklearn\\utils\\linear_assignment_.py:124: FutureWarning: The linear_assignment function is deprecated in 0.21 and will be removed from 0.23. Use scipy.optimize.linear_sum_assignment instead.\n",
            "  warnings.warn(\n",
            "c:\\Users\\japik\\anaconda3\\lib\\site-packages\\sklearn\\utils\\linear_assignment_.py:124: FutureWarning: The linear_assignment function is deprecated in 0.21 and will be removed from 0.23. Use scipy.optimize.linear_sum_assignment instead.\n",
            "  warnings.warn(\n"
          ]
        },
        {
          "name": "stdout",
          "output_type": "stream",
          "text": [
            "acc: 0.53802, nmi: 0.72428\n",
            "satisfied constraints: 1.00000\n",
            "#Epoch 328: Total: 0.0083 Clustering Loss: 0.0046 Reconstruction Loss: 0.0037\n",
            "acc: 0.53378, nmi: 0.72263\n",
            "satisfied constraints: 1.00000\n",
            "#Epoch 329: Total: 0.0063 Clustering Loss: 0.0044 Reconstruction Loss: 0.0019\n",
            "acc: 0.53565, nmi: 0.72350\n",
            "satisfied constraints: 1.00000\n"
          ]
        },
        {
          "name": "stderr",
          "output_type": "stream",
          "text": [
            "c:\\Users\\japik\\anaconda3\\lib\\site-packages\\sklearn\\utils\\linear_assignment_.py:124: FutureWarning: The linear_assignment function is deprecated in 0.21 and will be removed from 0.23. Use scipy.optimize.linear_sum_assignment instead.\n",
            "  warnings.warn(\n",
            "c:\\Users\\japik\\anaconda3\\lib\\site-packages\\sklearn\\utils\\linear_assignment_.py:124: FutureWarning: The linear_assignment function is deprecated in 0.21 and will be removed from 0.23. Use scipy.optimize.linear_sum_assignment instead.\n",
            "  warnings.warn(\n",
            "c:\\Users\\japik\\anaconda3\\lib\\site-packages\\sklearn\\utils\\linear_assignment_.py:124: FutureWarning: The linear_assignment function is deprecated in 0.21 and will be removed from 0.23. Use scipy.optimize.linear_sum_assignment instead.\n",
            "  warnings.warn(\n",
            "c:\\Users\\japik\\anaconda3\\lib\\site-packages\\sklearn\\utils\\linear_assignment_.py:124: FutureWarning: The linear_assignment function is deprecated in 0.21 and will be removed from 0.23. Use scipy.optimize.linear_sum_assignment instead.\n",
            "  warnings.warn(\n"
          ]
        },
        {
          "name": "stdout",
          "output_type": "stream",
          "text": [
            "#Epoch 330: Total: 0.0052 Clustering Loss: 0.0041 Reconstruction Loss: 0.0011\n",
            "acc: 0.53463, nmi: 0.72316\n",
            "satisfied constraints: 1.00000\n",
            "#Epoch 331: Total: 0.0049 Clustering Loss: 0.0038 Reconstruction Loss: 0.0011\n",
            "acc: 0.53683, nmi: 0.72306\n",
            "satisfied constraints: 1.00000\n",
            "#Epoch 332: Total: 0.0047 Clustering Loss: 0.0037 Reconstruction Loss: 0.0010\n"
          ]
        },
        {
          "name": "stderr",
          "output_type": "stream",
          "text": [
            "c:\\Users\\japik\\anaconda3\\lib\\site-packages\\sklearn\\utils\\linear_assignment_.py:124: FutureWarning: The linear_assignment function is deprecated in 0.21 and will be removed from 0.23. Use scipy.optimize.linear_sum_assignment instead.\n",
            "  warnings.warn(\n",
            "c:\\Users\\japik\\anaconda3\\lib\\site-packages\\sklearn\\utils\\linear_assignment_.py:124: FutureWarning: The linear_assignment function is deprecated in 0.21 and will be removed from 0.23. Use scipy.optimize.linear_sum_assignment instead.\n",
            "  warnings.warn(\n",
            "c:\\Users\\japik\\anaconda3\\lib\\site-packages\\sklearn\\utils\\linear_assignment_.py:124: FutureWarning: The linear_assignment function is deprecated in 0.21 and will be removed from 0.23. Use scipy.optimize.linear_sum_assignment instead.\n",
            "  warnings.warn(\n",
            "c:\\Users\\japik\\anaconda3\\lib\\site-packages\\sklearn\\utils\\linear_assignment_.py:124: FutureWarning: The linear_assignment function is deprecated in 0.21 and will be removed from 0.23. Use scipy.optimize.linear_sum_assignment instead.\n",
            "  warnings.warn(\n",
            "c:\\Users\\japik\\anaconda3\\lib\\site-packages\\sklearn\\utils\\linear_assignment_.py:124: FutureWarning: The linear_assignment function is deprecated in 0.21 and will be removed from 0.23. Use scipy.optimize.linear_sum_assignment instead.\n",
            "  warnings.warn(\n"
          ]
        },
        {
          "name": "stdout",
          "output_type": "stream",
          "text": [
            "acc: 0.53599, nmi: 0.72297\n",
            "satisfied constraints: 1.00000\n",
            "#Epoch 333: Total: 0.0048 Clustering Loss: 0.0036 Reconstruction Loss: 0.0012\n",
            "acc: 0.53853, nmi: 0.72608\n",
            "satisfied constraints: 1.00000\n",
            "#Epoch 334: Total: 0.0050 Clustering Loss: 0.0039 Reconstruction Loss: 0.0011\n"
          ]
        },
        {
          "name": "stderr",
          "output_type": "stream",
          "text": [
            "c:\\Users\\japik\\anaconda3\\lib\\site-packages\\sklearn\\utils\\linear_assignment_.py:124: FutureWarning: The linear_assignment function is deprecated in 0.21 and will be removed from 0.23. Use scipy.optimize.linear_sum_assignment instead.\n",
            "  warnings.warn(\n",
            "c:\\Users\\japik\\anaconda3\\lib\\site-packages\\sklearn\\utils\\linear_assignment_.py:124: FutureWarning: The linear_assignment function is deprecated in 0.21 and will be removed from 0.23. Use scipy.optimize.linear_sum_assignment instead.\n",
            "  warnings.warn(\n",
            "c:\\Users\\japik\\anaconda3\\lib\\site-packages\\sklearn\\utils\\linear_assignment_.py:124: FutureWarning: The linear_assignment function is deprecated in 0.21 and will be removed from 0.23. Use scipy.optimize.linear_sum_assignment instead.\n",
            "  warnings.warn(\n",
            "c:\\Users\\japik\\anaconda3\\lib\\site-packages\\sklearn\\utils\\linear_assignment_.py:124: FutureWarning: The linear_assignment function is deprecated in 0.21 and will be removed from 0.23. Use scipy.optimize.linear_sum_assignment instead.\n",
            "  warnings.warn(\n"
          ]
        },
        {
          "name": "stdout",
          "output_type": "stream",
          "text": [
            "acc: 0.53362, nmi: 0.72534\n",
            "satisfied constraints: 1.00000\n",
            "#Epoch 335: Total: 0.0052 Clustering Loss: 0.0041 Reconstruction Loss: 0.0011\n",
            "acc: 0.53006, nmi: 0.72520\n",
            "satisfied constraints: 1.00000\n",
            "#Epoch 336: Total: 0.0047 Clustering Loss: 0.0040 Reconstruction Loss: 0.0007\n",
            "acc: 0.52532, nmi: 0.72423\n",
            "satisfied constraints: 1.00000\n"
          ]
        },
        {
          "name": "stderr",
          "output_type": "stream",
          "text": [
            "c:\\Users\\japik\\anaconda3\\lib\\site-packages\\sklearn\\utils\\linear_assignment_.py:124: FutureWarning: The linear_assignment function is deprecated in 0.21 and will be removed from 0.23. Use scipy.optimize.linear_sum_assignment instead.\n",
            "  warnings.warn(\n",
            "c:\\Users\\japik\\anaconda3\\lib\\site-packages\\sklearn\\utils\\linear_assignment_.py:124: FutureWarning: The linear_assignment function is deprecated in 0.21 and will be removed from 0.23. Use scipy.optimize.linear_sum_assignment instead.\n",
            "  warnings.warn(\n",
            "c:\\Users\\japik\\anaconda3\\lib\\site-packages\\sklearn\\utils\\linear_assignment_.py:124: FutureWarning: The linear_assignment function is deprecated in 0.21 and will be removed from 0.23. Use scipy.optimize.linear_sum_assignment instead.\n",
            "  warnings.warn(\n",
            "c:\\Users\\japik\\anaconda3\\lib\\site-packages\\sklearn\\utils\\linear_assignment_.py:124: FutureWarning: The linear_assignment function is deprecated in 0.21 and will be removed from 0.23. Use scipy.optimize.linear_sum_assignment instead.\n",
            "  warnings.warn(\n",
            "c:\\Users\\japik\\anaconda3\\lib\\site-packages\\sklearn\\utils\\linear_assignment_.py:124: FutureWarning: The linear_assignment function is deprecated in 0.21 and will be removed from 0.23. Use scipy.optimize.linear_sum_assignment instead.\n",
            "  warnings.warn(\n"
          ]
        },
        {
          "name": "stdout",
          "output_type": "stream",
          "text": [
            "#Epoch 337: Total: 0.0046 Clustering Loss: 0.0040 Reconstruction Loss: 0.0006\n",
            "acc: 0.52278, nmi: 0.72328\n",
            "satisfied constraints: 1.00000\n",
            "#Epoch 338: Total: 0.0046 Clustering Loss: 0.0040 Reconstruction Loss: 0.0006\n",
            "acc: 0.51837, nmi: 0.72235\n",
            "satisfied constraints: 1.00000\n",
            "#Epoch 339: Total: 0.0044 Clustering Loss: 0.0039 Reconstruction Loss: 0.0005\n"
          ]
        },
        {
          "name": "stderr",
          "output_type": "stream",
          "text": [
            "c:\\Users\\japik\\anaconda3\\lib\\site-packages\\sklearn\\utils\\linear_assignment_.py:124: FutureWarning: The linear_assignment function is deprecated in 0.21 and will be removed from 0.23. Use scipy.optimize.linear_sum_assignment instead.\n",
            "  warnings.warn(\n",
            "c:\\Users\\japik\\anaconda3\\lib\\site-packages\\sklearn\\utils\\linear_assignment_.py:124: FutureWarning: The linear_assignment function is deprecated in 0.21 and will be removed from 0.23. Use scipy.optimize.linear_sum_assignment instead.\n",
            "  warnings.warn(\n",
            "c:\\Users\\japik\\anaconda3\\lib\\site-packages\\sklearn\\utils\\linear_assignment_.py:124: FutureWarning: The linear_assignment function is deprecated in 0.21 and will be removed from 0.23. Use scipy.optimize.linear_sum_assignment instead.\n",
            "  warnings.warn(\n",
            "c:\\Users\\japik\\anaconda3\\lib\\site-packages\\sklearn\\utils\\linear_assignment_.py:124: FutureWarning: The linear_assignment function is deprecated in 0.21 and will be removed from 0.23. Use scipy.optimize.linear_sum_assignment instead.\n",
            "  warnings.warn(\n"
          ]
        },
        {
          "name": "stdout",
          "output_type": "stream",
          "text": [
            "acc: 0.51651, nmi: 0.72240\n",
            "satisfied constraints: 1.00000\n",
            "#Epoch 340: Total: 0.0042 Clustering Loss: 0.0039 Reconstruction Loss: 0.0004\n",
            "acc: 0.51719, nmi: 0.72326\n",
            "satisfied constraints: 1.00000\n",
            "#Epoch 341: Total: 0.0042 Clustering Loss: 0.0038 Reconstruction Loss: 0.0004\n"
          ]
        },
        {
          "name": "stderr",
          "output_type": "stream",
          "text": [
            "c:\\Users\\japik\\anaconda3\\lib\\site-packages\\sklearn\\utils\\linear_assignment_.py:124: FutureWarning: The linear_assignment function is deprecated in 0.21 and will be removed from 0.23. Use scipy.optimize.linear_sum_assignment instead.\n",
            "  warnings.warn(\n",
            "c:\\Users\\japik\\anaconda3\\lib\\site-packages\\sklearn\\utils\\linear_assignment_.py:124: FutureWarning: The linear_assignment function is deprecated in 0.21 and will be removed from 0.23. Use scipy.optimize.linear_sum_assignment instead.\n",
            "  warnings.warn(\n",
            "c:\\Users\\japik\\anaconda3\\lib\\site-packages\\sklearn\\utils\\linear_assignment_.py:124: FutureWarning: The linear_assignment function is deprecated in 0.21 and will be removed from 0.23. Use scipy.optimize.linear_sum_assignment instead.\n",
            "  warnings.warn(\n",
            "c:\\Users\\japik\\anaconda3\\lib\\site-packages\\sklearn\\utils\\linear_assignment_.py:124: FutureWarning: The linear_assignment function is deprecated in 0.21 and will be removed from 0.23. Use scipy.optimize.linear_sum_assignment instead.\n",
            "  warnings.warn(\n",
            "c:\\Users\\japik\\anaconda3\\lib\\site-packages\\sklearn\\utils\\linear_assignment_.py:124: FutureWarning: The linear_assignment function is deprecated in 0.21 and will be removed from 0.23. Use scipy.optimize.linear_sum_assignment instead.\n",
            "  warnings.warn(\n"
          ]
        },
        {
          "name": "stdout",
          "output_type": "stream",
          "text": [
            "acc: 0.52058, nmi: 0.72400\n",
            "satisfied constraints: 1.00000\n",
            "#Epoch 342: Total: 0.0040 Clustering Loss: 0.0036 Reconstruction Loss: 0.0004\n",
            "acc: 0.52075, nmi: 0.72435\n",
            "satisfied constraints: 1.00000\n",
            "#Epoch 343: Total: 0.0039 Clustering Loss: 0.0035 Reconstruction Loss: 0.0003\n"
          ]
        },
        {
          "name": "stderr",
          "output_type": "stream",
          "text": [
            "c:\\Users\\japik\\anaconda3\\lib\\site-packages\\sklearn\\utils\\linear_assignment_.py:124: FutureWarning: The linear_assignment function is deprecated in 0.21 and will be removed from 0.23. Use scipy.optimize.linear_sum_assignment instead.\n",
            "  warnings.warn(\n",
            "c:\\Users\\japik\\anaconda3\\lib\\site-packages\\sklearn\\utils\\linear_assignment_.py:124: FutureWarning: The linear_assignment function is deprecated in 0.21 and will be removed from 0.23. Use scipy.optimize.linear_sum_assignment instead.\n",
            "  warnings.warn(\n",
            "c:\\Users\\japik\\anaconda3\\lib\\site-packages\\sklearn\\utils\\linear_assignment_.py:124: FutureWarning: The linear_assignment function is deprecated in 0.21 and will be removed from 0.23. Use scipy.optimize.linear_sum_assignment instead.\n",
            "  warnings.warn(\n",
            "c:\\Users\\japik\\anaconda3\\lib\\site-packages\\sklearn\\utils\\linear_assignment_.py:124: FutureWarning: The linear_assignment function is deprecated in 0.21 and will be removed from 0.23. Use scipy.optimize.linear_sum_assignment instead.\n",
            "  warnings.warn(\n"
          ]
        },
        {
          "name": "stdout",
          "output_type": "stream",
          "text": [
            "acc: 0.51888, nmi: 0.72444\n",
            "satisfied constraints: 1.00000\n",
            "#Epoch 344: Total: 0.0039 Clustering Loss: 0.0035 Reconstruction Loss: 0.0003\n",
            "acc: 0.51888, nmi: 0.72269\n",
            "satisfied constraints: 1.00000\n",
            "#Epoch 345: Total: 0.0041 Clustering Loss: 0.0036 Reconstruction Loss: 0.0004\n"
          ]
        },
        {
          "name": "stderr",
          "output_type": "stream",
          "text": [
            "c:\\Users\\japik\\anaconda3\\lib\\site-packages\\sklearn\\utils\\linear_assignment_.py:124: FutureWarning: The linear_assignment function is deprecated in 0.21 and will be removed from 0.23. Use scipy.optimize.linear_sum_assignment instead.\n",
            "  warnings.warn(\n",
            "c:\\Users\\japik\\anaconda3\\lib\\site-packages\\sklearn\\utils\\linear_assignment_.py:124: FutureWarning: The linear_assignment function is deprecated in 0.21 and will be removed from 0.23. Use scipy.optimize.linear_sum_assignment instead.\n",
            "  warnings.warn(\n",
            "c:\\Users\\japik\\anaconda3\\lib\\site-packages\\sklearn\\utils\\linear_assignment_.py:124: FutureWarning: The linear_assignment function is deprecated in 0.21 and will be removed from 0.23. Use scipy.optimize.linear_sum_assignment instead.\n",
            "  warnings.warn(\n",
            "c:\\Users\\japik\\anaconda3\\lib\\site-packages\\sklearn\\utils\\linear_assignment_.py:124: FutureWarning: The linear_assignment function is deprecated in 0.21 and will be removed from 0.23. Use scipy.optimize.linear_sum_assignment instead.\n",
            "  warnings.warn(\n"
          ]
        },
        {
          "name": "stdout",
          "output_type": "stream",
          "text": [
            "acc: 0.51888, nmi: 0.72393\n",
            "satisfied constraints: 1.00000\n",
            "#Epoch 346: Total: 0.0044 Clustering Loss: 0.0039 Reconstruction Loss: 0.0005\n",
            "acc: 0.51685, nmi: 0.72157\n",
            "satisfied constraints: 1.00000\n",
            "#Epoch 347: Total: 0.0049 Clustering Loss: 0.0042 Reconstruction Loss: 0.0006\n",
            "acc: 0.51905, nmi: 0.72313\n",
            "satisfied constraints: 1.00000\n"
          ]
        },
        {
          "name": "stderr",
          "output_type": "stream",
          "text": [
            "c:\\Users\\japik\\anaconda3\\lib\\site-packages\\sklearn\\utils\\linear_assignment_.py:124: FutureWarning: The linear_assignment function is deprecated in 0.21 and will be removed from 0.23. Use scipy.optimize.linear_sum_assignment instead.\n",
            "  warnings.warn(\n",
            "c:\\Users\\japik\\anaconda3\\lib\\site-packages\\sklearn\\utils\\linear_assignment_.py:124: FutureWarning: The linear_assignment function is deprecated in 0.21 and will be removed from 0.23. Use scipy.optimize.linear_sum_assignment instead.\n",
            "  warnings.warn(\n",
            "c:\\Users\\japik\\anaconda3\\lib\\site-packages\\sklearn\\utils\\linear_assignment_.py:124: FutureWarning: The linear_assignment function is deprecated in 0.21 and will be removed from 0.23. Use scipy.optimize.linear_sum_assignment instead.\n",
            "  warnings.warn(\n",
            "c:\\Users\\japik\\anaconda3\\lib\\site-packages\\sklearn\\utils\\linear_assignment_.py:124: FutureWarning: The linear_assignment function is deprecated in 0.21 and will be removed from 0.23. Use scipy.optimize.linear_sum_assignment instead.\n",
            "  warnings.warn(\n",
            "c:\\Users\\japik\\anaconda3\\lib\\site-packages\\sklearn\\utils\\linear_assignment_.py:124: FutureWarning: The linear_assignment function is deprecated in 0.21 and will be removed from 0.23. Use scipy.optimize.linear_sum_assignment instead.\n",
            "  warnings.warn(\n"
          ]
        },
        {
          "name": "stdout",
          "output_type": "stream",
          "text": [
            "#Epoch 348: Total: 0.0057 Clustering Loss: 0.0047 Reconstruction Loss: 0.0010\n",
            "acc: 0.51939, nmi: 0.72080\n",
            "satisfied constraints: 1.00000\n",
            "#Epoch 349: Total: 0.0067 Clustering Loss: 0.0056 Reconstruction Loss: 0.0011\n",
            "acc: 0.52176, nmi: 0.72379\n",
            "satisfied constraints: 1.00000\n",
            "#Epoch 350: Total: 0.0077 Clustering Loss: 0.0064 Reconstruction Loss: 0.0013\n"
          ]
        },
        {
          "name": "stderr",
          "output_type": "stream",
          "text": [
            "c:\\Users\\japik\\anaconda3\\lib\\site-packages\\sklearn\\utils\\linear_assignment_.py:124: FutureWarning: The linear_assignment function is deprecated in 0.21 and will be removed from 0.23. Use scipy.optimize.linear_sum_assignment instead.\n",
            "  warnings.warn(\n",
            "c:\\Users\\japik\\anaconda3\\lib\\site-packages\\sklearn\\utils\\linear_assignment_.py:124: FutureWarning: The linear_assignment function is deprecated in 0.21 and will be removed from 0.23. Use scipy.optimize.linear_sum_assignment instead.\n",
            "  warnings.warn(\n",
            "c:\\Users\\japik\\anaconda3\\lib\\site-packages\\sklearn\\utils\\linear_assignment_.py:124: FutureWarning: The linear_assignment function is deprecated in 0.21 and will be removed from 0.23. Use scipy.optimize.linear_sum_assignment instead.\n",
            "  warnings.warn(\n",
            "c:\\Users\\japik\\anaconda3\\lib\\site-packages\\sklearn\\utils\\linear_assignment_.py:124: FutureWarning: The linear_assignment function is deprecated in 0.21 and will be removed from 0.23. Use scipy.optimize.linear_sum_assignment instead.\n",
            "  warnings.warn(\n"
          ]
        },
        {
          "name": "stdout",
          "output_type": "stream",
          "text": [
            "acc: 0.52362, nmi: 0.72368\n",
            "satisfied constraints: 1.00000\n",
            "#Epoch 351: Total: 0.0045 Clustering Loss: 0.0036 Reconstruction Loss: 0.0009\n",
            "acc: 0.52650, nmi: 0.72608\n",
            "satisfied constraints: 1.00000\n",
            "#Epoch 352: Total: 0.0042 Clustering Loss: 0.0033 Reconstruction Loss: 0.0008\n"
          ]
        },
        {
          "name": "stderr",
          "output_type": "stream",
          "text": [
            "c:\\Users\\japik\\anaconda3\\lib\\site-packages\\sklearn\\utils\\linear_assignment_.py:124: FutureWarning: The linear_assignment function is deprecated in 0.21 and will be removed from 0.23. Use scipy.optimize.linear_sum_assignment instead.\n",
            "  warnings.warn(\n",
            "c:\\Users\\japik\\anaconda3\\lib\\site-packages\\sklearn\\utils\\linear_assignment_.py:124: FutureWarning: The linear_assignment function is deprecated in 0.21 and will be removed from 0.23. Use scipy.optimize.linear_sum_assignment instead.\n",
            "  warnings.warn(\n",
            "c:\\Users\\japik\\anaconda3\\lib\\site-packages\\sklearn\\utils\\linear_assignment_.py:124: FutureWarning: The linear_assignment function is deprecated in 0.21 and will be removed from 0.23. Use scipy.optimize.linear_sum_assignment instead.\n",
            "  warnings.warn(\n",
            "c:\\Users\\japik\\anaconda3\\lib\\site-packages\\sklearn\\utils\\linear_assignment_.py:124: FutureWarning: The linear_assignment function is deprecated in 0.21 and will be removed from 0.23. Use scipy.optimize.linear_sum_assignment instead.\n",
            "  warnings.warn(\n"
          ]
        },
        {
          "name": "stdout",
          "output_type": "stream",
          "text": [
            "acc: 0.52413, nmi: 0.72399\n",
            "satisfied constraints: 1.00000\n",
            "#Epoch 353: Total: 0.0041 Clustering Loss: 0.0032 Reconstruction Loss: 0.0008\n",
            "acc: 0.52549, nmi: 0.72433\n",
            "satisfied constraints: 1.00000\n",
            "#Epoch 354: Total: 0.0039 Clustering Loss: 0.0032 Reconstruction Loss: 0.0006\n"
          ]
        },
        {
          "name": "stderr",
          "output_type": "stream",
          "text": [
            "c:\\Users\\japik\\anaconda3\\lib\\site-packages\\sklearn\\utils\\linear_assignment_.py:124: FutureWarning: The linear_assignment function is deprecated in 0.21 and will be removed from 0.23. Use scipy.optimize.linear_sum_assignment instead.\n",
            "  warnings.warn(\n",
            "c:\\Users\\japik\\anaconda3\\lib\\site-packages\\sklearn\\utils\\linear_assignment_.py:124: FutureWarning: The linear_assignment function is deprecated in 0.21 and will be removed from 0.23. Use scipy.optimize.linear_sum_assignment instead.\n",
            "  warnings.warn(\n",
            "c:\\Users\\japik\\anaconda3\\lib\\site-packages\\sklearn\\utils\\linear_assignment_.py:124: FutureWarning: The linear_assignment function is deprecated in 0.21 and will be removed from 0.23. Use scipy.optimize.linear_sum_assignment instead.\n",
            "  warnings.warn(\n",
            "c:\\Users\\japik\\anaconda3\\lib\\site-packages\\sklearn\\utils\\linear_assignment_.py:124: FutureWarning: The linear_assignment function is deprecated in 0.21 and will be removed from 0.23. Use scipy.optimize.linear_sum_assignment instead.\n",
            "  warnings.warn(\n",
            "c:\\Users\\japik\\anaconda3\\lib\\site-packages\\sklearn\\utils\\linear_assignment_.py:124: FutureWarning: The linear_assignment function is deprecated in 0.21 and will be removed from 0.23. Use scipy.optimize.linear_sum_assignment instead.\n",
            "  warnings.warn(\n"
          ]
        },
        {
          "name": "stdout",
          "output_type": "stream",
          "text": [
            "acc: 0.52616, nmi: 0.72245\n",
            "satisfied constraints: 1.00000\n",
            "#Epoch 355: Total: 0.0042 Clustering Loss: 0.0034 Reconstruction Loss: 0.0008\n",
            "acc: 0.52481, nmi: 0.72373\n",
            "satisfied constraints: 1.00000\n",
            "#Epoch 356: Total: 0.0039 Clustering Loss: 0.0032 Reconstruction Loss: 0.0007\n"
          ]
        },
        {
          "name": "stderr",
          "output_type": "stream",
          "text": [
            "c:\\Users\\japik\\anaconda3\\lib\\site-packages\\sklearn\\utils\\linear_assignment_.py:124: FutureWarning: The linear_assignment function is deprecated in 0.21 and will be removed from 0.23. Use scipy.optimize.linear_sum_assignment instead.\n",
            "  warnings.warn(\n",
            "c:\\Users\\japik\\anaconda3\\lib\\site-packages\\sklearn\\utils\\linear_assignment_.py:124: FutureWarning: The linear_assignment function is deprecated in 0.21 and will be removed from 0.23. Use scipy.optimize.linear_sum_assignment instead.\n",
            "  warnings.warn(\n",
            "c:\\Users\\japik\\anaconda3\\lib\\site-packages\\sklearn\\utils\\linear_assignment_.py:124: FutureWarning: The linear_assignment function is deprecated in 0.21 and will be removed from 0.23. Use scipy.optimize.linear_sum_assignment instead.\n",
            "  warnings.warn(\n",
            "c:\\Users\\japik\\anaconda3\\lib\\site-packages\\sklearn\\utils\\linear_assignment_.py:124: FutureWarning: The linear_assignment function is deprecated in 0.21 and will be removed from 0.23. Use scipy.optimize.linear_sum_assignment instead.\n",
            "  warnings.warn(\n"
          ]
        },
        {
          "name": "stdout",
          "output_type": "stream",
          "text": [
            "acc: 0.52820, nmi: 0.72386\n",
            "satisfied constraints: 1.00000\n",
            "#Epoch 357: Total: 0.0041 Clustering Loss: 0.0034 Reconstruction Loss: 0.0006\n",
            "acc: 0.52583, nmi: 0.72369\n",
            "satisfied constraints: 1.00000\n",
            "#Epoch 358: Total: 0.0038 Clustering Loss: 0.0031 Reconstruction Loss: 0.0006\n"
          ]
        },
        {
          "name": "stderr",
          "output_type": "stream",
          "text": [
            "c:\\Users\\japik\\anaconda3\\lib\\site-packages\\sklearn\\utils\\linear_assignment_.py:124: FutureWarning: The linear_assignment function is deprecated in 0.21 and will be removed from 0.23. Use scipy.optimize.linear_sum_assignment instead.\n",
            "  warnings.warn(\n",
            "c:\\Users\\japik\\anaconda3\\lib\\site-packages\\sklearn\\utils\\linear_assignment_.py:124: FutureWarning: The linear_assignment function is deprecated in 0.21 and will be removed from 0.23. Use scipy.optimize.linear_sum_assignment instead.\n",
            "  warnings.warn(\n",
            "c:\\Users\\japik\\anaconda3\\lib\\site-packages\\sklearn\\utils\\linear_assignment_.py:124: FutureWarning: The linear_assignment function is deprecated in 0.21 and will be removed from 0.23. Use scipy.optimize.linear_sum_assignment instead.\n",
            "  warnings.warn(\n",
            "c:\\Users\\japik\\anaconda3\\lib\\site-packages\\sklearn\\utils\\linear_assignment_.py:124: FutureWarning: The linear_assignment function is deprecated in 0.21 and will be removed from 0.23. Use scipy.optimize.linear_sum_assignment instead.\n",
            "  warnings.warn(\n"
          ]
        },
        {
          "name": "stdout",
          "output_type": "stream",
          "text": [
            "acc: 0.53074, nmi: 0.72394\n",
            "satisfied constraints: 1.00000\n",
            "#Epoch 359: Total: 0.0042 Clustering Loss: 0.0035 Reconstruction Loss: 0.0007\n",
            "acc: 0.52904, nmi: 0.72478\n",
            "satisfied constraints: 1.00000\n",
            "#Epoch 360: Total: 0.0038 Clustering Loss: 0.0031 Reconstruction Loss: 0.0008\n"
          ]
        },
        {
          "name": "stderr",
          "output_type": "stream",
          "text": [
            "c:\\Users\\japik\\anaconda3\\lib\\site-packages\\sklearn\\utils\\linear_assignment_.py:124: FutureWarning: The linear_assignment function is deprecated in 0.21 and will be removed from 0.23. Use scipy.optimize.linear_sum_assignment instead.\n",
            "  warnings.warn(\n",
            "c:\\Users\\japik\\anaconda3\\lib\\site-packages\\sklearn\\utils\\linear_assignment_.py:124: FutureWarning: The linear_assignment function is deprecated in 0.21 and will be removed from 0.23. Use scipy.optimize.linear_sum_assignment instead.\n",
            "  warnings.warn(\n",
            "c:\\Users\\japik\\anaconda3\\lib\\site-packages\\sklearn\\utils\\linear_assignment_.py:124: FutureWarning: The linear_assignment function is deprecated in 0.21 and will be removed from 0.23. Use scipy.optimize.linear_sum_assignment instead.\n",
            "  warnings.warn(\n",
            "c:\\Users\\japik\\anaconda3\\lib\\site-packages\\sklearn\\utils\\linear_assignment_.py:124: FutureWarning: The linear_assignment function is deprecated in 0.21 and will be removed from 0.23. Use scipy.optimize.linear_sum_assignment instead.\n",
            "  warnings.warn(\n"
          ]
        },
        {
          "name": "stdout",
          "output_type": "stream",
          "text": [
            "acc: 0.53175, nmi: 0.72420\n",
            "satisfied constraints: 1.00000\n",
            "#Epoch 361: Total: 0.0042 Clustering Loss: 0.0034 Reconstruction Loss: 0.0008\n",
            "acc: 0.53040, nmi: 0.72483\n",
            "satisfied constraints: 1.00000\n",
            "#Epoch 362: Total: 0.0037 Clustering Loss: 0.0030 Reconstruction Loss: 0.0007\n"
          ]
        },
        {
          "name": "stderr",
          "output_type": "stream",
          "text": [
            "c:\\Users\\japik\\anaconda3\\lib\\site-packages\\sklearn\\utils\\linear_assignment_.py:124: FutureWarning: The linear_assignment function is deprecated in 0.21 and will be removed from 0.23. Use scipy.optimize.linear_sum_assignment instead.\n",
            "  warnings.warn(\n",
            "c:\\Users\\japik\\anaconda3\\lib\\site-packages\\sklearn\\utils\\linear_assignment_.py:124: FutureWarning: The linear_assignment function is deprecated in 0.21 and will be removed from 0.23. Use scipy.optimize.linear_sum_assignment instead.\n",
            "  warnings.warn(\n",
            "c:\\Users\\japik\\anaconda3\\lib\\site-packages\\sklearn\\utils\\linear_assignment_.py:124: FutureWarning: The linear_assignment function is deprecated in 0.21 and will be removed from 0.23. Use scipy.optimize.linear_sum_assignment instead.\n",
            "  warnings.warn(\n",
            "c:\\Users\\japik\\anaconda3\\lib\\site-packages\\sklearn\\utils\\linear_assignment_.py:124: FutureWarning: The linear_assignment function is deprecated in 0.21 and will be removed from 0.23. Use scipy.optimize.linear_sum_assignment instead.\n",
            "  warnings.warn(\n"
          ]
        },
        {
          "name": "stdout",
          "output_type": "stream",
          "text": [
            "acc: 0.53192, nmi: 0.72375\n",
            "satisfied constraints: 1.00000\n",
            "#Epoch 363: Total: 0.0038 Clustering Loss: 0.0032 Reconstruction Loss: 0.0006\n",
            "acc: 0.52989, nmi: 0.72390\n",
            "satisfied constraints: 1.00000\n",
            "#Epoch 364: Total: 0.0036 Clustering Loss: 0.0030 Reconstruction Loss: 0.0006\n"
          ]
        },
        {
          "name": "stderr",
          "output_type": "stream",
          "text": [
            "c:\\Users\\japik\\anaconda3\\lib\\site-packages\\sklearn\\utils\\linear_assignment_.py:124: FutureWarning: The linear_assignment function is deprecated in 0.21 and will be removed from 0.23. Use scipy.optimize.linear_sum_assignment instead.\n",
            "  warnings.warn(\n",
            "c:\\Users\\japik\\anaconda3\\lib\\site-packages\\sklearn\\utils\\linear_assignment_.py:124: FutureWarning: The linear_assignment function is deprecated in 0.21 and will be removed from 0.23. Use scipy.optimize.linear_sum_assignment instead.\n",
            "  warnings.warn(\n",
            "c:\\Users\\japik\\anaconda3\\lib\\site-packages\\sklearn\\utils\\linear_assignment_.py:124: FutureWarning: The linear_assignment function is deprecated in 0.21 and will be removed from 0.23. Use scipy.optimize.linear_sum_assignment instead.\n",
            "  warnings.warn(\n",
            "c:\\Users\\japik\\anaconda3\\lib\\site-packages\\sklearn\\utils\\linear_assignment_.py:124: FutureWarning: The linear_assignment function is deprecated in 0.21 and will be removed from 0.23. Use scipy.optimize.linear_sum_assignment instead.\n",
            "  warnings.warn(\n"
          ]
        },
        {
          "name": "stdout",
          "output_type": "stream",
          "text": [
            "acc: 0.53124, nmi: 0.72405\n",
            "satisfied constraints: 1.00000\n",
            "#Epoch 365: Total: 0.0035 Clustering Loss: 0.0031 Reconstruction Loss: 0.0005\n",
            "acc: 0.53548, nmi: 0.72536\n",
            "satisfied constraints: 1.00000\n",
            "#Epoch 366: Total: 0.0034 Clustering Loss: 0.0031 Reconstruction Loss: 0.0003\n",
            "acc: 0.53531, nmi: 0.72498\n",
            "satisfied constraints: 1.00000\n"
          ]
        },
        {
          "name": "stderr",
          "output_type": "stream",
          "text": [
            "c:\\Users\\japik\\anaconda3\\lib\\site-packages\\sklearn\\utils\\linear_assignment_.py:124: FutureWarning: The linear_assignment function is deprecated in 0.21 and will be removed from 0.23. Use scipy.optimize.linear_sum_assignment instead.\n",
            "  warnings.warn(\n",
            "c:\\Users\\japik\\anaconda3\\lib\\site-packages\\sklearn\\utils\\linear_assignment_.py:124: FutureWarning: The linear_assignment function is deprecated in 0.21 and will be removed from 0.23. Use scipy.optimize.linear_sum_assignment instead.\n",
            "  warnings.warn(\n",
            "c:\\Users\\japik\\anaconda3\\lib\\site-packages\\sklearn\\utils\\linear_assignment_.py:124: FutureWarning: The linear_assignment function is deprecated in 0.21 and will be removed from 0.23. Use scipy.optimize.linear_sum_assignment instead.\n",
            "  warnings.warn(\n",
            "c:\\Users\\japik\\anaconda3\\lib\\site-packages\\sklearn\\utils\\linear_assignment_.py:124: FutureWarning: The linear_assignment function is deprecated in 0.21 and will be removed from 0.23. Use scipy.optimize.linear_sum_assignment instead.\n",
            "  warnings.warn(\n",
            "c:\\Users\\japik\\anaconda3\\lib\\site-packages\\sklearn\\utils\\linear_assignment_.py:124: FutureWarning: The linear_assignment function is deprecated in 0.21 and will be removed from 0.23. Use scipy.optimize.linear_sum_assignment instead.\n",
            "  warnings.warn(\n"
          ]
        },
        {
          "name": "stdout",
          "output_type": "stream",
          "text": [
            "#Epoch 367: Total: 0.0035 Clustering Loss: 0.0031 Reconstruction Loss: 0.0004\n",
            "acc: 0.53480, nmi: 0.72638\n",
            "satisfied constraints: 1.00000\n",
            "#Epoch 368: Total: 0.0034 Clustering Loss: 0.0030 Reconstruction Loss: 0.0004\n",
            "acc: 0.53192, nmi: 0.72528\n",
            "satisfied constraints: 1.00000\n",
            "#Epoch 369: Total: 0.0034 Clustering Loss: 0.0030 Reconstruction Loss: 0.0004\n"
          ]
        },
        {
          "name": "stderr",
          "output_type": "stream",
          "text": [
            "c:\\Users\\japik\\anaconda3\\lib\\site-packages\\sklearn\\utils\\linear_assignment_.py:124: FutureWarning: The linear_assignment function is deprecated in 0.21 and will be removed from 0.23. Use scipy.optimize.linear_sum_assignment instead.\n",
            "  warnings.warn(\n",
            "c:\\Users\\japik\\anaconda3\\lib\\site-packages\\sklearn\\utils\\linear_assignment_.py:124: FutureWarning: The linear_assignment function is deprecated in 0.21 and will be removed from 0.23. Use scipy.optimize.linear_sum_assignment instead.\n",
            "  warnings.warn(\n",
            "c:\\Users\\japik\\anaconda3\\lib\\site-packages\\sklearn\\utils\\linear_assignment_.py:124: FutureWarning: The linear_assignment function is deprecated in 0.21 and will be removed from 0.23. Use scipy.optimize.linear_sum_assignment instead.\n",
            "  warnings.warn(\n",
            "c:\\Users\\japik\\anaconda3\\lib\\site-packages\\sklearn\\utils\\linear_assignment_.py:124: FutureWarning: The linear_assignment function is deprecated in 0.21 and will be removed from 0.23. Use scipy.optimize.linear_sum_assignment instead.\n",
            "  warnings.warn(\n",
            "c:\\Users\\japik\\anaconda3\\lib\\site-packages\\sklearn\\utils\\linear_assignment_.py:124: FutureWarning: The linear_assignment function is deprecated in 0.21 and will be removed from 0.23. Use scipy.optimize.linear_sum_assignment instead.\n",
            "  warnings.warn(\n"
          ]
        },
        {
          "name": "stdout",
          "output_type": "stream",
          "text": [
            "acc: 0.53124, nmi: 0.72614\n",
            "satisfied constraints: 1.00000\n",
            "#Epoch 370: Total: 0.0034 Clustering Loss: 0.0030 Reconstruction Loss: 0.0004\n",
            "acc: 0.52938, nmi: 0.72469\n",
            "satisfied constraints: 1.00000\n",
            "#Epoch 371: Total: 0.0036 Clustering Loss: 0.0030 Reconstruction Loss: 0.0006\n"
          ]
        },
        {
          "name": "stderr",
          "output_type": "stream",
          "text": [
            "c:\\Users\\japik\\anaconda3\\lib\\site-packages\\sklearn\\utils\\linear_assignment_.py:124: FutureWarning: The linear_assignment function is deprecated in 0.21 and will be removed from 0.23. Use scipy.optimize.linear_sum_assignment instead.\n",
            "  warnings.warn(\n",
            "c:\\Users\\japik\\anaconda3\\lib\\site-packages\\sklearn\\utils\\linear_assignment_.py:124: FutureWarning: The linear_assignment function is deprecated in 0.21 and will be removed from 0.23. Use scipy.optimize.linear_sum_assignment instead.\n",
            "  warnings.warn(\n",
            "c:\\Users\\japik\\anaconda3\\lib\\site-packages\\sklearn\\utils\\linear_assignment_.py:124: FutureWarning: The linear_assignment function is deprecated in 0.21 and will be removed from 0.23. Use scipy.optimize.linear_sum_assignment instead.\n",
            "  warnings.warn(\n",
            "c:\\Users\\japik\\anaconda3\\lib\\site-packages\\sklearn\\utils\\linear_assignment_.py:124: FutureWarning: The linear_assignment function is deprecated in 0.21 and will be removed from 0.23. Use scipy.optimize.linear_sum_assignment instead.\n",
            "  warnings.warn(\n",
            "c:\\Users\\japik\\anaconda3\\lib\\site-packages\\sklearn\\utils\\linear_assignment_.py:124: FutureWarning: The linear_assignment function is deprecated in 0.21 and will be removed from 0.23. Use scipy.optimize.linear_sum_assignment instead.\n",
            "  warnings.warn(\n"
          ]
        },
        {
          "name": "stdout",
          "output_type": "stream",
          "text": [
            "acc: 0.52870, nmi: 0.72647\n",
            "satisfied constraints: 1.00000\n",
            "#Epoch 372: Total: 0.0036 Clustering Loss: 0.0030 Reconstruction Loss: 0.0006\n",
            "acc: 0.52701, nmi: 0.72474\n",
            "satisfied constraints: 1.00000\n",
            "#Epoch 373: Total: 0.0043 Clustering Loss: 0.0032 Reconstruction Loss: 0.0010\n",
            "acc: 0.52786, nmi: 0.72665\n",
            "satisfied constraints: 1.00000\n",
            "#Epoch 374: Total: 0.0043 Clustering Loss: 0.0031 Reconstruction Loss: 0.0012\n",
            "acc: 0.52616, nmi: 0.72553\n",
            "satisfied constraints: 1.00000\n",
            "#Epoch 375: Total: 0.0051 Clustering Loss: 0.0037 Reconstruction Loss: 0.0014\n"
          ]
        },
        {
          "name": "stderr",
          "output_type": "stream",
          "text": [
            "c:\\Users\\japik\\anaconda3\\lib\\site-packages\\sklearn\\utils\\linear_assignment_.py:124: FutureWarning: The linear_assignment function is deprecated in 0.21 and will be removed from 0.23. Use scipy.optimize.linear_sum_assignment instead.\n",
            "  warnings.warn(\n",
            "c:\\Users\\japik\\anaconda3\\lib\\site-packages\\sklearn\\utils\\linear_assignment_.py:124: FutureWarning: The linear_assignment function is deprecated in 0.21 and will be removed from 0.23. Use scipy.optimize.linear_sum_assignment instead.\n",
            "  warnings.warn(\n",
            "c:\\Users\\japik\\anaconda3\\lib\\site-packages\\sklearn\\utils\\linear_assignment_.py:124: FutureWarning: The linear_assignment function is deprecated in 0.21 and will be removed from 0.23. Use scipy.optimize.linear_sum_assignment instead.\n",
            "  warnings.warn(\n",
            "c:\\Users\\japik\\anaconda3\\lib\\site-packages\\sklearn\\utils\\linear_assignment_.py:124: FutureWarning: The linear_assignment function is deprecated in 0.21 and will be removed from 0.23. Use scipy.optimize.linear_sum_assignment instead.\n",
            "  warnings.warn(\n",
            "c:\\Users\\japik\\anaconda3\\lib\\site-packages\\sklearn\\utils\\linear_assignment_.py:124: FutureWarning: The linear_assignment function is deprecated in 0.21 and will be removed from 0.23. Use scipy.optimize.linear_sum_assignment instead.\n",
            "  warnings.warn(\n"
          ]
        },
        {
          "name": "stdout",
          "output_type": "stream",
          "text": [
            "acc: 0.52870, nmi: 0.72678\n",
            "satisfied constraints: 1.00000\n",
            "#Epoch 376: Total: 0.0042 Clustering Loss: 0.0031 Reconstruction Loss: 0.0011\n",
            "acc: 0.52870, nmi: 0.72612\n",
            "satisfied constraints: 1.00000\n",
            "#Epoch 377: Total: 0.0039 Clustering Loss: 0.0033 Reconstruction Loss: 0.0006\n",
            "acc: 0.52752, nmi: 0.72655\n",
            "satisfied constraints: 1.00000\n"
          ]
        },
        {
          "name": "stderr",
          "output_type": "stream",
          "text": [
            "c:\\Users\\japik\\anaconda3\\lib\\site-packages\\sklearn\\utils\\linear_assignment_.py:124: FutureWarning: The linear_assignment function is deprecated in 0.21 and will be removed from 0.23. Use scipy.optimize.linear_sum_assignment instead.\n",
            "  warnings.warn(\n",
            "c:\\Users\\japik\\anaconda3\\lib\\site-packages\\sklearn\\utils\\linear_assignment_.py:124: FutureWarning: The linear_assignment function is deprecated in 0.21 and will be removed from 0.23. Use scipy.optimize.linear_sum_assignment instead.\n",
            "  warnings.warn(\n",
            "c:\\Users\\japik\\anaconda3\\lib\\site-packages\\sklearn\\utils\\linear_assignment_.py:124: FutureWarning: The linear_assignment function is deprecated in 0.21 and will be removed from 0.23. Use scipy.optimize.linear_sum_assignment instead.\n",
            "  warnings.warn(\n",
            "c:\\Users\\japik\\anaconda3\\lib\\site-packages\\sklearn\\utils\\linear_assignment_.py:124: FutureWarning: The linear_assignment function is deprecated in 0.21 and will be removed from 0.23. Use scipy.optimize.linear_sum_assignment instead.\n",
            "  warnings.warn(\n",
            "c:\\Users\\japik\\anaconda3\\lib\\site-packages\\sklearn\\utils\\linear_assignment_.py:124: FutureWarning: The linear_assignment function is deprecated in 0.21 and will be removed from 0.23. Use scipy.optimize.linear_sum_assignment instead.\n",
            "  warnings.warn(\n",
            "c:\\Users\\japik\\anaconda3\\lib\\site-packages\\sklearn\\utils\\linear_assignment_.py:124: FutureWarning: The linear_assignment function is deprecated in 0.21 and will be removed from 0.23. Use scipy.optimize.linear_sum_assignment instead.\n",
            "  warnings.warn(\n",
            "c:\\Users\\japik\\anaconda3\\lib\\site-packages\\sklearn\\utils\\linear_assignment_.py:124: FutureWarning: The linear_assignment function is deprecated in 0.21 and will be removed from 0.23. Use scipy.optimize.linear_sum_assignment instead.\n",
            "  warnings.warn(\n",
            "c:\\Users\\japik\\anaconda3\\lib\\site-packages\\sklearn\\utils\\linear_assignment_.py:124: FutureWarning: The linear_assignment function is deprecated in 0.21 and will be removed from 0.23. Use scipy.optimize.linear_sum_assignment instead.\n",
            "  warnings.warn(\n",
            "c:\\Users\\japik\\anaconda3\\lib\\site-packages\\sklearn\\utils\\linear_assignment_.py:124: FutureWarning: The linear_assignment function is deprecated in 0.21 and will be removed from 0.23. Use scipy.optimize.linear_sum_assignment instead.\n",
            "  warnings.warn(\n"
          ]
        },
        {
          "name": "stdout",
          "output_type": "stream",
          "text": [
            "#Epoch 378: Total: 0.0035 Clustering Loss: 0.0030 Reconstruction Loss: 0.0005\n",
            "acc: 0.52718, nmi: 0.72669\n",
            "satisfied constraints: 1.00000\n",
            "#Epoch 379: Total: 0.0035 Clustering Loss: 0.0031 Reconstruction Loss: 0.0003\n",
            "acc: 0.52599, nmi: 0.72657\n",
            "satisfied constraints: 1.00000\n",
            "#Epoch 380: Total: 0.0033 Clustering Loss: 0.0029 Reconstruction Loss: 0.0004\n"
          ]
        },
        {
          "name": "stderr",
          "output_type": "stream",
          "text": [
            "c:\\Users\\japik\\anaconda3\\lib\\site-packages\\sklearn\\utils\\linear_assignment_.py:124: FutureWarning: The linear_assignment function is deprecated in 0.21 and will be removed from 0.23. Use scipy.optimize.linear_sum_assignment instead.\n",
            "  warnings.warn(\n",
            "c:\\Users\\japik\\anaconda3\\lib\\site-packages\\sklearn\\utils\\linear_assignment_.py:124: FutureWarning: The linear_assignment function is deprecated in 0.21 and will be removed from 0.23. Use scipy.optimize.linear_sum_assignment instead.\n",
            "  warnings.warn(\n",
            "c:\\Users\\japik\\anaconda3\\lib\\site-packages\\sklearn\\utils\\linear_assignment_.py:124: FutureWarning: The linear_assignment function is deprecated in 0.21 and will be removed from 0.23. Use scipy.optimize.linear_sum_assignment instead.\n",
            "  warnings.warn(\n",
            "c:\\Users\\japik\\anaconda3\\lib\\site-packages\\sklearn\\utils\\linear_assignment_.py:124: FutureWarning: The linear_assignment function is deprecated in 0.21 and will be removed from 0.23. Use scipy.optimize.linear_sum_assignment instead.\n",
            "  warnings.warn(\n"
          ]
        },
        {
          "name": "stdout",
          "output_type": "stream",
          "text": [
            "acc: 0.52667, nmi: 0.72648\n",
            "satisfied constraints: 1.00000\n",
            "#Epoch 381: Total: 0.0036 Clustering Loss: 0.0031 Reconstruction Loss: 0.0005\n",
            "acc: 0.52599, nmi: 0.72641\n",
            "satisfied constraints: 1.00000\n",
            "#Epoch 382: Total: 0.0033 Clustering Loss: 0.0029 Reconstruction Loss: 0.0004\n"
          ]
        },
        {
          "name": "stderr",
          "output_type": "stream",
          "text": [
            "c:\\Users\\japik\\anaconda3\\lib\\site-packages\\sklearn\\utils\\linear_assignment_.py:124: FutureWarning: The linear_assignment function is deprecated in 0.21 and will be removed from 0.23. Use scipy.optimize.linear_sum_assignment instead.\n",
            "  warnings.warn(\n",
            "c:\\Users\\japik\\anaconda3\\lib\\site-packages\\sklearn\\utils\\linear_assignment_.py:124: FutureWarning: The linear_assignment function is deprecated in 0.21 and will be removed from 0.23. Use scipy.optimize.linear_sum_assignment instead.\n",
            "  warnings.warn(\n",
            "c:\\Users\\japik\\anaconda3\\lib\\site-packages\\sklearn\\utils\\linear_assignment_.py:124: FutureWarning: The linear_assignment function is deprecated in 0.21 and will be removed from 0.23. Use scipy.optimize.linear_sum_assignment instead.\n",
            "  warnings.warn(\n",
            "c:\\Users\\japik\\anaconda3\\lib\\site-packages\\sklearn\\utils\\linear_assignment_.py:124: FutureWarning: The linear_assignment function is deprecated in 0.21 and will be removed from 0.23. Use scipy.optimize.linear_sum_assignment instead.\n",
            "  warnings.warn(\n",
            "c:\\Users\\japik\\anaconda3\\lib\\site-packages\\sklearn\\utils\\linear_assignment_.py:124: FutureWarning: The linear_assignment function is deprecated in 0.21 and will be removed from 0.23. Use scipy.optimize.linear_sum_assignment instead.\n",
            "  warnings.warn(\n"
          ]
        },
        {
          "name": "stdout",
          "output_type": "stream",
          "text": [
            "acc: 0.52650, nmi: 0.72637\n",
            "satisfied constraints: 1.00000\n",
            "#Epoch 383: Total: 0.0034 Clustering Loss: 0.0030 Reconstruction Loss: 0.0003\n",
            "acc: 0.52583, nmi: 0.72601\n",
            "satisfied constraints: 1.00000\n",
            "#Epoch 384: Total: 0.0031 Clustering Loss: 0.0028 Reconstruction Loss: 0.0003\n",
            "acc: 0.52735, nmi: 0.72650\n",
            "satisfied constraints: 1.00000\n",
            "#Epoch 385: Total: 0.0034 Clustering Loss: 0.0030 Reconstruction Loss: 0.0003\n",
            "acc: 0.52701, nmi: 0.72616\n",
            "satisfied constraints: 1.00000\n",
            "#Epoch 386: Total: 0.0032 Clustering Loss: 0.0029 Reconstruction Loss: 0.0003\n",
            "acc: 0.52938, nmi: 0.72704\n",
            "satisfied constraints: 1.00000\n"
          ]
        },
        {
          "name": "stderr",
          "output_type": "stream",
          "text": [
            "c:\\Users\\japik\\anaconda3\\lib\\site-packages\\sklearn\\utils\\linear_assignment_.py:124: FutureWarning: The linear_assignment function is deprecated in 0.21 and will be removed from 0.23. Use scipy.optimize.linear_sum_assignment instead.\n",
            "  warnings.warn(\n",
            "c:\\Users\\japik\\anaconda3\\lib\\site-packages\\sklearn\\utils\\linear_assignment_.py:124: FutureWarning: The linear_assignment function is deprecated in 0.21 and will be removed from 0.23. Use scipy.optimize.linear_sum_assignment instead.\n",
            "  warnings.warn(\n",
            "c:\\Users\\japik\\anaconda3\\lib\\site-packages\\sklearn\\utils\\linear_assignment_.py:124: FutureWarning: The linear_assignment function is deprecated in 0.21 and will be removed from 0.23. Use scipy.optimize.linear_sum_assignment instead.\n",
            "  warnings.warn(\n",
            "c:\\Users\\japik\\anaconda3\\lib\\site-packages\\sklearn\\utils\\linear_assignment_.py:124: FutureWarning: The linear_assignment function is deprecated in 0.21 and will be removed from 0.23. Use scipy.optimize.linear_sum_assignment instead.\n",
            "  warnings.warn(\n",
            "c:\\Users\\japik\\anaconda3\\lib\\site-packages\\sklearn\\utils\\linear_assignment_.py:124: FutureWarning: The linear_assignment function is deprecated in 0.21 and will be removed from 0.23. Use scipy.optimize.linear_sum_assignment instead.\n",
            "  warnings.warn(\n"
          ]
        },
        {
          "name": "stdout",
          "output_type": "stream",
          "text": [
            "#Epoch 387: Total: 0.0034 Clustering Loss: 0.0030 Reconstruction Loss: 0.0003\n",
            "acc: 0.52972, nmi: 0.72711\n",
            "satisfied constraints: 1.00000\n",
            "#Epoch 388: Total: 0.0034 Clustering Loss: 0.0030 Reconstruction Loss: 0.0004\n",
            "acc: 0.53243, nmi: 0.72702\n",
            "satisfied constraints: 1.00000\n",
            "#Epoch 389: Total: 0.0038 Clustering Loss: 0.0032 Reconstruction Loss: 0.0006\n"
          ]
        },
        {
          "name": "stderr",
          "output_type": "stream",
          "text": [
            "c:\\Users\\japik\\anaconda3\\lib\\site-packages\\sklearn\\utils\\linear_assignment_.py:124: FutureWarning: The linear_assignment function is deprecated in 0.21 and will be removed from 0.23. Use scipy.optimize.linear_sum_assignment instead.\n",
            "  warnings.warn(\n",
            "c:\\Users\\japik\\anaconda3\\lib\\site-packages\\sklearn\\utils\\linear_assignment_.py:124: FutureWarning: The linear_assignment function is deprecated in 0.21 and will be removed from 0.23. Use scipy.optimize.linear_sum_assignment instead.\n",
            "  warnings.warn(\n",
            "c:\\Users\\japik\\anaconda3\\lib\\site-packages\\sklearn\\utils\\linear_assignment_.py:124: FutureWarning: The linear_assignment function is deprecated in 0.21 and will be removed from 0.23. Use scipy.optimize.linear_sum_assignment instead.\n",
            "  warnings.warn(\n",
            "c:\\Users\\japik\\anaconda3\\lib\\site-packages\\sklearn\\utils\\linear_assignment_.py:124: FutureWarning: The linear_assignment function is deprecated in 0.21 and will be removed from 0.23. Use scipy.optimize.linear_sum_assignment instead.\n",
            "  warnings.warn(\n",
            "c:\\Users\\japik\\anaconda3\\lib\\site-packages\\sklearn\\utils\\linear_assignment_.py:124: FutureWarning: The linear_assignment function is deprecated in 0.21 and will be removed from 0.23. Use scipy.optimize.linear_sum_assignment instead.\n",
            "  warnings.warn(\n"
          ]
        },
        {
          "name": "stdout",
          "output_type": "stream",
          "text": [
            "acc: 0.53175, nmi: 0.72684\n",
            "satisfied constraints: 1.00000\n",
            "#Epoch 390: Total: 0.0035 Clustering Loss: 0.0029 Reconstruction Loss: 0.0006\n",
            "acc: 0.53074, nmi: 0.72636\n",
            "satisfied constraints: 1.00000\n",
            "#Epoch 391: Total: 0.0037 Clustering Loss: 0.0031 Reconstruction Loss: 0.0006\n"
          ]
        },
        {
          "name": "stderr",
          "output_type": "stream",
          "text": [
            "c:\\Users\\japik\\anaconda3\\lib\\site-packages\\sklearn\\utils\\linear_assignment_.py:124: FutureWarning: The linear_assignment function is deprecated in 0.21 and will be removed from 0.23. Use scipy.optimize.linear_sum_assignment instead.\n",
            "  warnings.warn(\n",
            "c:\\Users\\japik\\anaconda3\\lib\\site-packages\\sklearn\\utils\\linear_assignment_.py:124: FutureWarning: The linear_assignment function is deprecated in 0.21 and will be removed from 0.23. Use scipy.optimize.linear_sum_assignment instead.\n",
            "  warnings.warn(\n",
            "c:\\Users\\japik\\anaconda3\\lib\\site-packages\\sklearn\\utils\\linear_assignment_.py:124: FutureWarning: The linear_assignment function is deprecated in 0.21 and will be removed from 0.23. Use scipy.optimize.linear_sum_assignment instead.\n",
            "  warnings.warn(\n",
            "c:\\Users\\japik\\anaconda3\\lib\\site-packages\\sklearn\\utils\\linear_assignment_.py:124: FutureWarning: The linear_assignment function is deprecated in 0.21 and will be removed from 0.23. Use scipy.optimize.linear_sum_assignment instead.\n",
            "  warnings.warn(\n"
          ]
        },
        {
          "name": "stdout",
          "output_type": "stream",
          "text": [
            "acc: 0.53124, nmi: 0.72638\n",
            "satisfied constraints: 1.00000\n",
            "#Epoch 392: Total: 0.0036 Clustering Loss: 0.0030 Reconstruction Loss: 0.0007\n",
            "acc: 0.53345, nmi: 0.72774\n",
            "satisfied constraints: 1.00000\n",
            "#Epoch 393: Total: 0.0041 Clustering Loss: 0.0034 Reconstruction Loss: 0.0007\n"
          ]
        },
        {
          "name": "stderr",
          "output_type": "stream",
          "text": [
            "c:\\Users\\japik\\anaconda3\\lib\\site-packages\\sklearn\\utils\\linear_assignment_.py:124: FutureWarning: The linear_assignment function is deprecated in 0.21 and will be removed from 0.23. Use scipy.optimize.linear_sum_assignment instead.\n",
            "  warnings.warn(\n",
            "c:\\Users\\japik\\anaconda3\\lib\\site-packages\\sklearn\\utils\\linear_assignment_.py:124: FutureWarning: The linear_assignment function is deprecated in 0.21 and will be removed from 0.23. Use scipy.optimize.linear_sum_assignment instead.\n",
            "  warnings.warn(\n",
            "c:\\Users\\japik\\anaconda3\\lib\\site-packages\\sklearn\\utils\\linear_assignment_.py:124: FutureWarning: The linear_assignment function is deprecated in 0.21 and will be removed from 0.23. Use scipy.optimize.linear_sum_assignment instead.\n",
            "  warnings.warn(\n",
            "c:\\Users\\japik\\anaconda3\\lib\\site-packages\\sklearn\\utils\\linear_assignment_.py:124: FutureWarning: The linear_assignment function is deprecated in 0.21 and will be removed from 0.23. Use scipy.optimize.linear_sum_assignment instead.\n",
            "  warnings.warn(\n",
            "c:\\Users\\japik\\anaconda3\\lib\\site-packages\\sklearn\\utils\\linear_assignment_.py:124: FutureWarning: The linear_assignment function is deprecated in 0.21 and will be removed from 0.23. Use scipy.optimize.linear_sum_assignment instead.\n",
            "  warnings.warn(\n"
          ]
        },
        {
          "name": "stdout",
          "output_type": "stream",
          "text": [
            "acc: 0.53057, nmi: 0.72691\n",
            "satisfied constraints: 1.00000\n",
            "#Epoch 394: Total: 0.0045 Clustering Loss: 0.0036 Reconstruction Loss: 0.0009\n",
            "acc: 0.52278, nmi: 0.72479\n",
            "satisfied constraints: 1.00000\n",
            "#Epoch 395: Total: 0.0043 Clustering Loss: 0.0032 Reconstruction Loss: 0.0011\n"
          ]
        },
        {
          "name": "stderr",
          "output_type": "stream",
          "text": [
            "c:\\Users\\japik\\anaconda3\\lib\\site-packages\\sklearn\\utils\\linear_assignment_.py:124: FutureWarning: The linear_assignment function is deprecated in 0.21 and will be removed from 0.23. Use scipy.optimize.linear_sum_assignment instead.\n",
            "  warnings.warn(\n",
            "c:\\Users\\japik\\anaconda3\\lib\\site-packages\\sklearn\\utils\\linear_assignment_.py:124: FutureWarning: The linear_assignment function is deprecated in 0.21 and will be removed from 0.23. Use scipy.optimize.linear_sum_assignment instead.\n",
            "  warnings.warn(\n",
            "c:\\Users\\japik\\anaconda3\\lib\\site-packages\\sklearn\\utils\\linear_assignment_.py:124: FutureWarning: The linear_assignment function is deprecated in 0.21 and will be removed from 0.23. Use scipy.optimize.linear_sum_assignment instead.\n",
            "  warnings.warn(\n",
            "c:\\Users\\japik\\anaconda3\\lib\\site-packages\\sklearn\\utils\\linear_assignment_.py:124: FutureWarning: The linear_assignment function is deprecated in 0.21 and will be removed from 0.23. Use scipy.optimize.linear_sum_assignment instead.\n",
            "  warnings.warn(\n",
            "c:\\Users\\japik\\anaconda3\\lib\\site-packages\\sklearn\\utils\\linear_assignment_.py:124: FutureWarning: The linear_assignment function is deprecated in 0.21 and will be removed from 0.23. Use scipy.optimize.linear_sum_assignment instead.\n",
            "  warnings.warn(\n"
          ]
        },
        {
          "name": "stdout",
          "output_type": "stream",
          "text": [
            "acc: 0.52362, nmi: 0.72443\n",
            "satisfied constraints: 1.00000\n",
            "#Epoch 396: Total: 0.0036 Clustering Loss: 0.0031 Reconstruction Loss: 0.0005\n",
            "acc: 0.52091, nmi: 0.72361\n",
            "satisfied constraints: 1.00000\n",
            "#Epoch 397: Total: 0.0036 Clustering Loss: 0.0029 Reconstruction Loss: 0.0006\n"
          ]
        },
        {
          "name": "stderr",
          "output_type": "stream",
          "text": [
            "c:\\Users\\japik\\anaconda3\\lib\\site-packages\\sklearn\\utils\\linear_assignment_.py:124: FutureWarning: The linear_assignment function is deprecated in 0.21 and will be removed from 0.23. Use scipy.optimize.linear_sum_assignment instead.\n",
            "  warnings.warn(\n",
            "c:\\Users\\japik\\anaconda3\\lib\\site-packages\\sklearn\\utils\\linear_assignment_.py:124: FutureWarning: The linear_assignment function is deprecated in 0.21 and will be removed from 0.23. Use scipy.optimize.linear_sum_assignment instead.\n",
            "  warnings.warn(\n",
            "c:\\Users\\japik\\anaconda3\\lib\\site-packages\\sklearn\\utils\\linear_assignment_.py:124: FutureWarning: The linear_assignment function is deprecated in 0.21 and will be removed from 0.23. Use scipy.optimize.linear_sum_assignment instead.\n",
            "  warnings.warn(\n",
            "c:\\Users\\japik\\anaconda3\\lib\\site-packages\\sklearn\\utils\\linear_assignment_.py:124: FutureWarning: The linear_assignment function is deprecated in 0.21 and will be removed from 0.23. Use scipy.optimize.linear_sum_assignment instead.\n",
            "  warnings.warn(\n"
          ]
        },
        {
          "name": "stdout",
          "output_type": "stream",
          "text": [
            "acc: 0.52091, nmi: 0.72450\n",
            "satisfied constraints: 1.00000\n",
            "#Epoch 398: Total: 0.0034 Clustering Loss: 0.0027 Reconstruction Loss: 0.0006\n",
            "acc: 0.52735, nmi: 0.72423\n",
            "satisfied constraints: 1.00000\n",
            "#Epoch 399: Total: 0.0039 Clustering Loss: 0.0033 Reconstruction Loss: 0.0006\n",
            "acc: 0.52633, nmi: 0.72363\n",
            "satisfied constraints: 1.00000\n"
          ]
        },
        {
          "name": "stderr",
          "output_type": "stream",
          "text": [
            "c:\\Users\\japik\\anaconda3\\lib\\site-packages\\sklearn\\utils\\linear_assignment_.py:124: FutureWarning: The linear_assignment function is deprecated in 0.21 and will be removed from 0.23. Use scipy.optimize.linear_sum_assignment instead.\n",
            "  warnings.warn(\n",
            "c:\\Users\\japik\\anaconda3\\lib\\site-packages\\sklearn\\utils\\linear_assignment_.py:124: FutureWarning: The linear_assignment function is deprecated in 0.21 and will be removed from 0.23. Use scipy.optimize.linear_sum_assignment instead.\n",
            "  warnings.warn(\n",
            "c:\\Users\\japik\\anaconda3\\lib\\site-packages\\sklearn\\utils\\linear_assignment_.py:124: FutureWarning: The linear_assignment function is deprecated in 0.21 and will be removed from 0.23. Use scipy.optimize.linear_sum_assignment instead.\n",
            "  warnings.warn(\n",
            "c:\\Users\\japik\\anaconda3\\lib\\site-packages\\sklearn\\utils\\linear_assignment_.py:124: FutureWarning: The linear_assignment function is deprecated in 0.21 and will be removed from 0.23. Use scipy.optimize.linear_sum_assignment instead.\n",
            "  warnings.warn(\n",
            "c:\\Users\\japik\\anaconda3\\lib\\site-packages\\sklearn\\utils\\linear_assignment_.py:124: FutureWarning: The linear_assignment function is deprecated in 0.21 and will be removed from 0.23. Use scipy.optimize.linear_sum_assignment instead.\n",
            "  warnings.warn(\n"
          ]
        },
        {
          "name": "stdout",
          "output_type": "stream",
          "text": [
            "#Epoch 400: Total: 0.0036 Clustering Loss: 0.0028 Reconstruction Loss: 0.0007\n",
            "acc: 0.52803, nmi: 0.72427\n",
            "satisfied constraints: 1.00000\n",
            "#Epoch 401: Total: 0.0036 Clustering Loss: 0.0032 Reconstruction Loss: 0.0004\n",
            "acc: 0.53565, nmi: 0.72591\n",
            "satisfied constraints: 1.00000\n",
            "#Epoch 402: Total: 0.0037 Clustering Loss: 0.0030 Reconstruction Loss: 0.0007\n"
          ]
        },
        {
          "name": "stderr",
          "output_type": "stream",
          "text": [
            "c:\\Users\\japik\\anaconda3\\lib\\site-packages\\sklearn\\utils\\linear_assignment_.py:124: FutureWarning: The linear_assignment function is deprecated in 0.21 and will be removed from 0.23. Use scipy.optimize.linear_sum_assignment instead.\n",
            "  warnings.warn(\n",
            "c:\\Users\\japik\\anaconda3\\lib\\site-packages\\sklearn\\utils\\linear_assignment_.py:124: FutureWarning: The linear_assignment function is deprecated in 0.21 and will be removed from 0.23. Use scipy.optimize.linear_sum_assignment instead.\n",
            "  warnings.warn(\n",
            "c:\\Users\\japik\\anaconda3\\lib\\site-packages\\sklearn\\utils\\linear_assignment_.py:124: FutureWarning: The linear_assignment function is deprecated in 0.21 and will be removed from 0.23. Use scipy.optimize.linear_sum_assignment instead.\n",
            "  warnings.warn(\n",
            "c:\\Users\\japik\\anaconda3\\lib\\site-packages\\sklearn\\utils\\linear_assignment_.py:124: FutureWarning: The linear_assignment function is deprecated in 0.21 and will be removed from 0.23. Use scipy.optimize.linear_sum_assignment instead.\n",
            "  warnings.warn(\n"
          ]
        },
        {
          "name": "stdout",
          "output_type": "stream",
          "text": [
            "acc: 0.52972, nmi: 0.72473\n",
            "satisfied constraints: 1.00000\n",
            "#Epoch 403: Total: 0.0043 Clustering Loss: 0.0031 Reconstruction Loss: 0.0012\n",
            "acc: 0.53599, nmi: 0.72521\n",
            "satisfied constraints: 1.00000\n",
            "#Epoch 404: Total: 0.0050 Clustering Loss: 0.0042 Reconstruction Loss: 0.0008\n",
            "acc: 0.53920, nmi: 0.72563\n",
            "satisfied constraints: 1.00000\n"
          ]
        },
        {
          "name": "stderr",
          "output_type": "stream",
          "text": [
            "c:\\Users\\japik\\anaconda3\\lib\\site-packages\\sklearn\\utils\\linear_assignment_.py:124: FutureWarning: The linear_assignment function is deprecated in 0.21 and will be removed from 0.23. Use scipy.optimize.linear_sum_assignment instead.\n",
            "  warnings.warn(\n",
            "c:\\Users\\japik\\anaconda3\\lib\\site-packages\\sklearn\\utils\\linear_assignment_.py:124: FutureWarning: The linear_assignment function is deprecated in 0.21 and will be removed from 0.23. Use scipy.optimize.linear_sum_assignment instead.\n",
            "  warnings.warn(\n",
            "c:\\Users\\japik\\anaconda3\\lib\\site-packages\\sklearn\\utils\\linear_assignment_.py:124: FutureWarning: The linear_assignment function is deprecated in 0.21 and will be removed from 0.23. Use scipy.optimize.linear_sum_assignment instead.\n",
            "  warnings.warn(\n",
            "c:\\Users\\japik\\anaconda3\\lib\\site-packages\\sklearn\\utils\\linear_assignment_.py:124: FutureWarning: The linear_assignment function is deprecated in 0.21 and will be removed from 0.23. Use scipy.optimize.linear_sum_assignment instead.\n",
            "  warnings.warn(\n",
            "c:\\Users\\japik\\anaconda3\\lib\\site-packages\\sklearn\\utils\\linear_assignment_.py:124: FutureWarning: The linear_assignment function is deprecated in 0.21 and will be removed from 0.23. Use scipy.optimize.linear_sum_assignment instead.\n",
            "  warnings.warn(\n"
          ]
        },
        {
          "name": "stdout",
          "output_type": "stream",
          "text": [
            "#Epoch 405: Total: 0.0039 Clustering Loss: 0.0029 Reconstruction Loss: 0.0010\n",
            "acc: 0.54022, nmi: 0.72514\n",
            "satisfied constraints: 1.00000\n",
            "#Epoch 406: Total: 0.0036 Clustering Loss: 0.0030 Reconstruction Loss: 0.0006\n",
            "acc: 0.54225, nmi: 0.72607\n",
            "satisfied constraints: 1.00000\n",
            "#Epoch 407: Total: 0.0036 Clustering Loss: 0.0028 Reconstruction Loss: 0.0009\n"
          ]
        },
        {
          "name": "stderr",
          "output_type": "stream",
          "text": [
            "c:\\Users\\japik\\anaconda3\\lib\\site-packages\\sklearn\\utils\\linear_assignment_.py:124: FutureWarning: The linear_assignment function is deprecated in 0.21 and will be removed from 0.23. Use scipy.optimize.linear_sum_assignment instead.\n",
            "  warnings.warn(\n",
            "c:\\Users\\japik\\anaconda3\\lib\\site-packages\\sklearn\\utils\\linear_assignment_.py:124: FutureWarning: The linear_assignment function is deprecated in 0.21 and will be removed from 0.23. Use scipy.optimize.linear_sum_assignment instead.\n",
            "  warnings.warn(\n",
            "c:\\Users\\japik\\anaconda3\\lib\\site-packages\\sklearn\\utils\\linear_assignment_.py:124: FutureWarning: The linear_assignment function is deprecated in 0.21 and will be removed from 0.23. Use scipy.optimize.linear_sum_assignment instead.\n",
            "  warnings.warn(\n",
            "c:\\Users\\japik\\anaconda3\\lib\\site-packages\\sklearn\\utils\\linear_assignment_.py:124: FutureWarning: The linear_assignment function is deprecated in 0.21 and will be removed from 0.23. Use scipy.optimize.linear_sum_assignment instead.\n",
            "  warnings.warn(\n",
            "c:\\Users\\japik\\anaconda3\\lib\\site-packages\\sklearn\\utils\\linear_assignment_.py:124: FutureWarning: The linear_assignment function is deprecated in 0.21 and will be removed from 0.23. Use scipy.optimize.linear_sum_assignment instead.\n",
            "  warnings.warn(\n"
          ]
        },
        {
          "name": "stdout",
          "output_type": "stream",
          "text": [
            "acc: 0.54073, nmi: 0.72495\n",
            "satisfied constraints: 1.00000\n",
            "#Epoch 408: Total: 0.0036 Clustering Loss: 0.0028 Reconstruction Loss: 0.0009\n",
            "acc: 0.54005, nmi: 0.72547\n",
            "satisfied constraints: 1.00000\n",
            "#Epoch 409: Total: 0.0037 Clustering Loss: 0.0028 Reconstruction Loss: 0.0009\n"
          ]
        },
        {
          "name": "stderr",
          "output_type": "stream",
          "text": [
            "c:\\Users\\japik\\anaconda3\\lib\\site-packages\\sklearn\\utils\\linear_assignment_.py:124: FutureWarning: The linear_assignment function is deprecated in 0.21 and will be removed from 0.23. Use scipy.optimize.linear_sum_assignment instead.\n",
            "  warnings.warn(\n",
            "c:\\Users\\japik\\anaconda3\\lib\\site-packages\\sklearn\\utils\\linear_assignment_.py:124: FutureWarning: The linear_assignment function is deprecated in 0.21 and will be removed from 0.23. Use scipy.optimize.linear_sum_assignment instead.\n",
            "  warnings.warn(\n",
            "c:\\Users\\japik\\anaconda3\\lib\\site-packages\\sklearn\\utils\\linear_assignment_.py:124: FutureWarning: The linear_assignment function is deprecated in 0.21 and will be removed from 0.23. Use scipy.optimize.linear_sum_assignment instead.\n",
            "  warnings.warn(\n",
            "c:\\Users\\japik\\anaconda3\\lib\\site-packages\\sklearn\\utils\\linear_assignment_.py:124: FutureWarning: The linear_assignment function is deprecated in 0.21 and will be removed from 0.23. Use scipy.optimize.linear_sum_assignment instead.\n",
            "  warnings.warn(\n"
          ]
        },
        {
          "name": "stdout",
          "output_type": "stream",
          "text": [
            "acc: 0.53734, nmi: 0.72524\n",
            "satisfied constraints: 1.00000\n",
            "#Epoch 410: Total: 0.0043 Clustering Loss: 0.0031 Reconstruction Loss: 0.0012\n",
            "acc: 0.53633, nmi: 0.72662\n",
            "satisfied constraints: 1.00000\n",
            "#Epoch 411: Total: 0.0042 Clustering Loss: 0.0029 Reconstruction Loss: 0.0012\n",
            "acc: 0.53870, nmi: 0.72627\n",
            "satisfied constraints: 1.00000\n"
          ]
        },
        {
          "name": "stderr",
          "output_type": "stream",
          "text": [
            "c:\\Users\\japik\\anaconda3\\lib\\site-packages\\sklearn\\utils\\linear_assignment_.py:124: FutureWarning: The linear_assignment function is deprecated in 0.21 and will be removed from 0.23. Use scipy.optimize.linear_sum_assignment instead.\n",
            "  warnings.warn(\n",
            "c:\\Users\\japik\\anaconda3\\lib\\site-packages\\sklearn\\utils\\linear_assignment_.py:124: FutureWarning: The linear_assignment function is deprecated in 0.21 and will be removed from 0.23. Use scipy.optimize.linear_sum_assignment instead.\n",
            "  warnings.warn(\n",
            "c:\\Users\\japik\\anaconda3\\lib\\site-packages\\sklearn\\utils\\linear_assignment_.py:124: FutureWarning: The linear_assignment function is deprecated in 0.21 and will be removed from 0.23. Use scipy.optimize.linear_sum_assignment instead.\n",
            "  warnings.warn(\n",
            "c:\\Users\\japik\\anaconda3\\lib\\site-packages\\sklearn\\utils\\linear_assignment_.py:124: FutureWarning: The linear_assignment function is deprecated in 0.21 and will be removed from 0.23. Use scipy.optimize.linear_sum_assignment instead.\n",
            "  warnings.warn(\n",
            "c:\\Users\\japik\\anaconda3\\lib\\site-packages\\sklearn\\utils\\linear_assignment_.py:124: FutureWarning: The linear_assignment function is deprecated in 0.21 and will be removed from 0.23. Use scipy.optimize.linear_sum_assignment instead.\n",
            "  warnings.warn(\n"
          ]
        },
        {
          "name": "stdout",
          "output_type": "stream",
          "text": [
            "#Epoch 412: Total: 0.0044 Clustering Loss: 0.0034 Reconstruction Loss: 0.0010\n",
            "acc: 0.53853, nmi: 0.72623\n",
            "satisfied constraints: 1.00000\n",
            "#Epoch 413: Total: 0.0040 Clustering Loss: 0.0030 Reconstruction Loss: 0.0010\n",
            "acc: 0.54191, nmi: 0.72691\n",
            "satisfied constraints: 1.00000\n",
            "#Epoch 414: Total: 0.0039 Clustering Loss: 0.0032 Reconstruction Loss: 0.0007\n"
          ]
        },
        {
          "name": "stderr",
          "output_type": "stream",
          "text": [
            "c:\\Users\\japik\\anaconda3\\lib\\site-packages\\sklearn\\utils\\linear_assignment_.py:124: FutureWarning: The linear_assignment function is deprecated in 0.21 and will be removed from 0.23. Use scipy.optimize.linear_sum_assignment instead.\n",
            "  warnings.warn(\n",
            "c:\\Users\\japik\\anaconda3\\lib\\site-packages\\sklearn\\utils\\linear_assignment_.py:124: FutureWarning: The linear_assignment function is deprecated in 0.21 and will be removed from 0.23. Use scipy.optimize.linear_sum_assignment instead.\n",
            "  warnings.warn(\n",
            "c:\\Users\\japik\\anaconda3\\lib\\site-packages\\sklearn\\utils\\linear_assignment_.py:124: FutureWarning: The linear_assignment function is deprecated in 0.21 and will be removed from 0.23. Use scipy.optimize.linear_sum_assignment instead.\n",
            "  warnings.warn(\n",
            "c:\\Users\\japik\\anaconda3\\lib\\site-packages\\sklearn\\utils\\linear_assignment_.py:124: FutureWarning: The linear_assignment function is deprecated in 0.21 and will be removed from 0.23. Use scipy.optimize.linear_sum_assignment instead.\n",
            "  warnings.warn(\n"
          ]
        },
        {
          "name": "stdout",
          "output_type": "stream",
          "text": [
            "acc: 0.54395, nmi: 0.72644\n",
            "satisfied constraints: 1.00000\n",
            "#Epoch 415: Total: 0.0034 Clustering Loss: 0.0028 Reconstruction Loss: 0.0006\n",
            "acc: 0.54649, nmi: 0.72575\n",
            "satisfied constraints: 1.00000\n",
            "#Epoch 416: Total: 0.0037 Clustering Loss: 0.0031 Reconstruction Loss: 0.0006\n",
            "acc: 0.55004, nmi: 0.72625\n",
            "satisfied constraints: 1.00000\n"
          ]
        },
        {
          "name": "stderr",
          "output_type": "stream",
          "text": [
            "c:\\Users\\japik\\anaconda3\\lib\\site-packages\\sklearn\\utils\\linear_assignment_.py:124: FutureWarning: The linear_assignment function is deprecated in 0.21 and will be removed from 0.23. Use scipy.optimize.linear_sum_assignment instead.\n",
            "  warnings.warn(\n",
            "c:\\Users\\japik\\anaconda3\\lib\\site-packages\\sklearn\\utils\\linear_assignment_.py:124: FutureWarning: The linear_assignment function is deprecated in 0.21 and will be removed from 0.23. Use scipy.optimize.linear_sum_assignment instead.\n",
            "  warnings.warn(\n",
            "c:\\Users\\japik\\anaconda3\\lib\\site-packages\\sklearn\\utils\\linear_assignment_.py:124: FutureWarning: The linear_assignment function is deprecated in 0.21 and will be removed from 0.23. Use scipy.optimize.linear_sum_assignment instead.\n",
            "  warnings.warn(\n",
            "c:\\Users\\japik\\anaconda3\\lib\\site-packages\\sklearn\\utils\\linear_assignment_.py:124: FutureWarning: The linear_assignment function is deprecated in 0.21 and will be removed from 0.23. Use scipy.optimize.linear_sum_assignment instead.\n",
            "  warnings.warn(\n",
            "c:\\Users\\japik\\anaconda3\\lib\\site-packages\\sklearn\\utils\\linear_assignment_.py:124: FutureWarning: The linear_assignment function is deprecated in 0.21 and will be removed from 0.23. Use scipy.optimize.linear_sum_assignment instead.\n",
            "  warnings.warn(\n"
          ]
        },
        {
          "name": "stdout",
          "output_type": "stream",
          "text": [
            "#Epoch 417: Total: 0.0031 Clustering Loss: 0.0027 Reconstruction Loss: 0.0004\n",
            "acc: 0.54818, nmi: 0.72597\n",
            "satisfied constraints: 1.00000\n",
            "#Epoch 418: Total: 0.0033 Clustering Loss: 0.0028 Reconstruction Loss: 0.0005\n",
            "acc: 0.54886, nmi: 0.72791\n",
            "satisfied constraints: 1.00000\n",
            "#Epoch 419: Total: 0.0030 Clustering Loss: 0.0025 Reconstruction Loss: 0.0005\n"
          ]
        },
        {
          "name": "stderr",
          "output_type": "stream",
          "text": [
            "c:\\Users\\japik\\anaconda3\\lib\\site-packages\\sklearn\\utils\\linear_assignment_.py:124: FutureWarning: The linear_assignment function is deprecated in 0.21 and will be removed from 0.23. Use scipy.optimize.linear_sum_assignment instead.\n",
            "  warnings.warn(\n",
            "c:\\Users\\japik\\anaconda3\\lib\\site-packages\\sklearn\\utils\\linear_assignment_.py:124: FutureWarning: The linear_assignment function is deprecated in 0.21 and will be removed from 0.23. Use scipy.optimize.linear_sum_assignment instead.\n",
            "  warnings.warn(\n",
            "c:\\Users\\japik\\anaconda3\\lib\\site-packages\\sklearn\\utils\\linear_assignment_.py:124: FutureWarning: The linear_assignment function is deprecated in 0.21 and will be removed from 0.23. Use scipy.optimize.linear_sum_assignment instead.\n",
            "  warnings.warn(\n",
            "c:\\Users\\japik\\anaconda3\\lib\\site-packages\\sklearn\\utils\\linear_assignment_.py:124: FutureWarning: The linear_assignment function is deprecated in 0.21 and will be removed from 0.23. Use scipy.optimize.linear_sum_assignment instead.\n",
            "  warnings.warn(\n",
            "c:\\Users\\japik\\anaconda3\\lib\\site-packages\\sklearn\\utils\\linear_assignment_.py:124: FutureWarning: The linear_assignment function is deprecated in 0.21 and will be removed from 0.23. Use scipy.optimize.linear_sum_assignment instead.\n",
            "  warnings.warn(\n"
          ]
        },
        {
          "name": "stdout",
          "output_type": "stream",
          "text": [
            "acc: 0.54835, nmi: 0.72714\n",
            "satisfied constraints: 1.00000\n",
            "#Epoch 420: Total: 0.0039 Clustering Loss: 0.0033 Reconstruction Loss: 0.0006\n",
            "acc: 0.55445, nmi: 0.72685\n",
            "satisfied constraints: 1.00000\n",
            "#Epoch 421: Total: 0.0047 Clustering Loss: 0.0037 Reconstruction Loss: 0.0010\n",
            "acc: 0.55089, nmi: 0.72647\n",
            "satisfied constraints: 1.00000\n"
          ]
        },
        {
          "name": "stderr",
          "output_type": "stream",
          "text": [
            "c:\\Users\\japik\\anaconda3\\lib\\site-packages\\sklearn\\utils\\linear_assignment_.py:124: FutureWarning: The linear_assignment function is deprecated in 0.21 and will be removed from 0.23. Use scipy.optimize.linear_sum_assignment instead.\n",
            "  warnings.warn(\n",
            "c:\\Users\\japik\\anaconda3\\lib\\site-packages\\sklearn\\utils\\linear_assignment_.py:124: FutureWarning: The linear_assignment function is deprecated in 0.21 and will be removed from 0.23. Use scipy.optimize.linear_sum_assignment instead.\n",
            "  warnings.warn(\n",
            "c:\\Users\\japik\\anaconda3\\lib\\site-packages\\sklearn\\utils\\linear_assignment_.py:124: FutureWarning: The linear_assignment function is deprecated in 0.21 and will be removed from 0.23. Use scipy.optimize.linear_sum_assignment instead.\n",
            "  warnings.warn(\n",
            "c:\\Users\\japik\\anaconda3\\lib\\site-packages\\sklearn\\utils\\linear_assignment_.py:124: FutureWarning: The linear_assignment function is deprecated in 0.21 and will be removed from 0.23. Use scipy.optimize.linear_sum_assignment instead.\n",
            "  warnings.warn(\n",
            "c:\\Users\\japik\\anaconda3\\lib\\site-packages\\sklearn\\utils\\linear_assignment_.py:124: FutureWarning: The linear_assignment function is deprecated in 0.21 and will be removed from 0.23. Use scipy.optimize.linear_sum_assignment instead.\n",
            "  warnings.warn(\n",
            "c:\\Users\\japik\\anaconda3\\lib\\site-packages\\sklearn\\utils\\linear_assignment_.py:124: FutureWarning: The linear_assignment function is deprecated in 0.21 and will be removed from 0.23. Use scipy.optimize.linear_sum_assignment instead.\n",
            "  warnings.warn(\n",
            "c:\\Users\\japik\\anaconda3\\lib\\site-packages\\sklearn\\utils\\linear_assignment_.py:124: FutureWarning: The linear_assignment function is deprecated in 0.21 and will be removed from 0.23. Use scipy.optimize.linear_sum_assignment instead.\n",
            "  warnings.warn(\n",
            "c:\\Users\\japik\\anaconda3\\lib\\site-packages\\sklearn\\utils\\linear_assignment_.py:124: FutureWarning: The linear_assignment function is deprecated in 0.21 and will be removed from 0.23. Use scipy.optimize.linear_sum_assignment instead.\n",
            "  warnings.warn(\n",
            "c:\\Users\\japik\\anaconda3\\lib\\site-packages\\sklearn\\utils\\linear_assignment_.py:124: FutureWarning: The linear_assignment function is deprecated in 0.21 and will be removed from 0.23. Use scipy.optimize.linear_sum_assignment instead.\n",
            "  warnings.warn(\n"
          ]
        },
        {
          "name": "stdout",
          "output_type": "stream",
          "text": [
            "#Epoch 422: Total: 0.0051 Clustering Loss: 0.0031 Reconstruction Loss: 0.0020\n",
            "acc: 0.54649, nmi: 0.72532\n",
            "satisfied constraints: 1.00000\n",
            "#Epoch 423: Total: 0.0036 Clustering Loss: 0.0027 Reconstruction Loss: 0.0009\n",
            "acc: 0.54412, nmi: 0.72682\n",
            "satisfied constraints: 1.00000\n",
            "#Epoch 424: Total: 0.0034 Clustering Loss: 0.0026 Reconstruction Loss: 0.0008\n"
          ]
        },
        {
          "name": "stderr",
          "output_type": "stream",
          "text": [
            "c:\\Users\\japik\\anaconda3\\lib\\site-packages\\sklearn\\utils\\linear_assignment_.py:124: FutureWarning: The linear_assignment function is deprecated in 0.21 and will be removed from 0.23. Use scipy.optimize.linear_sum_assignment instead.\n",
            "  warnings.warn(\n",
            "c:\\Users\\japik\\anaconda3\\lib\\site-packages\\sklearn\\utils\\linear_assignment_.py:124: FutureWarning: The linear_assignment function is deprecated in 0.21 and will be removed from 0.23. Use scipy.optimize.linear_sum_assignment instead.\n",
            "  warnings.warn(\n",
            "c:\\Users\\japik\\anaconda3\\lib\\site-packages\\sklearn\\utils\\linear_assignment_.py:124: FutureWarning: The linear_assignment function is deprecated in 0.21 and will be removed from 0.23. Use scipy.optimize.linear_sum_assignment instead.\n",
            "  warnings.warn(\n",
            "c:\\Users\\japik\\anaconda3\\lib\\site-packages\\sklearn\\utils\\linear_assignment_.py:124: FutureWarning: The linear_assignment function is deprecated in 0.21 and will be removed from 0.23. Use scipy.optimize.linear_sum_assignment instead.\n",
            "  warnings.warn(\n",
            "c:\\Users\\japik\\anaconda3\\lib\\site-packages\\sklearn\\utils\\linear_assignment_.py:124: FutureWarning: The linear_assignment function is deprecated in 0.21 and will be removed from 0.23. Use scipy.optimize.linear_sum_assignment instead.\n",
            "  warnings.warn(\n"
          ]
        },
        {
          "name": "stdout",
          "output_type": "stream",
          "text": [
            "acc: 0.54412, nmi: 0.72743\n",
            "satisfied constraints: 1.00000\n",
            "#Epoch 425: Total: 0.0033 Clustering Loss: 0.0025 Reconstruction Loss: 0.0009\n",
            "acc: 0.54886, nmi: 0.72769\n",
            "satisfied constraints: 1.00000\n",
            "#Epoch 426: Total: 0.0035 Clustering Loss: 0.0027 Reconstruction Loss: 0.0008\n",
            "acc: 0.55360, nmi: 0.72847\n",
            "satisfied constraints: 1.00000\n"
          ]
        },
        {
          "name": "stderr",
          "output_type": "stream",
          "text": [
            "c:\\Users\\japik\\anaconda3\\lib\\site-packages\\sklearn\\utils\\linear_assignment_.py:124: FutureWarning: The linear_assignment function is deprecated in 0.21 and will be removed from 0.23. Use scipy.optimize.linear_sum_assignment instead.\n",
            "  warnings.warn(\n",
            "c:\\Users\\japik\\anaconda3\\lib\\site-packages\\sklearn\\utils\\linear_assignment_.py:124: FutureWarning: The linear_assignment function is deprecated in 0.21 and will be removed from 0.23. Use scipy.optimize.linear_sum_assignment instead.\n",
            "  warnings.warn(\n",
            "c:\\Users\\japik\\anaconda3\\lib\\site-packages\\sklearn\\utils\\linear_assignment_.py:124: FutureWarning: The linear_assignment function is deprecated in 0.21 and will be removed from 0.23. Use scipy.optimize.linear_sum_assignment instead.\n",
            "  warnings.warn(\n",
            "c:\\Users\\japik\\anaconda3\\lib\\site-packages\\sklearn\\utils\\linear_assignment_.py:124: FutureWarning: The linear_assignment function is deprecated in 0.21 and will be removed from 0.23. Use scipy.optimize.linear_sum_assignment instead.\n",
            "  warnings.warn(\n",
            "c:\\Users\\japik\\anaconda3\\lib\\site-packages\\sklearn\\utils\\linear_assignment_.py:124: FutureWarning: The linear_assignment function is deprecated in 0.21 and will be removed from 0.23. Use scipy.optimize.linear_sum_assignment instead.\n",
            "  warnings.warn(\n"
          ]
        },
        {
          "name": "stdout",
          "output_type": "stream",
          "text": [
            "#Epoch 427: Total: 0.0044 Clustering Loss: 0.0031 Reconstruction Loss: 0.0013\n",
            "acc: 0.55089, nmi: 0.72738\n",
            "satisfied constraints: 1.00000\n",
            "#Epoch 428: Total: 0.0036 Clustering Loss: 0.0027 Reconstruction Loss: 0.0008\n",
            "acc: 0.54835, nmi: 0.72786\n",
            "satisfied constraints: 1.00000\n",
            "#Epoch 429: Total: 0.0039 Clustering Loss: 0.0030 Reconstruction Loss: 0.0009\n"
          ]
        },
        {
          "name": "stderr",
          "output_type": "stream",
          "text": [
            "c:\\Users\\japik\\anaconda3\\lib\\site-packages\\sklearn\\utils\\linear_assignment_.py:124: FutureWarning: The linear_assignment function is deprecated in 0.21 and will be removed from 0.23. Use scipy.optimize.linear_sum_assignment instead.\n",
            "  warnings.warn(\n",
            "c:\\Users\\japik\\anaconda3\\lib\\site-packages\\sklearn\\utils\\linear_assignment_.py:124: FutureWarning: The linear_assignment function is deprecated in 0.21 and will be removed from 0.23. Use scipy.optimize.linear_sum_assignment instead.\n",
            "  warnings.warn(\n",
            "c:\\Users\\japik\\anaconda3\\lib\\site-packages\\sklearn\\utils\\linear_assignment_.py:124: FutureWarning: The linear_assignment function is deprecated in 0.21 and will be removed from 0.23. Use scipy.optimize.linear_sum_assignment instead.\n",
            "  warnings.warn(\n",
            "c:\\Users\\japik\\anaconda3\\lib\\site-packages\\sklearn\\utils\\linear_assignment_.py:124: FutureWarning: The linear_assignment function is deprecated in 0.21 and will be removed from 0.23. Use scipy.optimize.linear_sum_assignment instead.\n",
            "  warnings.warn(\n",
            "c:\\Users\\japik\\anaconda3\\lib\\site-packages\\sklearn\\utils\\linear_assignment_.py:124: FutureWarning: The linear_assignment function is deprecated in 0.21 and will be removed from 0.23. Use scipy.optimize.linear_sum_assignment instead.\n",
            "  warnings.warn(\n"
          ]
        },
        {
          "name": "stdout",
          "output_type": "stream",
          "text": [
            "acc: 0.54699, nmi: 0.72832\n",
            "satisfied constraints: 1.00000\n",
            "#Epoch 430: Total: 0.0046 Clustering Loss: 0.0035 Reconstruction Loss: 0.0010\n",
            "acc: 0.54835, nmi: 0.72731\n",
            "satisfied constraints: 1.00000\n",
            "#Epoch 431: Total: 0.0047 Clustering Loss: 0.0038 Reconstruction Loss: 0.0010\n",
            "acc: 0.54564, nmi: 0.72749\n",
            "satisfied constraints: 1.00000\n"
          ]
        },
        {
          "name": "stderr",
          "output_type": "stream",
          "text": [
            "c:\\Users\\japik\\anaconda3\\lib\\site-packages\\sklearn\\utils\\linear_assignment_.py:124: FutureWarning: The linear_assignment function is deprecated in 0.21 and will be removed from 0.23. Use scipy.optimize.linear_sum_assignment instead.\n",
            "  warnings.warn(\n",
            "c:\\Users\\japik\\anaconda3\\lib\\site-packages\\sklearn\\utils\\linear_assignment_.py:124: FutureWarning: The linear_assignment function is deprecated in 0.21 and will be removed from 0.23. Use scipy.optimize.linear_sum_assignment instead.\n",
            "  warnings.warn(\n",
            "c:\\Users\\japik\\anaconda3\\lib\\site-packages\\sklearn\\utils\\linear_assignment_.py:124: FutureWarning: The linear_assignment function is deprecated in 0.21 and will be removed from 0.23. Use scipy.optimize.linear_sum_assignment instead.\n",
            "  warnings.warn(\n",
            "c:\\Users\\japik\\anaconda3\\lib\\site-packages\\sklearn\\utils\\linear_assignment_.py:124: FutureWarning: The linear_assignment function is deprecated in 0.21 and will be removed from 0.23. Use scipy.optimize.linear_sum_assignment instead.\n",
            "  warnings.warn(\n",
            "c:\\Users\\japik\\anaconda3\\lib\\site-packages\\sklearn\\utils\\linear_assignment_.py:124: FutureWarning: The linear_assignment function is deprecated in 0.21 and will be removed from 0.23. Use scipy.optimize.linear_sum_assignment instead.\n",
            "  warnings.warn(\n"
          ]
        },
        {
          "name": "stdout",
          "output_type": "stream",
          "text": [
            "#Epoch 432: Total: 0.0049 Clustering Loss: 0.0040 Reconstruction Loss: 0.0009\n",
            "acc: 0.54208, nmi: 0.72844\n",
            "satisfied constraints: 1.00000\n",
            "#Epoch 433: Total: 0.0036 Clustering Loss: 0.0031 Reconstruction Loss: 0.0005\n",
            "acc: 0.54022, nmi: 0.72951\n",
            "satisfied constraints: 1.00000\n",
            "#Epoch 434: Total: 0.0035 Clustering Loss: 0.0030 Reconstruction Loss: 0.0005\n"
          ]
        },
        {
          "name": "stderr",
          "output_type": "stream",
          "text": [
            "c:\\Users\\japik\\anaconda3\\lib\\site-packages\\sklearn\\utils\\linear_assignment_.py:124: FutureWarning: The linear_assignment function is deprecated in 0.21 and will be removed from 0.23. Use scipy.optimize.linear_sum_assignment instead.\n",
            "  warnings.warn(\n",
            "c:\\Users\\japik\\anaconda3\\lib\\site-packages\\sklearn\\utils\\linear_assignment_.py:124: FutureWarning: The linear_assignment function is deprecated in 0.21 and will be removed from 0.23. Use scipy.optimize.linear_sum_assignment instead.\n",
            "  warnings.warn(\n",
            "c:\\Users\\japik\\anaconda3\\lib\\site-packages\\sklearn\\utils\\linear_assignment_.py:124: FutureWarning: The linear_assignment function is deprecated in 0.21 and will be removed from 0.23. Use scipy.optimize.linear_sum_assignment instead.\n",
            "  warnings.warn(\n",
            "c:\\Users\\japik\\anaconda3\\lib\\site-packages\\sklearn\\utils\\linear_assignment_.py:124: FutureWarning: The linear_assignment function is deprecated in 0.21 and will be removed from 0.23. Use scipy.optimize.linear_sum_assignment instead.\n",
            "  warnings.warn(\n",
            "c:\\Users\\japik\\anaconda3\\lib\\site-packages\\sklearn\\utils\\linear_assignment_.py:124: FutureWarning: The linear_assignment function is deprecated in 0.21 and will be removed from 0.23. Use scipy.optimize.linear_sum_assignment instead.\n",
            "  warnings.warn(\n",
            "c:\\Users\\japik\\anaconda3\\lib\\site-packages\\sklearn\\utils\\linear_assignment_.py:124: FutureWarning: The linear_assignment function is deprecated in 0.21 and will be removed from 0.23. Use scipy.optimize.linear_sum_assignment instead.\n",
            "  warnings.warn(\n"
          ]
        },
        {
          "name": "stdout",
          "output_type": "stream",
          "text": [
            "acc: 0.53582, nmi: 0.72624\n",
            "satisfied constraints: 1.00000\n",
            "#Epoch 435: Total: 0.0036 Clustering Loss: 0.0032 Reconstruction Loss: 0.0004\n",
            "acc: 0.52904, nmi: 0.72596\n",
            "satisfied constraints: 1.00000\n",
            "#Epoch 436: Total: 0.0037 Clustering Loss: 0.0031 Reconstruction Loss: 0.0006\n",
            "acc: 0.52854, nmi: 0.72668\n",
            "satisfied constraints: 1.00000\n"
          ]
        },
        {
          "name": "stderr",
          "output_type": "stream",
          "text": [
            "c:\\Users\\japik\\anaconda3\\lib\\site-packages\\sklearn\\utils\\linear_assignment_.py:124: FutureWarning: The linear_assignment function is deprecated in 0.21 and will be removed from 0.23. Use scipy.optimize.linear_sum_assignment instead.\n",
            "  warnings.warn(\n",
            "c:\\Users\\japik\\anaconda3\\lib\\site-packages\\sklearn\\utils\\linear_assignment_.py:124: FutureWarning: The linear_assignment function is deprecated in 0.21 and will be removed from 0.23. Use scipy.optimize.linear_sum_assignment instead.\n",
            "  warnings.warn(\n",
            "c:\\Users\\japik\\anaconda3\\lib\\site-packages\\sklearn\\utils\\linear_assignment_.py:124: FutureWarning: The linear_assignment function is deprecated in 0.21 and will be removed from 0.23. Use scipy.optimize.linear_sum_assignment instead.\n",
            "  warnings.warn(\n",
            "c:\\Users\\japik\\anaconda3\\lib\\site-packages\\sklearn\\utils\\linear_assignment_.py:124: FutureWarning: The linear_assignment function is deprecated in 0.21 and will be removed from 0.23. Use scipy.optimize.linear_sum_assignment instead.\n",
            "  warnings.warn(\n"
          ]
        },
        {
          "name": "stdout",
          "output_type": "stream",
          "text": [
            "#Epoch 437: Total: 0.0039 Clustering Loss: 0.0029 Reconstruction Loss: 0.0010\n",
            "acc: 0.53277, nmi: 0.72896\n",
            "satisfied constraints: 1.00000\n",
            "#Epoch 438: Total: 0.0031 Clustering Loss: 0.0026 Reconstruction Loss: 0.0005\n",
            "acc: 0.53412, nmi: 0.72808\n",
            "satisfied constraints: 1.00000\n",
            "#Epoch 439: Total: 0.0034 Clustering Loss: 0.0029 Reconstruction Loss: 0.0005\n"
          ]
        },
        {
          "name": "stderr",
          "output_type": "stream",
          "text": [
            "c:\\Users\\japik\\anaconda3\\lib\\site-packages\\sklearn\\utils\\linear_assignment_.py:124: FutureWarning: The linear_assignment function is deprecated in 0.21 and will be removed from 0.23. Use scipy.optimize.linear_sum_assignment instead.\n",
            "  warnings.warn(\n",
            "c:\\Users\\japik\\anaconda3\\lib\\site-packages\\sklearn\\utils\\linear_assignment_.py:124: FutureWarning: The linear_assignment function is deprecated in 0.21 and will be removed from 0.23. Use scipy.optimize.linear_sum_assignment instead.\n",
            "  warnings.warn(\n",
            "c:\\Users\\japik\\anaconda3\\lib\\site-packages\\sklearn\\utils\\linear_assignment_.py:124: FutureWarning: The linear_assignment function is deprecated in 0.21 and will be removed from 0.23. Use scipy.optimize.linear_sum_assignment instead.\n",
            "  warnings.warn(\n",
            "c:\\Users\\japik\\anaconda3\\lib\\site-packages\\sklearn\\utils\\linear_assignment_.py:124: FutureWarning: The linear_assignment function is deprecated in 0.21 and will be removed from 0.23. Use scipy.optimize.linear_sum_assignment instead.\n",
            "  warnings.warn(\n",
            "c:\\Users\\japik\\anaconda3\\lib\\site-packages\\sklearn\\utils\\linear_assignment_.py:124: FutureWarning: The linear_assignment function is deprecated in 0.21 and will be removed from 0.23. Use scipy.optimize.linear_sum_assignment instead.\n",
            "  warnings.warn(\n"
          ]
        },
        {
          "name": "stdout",
          "output_type": "stream",
          "text": [
            "acc: 0.53226, nmi: 0.72785\n",
            "satisfied constraints: 1.00000\n",
            "#Epoch 440: Total: 0.0049 Clustering Loss: 0.0038 Reconstruction Loss: 0.0011\n",
            "acc: 0.54056, nmi: 0.72732\n",
            "satisfied constraints: 1.00000\n",
            "#Epoch 441: Total: 0.0048 Clustering Loss: 0.0033 Reconstruction Loss: 0.0015\n",
            "acc: 0.54581, nmi: 0.72800\n",
            "satisfied constraints: 1.00000\n"
          ]
        },
        {
          "name": "stderr",
          "output_type": "stream",
          "text": [
            "c:\\Users\\japik\\anaconda3\\lib\\site-packages\\sklearn\\utils\\linear_assignment_.py:124: FutureWarning: The linear_assignment function is deprecated in 0.21 and will be removed from 0.23. Use scipy.optimize.linear_sum_assignment instead.\n",
            "  warnings.warn(\n",
            "c:\\Users\\japik\\anaconda3\\lib\\site-packages\\sklearn\\utils\\linear_assignment_.py:124: FutureWarning: The linear_assignment function is deprecated in 0.21 and will be removed from 0.23. Use scipy.optimize.linear_sum_assignment instead.\n",
            "  warnings.warn(\n",
            "c:\\Users\\japik\\anaconda3\\lib\\site-packages\\sklearn\\utils\\linear_assignment_.py:124: FutureWarning: The linear_assignment function is deprecated in 0.21 and will be removed from 0.23. Use scipy.optimize.linear_sum_assignment instead.\n",
            "  warnings.warn(\n",
            "c:\\Users\\japik\\anaconda3\\lib\\site-packages\\sklearn\\utils\\linear_assignment_.py:124: FutureWarning: The linear_assignment function is deprecated in 0.21 and will be removed from 0.23. Use scipy.optimize.linear_sum_assignment instead.\n",
            "  warnings.warn(\n"
          ]
        },
        {
          "name": "stdout",
          "output_type": "stream",
          "text": [
            "#Epoch 442: Total: 0.0031 Clustering Loss: 0.0026 Reconstruction Loss: 0.0005\n",
            "acc: 0.54801, nmi: 0.72806\n",
            "satisfied constraints: 1.00000\n",
            "#Epoch 443: Total: 0.0034 Clustering Loss: 0.0028 Reconstruction Loss: 0.0006\n",
            "acc: 0.54920, nmi: 0.72821\n",
            "satisfied constraints: 1.00000\n",
            "#Epoch 444: Total: 0.0041 Clustering Loss: 0.0031 Reconstruction Loss: 0.0010\n"
          ]
        },
        {
          "name": "stderr",
          "output_type": "stream",
          "text": [
            "c:\\Users\\japik\\anaconda3\\lib\\site-packages\\sklearn\\utils\\linear_assignment_.py:124: FutureWarning: The linear_assignment function is deprecated in 0.21 and will be removed from 0.23. Use scipy.optimize.linear_sum_assignment instead.\n",
            "  warnings.warn(\n",
            "c:\\Users\\japik\\anaconda3\\lib\\site-packages\\sklearn\\utils\\linear_assignment_.py:124: FutureWarning: The linear_assignment function is deprecated in 0.21 and will be removed from 0.23. Use scipy.optimize.linear_sum_assignment instead.\n",
            "  warnings.warn(\n",
            "c:\\Users\\japik\\anaconda3\\lib\\site-packages\\sklearn\\utils\\linear_assignment_.py:124: FutureWarning: The linear_assignment function is deprecated in 0.21 and will be removed from 0.23. Use scipy.optimize.linear_sum_assignment instead.\n",
            "  warnings.warn(\n",
            "c:\\Users\\japik\\anaconda3\\lib\\site-packages\\sklearn\\utils\\linear_assignment_.py:124: FutureWarning: The linear_assignment function is deprecated in 0.21 and will be removed from 0.23. Use scipy.optimize.linear_sum_assignment instead.\n",
            "  warnings.warn(\n",
            "c:\\Users\\japik\\anaconda3\\lib\\site-packages\\sklearn\\utils\\linear_assignment_.py:124: FutureWarning: The linear_assignment function is deprecated in 0.21 and will be removed from 0.23. Use scipy.optimize.linear_sum_assignment instead.\n",
            "  warnings.warn(\n"
          ]
        },
        {
          "name": "stdout",
          "output_type": "stream",
          "text": [
            "acc: 0.55258, nmi: 0.72912\n",
            "satisfied constraints: 1.00000\n",
            "#Epoch 445: Total: 0.0047 Clustering Loss: 0.0031 Reconstruction Loss: 0.0015\n",
            "acc: 0.55377, nmi: 0.72903\n",
            "satisfied constraints: 1.00000\n",
            "#Epoch 446: Total: 0.0051 Clustering Loss: 0.0035 Reconstruction Loss: 0.0016\n",
            "acc: 0.55597, nmi: 0.72905\n",
            "satisfied constraints: 1.00000\n"
          ]
        },
        {
          "name": "stderr",
          "output_type": "stream",
          "text": [
            "c:\\Users\\japik\\anaconda3\\lib\\site-packages\\sklearn\\utils\\linear_assignment_.py:124: FutureWarning: The linear_assignment function is deprecated in 0.21 and will be removed from 0.23. Use scipy.optimize.linear_sum_assignment instead.\n",
            "  warnings.warn(\n",
            "c:\\Users\\japik\\anaconda3\\lib\\site-packages\\sklearn\\utils\\linear_assignment_.py:124: FutureWarning: The linear_assignment function is deprecated in 0.21 and will be removed from 0.23. Use scipy.optimize.linear_sum_assignment instead.\n",
            "  warnings.warn(\n",
            "c:\\Users\\japik\\anaconda3\\lib\\site-packages\\sklearn\\utils\\linear_assignment_.py:124: FutureWarning: The linear_assignment function is deprecated in 0.21 and will be removed from 0.23. Use scipy.optimize.linear_sum_assignment instead.\n",
            "  warnings.warn(\n",
            "c:\\Users\\japik\\anaconda3\\lib\\site-packages\\sklearn\\utils\\linear_assignment_.py:124: FutureWarning: The linear_assignment function is deprecated in 0.21 and will be removed from 0.23. Use scipy.optimize.linear_sum_assignment instead.\n",
            "  warnings.warn(\n",
            "c:\\Users\\japik\\anaconda3\\lib\\site-packages\\sklearn\\utils\\linear_assignment_.py:124: FutureWarning: The linear_assignment function is deprecated in 0.21 and will be removed from 0.23. Use scipy.optimize.linear_sum_assignment instead.\n",
            "  warnings.warn(\n",
            "c:\\Users\\japik\\anaconda3\\lib\\site-packages\\sklearn\\utils\\linear_assignment_.py:124: FutureWarning: The linear_assignment function is deprecated in 0.21 and will be removed from 0.23. Use scipy.optimize.linear_sum_assignment instead.\n",
            "  warnings.warn(\n"
          ]
        },
        {
          "name": "stdout",
          "output_type": "stream",
          "text": [
            "#Epoch 447: Total: 0.0057 Clustering Loss: 0.0039 Reconstruction Loss: 0.0018\n",
            "acc: 0.55766, nmi: 0.72915\n",
            "satisfied constraints: 1.00000\n",
            "#Epoch 448: Total: 0.0055 Clustering Loss: 0.0036 Reconstruction Loss: 0.0019\n",
            "acc: 0.55902, nmi: 0.72957\n",
            "satisfied constraints: 1.00000\n",
            "#Epoch 449: Total: 0.0035 Clustering Loss: 0.0027 Reconstruction Loss: 0.0008\n"
          ]
        },
        {
          "name": "stderr",
          "output_type": "stream",
          "text": [
            "c:\\Users\\japik\\anaconda3\\lib\\site-packages\\sklearn\\utils\\linear_assignment_.py:124: FutureWarning: The linear_assignment function is deprecated in 0.21 and will be removed from 0.23. Use scipy.optimize.linear_sum_assignment instead.\n",
            "  warnings.warn(\n",
            "c:\\Users\\japik\\anaconda3\\lib\\site-packages\\sklearn\\utils\\linear_assignment_.py:124: FutureWarning: The linear_assignment function is deprecated in 0.21 and will be removed from 0.23. Use scipy.optimize.linear_sum_assignment instead.\n",
            "  warnings.warn(\n",
            "c:\\Users\\japik\\anaconda3\\lib\\site-packages\\sklearn\\utils\\linear_assignment_.py:124: FutureWarning: The linear_assignment function is deprecated in 0.21 and will be removed from 0.23. Use scipy.optimize.linear_sum_assignment instead.\n",
            "  warnings.warn(\n",
            "c:\\Users\\japik\\anaconda3\\lib\\site-packages\\sklearn\\utils\\linear_assignment_.py:124: FutureWarning: The linear_assignment function is deprecated in 0.21 and will be removed from 0.23. Use scipy.optimize.linear_sum_assignment instead.\n",
            "  warnings.warn(\n"
          ]
        },
        {
          "name": "stdout",
          "output_type": "stream",
          "text": [
            "acc: 0.56139, nmi: 0.73051\n",
            "satisfied constraints: 1.00000\n",
            "#Epoch 450: Total: 0.0028 Clustering Loss: 0.0026 Reconstruction Loss: 0.0002\n",
            "acc: 0.56054, nmi: 0.73007\n",
            "satisfied constraints: 1.00000\n",
            "#Epoch 451: Total: 0.0028 Clustering Loss: 0.0025 Reconstruction Loss: 0.0002\n"
          ]
        },
        {
          "name": "stderr",
          "output_type": "stream",
          "text": [
            "c:\\Users\\japik\\anaconda3\\lib\\site-packages\\sklearn\\utils\\linear_assignment_.py:124: FutureWarning: The linear_assignment function is deprecated in 0.21 and will be removed from 0.23. Use scipy.optimize.linear_sum_assignment instead.\n",
            "  warnings.warn(\n",
            "c:\\Users\\japik\\anaconda3\\lib\\site-packages\\sklearn\\utils\\linear_assignment_.py:124: FutureWarning: The linear_assignment function is deprecated in 0.21 and will be removed from 0.23. Use scipy.optimize.linear_sum_assignment instead.\n",
            "  warnings.warn(\n",
            "c:\\Users\\japik\\anaconda3\\lib\\site-packages\\sklearn\\utils\\linear_assignment_.py:124: FutureWarning: The linear_assignment function is deprecated in 0.21 and will be removed from 0.23. Use scipy.optimize.linear_sum_assignment instead.\n",
            "  warnings.warn(\n",
            "c:\\Users\\japik\\anaconda3\\lib\\site-packages\\sklearn\\utils\\linear_assignment_.py:124: FutureWarning: The linear_assignment function is deprecated in 0.21 and will be removed from 0.23. Use scipy.optimize.linear_sum_assignment instead.\n",
            "  warnings.warn(\n",
            "c:\\Users\\japik\\anaconda3\\lib\\site-packages\\sklearn\\utils\\linear_assignment_.py:124: FutureWarning: The linear_assignment function is deprecated in 0.21 and will be removed from 0.23. Use scipy.optimize.linear_sum_assignment instead.\n",
            "  warnings.warn(\n",
            "c:\\Users\\japik\\anaconda3\\lib\\site-packages\\sklearn\\utils\\linear_assignment_.py:124: FutureWarning: The linear_assignment function is deprecated in 0.21 and will be removed from 0.23. Use scipy.optimize.linear_sum_assignment instead.\n",
            "  warnings.warn(\n"
          ]
        },
        {
          "name": "stdout",
          "output_type": "stream",
          "text": [
            "acc: 0.55986, nmi: 0.72966\n",
            "satisfied constraints: 1.00000\n",
            "#Epoch 452: Total: 0.0028 Clustering Loss: 0.0026 Reconstruction Loss: 0.0002\n",
            "acc: 0.56054, nmi: 0.72938\n",
            "satisfied constraints: 1.00000\n",
            "#Epoch 453: Total: 0.0030 Clustering Loss: 0.0027 Reconstruction Loss: 0.0003\n",
            "acc: 0.56257, nmi: 0.73024\n",
            "satisfied constraints: 1.00000\n"
          ]
        },
        {
          "name": "stderr",
          "output_type": "stream",
          "text": [
            "c:\\Users\\japik\\anaconda3\\lib\\site-packages\\sklearn\\utils\\linear_assignment_.py:124: FutureWarning: The linear_assignment function is deprecated in 0.21 and will be removed from 0.23. Use scipy.optimize.linear_sum_assignment instead.\n",
            "  warnings.warn(\n",
            "c:\\Users\\japik\\anaconda3\\lib\\site-packages\\sklearn\\utils\\linear_assignment_.py:124: FutureWarning: The linear_assignment function is deprecated in 0.21 and will be removed from 0.23. Use scipy.optimize.linear_sum_assignment instead.\n",
            "  warnings.warn(\n",
            "c:\\Users\\japik\\anaconda3\\lib\\site-packages\\sklearn\\utils\\linear_assignment_.py:124: FutureWarning: The linear_assignment function is deprecated in 0.21 and will be removed from 0.23. Use scipy.optimize.linear_sum_assignment instead.\n",
            "  warnings.warn(\n",
            "c:\\Users\\japik\\anaconda3\\lib\\site-packages\\sklearn\\utils\\linear_assignment_.py:124: FutureWarning: The linear_assignment function is deprecated in 0.21 and will be removed from 0.23. Use scipy.optimize.linear_sum_assignment instead.\n",
            "  warnings.warn(\n"
          ]
        },
        {
          "name": "stdout",
          "output_type": "stream",
          "text": [
            "#Epoch 454: Total: 0.0032 Clustering Loss: 0.0028 Reconstruction Loss: 0.0004\n",
            "acc: 0.56427, nmi: 0.73062\n",
            "satisfied constraints: 1.00000\n",
            "#Epoch 455: Total: 0.0032 Clustering Loss: 0.0028 Reconstruction Loss: 0.0005\n",
            "acc: 0.56613, nmi: 0.73148\n",
            "satisfied constraints: 1.00000\n",
            "#Epoch 456: Total: 0.0032 Clustering Loss: 0.0027 Reconstruction Loss: 0.0005\n"
          ]
        },
        {
          "name": "stderr",
          "output_type": "stream",
          "text": [
            "c:\\Users\\japik\\anaconda3\\lib\\site-packages\\sklearn\\utils\\linear_assignment_.py:124: FutureWarning: The linear_assignment function is deprecated in 0.21 and will be removed from 0.23. Use scipy.optimize.linear_sum_assignment instead.\n",
            "  warnings.warn(\n",
            "c:\\Users\\japik\\anaconda3\\lib\\site-packages\\sklearn\\utils\\linear_assignment_.py:124: FutureWarning: The linear_assignment function is deprecated in 0.21 and will be removed from 0.23. Use scipy.optimize.linear_sum_assignment instead.\n",
            "  warnings.warn(\n",
            "c:\\Users\\japik\\anaconda3\\lib\\site-packages\\sklearn\\utils\\linear_assignment_.py:124: FutureWarning: The linear_assignment function is deprecated in 0.21 and will be removed from 0.23. Use scipy.optimize.linear_sum_assignment instead.\n",
            "  warnings.warn(\n",
            "c:\\Users\\japik\\anaconda3\\lib\\site-packages\\sklearn\\utils\\linear_assignment_.py:124: FutureWarning: The linear_assignment function is deprecated in 0.21 and will be removed from 0.23. Use scipy.optimize.linear_sum_assignment instead.\n",
            "  warnings.warn(\n",
            "c:\\Users\\japik\\anaconda3\\lib\\site-packages\\sklearn\\utils\\linear_assignment_.py:124: FutureWarning: The linear_assignment function is deprecated in 0.21 and will be removed from 0.23. Use scipy.optimize.linear_sum_assignment instead.\n",
            "  warnings.warn(\n"
          ]
        },
        {
          "name": "stdout",
          "output_type": "stream",
          "text": [
            "acc: 0.56647, nmi: 0.73096\n",
            "satisfied constraints: 1.00000\n",
            "#Epoch 457: Total: 0.0031 Clustering Loss: 0.0026 Reconstruction Loss: 0.0004\n",
            "acc: 0.56596, nmi: 0.73059\n",
            "satisfied constraints: 1.00000\n",
            "#Epoch 458: Total: 0.0030 Clustering Loss: 0.0027 Reconstruction Loss: 0.0004\n",
            "acc: 0.56782, nmi: 0.73148\n",
            "satisfied constraints: 1.00000\n",
            "#Epoch 459: Total: 0.0029 Clustering Loss: 0.0025 Reconstruction Loss: 0.0004\n",
            "acc: 0.56579, nmi: 0.73126\n",
            "satisfied constraints: 1.00000\n",
            "#Epoch 460: Total: 0.0029 Clustering Loss: 0.0025 Reconstruction Loss: 0.0004\n",
            "acc: 0.56749, nmi: 0.73165\n",
            "satisfied constraints: 1.00000\n"
          ]
        },
        {
          "name": "stderr",
          "output_type": "stream",
          "text": [
            "c:\\Users\\japik\\anaconda3\\lib\\site-packages\\sklearn\\utils\\linear_assignment_.py:124: FutureWarning: The linear_assignment function is deprecated in 0.21 and will be removed from 0.23. Use scipy.optimize.linear_sum_assignment instead.\n",
            "  warnings.warn(\n",
            "c:\\Users\\japik\\anaconda3\\lib\\site-packages\\sklearn\\utils\\linear_assignment_.py:124: FutureWarning: The linear_assignment function is deprecated in 0.21 and will be removed from 0.23. Use scipy.optimize.linear_sum_assignment instead.\n",
            "  warnings.warn(\n",
            "c:\\Users\\japik\\anaconda3\\lib\\site-packages\\sklearn\\utils\\linear_assignment_.py:124: FutureWarning: The linear_assignment function is deprecated in 0.21 and will be removed from 0.23. Use scipy.optimize.linear_sum_assignment instead.\n",
            "  warnings.warn(\n",
            "c:\\Users\\japik\\anaconda3\\lib\\site-packages\\sklearn\\utils\\linear_assignment_.py:124: FutureWarning: The linear_assignment function is deprecated in 0.21 and will be removed from 0.23. Use scipy.optimize.linear_sum_assignment instead.\n",
            "  warnings.warn(\n",
            "c:\\Users\\japik\\anaconda3\\lib\\site-packages\\sklearn\\utils\\linear_assignment_.py:124: FutureWarning: The linear_assignment function is deprecated in 0.21 and will be removed from 0.23. Use scipy.optimize.linear_sum_assignment instead.\n",
            "  warnings.warn(\n"
          ]
        },
        {
          "name": "stdout",
          "output_type": "stream",
          "text": [
            "#Epoch 461: Total: 0.0027 Clustering Loss: 0.0023 Reconstruction Loss: 0.0003\n",
            "acc: 0.56765, nmi: 0.73201\n",
            "satisfied constraints: 1.00000\n",
            "#Epoch 462: Total: 0.0025 Clustering Loss: 0.0023 Reconstruction Loss: 0.0002\n",
            "acc: 0.56749, nmi: 0.73185\n",
            "satisfied constraints: 1.00000\n",
            "#Epoch 463: Total: 0.0025 Clustering Loss: 0.0023 Reconstruction Loss: 0.0002\n"
          ]
        },
        {
          "name": "stderr",
          "output_type": "stream",
          "text": [
            "c:\\Users\\japik\\anaconda3\\lib\\site-packages\\sklearn\\utils\\linear_assignment_.py:124: FutureWarning: The linear_assignment function is deprecated in 0.21 and will be removed from 0.23. Use scipy.optimize.linear_sum_assignment instead.\n",
            "  warnings.warn(\n",
            "c:\\Users\\japik\\anaconda3\\lib\\site-packages\\sklearn\\utils\\linear_assignment_.py:124: FutureWarning: The linear_assignment function is deprecated in 0.21 and will be removed from 0.23. Use scipy.optimize.linear_sum_assignment instead.\n",
            "  warnings.warn(\n",
            "c:\\Users\\japik\\anaconda3\\lib\\site-packages\\sklearn\\utils\\linear_assignment_.py:124: FutureWarning: The linear_assignment function is deprecated in 0.21 and will be removed from 0.23. Use scipy.optimize.linear_sum_assignment instead.\n",
            "  warnings.warn(\n",
            "c:\\Users\\japik\\anaconda3\\lib\\site-packages\\sklearn\\utils\\linear_assignment_.py:124: FutureWarning: The linear_assignment function is deprecated in 0.21 and will be removed from 0.23. Use scipy.optimize.linear_sum_assignment instead.\n",
            "  warnings.warn(\n",
            "c:\\Users\\japik\\anaconda3\\lib\\site-packages\\sklearn\\utils\\linear_assignment_.py:124: FutureWarning: The linear_assignment function is deprecated in 0.21 and will be removed from 0.23. Use scipy.optimize.linear_sum_assignment instead.\n",
            "  warnings.warn(\n"
          ]
        },
        {
          "name": "stdout",
          "output_type": "stream",
          "text": [
            "acc: 0.56647, nmi: 0.73157\n",
            "satisfied constraints: 1.00000\n",
            "#Epoch 464: Total: 0.0027 Clustering Loss: 0.0023 Reconstruction Loss: 0.0004\n",
            "acc: 0.56393, nmi: 0.73138\n",
            "satisfied constraints: 1.00000\n",
            "#Epoch 465: Total: 0.0028 Clustering Loss: 0.0024 Reconstruction Loss: 0.0004\n",
            "acc: 0.56240, nmi: 0.73121\n",
            "satisfied constraints: 1.00000\n"
          ]
        },
        {
          "name": "stderr",
          "output_type": "stream",
          "text": [
            "c:\\Users\\japik\\anaconda3\\lib\\site-packages\\sklearn\\utils\\linear_assignment_.py:124: FutureWarning: The linear_assignment function is deprecated in 0.21 and will be removed from 0.23. Use scipy.optimize.linear_sum_assignment instead.\n",
            "  warnings.warn(\n",
            "c:\\Users\\japik\\anaconda3\\lib\\site-packages\\sklearn\\utils\\linear_assignment_.py:124: FutureWarning: The linear_assignment function is deprecated in 0.21 and will be removed from 0.23. Use scipy.optimize.linear_sum_assignment instead.\n",
            "  warnings.warn(\n",
            "c:\\Users\\japik\\anaconda3\\lib\\site-packages\\sklearn\\utils\\linear_assignment_.py:124: FutureWarning: The linear_assignment function is deprecated in 0.21 and will be removed from 0.23. Use scipy.optimize.linear_sum_assignment instead.\n",
            "  warnings.warn(\n",
            "c:\\Users\\japik\\anaconda3\\lib\\site-packages\\sklearn\\utils\\linear_assignment_.py:124: FutureWarning: The linear_assignment function is deprecated in 0.21 and will be removed from 0.23. Use scipy.optimize.linear_sum_assignment instead.\n",
            "  warnings.warn(\n",
            "c:\\Users\\japik\\anaconda3\\lib\\site-packages\\sklearn\\utils\\linear_assignment_.py:124: FutureWarning: The linear_assignment function is deprecated in 0.21 and will be removed from 0.23. Use scipy.optimize.linear_sum_assignment instead.\n",
            "  warnings.warn(\n",
            "c:\\Users\\japik\\anaconda3\\lib\\site-packages\\sklearn\\utils\\linear_assignment_.py:124: FutureWarning: The linear_assignment function is deprecated in 0.21 and will be removed from 0.23. Use scipy.optimize.linear_sum_assignment instead.\n",
            "  warnings.warn(\n",
            "c:\\Users\\japik\\anaconda3\\lib\\site-packages\\sklearn\\utils\\linear_assignment_.py:124: FutureWarning: The linear_assignment function is deprecated in 0.21 and will be removed from 0.23. Use scipy.optimize.linear_sum_assignment instead.\n",
            "  warnings.warn(\n",
            "c:\\Users\\japik\\anaconda3\\lib\\site-packages\\sklearn\\utils\\linear_assignment_.py:124: FutureWarning: The linear_assignment function is deprecated in 0.21 and will be removed from 0.23. Use scipy.optimize.linear_sum_assignment instead.\n",
            "  warnings.warn(\n",
            "c:\\Users\\japik\\anaconda3\\lib\\site-packages\\sklearn\\utils\\linear_assignment_.py:124: FutureWarning: The linear_assignment function is deprecated in 0.21 and will be removed from 0.23. Use scipy.optimize.linear_sum_assignment instead.\n",
            "  warnings.warn(\n"
          ]
        },
        {
          "name": "stdout",
          "output_type": "stream",
          "text": [
            "#Epoch 466: Total: 0.0028 Clustering Loss: 0.0024 Reconstruction Loss: 0.0004\n",
            "acc: 0.56207, nmi: 0.73100\n",
            "satisfied constraints: 1.00000\n",
            "#Epoch 467: Total: 0.0028 Clustering Loss: 0.0023 Reconstruction Loss: 0.0005\n",
            "acc: 0.56088, nmi: 0.73127\n",
            "satisfied constraints: 1.00000\n",
            "#Epoch 468: Total: 0.0029 Clustering Loss: 0.0023 Reconstruction Loss: 0.0006\n"
          ]
        },
        {
          "name": "stderr",
          "output_type": "stream",
          "text": [
            "c:\\Users\\japik\\anaconda3\\lib\\site-packages\\sklearn\\utils\\linear_assignment_.py:124: FutureWarning: The linear_assignment function is deprecated in 0.21 and will be removed from 0.23. Use scipy.optimize.linear_sum_assignment instead.\n",
            "  warnings.warn(\n",
            "c:\\Users\\japik\\anaconda3\\lib\\site-packages\\sklearn\\utils\\linear_assignment_.py:124: FutureWarning: The linear_assignment function is deprecated in 0.21 and will be removed from 0.23. Use scipy.optimize.linear_sum_assignment instead.\n",
            "  warnings.warn(\n",
            "c:\\Users\\japik\\anaconda3\\lib\\site-packages\\sklearn\\utils\\linear_assignment_.py:124: FutureWarning: The linear_assignment function is deprecated in 0.21 and will be removed from 0.23. Use scipy.optimize.linear_sum_assignment instead.\n",
            "  warnings.warn(\n",
            "c:\\Users\\japik\\anaconda3\\lib\\site-packages\\sklearn\\utils\\linear_assignment_.py:124: FutureWarning: The linear_assignment function is deprecated in 0.21 and will be removed from 0.23. Use scipy.optimize.linear_sum_assignment instead.\n",
            "  warnings.warn(\n",
            "c:\\Users\\japik\\anaconda3\\lib\\site-packages\\sklearn\\utils\\linear_assignment_.py:124: FutureWarning: The linear_assignment function is deprecated in 0.21 and will be removed from 0.23. Use scipy.optimize.linear_sum_assignment instead.\n",
            "  warnings.warn(\n"
          ]
        },
        {
          "name": "stdout",
          "output_type": "stream",
          "text": [
            "acc: 0.56054, nmi: 0.73038\n",
            "satisfied constraints: 1.00000\n",
            "#Epoch 469: Total: 0.0030 Clustering Loss: 0.0024 Reconstruction Loss: 0.0006\n",
            "acc: 0.56037, nmi: 0.73009\n",
            "satisfied constraints: 1.00000\n",
            "#Epoch 470: Total: 0.0033 Clustering Loss: 0.0025 Reconstruction Loss: 0.0008\n",
            "acc: 0.56054, nmi: 0.73078\n",
            "satisfied constraints: 1.00000\n"
          ]
        },
        {
          "name": "stderr",
          "output_type": "stream",
          "text": [
            "c:\\Users\\japik\\anaconda3\\lib\\site-packages\\sklearn\\utils\\linear_assignment_.py:124: FutureWarning: The linear_assignment function is deprecated in 0.21 and will be removed from 0.23. Use scipy.optimize.linear_sum_assignment instead.\n",
            "  warnings.warn(\n",
            "c:\\Users\\japik\\anaconda3\\lib\\site-packages\\sklearn\\utils\\linear_assignment_.py:124: FutureWarning: The linear_assignment function is deprecated in 0.21 and will be removed from 0.23. Use scipy.optimize.linear_sum_assignment instead.\n",
            "  warnings.warn(\n",
            "c:\\Users\\japik\\anaconda3\\lib\\site-packages\\sklearn\\utils\\linear_assignment_.py:124: FutureWarning: The linear_assignment function is deprecated in 0.21 and will be removed from 0.23. Use scipy.optimize.linear_sum_assignment instead.\n",
            "  warnings.warn(\n",
            "c:\\Users\\japik\\anaconda3\\lib\\site-packages\\sklearn\\utils\\linear_assignment_.py:124: FutureWarning: The linear_assignment function is deprecated in 0.21 and will be removed from 0.23. Use scipy.optimize.linear_sum_assignment instead.\n",
            "  warnings.warn(\n",
            "c:\\Users\\japik\\anaconda3\\lib\\site-packages\\sklearn\\utils\\linear_assignment_.py:124: FutureWarning: The linear_assignment function is deprecated in 0.21 and will be removed from 0.23. Use scipy.optimize.linear_sum_assignment instead.\n",
            "  warnings.warn(\n"
          ]
        },
        {
          "name": "stdout",
          "output_type": "stream",
          "text": [
            "#Epoch 471: Total: 0.0036 Clustering Loss: 0.0026 Reconstruction Loss: 0.0010\n",
            "acc: 0.55919, nmi: 0.73122\n",
            "satisfied constraints: 1.00000\n",
            "#Epoch 472: Total: 0.0043 Clustering Loss: 0.0031 Reconstruction Loss: 0.0012\n",
            "acc: 0.56054, nmi: 0.73001\n",
            "satisfied constraints: 1.00000\n",
            "#Epoch 473: Total: 0.0038 Clustering Loss: 0.0027 Reconstruction Loss: 0.0011\n"
          ]
        },
        {
          "name": "stderr",
          "output_type": "stream",
          "text": [
            "c:\\Users\\japik\\anaconda3\\lib\\site-packages\\sklearn\\utils\\linear_assignment_.py:124: FutureWarning: The linear_assignment function is deprecated in 0.21 and will be removed from 0.23. Use scipy.optimize.linear_sum_assignment instead.\n",
            "  warnings.warn(\n",
            "c:\\Users\\japik\\anaconda3\\lib\\site-packages\\sklearn\\utils\\linear_assignment_.py:124: FutureWarning: The linear_assignment function is deprecated in 0.21 and will be removed from 0.23. Use scipy.optimize.linear_sum_assignment instead.\n",
            "  warnings.warn(\n",
            "c:\\Users\\japik\\anaconda3\\lib\\site-packages\\sklearn\\utils\\linear_assignment_.py:124: FutureWarning: The linear_assignment function is deprecated in 0.21 and will be removed from 0.23. Use scipy.optimize.linear_sum_assignment instead.\n",
            "  warnings.warn(\n",
            "c:\\Users\\japik\\anaconda3\\lib\\site-packages\\sklearn\\utils\\linear_assignment_.py:124: FutureWarning: The linear_assignment function is deprecated in 0.21 and will be removed from 0.23. Use scipy.optimize.linear_sum_assignment instead.\n",
            "  warnings.warn(\n",
            "c:\\Users\\japik\\anaconda3\\lib\\site-packages\\sklearn\\utils\\linear_assignment_.py:124: FutureWarning: The linear_assignment function is deprecated in 0.21 and will be removed from 0.23. Use scipy.optimize.linear_sum_assignment instead.\n",
            "  warnings.warn(\n"
          ]
        },
        {
          "name": "stdout",
          "output_type": "stream",
          "text": [
            "acc: 0.56444, nmi: 0.73013\n",
            "satisfied constraints: 1.00000\n",
            "#Epoch 474: Total: 0.0031 Clustering Loss: 0.0025 Reconstruction Loss: 0.0006\n",
            "acc: 0.56444, nmi: 0.73053\n",
            "satisfied constraints: 1.00000\n",
            "#Epoch 475: Total: 0.0025 Clustering Loss: 0.0022 Reconstruction Loss: 0.0003\n",
            "acc: 0.56207, nmi: 0.73067\n",
            "satisfied constraints: 1.00000\n"
          ]
        },
        {
          "name": "stderr",
          "output_type": "stream",
          "text": [
            "c:\\Users\\japik\\anaconda3\\lib\\site-packages\\sklearn\\utils\\linear_assignment_.py:124: FutureWarning: The linear_assignment function is deprecated in 0.21 and will be removed from 0.23. Use scipy.optimize.linear_sum_assignment instead.\n",
            "  warnings.warn(\n",
            "c:\\Users\\japik\\anaconda3\\lib\\site-packages\\sklearn\\utils\\linear_assignment_.py:124: FutureWarning: The linear_assignment function is deprecated in 0.21 and will be removed from 0.23. Use scipy.optimize.linear_sum_assignment instead.\n",
            "  warnings.warn(\n",
            "c:\\Users\\japik\\anaconda3\\lib\\site-packages\\sklearn\\utils\\linear_assignment_.py:124: FutureWarning: The linear_assignment function is deprecated in 0.21 and will be removed from 0.23. Use scipy.optimize.linear_sum_assignment instead.\n",
            "  warnings.warn(\n",
            "c:\\Users\\japik\\anaconda3\\lib\\site-packages\\sklearn\\utils\\linear_assignment_.py:124: FutureWarning: The linear_assignment function is deprecated in 0.21 and will be removed from 0.23. Use scipy.optimize.linear_sum_assignment instead.\n",
            "  warnings.warn(\n",
            "c:\\Users\\japik\\anaconda3\\lib\\site-packages\\sklearn\\utils\\linear_assignment_.py:124: FutureWarning: The linear_assignment function is deprecated in 0.21 and will be removed from 0.23. Use scipy.optimize.linear_sum_assignment instead.\n",
            "  warnings.warn(\n"
          ]
        },
        {
          "name": "stdout",
          "output_type": "stream",
          "text": [
            "#Epoch 476: Total: 0.0025 Clustering Loss: 0.0023 Reconstruction Loss: 0.0002\n",
            "acc: 0.56173, nmi: 0.73084\n",
            "satisfied constraints: 1.00000\n",
            "#Epoch 477: Total: 0.0024 Clustering Loss: 0.0022 Reconstruction Loss: 0.0002\n",
            "acc: 0.56173, nmi: 0.73082\n",
            "satisfied constraints: 1.00000\n",
            "#Epoch 478: Total: 0.0026 Clustering Loss: 0.0023 Reconstruction Loss: 0.0003\n"
          ]
        },
        {
          "name": "stderr",
          "output_type": "stream",
          "text": [
            "c:\\Users\\japik\\anaconda3\\lib\\site-packages\\sklearn\\utils\\linear_assignment_.py:124: FutureWarning: The linear_assignment function is deprecated in 0.21 and will be removed from 0.23. Use scipy.optimize.linear_sum_assignment instead.\n",
            "  warnings.warn(\n",
            "c:\\Users\\japik\\anaconda3\\lib\\site-packages\\sklearn\\utils\\linear_assignment_.py:124: FutureWarning: The linear_assignment function is deprecated in 0.21 and will be removed from 0.23. Use scipy.optimize.linear_sum_assignment instead.\n",
            "  warnings.warn(\n",
            "c:\\Users\\japik\\anaconda3\\lib\\site-packages\\sklearn\\utils\\linear_assignment_.py:124: FutureWarning: The linear_assignment function is deprecated in 0.21 and will be removed from 0.23. Use scipy.optimize.linear_sum_assignment instead.\n",
            "  warnings.warn(\n",
            "c:\\Users\\japik\\anaconda3\\lib\\site-packages\\sklearn\\utils\\linear_assignment_.py:124: FutureWarning: The linear_assignment function is deprecated in 0.21 and will be removed from 0.23. Use scipy.optimize.linear_sum_assignment instead.\n",
            "  warnings.warn(\n",
            "c:\\Users\\japik\\anaconda3\\lib\\site-packages\\sklearn\\utils\\linear_assignment_.py:124: FutureWarning: The linear_assignment function is deprecated in 0.21 and will be removed from 0.23. Use scipy.optimize.linear_sum_assignment instead.\n",
            "  warnings.warn(\n",
            "c:\\Users\\japik\\anaconda3\\lib\\site-packages\\sklearn\\utils\\linear_assignment_.py:124: FutureWarning: The linear_assignment function is deprecated in 0.21 and will be removed from 0.23. Use scipy.optimize.linear_sum_assignment instead.\n",
            "  warnings.warn(\n"
          ]
        },
        {
          "name": "stdout",
          "output_type": "stream",
          "text": [
            "acc: 0.56156, nmi: 0.73031\n",
            "satisfied constraints: 1.00000\n",
            "#Epoch 479: Total: 0.0029 Clustering Loss: 0.0024 Reconstruction Loss: 0.0005\n",
            "acc: 0.56003, nmi: 0.73033\n",
            "satisfied constraints: 1.00000\n",
            "#Epoch 480: Total: 0.0029 Clustering Loss: 0.0024 Reconstruction Loss: 0.0005\n",
            "acc: 0.55919, nmi: 0.72961\n",
            "satisfied constraints: 1.00000\n"
          ]
        },
        {
          "name": "stderr",
          "output_type": "stream",
          "text": [
            "c:\\Users\\japik\\anaconda3\\lib\\site-packages\\sklearn\\utils\\linear_assignment_.py:124: FutureWarning: The linear_assignment function is deprecated in 0.21 and will be removed from 0.23. Use scipy.optimize.linear_sum_assignment instead.\n",
            "  warnings.warn(\n",
            "c:\\Users\\japik\\anaconda3\\lib\\site-packages\\sklearn\\utils\\linear_assignment_.py:124: FutureWarning: The linear_assignment function is deprecated in 0.21 and will be removed from 0.23. Use scipy.optimize.linear_sum_assignment instead.\n",
            "  warnings.warn(\n",
            "c:\\Users\\japik\\anaconda3\\lib\\site-packages\\sklearn\\utils\\linear_assignment_.py:124: FutureWarning: The linear_assignment function is deprecated in 0.21 and will be removed from 0.23. Use scipy.optimize.linear_sum_assignment instead.\n",
            "  warnings.warn(\n",
            "c:\\Users\\japik\\anaconda3\\lib\\site-packages\\sklearn\\utils\\linear_assignment_.py:124: FutureWarning: The linear_assignment function is deprecated in 0.21 and will be removed from 0.23. Use scipy.optimize.linear_sum_assignment instead.\n",
            "  warnings.warn(\n"
          ]
        },
        {
          "name": "stdout",
          "output_type": "stream",
          "text": [
            "#Epoch 481: Total: 0.0029 Clustering Loss: 0.0025 Reconstruction Loss: 0.0004\n",
            "acc: 0.56325, nmi: 0.73070\n",
            "satisfied constraints: 1.00000\n",
            "#Epoch 482: Total: 0.0027 Clustering Loss: 0.0024 Reconstruction Loss: 0.0003\n",
            "acc: 0.56494, nmi: 0.73086\n",
            "satisfied constraints: 1.00000\n",
            "#Epoch 483: Total: 0.0026 Clustering Loss: 0.0022 Reconstruction Loss: 0.0003\n"
          ]
        },
        {
          "name": "stderr",
          "output_type": "stream",
          "text": [
            "c:\\Users\\japik\\anaconda3\\lib\\site-packages\\sklearn\\utils\\linear_assignment_.py:124: FutureWarning: The linear_assignment function is deprecated in 0.21 and will be removed from 0.23. Use scipy.optimize.linear_sum_assignment instead.\n",
            "  warnings.warn(\n",
            "c:\\Users\\japik\\anaconda3\\lib\\site-packages\\sklearn\\utils\\linear_assignment_.py:124: FutureWarning: The linear_assignment function is deprecated in 0.21 and will be removed from 0.23. Use scipy.optimize.linear_sum_assignment instead.\n",
            "  warnings.warn(\n",
            "c:\\Users\\japik\\anaconda3\\lib\\site-packages\\sklearn\\utils\\linear_assignment_.py:124: FutureWarning: The linear_assignment function is deprecated in 0.21 and will be removed from 0.23. Use scipy.optimize.linear_sum_assignment instead.\n",
            "  warnings.warn(\n",
            "c:\\Users\\japik\\anaconda3\\lib\\site-packages\\sklearn\\utils\\linear_assignment_.py:124: FutureWarning: The linear_assignment function is deprecated in 0.21 and will be removed from 0.23. Use scipy.optimize.linear_sum_assignment instead.\n",
            "  warnings.warn(\n",
            "c:\\Users\\japik\\anaconda3\\lib\\site-packages\\sklearn\\utils\\linear_assignment_.py:124: FutureWarning: The linear_assignment function is deprecated in 0.21 and will be removed from 0.23. Use scipy.optimize.linear_sum_assignment instead.\n",
            "  warnings.warn(\n",
            "c:\\Users\\japik\\anaconda3\\lib\\site-packages\\sklearn\\utils\\linear_assignment_.py:124: FutureWarning: The linear_assignment function is deprecated in 0.21 and will be removed from 0.23. Use scipy.optimize.linear_sum_assignment instead.\n",
            "  warnings.warn(\n"
          ]
        },
        {
          "name": "stdout",
          "output_type": "stream",
          "text": [
            "acc: 0.56698, nmi: 0.73139\n",
            "satisfied constraints: 1.00000\n",
            "#Epoch 484: Total: 0.0025 Clustering Loss: 0.0022 Reconstruction Loss: 0.0003\n",
            "acc: 0.57003, nmi: 0.73176\n",
            "satisfied constraints: 1.00000\n",
            "#Epoch 485: Total: 0.0024 Clustering Loss: 0.0022 Reconstruction Loss: 0.0002\n",
            "acc: 0.57206, nmi: 0.73173\n",
            "satisfied constraints: 1.00000\n",
            "#Epoch 486: Total: 0.0025 Clustering Loss: 0.0021 Reconstruction Loss: 0.0003\n",
            "acc: 0.57409, nmi: 0.73232\n",
            "satisfied constraints: 1.00000\n",
            "#Epoch 487: Total: 0.0024 Clustering Loss: 0.0021 Reconstruction Loss: 0.0003\n",
            "acc: 0.57460, nmi: 0.73236\n",
            "satisfied constraints: 1.00000\n",
            "#Epoch 488: Total: 0.0023 Clustering Loss: 0.0021 Reconstruction Loss: 0.0002\n"
          ]
        },
        {
          "name": "stderr",
          "output_type": "stream",
          "text": [
            "c:\\Users\\japik\\anaconda3\\lib\\site-packages\\sklearn\\utils\\linear_assignment_.py:124: FutureWarning: The linear_assignment function is deprecated in 0.21 and will be removed from 0.23. Use scipy.optimize.linear_sum_assignment instead.\n",
            "  warnings.warn(\n",
            "c:\\Users\\japik\\anaconda3\\lib\\site-packages\\sklearn\\utils\\linear_assignment_.py:124: FutureWarning: The linear_assignment function is deprecated in 0.21 and will be removed from 0.23. Use scipy.optimize.linear_sum_assignment instead.\n",
            "  warnings.warn(\n",
            "c:\\Users\\japik\\anaconda3\\lib\\site-packages\\sklearn\\utils\\linear_assignment_.py:124: FutureWarning: The linear_assignment function is deprecated in 0.21 and will be removed from 0.23. Use scipy.optimize.linear_sum_assignment instead.\n",
            "  warnings.warn(\n",
            "c:\\Users\\japik\\anaconda3\\lib\\site-packages\\sklearn\\utils\\linear_assignment_.py:124: FutureWarning: The linear_assignment function is deprecated in 0.21 and will be removed from 0.23. Use scipy.optimize.linear_sum_assignment instead.\n",
            "  warnings.warn(\n",
            "c:\\Users\\japik\\anaconda3\\lib\\site-packages\\sklearn\\utils\\linear_assignment_.py:124: FutureWarning: The linear_assignment function is deprecated in 0.21 and will be removed from 0.23. Use scipy.optimize.linear_sum_assignment instead.\n",
            "  warnings.warn(\n"
          ]
        },
        {
          "name": "stdout",
          "output_type": "stream",
          "text": [
            "acc: 0.57477, nmi: 0.73204\n",
            "satisfied constraints: 1.00000\n",
            "#Epoch 489: Total: 0.0023 Clustering Loss: 0.0021 Reconstruction Loss: 0.0003\n",
            "acc: 0.57494, nmi: 0.73218\n",
            "satisfied constraints: 1.00000\n",
            "#Epoch 490: Total: 0.0024 Clustering Loss: 0.0021 Reconstruction Loss: 0.0003\n",
            "acc: 0.57392, nmi: 0.73172\n",
            "satisfied constraints: 1.00000\n"
          ]
        },
        {
          "name": "stderr",
          "output_type": "stream",
          "text": [
            "c:\\Users\\japik\\anaconda3\\lib\\site-packages\\sklearn\\utils\\linear_assignment_.py:124: FutureWarning: The linear_assignment function is deprecated in 0.21 and will be removed from 0.23. Use scipy.optimize.linear_sum_assignment instead.\n",
            "  warnings.warn(\n",
            "c:\\Users\\japik\\anaconda3\\lib\\site-packages\\sklearn\\utils\\linear_assignment_.py:124: FutureWarning: The linear_assignment function is deprecated in 0.21 and will be removed from 0.23. Use scipy.optimize.linear_sum_assignment instead.\n",
            "  warnings.warn(\n",
            "c:\\Users\\japik\\anaconda3\\lib\\site-packages\\sklearn\\utils\\linear_assignment_.py:124: FutureWarning: The linear_assignment function is deprecated in 0.21 and will be removed from 0.23. Use scipy.optimize.linear_sum_assignment instead.\n",
            "  warnings.warn(\n",
            "c:\\Users\\japik\\anaconda3\\lib\\site-packages\\sklearn\\utils\\linear_assignment_.py:124: FutureWarning: The linear_assignment function is deprecated in 0.21 and will be removed from 0.23. Use scipy.optimize.linear_sum_assignment instead.\n",
            "  warnings.warn(\n",
            "c:\\Users\\japik\\anaconda3\\lib\\site-packages\\sklearn\\utils\\linear_assignment_.py:124: FutureWarning: The linear_assignment function is deprecated in 0.21 and will be removed from 0.23. Use scipy.optimize.linear_sum_assignment instead.\n",
            "  warnings.warn(\n"
          ]
        },
        {
          "name": "stdout",
          "output_type": "stream",
          "text": [
            "#Epoch 491: Total: 0.0025 Clustering Loss: 0.0021 Reconstruction Loss: 0.0004\n",
            "acc: 0.57375, nmi: 0.73177\n",
            "satisfied constraints: 1.00000\n",
            "#Epoch 492: Total: 0.0024 Clustering Loss: 0.0021 Reconstruction Loss: 0.0003\n",
            "acc: 0.57138, nmi: 0.73137\n",
            "satisfied constraints: 1.00000\n",
            "#Epoch 493: Total: 0.0025 Clustering Loss: 0.0022 Reconstruction Loss: 0.0003\n"
          ]
        },
        {
          "name": "stderr",
          "output_type": "stream",
          "text": [
            "c:\\Users\\japik\\anaconda3\\lib\\site-packages\\sklearn\\utils\\linear_assignment_.py:124: FutureWarning: The linear_assignment function is deprecated in 0.21 and will be removed from 0.23. Use scipy.optimize.linear_sum_assignment instead.\n",
            "  warnings.warn(\n",
            "c:\\Users\\japik\\anaconda3\\lib\\site-packages\\sklearn\\utils\\linear_assignment_.py:124: FutureWarning: The linear_assignment function is deprecated in 0.21 and will be removed from 0.23. Use scipy.optimize.linear_sum_assignment instead.\n",
            "  warnings.warn(\n",
            "c:\\Users\\japik\\anaconda3\\lib\\site-packages\\sklearn\\utils\\linear_assignment_.py:124: FutureWarning: The linear_assignment function is deprecated in 0.21 and will be removed from 0.23. Use scipy.optimize.linear_sum_assignment instead.\n",
            "  warnings.warn(\n",
            "c:\\Users\\japik\\anaconda3\\lib\\site-packages\\sklearn\\utils\\linear_assignment_.py:124: FutureWarning: The linear_assignment function is deprecated in 0.21 and will be removed from 0.23. Use scipy.optimize.linear_sum_assignment instead.\n",
            "  warnings.warn(\n",
            "c:\\Users\\japik\\anaconda3\\lib\\site-packages\\sklearn\\utils\\linear_assignment_.py:124: FutureWarning: The linear_assignment function is deprecated in 0.21 and will be removed from 0.23. Use scipy.optimize.linear_sum_assignment instead.\n",
            "  warnings.warn(\n"
          ]
        },
        {
          "name": "stdout",
          "output_type": "stream",
          "text": [
            "acc: 0.56952, nmi: 0.73120\n",
            "satisfied constraints: 1.00000\n",
            "#Epoch 494: Total: 0.0025 Clustering Loss: 0.0022 Reconstruction Loss: 0.0003\n",
            "acc: 0.56952, nmi: 0.73109\n",
            "satisfied constraints: 1.00000\n",
            "#Epoch 495: Total: 0.0025 Clustering Loss: 0.0022 Reconstruction Loss: 0.0003\n"
          ]
        },
        {
          "name": "stderr",
          "output_type": "stream",
          "text": [
            "c:\\Users\\japik\\anaconda3\\lib\\site-packages\\sklearn\\utils\\linear_assignment_.py:124: FutureWarning: The linear_assignment function is deprecated in 0.21 and will be removed from 0.23. Use scipy.optimize.linear_sum_assignment instead.\n",
            "  warnings.warn(\n",
            "c:\\Users\\japik\\anaconda3\\lib\\site-packages\\sklearn\\utils\\linear_assignment_.py:124: FutureWarning: The linear_assignment function is deprecated in 0.21 and will be removed from 0.23. Use scipy.optimize.linear_sum_assignment instead.\n",
            "  warnings.warn(\n",
            "c:\\Users\\japik\\anaconda3\\lib\\site-packages\\sklearn\\utils\\linear_assignment_.py:124: FutureWarning: The linear_assignment function is deprecated in 0.21 and will be removed from 0.23. Use scipy.optimize.linear_sum_assignment instead.\n",
            "  warnings.warn(\n",
            "c:\\Users\\japik\\anaconda3\\lib\\site-packages\\sklearn\\utils\\linear_assignment_.py:124: FutureWarning: The linear_assignment function is deprecated in 0.21 and will be removed from 0.23. Use scipy.optimize.linear_sum_assignment instead.\n",
            "  warnings.warn(\n",
            "c:\\Users\\japik\\anaconda3\\lib\\site-packages\\sklearn\\utils\\linear_assignment_.py:124: FutureWarning: The linear_assignment function is deprecated in 0.21 and will be removed from 0.23. Use scipy.optimize.linear_sum_assignment instead.\n",
            "  warnings.warn(\n"
          ]
        },
        {
          "name": "stdout",
          "output_type": "stream",
          "text": [
            "acc: 0.57003, nmi: 0.73063\n",
            "satisfied constraints: 1.00000\n",
            "#Epoch 496: Total: 0.0026 Clustering Loss: 0.0021 Reconstruction Loss: 0.0004\n",
            "acc: 0.56969, nmi: 0.73045\n",
            "satisfied constraints: 1.00000\n",
            "#Epoch 497: Total: 0.0026 Clustering Loss: 0.0021 Reconstruction Loss: 0.0005\n"
          ]
        },
        {
          "name": "stderr",
          "output_type": "stream",
          "text": [
            "c:\\Users\\japik\\anaconda3\\lib\\site-packages\\sklearn\\utils\\linear_assignment_.py:124: FutureWarning: The linear_assignment function is deprecated in 0.21 and will be removed from 0.23. Use scipy.optimize.linear_sum_assignment instead.\n",
            "  warnings.warn(\n",
            "c:\\Users\\japik\\anaconda3\\lib\\site-packages\\sklearn\\utils\\linear_assignment_.py:124: FutureWarning: The linear_assignment function is deprecated in 0.21 and will be removed from 0.23. Use scipy.optimize.linear_sum_assignment instead.\n",
            "  warnings.warn(\n",
            "c:\\Users\\japik\\anaconda3\\lib\\site-packages\\sklearn\\utils\\linear_assignment_.py:124: FutureWarning: The linear_assignment function is deprecated in 0.21 and will be removed from 0.23. Use scipy.optimize.linear_sum_assignment instead.\n",
            "  warnings.warn(\n",
            "c:\\Users\\japik\\anaconda3\\lib\\site-packages\\sklearn\\utils\\linear_assignment_.py:124: FutureWarning: The linear_assignment function is deprecated in 0.21 and will be removed from 0.23. Use scipy.optimize.linear_sum_assignment instead.\n",
            "  warnings.warn(\n",
            "c:\\Users\\japik\\anaconda3\\lib\\site-packages\\sklearn\\utils\\linear_assignment_.py:124: FutureWarning: The linear_assignment function is deprecated in 0.21 and will be removed from 0.23. Use scipy.optimize.linear_sum_assignment instead.\n",
            "  warnings.warn(\n"
          ]
        },
        {
          "name": "stdout",
          "output_type": "stream",
          "text": [
            "acc: 0.56715, nmi: 0.72974\n",
            "satisfied constraints: 1.00000\n",
            "#Epoch 498: Total: 0.0028 Clustering Loss: 0.0021 Reconstruction Loss: 0.0006\n",
            "acc: 0.56528, nmi: 0.72956\n",
            "satisfied constraints: 1.00000\n",
            "#Epoch 499: Total: 0.0026 Clustering Loss: 0.0022 Reconstruction Loss: 0.0005\n",
            "acc: 0.56359, nmi: 0.72922\n",
            "satisfied constraints: 1.00000\n",
            "#Epoch 500: Total: 0.0028 Clustering Loss: 0.0024 Reconstruction Loss: 0.0004\n"
          ]
        },
        {
          "name": "stderr",
          "output_type": "stream",
          "text": [
            "c:\\Users\\japik\\anaconda3\\lib\\site-packages\\sklearn\\utils\\linear_assignment_.py:124: FutureWarning: The linear_assignment function is deprecated in 0.21 and will be removed from 0.23. Use scipy.optimize.linear_sum_assignment instead.\n",
            "  warnings.warn(\n",
            "c:\\Users\\japik\\anaconda3\\lib\\site-packages\\sklearn\\utils\\linear_assignment_.py:124: FutureWarning: The linear_assignment function is deprecated in 0.21 and will be removed from 0.23. Use scipy.optimize.linear_sum_assignment instead.\n",
            "  warnings.warn(\n",
            "c:\\Users\\japik\\anaconda3\\lib\\site-packages\\sklearn\\utils\\linear_assignment_.py:124: FutureWarning: The linear_assignment function is deprecated in 0.21 and will be removed from 0.23. Use scipy.optimize.linear_sum_assignment instead.\n",
            "  warnings.warn(\n"
          ]
        }
      ],
      "source": [
        "#Run_IDEC\n",
        "netflix_train = Netflix('', train=True)\n",
        "netflix_test = Netflix('', train=False) # here the test and train are the same\n",
        "X, y = netflix_train.train_data, netflix_train.train_labels\n",
        "test_X, test_y = netflix_train.train_data, netflix_train.train_labels\n",
        "\n",
        "idec = IDEC(input_dim=10, z_dim=20, n_clusters=15,\n",
        "           encodeLayer=[500, 500, 2000], decodeLayer=[2000, 500, 500], activation=\"relu\", dropout=0)\n",
        "# Print network structure\n",
        "print(idec)\n",
        "\n",
        "# Set parameters\n",
        "lr = 0.001\n",
        "batch_size = 512\n",
        "epochs = 500\n",
        "update_interval = 1\n",
        "ml_penalty, cl_penalty = 0.1, 1\n",
        "# Construct constraints (here is the baseline so no constraints are provided).\n",
        "ml_ind1, ml_ind2, cl_ind1, cl_ind2 = np.array([]), np.array([]), np.array([]), np.array([])\n",
        "anchor, positive, negative = np.array([]), np.array([]), np.array([])\n",
        "instance_guidance = torch.zeros(X.shape[0]).cuda()\n",
        "use_global = False\n",
        "idec.load_model('sdae_netflix_weights.pt') # load your pre-trained model from SDAE.ipynb\n",
        "# Train the clustering model\n",
        "train_acc, train_nmi, epo = idec.fit(anchor, positive, negative, ml_ind1, ml_ind2, cl_ind1, cl_ind2, instance_guidance, use_global,  ml_penalty, cl_penalty, X, y,\n",
        "                          lr=lr, batch_size=batch_size, num_epochs=epochs,update_interval=update_interval,tol=1*1e-4, clustering_loss_weight=1)"
      ]
    },
    {
      "cell_type": "code",
      "execution_count": 6,
      "metadata": {
        "colab": {
          "base_uri": "https://localhost:8080/"
        },
        "id": "UbXBXdSuPSAY",
        "outputId": "166649d1-baa6-4d3d-e6f4-b0e039021d24"
      },
      "outputs": [
        {
          "name": "stdout",
          "output_type": "stream",
          "text": [
            "acc: 0.56359, nmi: 0.72932\n"
          ]
        },
        {
          "name": "stderr",
          "output_type": "stream",
          "text": [
            "c:\\Users\\japik\\anaconda3\\lib\\site-packages\\sklearn\\utils\\linear_assignment_.py:124: FutureWarning: The linear_assignment function is deprecated in 0.21 and will be removed from 0.23. Use scipy.optimize.linear_sum_assignment instead.\n",
            "  warnings.warn(\n",
            "c:\\Users\\japik\\anaconda3\\lib\\site-packages\\sklearn\\utils\\linear_assignment_.py:124: FutureWarning: The linear_assignment function is deprecated in 0.21 and will be removed from 0.23. Use scipy.optimize.linear_sum_assignment instead.\n",
            "  warnings.warn(\n"
          ]
        }
      ],
      "source": [
        "# Generate predictions on the test data\n",
        "test_acc, test_nmi, y_pred = idec.predict(test_X, test_y)\n",
        "np.save(\"idec_pred.npy\", y_pred)"
      ]
    }
  ],
  "metadata": {
    "accelerator": "GPU",
    "colab": {
      "collapsed_sections": [],
      "machine_shape": "hm",
      "name": "IDEC.ipynb",
      "provenance": []
    },
    "interpreter": {
      "hash": "a045336e63792fd5307fef86709ad0fb074ea7a67042c3af2848403c1ae92b7e"
    },
    "kernelspec": {
      "display_name": "Python 3.8.13 ('base')",
      "language": "python",
      "name": "python3"
    },
    "language_info": {
      "codemirror_mode": {
        "name": "ipython",
        "version": 3
      },
      "file_extension": ".py",
      "mimetype": "text/x-python",
      "name": "python",
      "nbconvert_exporter": "python",
      "pygments_lexer": "ipython3",
      "version": "3.8.13"
    }
  },
  "nbformat": 4,
  "nbformat_minor": 0
}
